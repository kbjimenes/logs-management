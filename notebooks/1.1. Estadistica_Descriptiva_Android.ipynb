{
 "cells": [
  {
   "cell_type": "code",
   "execution_count": 1,
   "id": "b24ceb84-5027-4e42-b987-6320bd07b6cd",
   "metadata": {},
   "outputs": [],
   "source": [
    "import pandas as pd\n",
    "import matplotlib.pyplot as plt\n",
    "import seaborn as sns"
   ]
  },
  {
   "cell_type": "code",
   "execution_count": 2,
   "id": "75e8d0b8-8cb2-4499-99b5-0f1fe433c49d",
   "metadata": {},
   "outputs": [],
   "source": [
    "dataset = \"Android\"\n",
    "dir_path = \"../data/\""
   ]
  },
  {
   "cell_type": "code",
   "execution_count": 3,
   "id": "a1651fd5-edc1-4a44-817a-6816799d93da",
   "metadata": {},
   "outputs": [
    {
     "data": {
      "text/html": [
       "<div>\n",
       "<style scoped>\n",
       "    .dataframe tbody tr th:only-of-type {\n",
       "        vertical-align: middle;\n",
       "    }\n",
       "\n",
       "    .dataframe tbody tr th {\n",
       "        vertical-align: top;\n",
       "    }\n",
       "\n",
       "    .dataframe thead th {\n",
       "        text-align: right;\n",
       "    }\n",
       "</style>\n",
       "<table border=\"1\" class=\"dataframe\">\n",
       "  <thead>\n",
       "    <tr style=\"text-align: right;\">\n",
       "      <th></th>\n",
       "      <th>LineId</th>\n",
       "      <th>Date</th>\n",
       "      <th>Time</th>\n",
       "      <th>Pid</th>\n",
       "      <th>Tid</th>\n",
       "      <th>Level</th>\n",
       "      <th>Component</th>\n",
       "      <th>Content</th>\n",
       "      <th>EventId</th>\n",
       "      <th>EventTemplate</th>\n",
       "    </tr>\n",
       "  </thead>\n",
       "  <tbody>\n",
       "    <tr>\n",
       "      <th>0</th>\n",
       "      <td>1</td>\n",
       "      <td>03-17</td>\n",
       "      <td>16:13:38.811</td>\n",
       "      <td>1702</td>\n",
       "      <td>2395</td>\n",
       "      <td>Informativo</td>\n",
       "      <td>WindowManager</td>\n",
       "      <td>printFreezingDisplayLogsopening app wtoken = A...</td>\n",
       "      <td>E100</td>\n",
       "      <td>printFreezingDisplayLogsopening app wtoken = A...</td>\n",
       "    </tr>\n",
       "    <tr>\n",
       "      <th>1</th>\n",
       "      <td>2</td>\n",
       "      <td>03-17</td>\n",
       "      <td>16:13:38.819</td>\n",
       "      <td>1702</td>\n",
       "      <td>8671</td>\n",
       "      <td>Informativo</td>\n",
       "      <td>PowerManagerService</td>\n",
       "      <td>acquire lock=233570404, flags=0x1, tag=\"View L...</td>\n",
       "      <td>E10</td>\n",
       "      <td>acquire lock=&lt;*&gt;, flags=&lt;*&gt;, tag=\"&lt;*&gt;\", name=&lt;...</td>\n",
       "    </tr>\n",
       "  </tbody>\n",
       "</table>\n",
       "</div>"
      ],
      "text/plain": [
       "   LineId   Date          Time   Pid   Tid        Level            Component  \\\n",
       "0       1  03-17  16:13:38.811  1702  2395  Informativo        WindowManager   \n",
       "1       2  03-17  16:13:38.819  1702  8671  Informativo  PowerManagerService   \n",
       "\n",
       "                                             Content EventId  \\\n",
       "0  printFreezingDisplayLogsopening app wtoken = A...    E100   \n",
       "1  acquire lock=233570404, flags=0x1, tag=\"View L...     E10   \n",
       "\n",
       "                                       EventTemplate  \n",
       "0  printFreezingDisplayLogsopening app wtoken = A...  \n",
       "1  acquire lock=<*>, flags=<*>, tag=\"<*>\", name=<...  "
      ]
     },
     "execution_count": 3,
     "metadata": {},
     "output_type": "execute_result"
    }
   ],
   "source": [
    "# Cargar el dataset\n",
    "logDF = pd.read_csv(f\"{dir_path}{dataset}_2k.log_structured.csv\")\n",
    "categorias = {\n",
    "    'D': 'Informativo',\n",
    "    'V': 'Informativo',\n",
    "    'E': 'Error',\n",
    "    'W': 'Advertencia',\n",
    "    'I': 'Informativo'\n",
    "}\n",
    "logDF['Level'] = logDF['Level'].replace(categorias)\n",
    "\n",
    "logDF.head(2)\n"
   ]
  },
  {
   "cell_type": "code",
   "execution_count": 6,
   "id": "6bb792a0-17f7-421f-90e9-6ce10b571149",
   "metadata": {},
   "outputs": [
    {
     "data": {
      "text/html": [
       "<div>\n",
       "<style scoped>\n",
       "    .dataframe tbody tr th:only-of-type {\n",
       "        vertical-align: middle;\n",
       "    }\n",
       "\n",
       "    .dataframe tbody tr th {\n",
       "        vertical-align: top;\n",
       "    }\n",
       "\n",
       "    .dataframe thead th {\n",
       "        text-align: right;\n",
       "    }\n",
       "</style>\n",
       "<table border=\"1\" class=\"dataframe\">\n",
       "  <thead>\n",
       "    <tr style=\"text-align: right;\">\n",
       "      <th></th>\n",
       "      <th>LineId</th>\n",
       "      <th>Date</th>\n",
       "      <th>Time</th>\n",
       "      <th>Pid</th>\n",
       "      <th>Tid</th>\n",
       "      <th>Level</th>\n",
       "      <th>Component</th>\n",
       "      <th>Content</th>\n",
       "      <th>EventId</th>\n",
       "      <th>EventTemplate</th>\n",
       "      <th>datetime</th>\n",
       "    </tr>\n",
       "  </thead>\n",
       "  <tbody>\n",
       "    <tr>\n",
       "      <th>0</th>\n",
       "      <td>1</td>\n",
       "      <td>03-17</td>\n",
       "      <td>16:13:38.811</td>\n",
       "      <td>1702</td>\n",
       "      <td>2395</td>\n",
       "      <td>Informativo</td>\n",
       "      <td>WindowManager</td>\n",
       "      <td>printFreezingDisplayLogsopening app wtoken = A...</td>\n",
       "      <td>E100</td>\n",
       "      <td>printFreezingDisplayLogsopening app wtoken = A...</td>\n",
       "      <td>2024-03-17 16:13:38.811</td>\n",
       "    </tr>\n",
       "    <tr>\n",
       "      <th>1</th>\n",
       "      <td>2</td>\n",
       "      <td>03-17</td>\n",
       "      <td>16:13:38.819</td>\n",
       "      <td>1702</td>\n",
       "      <td>8671</td>\n",
       "      <td>Informativo</td>\n",
       "      <td>PowerManagerService</td>\n",
       "      <td>acquire lock=233570404, flags=0x1, tag=\"View L...</td>\n",
       "      <td>E10</td>\n",
       "      <td>acquire lock=&lt;*&gt;, flags=&lt;*&gt;, tag=\"&lt;*&gt;\", name=&lt;...</td>\n",
       "      <td>2024-03-17 16:13:38.819</td>\n",
       "    </tr>\n",
       "    <tr>\n",
       "      <th>2</th>\n",
       "      <td>3</td>\n",
       "      <td>03-17</td>\n",
       "      <td>16:13:38.820</td>\n",
       "      <td>1702</td>\n",
       "      <td>8671</td>\n",
       "      <td>Informativo</td>\n",
       "      <td>PowerManagerService</td>\n",
       "      <td>ready=true,policy=3,wakefulness=1,wksummary=0x...</td>\n",
       "      <td>E103</td>\n",
       "      <td>ready=true,policy=&lt;*&gt;,wakefulness=&lt;*&gt;,wksummar...</td>\n",
       "      <td>2024-03-17 16:13:38.820</td>\n",
       "    </tr>\n",
       "    <tr>\n",
       "      <th>3</th>\n",
       "      <td>4</td>\n",
       "      <td>03-17</td>\n",
       "      <td>16:13:38.839</td>\n",
       "      <td>1702</td>\n",
       "      <td>2113</td>\n",
       "      <td>Informativo</td>\n",
       "      <td>WindowManager</td>\n",
       "      <td>Skipping AppWindowToken{df0798e token=Token{78...</td>\n",
       "      <td>E131</td>\n",
       "      <td>Skipping AppWindowToken{&lt;*&gt; token=Token{&lt;*&gt; Ac...</td>\n",
       "      <td>2024-03-17 16:13:38.839</td>\n",
       "    </tr>\n",
       "    <tr>\n",
       "      <th>4</th>\n",
       "      <td>5</td>\n",
       "      <td>03-17</td>\n",
       "      <td>16:13:38.859</td>\n",
       "      <td>2227</td>\n",
       "      <td>2227</td>\n",
       "      <td>Informativo</td>\n",
       "      <td>TextView</td>\n",
       "      <td>visible is system.time.showampm</td>\n",
       "      <td>E165</td>\n",
       "      <td>visible is &lt;*&gt;</td>\n",
       "      <td>2024-03-17 16:13:38.859</td>\n",
       "    </tr>\n",
       "  </tbody>\n",
       "</table>\n",
       "</div>"
      ],
      "text/plain": [
       "   LineId   Date          Time   Pid   Tid        Level            Component  \\\n",
       "0       1  03-17  16:13:38.811  1702  2395  Informativo        WindowManager   \n",
       "1       2  03-17  16:13:38.819  1702  8671  Informativo  PowerManagerService   \n",
       "2       3  03-17  16:13:38.820  1702  8671  Informativo  PowerManagerService   \n",
       "3       4  03-17  16:13:38.839  1702  2113  Informativo        WindowManager   \n",
       "4       5  03-17  16:13:38.859  2227  2227  Informativo             TextView   \n",
       "\n",
       "                                             Content EventId  \\\n",
       "0  printFreezingDisplayLogsopening app wtoken = A...    E100   \n",
       "1  acquire lock=233570404, flags=0x1, tag=\"View L...     E10   \n",
       "2  ready=true,policy=3,wakefulness=1,wksummary=0x...    E103   \n",
       "3  Skipping AppWindowToken{df0798e token=Token{78...    E131   \n",
       "4                    visible is system.time.showampm    E165   \n",
       "\n",
       "                                       EventTemplate                 datetime  \n",
       "0  printFreezingDisplayLogsopening app wtoken = A...  2024-03-17 16:13:38.811  \n",
       "1  acquire lock=<*>, flags=<*>, tag=\"<*>\", name=<...  2024-03-17 16:13:38.819  \n",
       "2  ready=true,policy=<*>,wakefulness=<*>,wksummar...  2024-03-17 16:13:38.820  \n",
       "3  Skipping AppWindowToken{<*> token=Token{<*> Ac...  2024-03-17 16:13:38.839  \n",
       "4                                     visible is <*>  2024-03-17 16:13:38.859  "
      ]
     },
     "execution_count": 6,
     "metadata": {},
     "output_type": "execute_result"
    }
   ],
   "source": [
    "# Fecha y hora\n",
    "logDF['datetime'] = pd.to_datetime('2024-' + logDF['Date'] + ' ' + logDF['Time'], errors='coerce', format='%Y-%m-%d %H:%M:%S.%f')\n",
    "# Asegurarse de que la columna es datetime\n",
    "logDF['datetime'] = pd.to_datetime(logDF['datetime'], errors='coerce')\n",
    "\n",
    "# Convertir al formato con milisegundos exactos, truncando a 3 decimales (mmm)\n",
    "logDF['datetime'] = logDF['datetime'].dt.strftime('%Y-%m-%d %H:%M:%S.%f').str[:-3]\n",
    "logDF.head()"
   ]
  },
  {
   "cell_type": "code",
   "execution_count": 7,
   "id": "08c2f52e-208e-4922-adbb-1102bd9065ec",
   "metadata": {},
   "outputs": [],
   "source": [
    "# Longitud de cada mensaje (# palabras)\n",
    "logDF['content_length'] = logDF['Content'].astype(str).apply(lambda x: len(x.split()))\n"
   ]
  },
  {
   "cell_type": "code",
   "execution_count": 8,
   "id": "2e9d59e5-eb3d-4106-8248-1897e62596f4",
   "metadata": {},
   "outputs": [
    {
     "name": "stdout",
     "output_type": "stream",
     "text": [
      "Total de registros: 2000\n",
      "Rango temporal: 2024-03-17 16:13:38.811 → 2024-03-17 16:16:09.141\n",
      "Distribución por nivel: Level\n",
      "Informativo    1827\n",
      "Advertencia     170\n",
      "Error             3\n",
      "Name: count, dtype: int64\n",
      "Longitud de mensaje (palabras) con promedio: 5.3985\n",
      "Longitud de mensaje (palabras) con mediana: 3.0\n"
     ]
    }
   ],
   "source": [
    "# Estadísticas\n",
    "print(\"Total de registros:\", len(logDF))\n",
    "print(\"Rango temporal:\", logDF['datetime'].min(), \"→\", logDF['datetime'].max())\n",
    "print(\"Distribución por nivel:\", logDF['Level'].value_counts())\n",
    "print(\"Longitud de mensaje (palabras) con promedio:\", logDF['content_length'].mean())\n",
    "print(\"Longitud de mensaje (palabras) con mediana:\", logDF['content_length'].median())"
   ]
  },
  {
   "cell_type": "code",
   "execution_count": 9,
   "id": "16633d9a-78c6-4bd3-9dd6-a3871fea5dfa",
   "metadata": {},
   "outputs": [
    {
     "name": "stderr",
     "output_type": "stream",
     "text": [
      "C:\\Users\\KARINA\\AppData\\Local\\Temp\\ipykernel_16280\\3905531008.py:3: FutureWarning: \n",
      "\n",
      "Passing `palette` without assigning `hue` is deprecated and will be removed in v0.14.0. Assign the `x` variable to `hue` and set `legend=False` for the same effect.\n",
      "\n",
      "  sns.countplot(data=logDF, x='Level', order=logDF['Level'].value_counts().index, palette=\"Set2\")\n"
     ]
    },
    {
     "data": {
      "image/png": "[encoded data removed]",
      "text/plain": [
       "<Figure size 800x500 with 1 Axes>"
      ]
     },
     "metadata": {},
     "output_type": "display_data"
    }
   ],
   "source": [
    "# Distribución por nivel\n",
    "plt.figure(figsize=(8,5))\n",
    "sns.countplot(data=logDF, x='Level', order=logDF['Level'].value_counts().index, palette=\"Set2\")\n",
    "plt.title(\"Distribución de niveles de log\")\n",
    "plt.xlabel(\"Nivel\")\n",
    "plt.ylabel(\"Cantidad de registros\")\n",
    "plt.grid(axis='y')\n",
    "plt.show()"
   ]
  },
  {
   "cell_type": "code",
   "execution_count": 10,
   "id": "fd3209ae-f507-4eab-af4c-d2f32ecbf3e6",
   "metadata": {},
   "outputs": [
    {
     "data": {
      "image/png": "[encoded data removed]",
      "text/plain": [
       "<Figure size 800x500 with 1 Axes>"
      ]
     },
     "metadata": {},
     "output_type": "display_data"
    }
   ],
   "source": [
    "# Longitud de mensajes\n",
    "plt.figure(figsize=(8,5))\n",
    "sns.histplot(logDF['content_length'], bins=30, kde=True)\n",
    "plt.title(\"Distribución de longitud de mensajes\")\n",
    "plt.xlabel(\"Número de palabras por mensaje\")\n",
    "plt.ylabel(\"Frecuencia\")\n",
    "plt.grid()\n",
    "plt.show()"
   ]
  },
  {
   "cell_type": "code",
   "execution_count": 12,
   "id": "c817644b-fe5d-4ff7-bac9-8c48a0b3db3d",
   "metadata": {},
   "outputs": [],
   "source": [
    "logDF.to_csv(f\"{dir_path}{dataset}_2k.log_structured_to_process.csv\", index=False, encoding='utf-8')"
   ]
  },
  {
   "cell_type": "code",
   "execution_count": null,
   "id": "793f6fdc-80bf-4a0d-83c4-f72b90189515",
   "metadata": {},
   "outputs": [],
   "source": []
  },
  {
   "cell_type": "code",
   "execution_count": null,
   "id": "06dc9837-e8e7-4cb8-a233-d3a28ee417d9",
   "metadata": {},
   "outputs": [],
   "source": []
  },
  {
   "cell_type": "code",
   "execution_count": null,
   "id": "0d359945-1572-43a9-bc0b-d18768400d27",
   "metadata": {},
   "outputs": [],
   "source": []
  },
  {
   "cell_type": "code",
   "execution_count": null,
   "id": "bde3863a-8058-4ea9-b722-c1270d4eadbd",
   "metadata": {},
   "outputs": [],
   "source": []
  }
 ],
 "metadata": {
  "kernelspec": {
   "display_name": "Python 3 (ipykernel)",
   "language": "python",
   "name": "python3"
  },
  "language_info": {
   "codemirror_mode": {
    "name": "ipython",
    "version": 3
   },
   "file_extension": ".py",
   "mimetype": "text/x-python",
   "name": "python",
   "nbconvert_exporter": "python",
   "pygments_lexer": "ipython3",
   "version": "3.10.16"
  }
 },
 "nbformat": 4,
 "nbformat_minor": 5
}
