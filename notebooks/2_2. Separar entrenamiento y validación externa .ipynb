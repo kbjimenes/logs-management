{
 "cells": [
  {
   "cell_type": "code",
   "execution_count": 12,
   "id": "2045cea8-5fb3-4f37-8a68-cef100c5463c",
   "metadata": {},
   "outputs": [],
   "source": [
    "import pandas as pd\n",
    "import pandas as pd\n",
    "import numpy as np\n",
    "import random\n",
    "import os\n",
    "from sklearn.model_selection import train_test_split"
   ]
  },
  {
   "cell_type": "code",
   "execution_count": 23,
   "id": "6573fe84-4b9e-4ea3-a2ac-73c01aa40383",
   "metadata": {},
   "outputs": [],
   "source": [
    "SEED = 42 \n",
    "random.seed(SEED)\n",
    "np.random.seed(SEED)\n",
    "os.environ['PYTHONHASHSEED'] = str(SEED)"
   ]
  },
  {
   "cell_type": "code",
   "execution_count": 14,
   "id": "4d81ce8b-f9d0-40e2-b939-ba728f29a20c",
   "metadata": {},
   "outputs": [
    {
     "name": "stdout",
     "output_type": "stream",
     "text": [
      "{'BGL', 'Zookeeper', 'Apache', 'Hadoop', 'Android'}\n",
      "(9410, 6)\n",
      "Index(['Content', 'Level', 'datetime', 'content_length', 'source',\n",
      "       'Clean_Content'],\n",
      "      dtype='object')\n"
     ]
    },
    {
     "data": {
      "text/html": [
       "<div>\n",
       "<style scoped>\n",
       "    .dataframe tbody tr th:only-of-type {\n",
       "        vertical-align: middle;\n",
       "    }\n",
       "\n",
       "    .dataframe tbody tr th {\n",
       "        vertical-align: top;\n",
       "    }\n",
       "\n",
       "    .dataframe thead th {\n",
       "        text-align: right;\n",
       "    }\n",
       "</style>\n",
       "<table border=\"1\" class=\"dataframe\">\n",
       "  <thead>\n",
       "    <tr style=\"text-align: right;\">\n",
       "      <th></th>\n",
       "      <th>Content</th>\n",
       "      <th>Level</th>\n",
       "      <th>datetime</th>\n",
       "      <th>content_length</th>\n",
       "      <th>source</th>\n",
       "      <th>Clean_Content</th>\n",
       "    </tr>\n",
       "  </thead>\n",
       "  <tbody>\n",
       "    <tr>\n",
       "      <th>0</th>\n",
       "      <td>printFreezingDisplayLogsopening app wtoken = A...</td>\n",
       "      <td>Informativo</td>\n",
       "      <td>2024-03-17 16:13:38.811</td>\n",
       "      <td>22</td>\n",
       "      <td>Android</td>\n",
       "      <td>printfreezingdisplaylogsopening app wtoken app...</td>\n",
       "    </tr>\n",
       "    <tr>\n",
       "      <th>1</th>\n",
       "      <td>acquire lock=233570404, flags=0x1, tag=\"View L...</td>\n",
       "      <td>Informativo</td>\n",
       "      <td>2024-03-17 16:13:38.819</td>\n",
       "      <td>13</td>\n",
       "      <td>Android</td>\n",
       "      <td>acquire lock flags tag view lock com android s...</td>\n",
       "    </tr>\n",
       "    <tr>\n",
       "      <th>2</th>\n",
       "      <td>ready=true,policy=3,wakefulness=1,wksummary=0x...</td>\n",
       "      <td>Informativo</td>\n",
       "      <td>2024-03-17 16:13:38.820</td>\n",
       "      <td>17</td>\n",
       "      <td>Android</td>\n",
       "      <td>ready true policy wakefulness wksummary uasumm...</td>\n",
       "    </tr>\n",
       "    <tr>\n",
       "      <th>3</th>\n",
       "      <td>Skipping AppWindowToken{df0798e token=Token{78...</td>\n",
       "      <td>Informativo</td>\n",
       "      <td>2024-03-17 16:13:38.839</td>\n",
       "      <td>17</td>\n",
       "      <td>Android</td>\n",
       "      <td>skipping appwindowtoken token token activityre...</td>\n",
       "    </tr>\n",
       "    <tr>\n",
       "      <th>4</th>\n",
       "      <td>visible is system.time.showampm</td>\n",
       "      <td>Informativo</td>\n",
       "      <td>2024-03-17 16:13:38.859</td>\n",
       "      <td>3</td>\n",
       "      <td>Android</td>\n",
       "      <td>visible time showampm</td>\n",
       "    </tr>\n",
       "  </tbody>\n",
       "</table>\n",
       "</div>"
      ],
      "text/plain": [
       "                                             Content        Level  \\\n",
       "0  printFreezingDisplayLogsopening app wtoken = A...  Informativo   \n",
       "1  acquire lock=233570404, flags=0x1, tag=\"View L...  Informativo   \n",
       "2  ready=true,policy=3,wakefulness=1,wksummary=0x...  Informativo   \n",
       "3  Skipping AppWindowToken{df0798e token=Token{78...  Informativo   \n",
       "4                    visible is system.time.showampm  Informativo   \n",
       "\n",
       "                  datetime  content_length   source  \\\n",
       "0  2024-03-17 16:13:38.811              22  Android   \n",
       "1  2024-03-17 16:13:38.819              13  Android   \n",
       "2  2024-03-17 16:13:38.820              17  Android   \n",
       "3  2024-03-17 16:13:38.839              17  Android   \n",
       "4  2024-03-17 16:13:38.859               3  Android   \n",
       "\n",
       "                                       Clean_Content  \n",
       "0  printfreezingdisplaylogsopening app wtoken app...  \n",
       "1  acquire lock flags tag view lock com android s...  \n",
       "2  ready true policy wakefulness wksummary uasumm...  \n",
       "3  skipping appwindowtoken token token activityre...  \n",
       "4                              visible time showampm  "
      ]
     },
     "execution_count": 14,
     "metadata": {},
     "output_type": "execute_result"
    }
   ],
   "source": [
    "dir_path = \"../data/\"\n",
    "# Cargar el archivo limpio\n",
    "df = pd.read_csv(f\"{dir_path}clean_data_log_structured.csv\")\n",
    "print(set(df[\"source\"]))\n",
    "# Verificar estructura y primeras filas\n",
    "print(df.shape)\n",
    "print(df.columns)\n",
    "df.head()"
   ]
  },
  {
   "cell_type": "code",
   "execution_count": 15,
   "id": "e00f9243-0a84-4796-90bb-3fd707ec315c",
   "metadata": {},
   "outputs": [],
   "source": [
    "import pandas as pd\n",
    "\n",
    "train_list = []\n",
    "test_list = []\n",
    "\n",
    "for source in df['source'].unique():\n",
    "    df_source = df[df['source'] == source]\n",
    "\n",
    "    # Calcular la cantidad mínima de elementos en cada categoría (clase minoritaria)\n",
    "    level_counts = df_source['Level'].value_counts()\n",
    "    min_class = level_counts.idxmin()\n",
    "    min_count = level_counts[min_class]\n",
    "\n",
    "    # Calcular cuántos elementos extraer para test desde la clase minoritaria\n",
    "    test_n = max(int(min_count * 0.25), 1)\n",
    "\n",
    "    # Diccionario para guardar cuántos tomar de cada categoría\n",
    "    test_samples_per_class = {}\n",
    "\n",
    "    for category in df_source['Level'].unique():\n",
    "        df_cat = df_source[df_source['Level'] == category]\n",
    "\n",
    "        # Mezclar aleatoriamente\n",
    "        df_cat_shuffled = df_cat.sample(frac=1, random_state=42)\n",
    "\n",
    "        # Usar el mismo número de muestras (test_n) que se tomó de la clase minoritaria\n",
    "        extract_n = min(test_n, len(df_cat_shuffled))  # evita errores si alguna clase tiene < test_n\n",
    "\n",
    "        # Dividir\n",
    "        test_split = df_cat_shuffled.iloc[:extract_n]\n",
    "        train_split = df_cat_shuffled.iloc[extract_n:]\n",
    "\n",
    "        test_list.append(test_split)\n",
    "        train_list.append(train_split)\n",
    "\n",
    "# Unir los splits\n",
    "train_data = pd.concat(train_list).reset_index(drop=True)\n",
    "external_test_data = pd.concat(test_list).reset_index(drop=True)\n"
   ]
  },
  {
   "cell_type": "markdown",
   "id": "00584cd7-9beb-4ac1-8148-8f1cdff6b3e4",
   "metadata": {},
   "source": [
    "## Train data"
   ]
  },
  {
   "cell_type": "code",
   "execution_count": 16,
   "id": "7479b814-55e7-4884-8d69-835a2f624f3c",
   "metadata": {},
   "outputs": [
    {
     "name": "stdout",
     "output_type": "stream",
     "text": [
      "Train data: (9090, 6)\n"
     ]
    }
   ],
   "source": [
    "print(\"Train data:\", train_data.shape)"
   ]
  },
  {
   "cell_type": "code",
   "execution_count": 17,
   "id": "445fb4bd-a7f2-4996-8186-e9e5f4035d5c",
   "metadata": {},
   "outputs": [
    {
     "name": "stdout",
     "output_type": "stream",
     "text": [
      "Level\n",
      "Informativo    6038\n",
      "Advertencia    2253\n",
      "Error           799\n",
      "Name: count, dtype: int64\n"
     ]
    }
   ],
   "source": [
    "print(train_data['Level'].value_counts())"
   ]
  },
  {
   "cell_type": "code",
   "execution_count": 18,
   "id": "9a04fd83-e6bf-4076-989b-a875f0024638",
   "metadata": {},
   "outputs": [
    {
     "name": "stdout",
     "output_type": "stream",
     "text": [
      "\n",
      " Dataset: Android\n",
      "- Total registros: 1984\n",
      "- Distribución por nivel:\n",
      "Level\n",
      "Informativo    1816\n",
      "Advertencia     166\n",
      "Error             2\n",
      "Name: count, dtype: int64\n",
      "- Longitud promedio del mensaje: 7.27 palabras\n",
      "- Periodo: desde 2024-03-17 16:13:38.811 hasta 2024-03-17 16:16:09.141\n",
      "\n",
      " Dataset: Apache\n",
      "- Total registros: 1273\n",
      "- Distribución por nivel:\n",
      "Level\n",
      "Informativo    989\n",
      "Error          284\n",
      "Name: count, dtype: int64\n",
      "- Longitud promedio del mensaje: 3.82 palabras\n",
      "- Periodo: desde 2005-12-04 04:47:44.000 hasta 2005-12-05 19:15:57.000\n",
      "\n",
      " Dataset: BGL\n",
      "- Total registros: 1989\n",
      "- Distribución por nivel:\n",
      "Level\n",
      "Informativo    1594\n",
      "Error           389\n",
      "Advertencia       6\n",
      "Name: count, dtype: int64\n",
      "- Longitud promedio del mensaje: 4.94 palabras\n",
      "- Periodo: desde 2005-06-03 22:42:50 hasta 2006-01-03 15:13:09\n",
      "\n",
      " Dataset: Hadoop\n",
      "- Total registros: 1854\n",
      "- Distribución por nivel:\n",
      "Level\n",
      "Informativo    973\n",
      "Advertencia    767\n",
      "Error          114\n",
      "Name: count, dtype: int64\n",
      "- Longitud promedio del mensaje: 6.45 palabras\n",
      "- Periodo: desde 2015-10-18 18:01:47.000 hasta 2015-10-18 18:10:55.000\n",
      "\n",
      " Dataset: Zookeeper\n",
      "- Total registros: 1990\n",
      "- Distribución por nivel:\n",
      "Level\n",
      "Advertencia    1314\n",
      "Informativo     666\n",
      "Error            10\n",
      "Name: count, dtype: int64\n",
      "- Longitud promedio del mensaje: 3.92 palabras\n",
      "- Periodo: desde 2015-07-29 17:41:44.747 hasta 2015-08-25 11:26:28.145\n"
     ]
    }
   ],
   "source": [
    "# Agrupar por fuente\n",
    "grouped = train_data.groupby('source')\n",
    "\n",
    "# Recorrer cada grupo y calcular estadísticas\n",
    "for name, group in grouped:\n",
    "    print(f\"\\n Dataset: {name}\")\n",
    "    print(f\"- Total registros: {len(group)}\")\n",
    "    print(\"- Distribución por nivel:\")\n",
    "    print(group['Level'].value_counts())\n",
    "    print(f\"- Longitud promedio del mensaje: {group['content_length'].mean():.2f} palabras\")\n",
    "    print(f\"- Periodo: desde {group['datetime'].min()} hasta {group['datetime'].max()}\")\n"
   ]
  },
  {
   "cell_type": "markdown",
   "id": "11aabac1-4270-4990-9759-02c8b6c741cf",
   "metadata": {},
   "source": [
    "## External test data"
   ]
  },
  {
   "cell_type": "code",
   "execution_count": 19,
   "id": "0345c558-279e-4426-812e-d48c076c2d12",
   "metadata": {},
   "outputs": [
    {
     "name": "stdout",
     "output_type": "stream",
     "text": [
      "External test data: (320, 6)\n"
     ]
    }
   ],
   "source": [
    "print(\"External test data:\", external_test_data.shape)"
   ]
  },
  {
   "cell_type": "code",
   "execution_count": 20,
   "id": "141e3d3c-1d4a-4e26-8a6c-b45e6b628f98",
   "metadata": {},
   "outputs": [
    {
     "name": "stdout",
     "output_type": "stream",
     "text": [
      "Level\n",
      "Informativo    138\n",
      "Error          138\n",
      "Advertencia     44\n",
      "Name: count, dtype: int64\n"
     ]
    }
   ],
   "source": [
    "print(external_test_data['Level'].value_counts())"
   ]
  },
  {
   "cell_type": "code",
   "execution_count": 21,
   "id": "2b3f84e3-d22f-4b69-ad3a-17bcc846edd3",
   "metadata": {},
   "outputs": [
    {
     "name": "stdout",
     "output_type": "stream",
     "text": [
      "\n",
      " Dataset: Android\n",
      "- Total registros: 3\n",
      "- Distribución por nivel:\n",
      "Level\n",
      "Informativo    1\n",
      "Advertencia    1\n",
      "Error          1\n",
      "Name: count, dtype: int64\n",
      "- Longitud promedio del mensaje: 4.33 palabras\n",
      "- Periodo: desde 2024-03-17 16:13:46.764 hasta 2024-03-17 16:15:58.884\n",
      "\n",
      " Dataset: Apache\n",
      "- Total registros: 188\n",
      "- Distribución por nivel:\n",
      "Level\n",
      "Informativo    94\n",
      "Error          94\n",
      "Name: count, dtype: int64\n",
      "- Longitud promedio del mensaje: 3.98 palabras\n",
      "- Periodo: desde 2005-12-04 04:47:44.000 hasta 2005-12-05 19:14:11.000\n",
      "\n",
      " Dataset: BGL\n",
      "- Total registros: 6\n",
      "- Distribución por nivel:\n",
      "Level\n",
      "Informativo    2\n",
      "Error          2\n",
      "Advertencia    2\n",
      "Name: count, dtype: int64\n",
      "- Longitud promedio del mensaje: 5.17 palabras\n",
      "- Periodo: desde 2005-06-12 00:54:54 hasta 2005-09-20 18:57:30\n",
      "\n",
      " Dataset: Hadoop\n",
      "- Total registros: 114\n",
      "- Distribución por nivel:\n",
      "Level\n",
      "Informativo    38\n",
      "Error          38\n",
      "Advertencia    38\n",
      "Name: count, dtype: int64\n",
      "- Longitud promedio del mensaje: 6.10 palabras\n",
      "- Periodo: desde 2015-10-18 18:01:53.000 hasta 2015-10-18 18:10:53.000\n",
      "\n",
      " Dataset: Zookeeper\n",
      "- Total registros: 9\n",
      "- Distribución por nivel:\n",
      "Level\n",
      "Informativo    3\n",
      "Advertencia    3\n",
      "Error          3\n",
      "Name: count, dtype: int64\n",
      "- Longitud promedio del mensaje: 4.11 palabras\n",
      "- Periodo: desde 2015-07-29 19:20:36.704 hasta 2015-08-20 17:23:54.127\n"
     ]
    }
   ],
   "source": [
    "# Agrupar por fuente\n",
    "grouped = external_test_data.groupby('source')\n",
    "\n",
    "# Recorrer cada grupo y calcular estadísticas\n",
    "for name, group in grouped:\n",
    "    print(f\"\\n Dataset: {name}\")\n",
    "    print(f\"- Total registros: {len(group)}\")\n",
    "    print(\"- Distribución por nivel:\")\n",
    "    print(group['Level'].value_counts())\n",
    "    print(f\"- Longitud promedio del mensaje: {group['content_length'].mean():.2f} palabras\")\n",
    "    print(f\"- Periodo: desde {group['datetime'].min()} hasta {group['datetime'].max()}\")\n"
   ]
  },
  {
   "cell_type": "markdown",
   "id": "024fdbce-2826-4f08-9e94-cb58f0c435d8",
   "metadata": {},
   "source": [
    "## Save datasets"
   ]
  },
  {
   "cell_type": "code",
   "execution_count": 22,
   "id": "76856273-5f10-4e9f-b48a-a48f079f775c",
   "metadata": {},
   "outputs": [],
   "source": [
    "dir_path = \"../process/\"\n",
    "train_data.to_csv(f\"{dir_path}train_data.csv\", index=False)\n",
    "external_test_data.to_csv(f\"{dir_path}external_test_data.csv\", index=False)\n"
   ]
  },
  {
   "cell_type": "code",
   "execution_count": null,
   "id": "3bfdc88f-a291-4da5-8eb2-0c01130536af",
   "metadata": {},
   "outputs": [],
   "source": []
  },
  {
   "cell_type": "code",
   "execution_count": null,
   "id": "b09c8fff-c822-445a-9500-97dae5199994",
   "metadata": {},
   "outputs": [],
   "source": []
  },
  {
   "cell_type": "code",
   "execution_count": null,
   "id": "9ccafc2c-bccd-446f-a828-a93f3e2ff0e3",
   "metadata": {},
   "outputs": [],
   "source": []
  },
  {
   "cell_type": "code",
   "execution_count": null,
   "id": "e823d94d-878f-4c47-a56a-c3e1cc6c0aae",
   "metadata": {},
   "outputs": [],
   "source": []
  },
  {
   "cell_type": "code",
   "execution_count": null,
   "id": "220bd3dd-4728-43f1-bdf9-ddee27358ceb",
   "metadata": {},
   "outputs": [],
   "source": []
  },
  {
   "cell_type": "code",
   "execution_count": null,
   "id": "ea2d4243-0fe4-4ae0-828a-4415e2ef20b5",
   "metadata": {},
   "outputs": [],
   "source": []
  },
  {
   "cell_type": "code",
   "execution_count": null,
   "id": "ab57e639-28bd-49ca-8f42-396976c55b96",
   "metadata": {},
   "outputs": [],
   "source": []
  }
 ],
 "metadata": {
  "kernelspec": {
   "display_name": "Python 3 (ipykernel)",
   "language": "python",
   "name": "python3"
  },
  "language_info": {
   "codemirror_mode": {
    "name": "ipython",
    "version": 3
   },
   "file_extension": ".py",
   "mimetype": "text/x-python",
   "name": "python",
   "nbconvert_exporter": "python",
   "pygments_lexer": "ipython3",
   "version": "3.12.7"
  }
 },
 "nbformat": 4,
 "nbformat_minor": 5
}
