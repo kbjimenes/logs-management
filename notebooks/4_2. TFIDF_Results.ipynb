{
 "cells": [
  {
   "cell_type": "code",
   "execution_count": 11,
   "id": "7c0abb58-c816-4e57-8a75-28a9ce24afaf",
   "metadata": {},
   "outputs": [],
   "source": [
    "import pandas as pd\n",
    "import numpy as np\n",
    "import re"
   ]
  },
  {
   "cell_type": "code",
   "execution_count": 12,
   "id": "3aa557e7-3db8-49cc-b00b-4ef759e90a5d",
   "metadata": {},
   "outputs": [],
   "source": [
    "dir_path = \"../results/\""
   ]
  },
  {
   "cell_type": "markdown",
   "id": "4bb58cd1-60ba-49a6-8000-5aece4f19fb9",
   "metadata": {},
   "source": [
    "## Validation folds"
   ]
  },
  {
   "cell_type": "code",
   "execution_count": 13,
   "id": "526cf39a-95b0-4f63-a38b-aa2ab64f3924",
   "metadata": {},
   "outputs": [
    {
     "data": {
      "text/html": [
       "<div>\n",
       "<style scoped>\n",
       "    .dataframe tbody tr th:only-of-type {\n",
       "        vertical-align: middle;\n",
       "    }\n",
       "\n",
       "    .dataframe tbody tr th {\n",
       "        vertical-align: top;\n",
       "    }\n",
       "\n",
       "    .dataframe thead th {\n",
       "        text-align: right;\n",
       "    }\n",
       "</style>\n",
       "<table border=\"1\" class=\"dataframe\">\n",
       "  <thead>\n",
       "    <tr style=\"text-align: right;\">\n",
       "      <th></th>\n",
       "      <th>group</th>\n",
       "      <th>precision</th>\n",
       "      <th>recall</th>\n",
       "      <th>f1-score</th>\n",
       "      <th>support</th>\n",
       "      <th>fold</th>\n",
       "      <th>technique</th>\n",
       "    </tr>\n",
       "  </thead>\n",
       "  <tbody>\n",
       "    <tr>\n",
       "      <th>0</th>\n",
       "      <td>Advertencia</td>\n",
       "      <td>1.000000</td>\n",
       "      <td>1.000000</td>\n",
       "      <td>1.000000</td>\n",
       "      <td>79.000000</td>\n",
       "      <td>0</td>\n",
       "      <td>tdidf</td>\n",
       "    </tr>\n",
       "    <tr>\n",
       "      <th>1</th>\n",
       "      <td>Error</td>\n",
       "      <td>0.986667</td>\n",
       "      <td>0.936709</td>\n",
       "      <td>0.961039</td>\n",
       "      <td>79.000000</td>\n",
       "      <td>0</td>\n",
       "      <td>tdidf</td>\n",
       "    </tr>\n",
       "    <tr>\n",
       "      <th>2</th>\n",
       "      <td>Informativo</td>\n",
       "      <td>0.939759</td>\n",
       "      <td>0.987342</td>\n",
       "      <td>0.962963</td>\n",
       "      <td>79.000000</td>\n",
       "      <td>0</td>\n",
       "      <td>tdidf</td>\n",
       "    </tr>\n",
       "    <tr>\n",
       "      <th>3</th>\n",
       "      <td>accuracy</td>\n",
       "      <td>0.974684</td>\n",
       "      <td>0.974684</td>\n",
       "      <td>0.974684</td>\n",
       "      <td>0.974684</td>\n",
       "      <td>0</td>\n",
       "      <td>tdidf</td>\n",
       "    </tr>\n",
       "    <tr>\n",
       "      <th>4</th>\n",
       "      <td>macro avg</td>\n",
       "      <td>0.975475</td>\n",
       "      <td>0.974684</td>\n",
       "      <td>0.974667</td>\n",
       "      <td>237.000000</td>\n",
       "      <td>0</td>\n",
       "      <td>tdidf</td>\n",
       "    </tr>\n",
       "    <tr>\n",
       "      <th>5</th>\n",
       "      <td>weighted avg</td>\n",
       "      <td>0.975475</td>\n",
       "      <td>0.974684</td>\n",
       "      <td>0.974667</td>\n",
       "      <td>237.000000</td>\n",
       "      <td>0</td>\n",
       "      <td>tdidf</td>\n",
       "    </tr>\n",
       "    <tr>\n",
       "      <th>6</th>\n",
       "      <td>Advertencia</td>\n",
       "      <td>1.000000</td>\n",
       "      <td>0.987500</td>\n",
       "      <td>0.993711</td>\n",
       "      <td>80.000000</td>\n",
       "      <td>1</td>\n",
       "      <td>tdidf</td>\n",
       "    </tr>\n",
       "  </tbody>\n",
       "</table>\n",
       "</div>"
      ],
      "text/plain": [
       "          group  precision    recall  f1-score     support  fold technique\n",
       "0   Advertencia   1.000000  1.000000  1.000000   79.000000     0     tdidf\n",
       "1         Error   0.986667  0.936709  0.961039   79.000000     0     tdidf\n",
       "2   Informativo   0.939759  0.987342  0.962963   79.000000     0     tdidf\n",
       "3      accuracy   0.974684  0.974684  0.974684    0.974684     0     tdidf\n",
       "4     macro avg   0.975475  0.974684  0.974667  237.000000     0     tdidf\n",
       "5  weighted avg   0.975475  0.974684  0.974667  237.000000     0     tdidf\n",
       "6   Advertencia   1.000000  0.987500  0.993711   80.000000     1     tdidf"
      ]
     },
     "execution_count": 13,
     "metadata": {},
     "output_type": "execute_result"
    }
   ],
   "source": [
    "file=  \"resuls_val_fold_tdidf\" #\"train_data\" \n",
    "res_df = pd.read_csv(f\"{dir_path}{file}.csv\", encoding='utf-8')\n",
    "res_df.head(7)"
   ]
  },
  {
   "cell_type": "code",
   "execution_count": 14,
   "id": "e8cb4134-1917-409a-9b9d-ef1d7ab9abc6",
   "metadata": {},
   "outputs": [
    {
     "data": {
      "text/html": [
       "<div>\n",
       "<style scoped>\n",
       "    .dataframe tbody tr th:only-of-type {\n",
       "        vertical-align: middle;\n",
       "    }\n",
       "\n",
       "    .dataframe tbody tr th {\n",
       "        vertical-align: top;\n",
       "    }\n",
       "\n",
       "    .dataframe thead th {\n",
       "        text-align: right;\n",
       "    }\n",
       "</style>\n",
       "<table border=\"1\" class=\"dataframe\">\n",
       "  <thead>\n",
       "    <tr style=\"text-align: right;\">\n",
       "      <th></th>\n",
       "      <th>group</th>\n",
       "      <th>precision</th>\n",
       "      <th>recall</th>\n",
       "      <th>f1-score</th>\n",
       "      <th>support</th>\n",
       "      <th>fold</th>\n",
       "      <th>technique</th>\n",
       "    </tr>\n",
       "  </thead>\n",
       "  <tbody>\n",
       "    <tr>\n",
       "      <th>4</th>\n",
       "      <td>macro avg</td>\n",
       "      <td>0.975475</td>\n",
       "      <td>0.974684</td>\n",
       "      <td>0.974667</td>\n",
       "      <td>237.0</td>\n",
       "      <td>0</td>\n",
       "      <td>tdidf</td>\n",
       "    </tr>\n",
       "    <tr>\n",
       "      <th>10</th>\n",
       "      <td>macro avg</td>\n",
       "      <td>0.991870</td>\n",
       "      <td>0.991667</td>\n",
       "      <td>0.991692</td>\n",
       "      <td>240.0</td>\n",
       "      <td>1</td>\n",
       "      <td>tdidf</td>\n",
       "    </tr>\n",
       "    <tr>\n",
       "      <th>16</th>\n",
       "      <td>macro avg</td>\n",
       "      <td>0.979113</td>\n",
       "      <td>0.979167</td>\n",
       "      <td>0.979114</td>\n",
       "      <td>240.0</td>\n",
       "      <td>2</td>\n",
       "      <td>tdidf</td>\n",
       "    </tr>\n",
       "    <tr>\n",
       "      <th>22</th>\n",
       "      <td>macro avg</td>\n",
       "      <td>0.995885</td>\n",
       "      <td>0.995833</td>\n",
       "      <td>0.995833</td>\n",
       "      <td>240.0</td>\n",
       "      <td>3</td>\n",
       "      <td>tdidf</td>\n",
       "    </tr>\n",
       "    <tr>\n",
       "      <th>28</th>\n",
       "      <td>macro avg</td>\n",
       "      <td>0.995885</td>\n",
       "      <td>0.995833</td>\n",
       "      <td>0.995833</td>\n",
       "      <td>240.0</td>\n",
       "      <td>4</td>\n",
       "      <td>tdidf</td>\n",
       "    </tr>\n",
       "  </tbody>\n",
       "</table>\n",
       "</div>"
      ],
      "text/plain": [
       "        group  precision    recall  f1-score  support  fold technique\n",
       "4   macro avg   0.975475  0.974684  0.974667    237.0     0     tdidf\n",
       "10  macro avg   0.991870  0.991667  0.991692    240.0     1     tdidf\n",
       "16  macro avg   0.979113  0.979167  0.979114    240.0     2     tdidf\n",
       "22  macro avg   0.995885  0.995833  0.995833    240.0     3     tdidf\n",
       "28  macro avg   0.995885  0.995833  0.995833    240.0     4     tdidf"
      ]
     },
     "execution_count": 14,
     "metadata": {},
     "output_type": "execute_result"
    }
   ],
   "source": [
    "res_df_global=res_df[res_df[\"group\"]=='macro avg']\n",
    "res_df_global.head()"
   ]
  },
  {
   "cell_type": "code",
   "execution_count": 15,
   "id": "2cbad6bd-22cb-4362-bdb3-c33dba58471a",
   "metadata": {},
   "outputs": [
    {
     "name": "stdout",
     "output_type": "stream",
     "text": [
      "precision 0.9859864496 with std  0.008095633302651761\n",
      "recall 0.9858016877000001 with std  0.008207394957834338\n",
      "f1-score 0.9857964000999999 with std  0.00821096405261721\n"
     ]
    }
   ],
   "source": [
    "\n",
    "print(\"precision\", np.mean(res_df_global[\"precision\"]), \"with std \", np.std(res_df_global[\"precision\"]))\n",
    "print(\"recall\", np.mean(res_df_global[\"recall\"]), \"with std \", np.std(res_df_global[\"recall\"]))\n",
    "print(\"f1-score\", np.mean(res_df_global[\"f1-score\"]), \"with std \", np.std(res_df_global[\"f1-score\"]))"
   ]
  },
  {
   "cell_type": "code",
   "execution_count": 20,
   "id": "245da1cf-fc10-47db-bbab-af447e4db98b",
   "metadata": {},
   "outputs": [
    {
     "data": {
      "text/plain": [
       "group        Informativo\n",
       "precision       0.987654\n",
       "recall               1.0\n",
       "f1-score        0.993789\n",
       "support             80.0\n",
       "fold                   3\n",
       "technique          tdidf\n",
       "Name: 20, dtype: object"
      ]
     },
     "execution_count": 20,
     "metadata": {},
     "output_type": "execute_result"
    }
   ],
   "source": [
    "top_row = res_df_global.loc[res_df_global[\"f1-score\"].idxmax()]\n",
    "top_row"
   ]
  },
  {
   "cell_type": "code",
   "execution_count": 16,
   "id": "45b28ec0-42f4-476f-99bd-197ecfcde5f0",
   "metadata": {},
   "outputs": [
    {
     "name": "stdout",
     "output_type": "stream",
     "text": [
      "precision 0.9987654321000001 with std  0.0037037037000000176\n",
      "recall 0.99 with std  0.012247448713915886\n",
      "f1-score 0.9943154388 with std  0.00599549566459623\n"
     ]
    }
   ],
   "source": [
    "res_df_global=res_df[res_df[\"group\"]=='Advertencia']\n",
    "print(\"precision\", np.mean(res_df_global[\"precision\"]), \"with std \", np.std(res_df_global[\"precision\"]))\n",
    "print(\"recall\", np.mean(res_df_global[\"recall\"]), \"with std \", np.std(res_df_global[\"recall\"]))\n",
    "print(\"f1-score\", np.mean(res_df_global[\"f1-score\"]), \"with std \", np.std(res_df_global[\"f1-score\"]))"
   ]
  },
  {
   "cell_type": "code",
   "execution_count": 17,
   "id": "6fd24db0-6397-4f9e-a453-fd1244fe2a44",
   "metadata": {},
   "outputs": [
    {
     "name": "stdout",
     "output_type": "stream",
     "text": [
      "precision 0.9861017826999999 with std  0.010485180334087676\n",
      "recall 0.9786708861 with std  0.02183794239008244\n",
      "f1-score 0.9822906068 with std  0.01476282818333148\n"
     ]
    }
   ],
   "source": [
    "res_df_global=res_df[res_df[\"group\"]=='Error']\n",
    "print(\"precision\", np.mean(res_df_global[\"precision\"]), \"with std \", np.std(res_df_global[\"precision\"]))\n",
    "print(\"recall\", np.mean(res_df_global[\"recall\"]), \"with std \", np.std(res_df_global[\"recall\"]))\n",
    "print(\"f1-score\", np.mean(res_df_global[\"f1-score\"]), \"with std \", np.std(res_df_global[\"f1-score\"]))"
   ]
  },
  {
   "cell_type": "code",
   "execution_count": 18,
   "id": "91b63131-0c29-4ce3-a292-4e22b4bbef93",
   "metadata": {},
   "outputs": [
    {
     "name": "stdout",
     "output_type": "stream",
     "text": [
      "precision 0.9730921336 with std  0.016885690987401305\n",
      "recall 0.9887341772000001 with std  0.010385292978486392\n",
      "f1-score 0.9807831541999998 with std  0.01154045165233525\n"
     ]
    }
   ],
   "source": [
    "res_df_global=res_df[res_df[\"group\"]=='Informativo']\n",
    "print(\"precision\", np.mean(res_df_global[\"precision\"]), \"with std \", np.std(res_df_global[\"precision\"]))\n",
    "print(\"recall\", np.mean(res_df_global[\"recall\"]), \"with std \", np.std(res_df_global[\"recall\"]))\n",
    "print(\"f1-score\", np.mean(res_df_global[\"f1-score\"]), \"with std \", np.std(res_df_global[\"f1-score\"]))"
   ]
  },
  {
   "cell_type": "code",
   "execution_count": null,
   "id": "c5c52459-f96a-4d59-8c15-7d5ad539f170",
   "metadata": {},
   "outputs": [],
   "source": []
  },
  {
   "cell_type": "code",
   "execution_count": null,
   "id": "955c1db5-72da-4c08-97f6-50f50398d6c1",
   "metadata": {},
   "outputs": [],
   "source": []
  },
  {
   "cell_type": "code",
   "execution_count": null,
   "id": "a0b7d4ee-78c8-4b28-902b-6d50c50d81b7",
   "metadata": {},
   "outputs": [],
   "source": []
  },
  {
   "cell_type": "code",
   "execution_count": null,
   "id": "fdbc12fd-4506-4ea4-aefc-e6dab1935e28",
   "metadata": {},
   "outputs": [],
   "source": []
  }
 ],
 "metadata": {
  "kernelspec": {
   "display_name": "Python 3 (ipykernel)",
   "language": "python",
   "name": "python3"
  },
  "language_info": {
   "codemirror_mode": {
    "name": "ipython",
    "version": 3
   },
   "file_extension": ".py",
   "mimetype": "text/x-python",
   "name": "python",
   "nbconvert_exporter": "python",
   "pygments_lexer": "ipython3",
   "version": "3.12.7"
  }
 },
 "nbformat": 4,
 "nbformat_minor": 5
}
