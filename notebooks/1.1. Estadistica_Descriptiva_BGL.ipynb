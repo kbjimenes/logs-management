{
 "cells": [
  {
   "cell_type": "code",
   "execution_count": 33,
   "id": "b24ceb84-5027-4e42-b987-6320bd07b6cd",
   "metadata": {},
   "outputs": [],
   "source": [
    "import pandas as pd\n",
    "import matplotlib.pyplot as plt\n",
    "import seaborn as sns"
   ]
  },
  {
   "cell_type": "code",
   "execution_count": 34,
   "id": "75e8d0b8-8cb2-4499-99b5-0f1fe433c49d",
   "metadata": {},
   "outputs": [],
   "source": [
    "dataset = \"BGL\"\n",
    "dir_path = \"../data/\""
   ]
  },
  {
   "cell_type": "code",
   "execution_count": 35,
   "id": "a1651fd5-edc1-4a44-817a-6816799d93da",
   "metadata": {},
   "outputs": [
    {
     "name": "stdout",
     "output_type": "stream",
     "text": [
      "{'WARNING', 'ERROR', 'INFO', 'FATAL', 'SEVERE'}\n"
     ]
    },
    {
     "data": {
      "text/html": [
       "<div>\n",
       "<style scoped>\n",
       "    .dataframe tbody tr th:only-of-type {\n",
       "        vertical-align: middle;\n",
       "    }\n",
       "\n",
       "    .dataframe tbody tr th {\n",
       "        vertical-align: top;\n",
       "    }\n",
       "\n",
       "    .dataframe thead th {\n",
       "        text-align: right;\n",
       "    }\n",
       "</style>\n",
       "<table border=\"1\" class=\"dataframe\">\n",
       "  <thead>\n",
       "    <tr style=\"text-align: right;\">\n",
       "      <th></th>\n",
       "      <th>LineId</th>\n",
       "      <th>Label</th>\n",
       "      <th>Timestamp</th>\n",
       "      <th>Date</th>\n",
       "      <th>Node</th>\n",
       "      <th>Time</th>\n",
       "      <th>NodeRepeat</th>\n",
       "      <th>Type</th>\n",
       "      <th>Component</th>\n",
       "      <th>Level</th>\n",
       "      <th>Content</th>\n",
       "      <th>EventId</th>\n",
       "      <th>EventTemplate</th>\n",
       "    </tr>\n",
       "  </thead>\n",
       "  <tbody>\n",
       "    <tr>\n",
       "      <th>0</th>\n",
       "      <td>1</td>\n",
       "      <td>-</td>\n",
       "      <td>1117838570</td>\n",
       "      <td>2005.06.03</td>\n",
       "      <td>R02-M1-N0-C:J12-U11</td>\n",
       "      <td>2005-06-03-15.42.50.675872</td>\n",
       "      <td>R02-M1-N0-C:J12-U11</td>\n",
       "      <td>RAS</td>\n",
       "      <td>KERNEL</td>\n",
       "      <td>INFO</td>\n",
       "      <td>instruction cache parity error corrected</td>\n",
       "      <td>E77</td>\n",
       "      <td>instruction cache parity error corrected</td>\n",
       "    </tr>\n",
       "    <tr>\n",
       "      <th>1</th>\n",
       "      <td>2</td>\n",
       "      <td>-</td>\n",
       "      <td>1117838573</td>\n",
       "      <td>2005.06.03</td>\n",
       "      <td>R02-M1-N0-C:J12-U11</td>\n",
       "      <td>2005-06-03-15.42.53.276129</td>\n",
       "      <td>R02-M1-N0-C:J12-U11</td>\n",
       "      <td>RAS</td>\n",
       "      <td>KERNEL</td>\n",
       "      <td>INFO</td>\n",
       "      <td>instruction cache parity error corrected</td>\n",
       "      <td>E77</td>\n",
       "      <td>instruction cache parity error corrected</td>\n",
       "    </tr>\n",
       "  </tbody>\n",
       "</table>\n",
       "</div>"
      ],
      "text/plain": [
       "   LineId Label   Timestamp        Date                 Node  \\\n",
       "0       1     -  1117838570  2005.06.03  R02-M1-N0-C:J12-U11   \n",
       "1       2     -  1117838573  2005.06.03  R02-M1-N0-C:J12-U11   \n",
       "\n",
       "                         Time           NodeRepeat Type Component Level  \\\n",
       "0  2005-06-03-15.42.50.675872  R02-M1-N0-C:J12-U11  RAS    KERNEL  INFO   \n",
       "1  2005-06-03-15.42.53.276129  R02-M1-N0-C:J12-U11  RAS    KERNEL  INFO   \n",
       "\n",
       "                                    Content EventId  \\\n",
       "0  instruction cache parity error corrected     E77   \n",
       "1  instruction cache parity error corrected     E77   \n",
       "\n",
       "                              EventTemplate  \n",
       "0  instruction cache parity error corrected  \n",
       "1  instruction cache parity error corrected  "
      ]
     },
     "execution_count": 35,
     "metadata": {},
     "output_type": "execute_result"
    }
   ],
   "source": [
    "# Cargar el dataset\n",
    "logDF = pd.read_csv(f\"{dir_path}{dataset}_2k.log_structured.csv\")\n",
    "print(set(logDF[\"Level\"]))\n",
    "logDF.head(2)\n"
   ]
  },
  {
   "cell_type": "code",
   "execution_count": 36,
   "id": "3ceeb11e-371c-4143-8190-e29c07c6b665",
   "metadata": {},
   "outputs": [],
   "source": [
    "categorias = {\n",
    "    'ERROR': 'Error',\n",
    "    'SEVERE': 'Error',\n",
    "    'FATAL':'Error',\n",
    "    'INFO': 'Informativo',\n",
    "    'WARNING': 'Advertencia'\n",
    "}\n",
    "logDF['Level'] = logDF['Level'].replace(categorias)\n"
   ]
  },
  {
   "cell_type": "code",
   "execution_count": 37,
   "id": "3a136c0e-4f3a-45b0-beb7-6dee59434b84",
   "metadata": {},
   "outputs": [
    {
     "data": {
      "text/html": [
       "<div>\n",
       "<style scoped>\n",
       "    .dataframe tbody tr th:only-of-type {\n",
       "        vertical-align: middle;\n",
       "    }\n",
       "\n",
       "    .dataframe tbody tr th {\n",
       "        vertical-align: top;\n",
       "    }\n",
       "\n",
       "    .dataframe thead th {\n",
       "        text-align: right;\n",
       "    }\n",
       "</style>\n",
       "<table border=\"1\" class=\"dataframe\">\n",
       "  <thead>\n",
       "    <tr style=\"text-align: right;\">\n",
       "      <th></th>\n",
       "      <th>LineId</th>\n",
       "      <th>Label</th>\n",
       "      <th>Timestamp</th>\n",
       "      <th>Date</th>\n",
       "      <th>Node</th>\n",
       "      <th>Time</th>\n",
       "      <th>NodeRepeat</th>\n",
       "      <th>Type</th>\n",
       "      <th>Component</th>\n",
       "      <th>Level</th>\n",
       "      <th>Content</th>\n",
       "      <th>EventId</th>\n",
       "      <th>EventTemplate</th>\n",
       "      <th>datetime</th>\n",
       "    </tr>\n",
       "  </thead>\n",
       "  <tbody>\n",
       "    <tr>\n",
       "      <th>0</th>\n",
       "      <td>1</td>\n",
       "      <td>-</td>\n",
       "      <td>1117838570</td>\n",
       "      <td>2005-06-03</td>\n",
       "      <td>R02-M1-N0-C:J12-U11</td>\n",
       "      <td>2005-06-03-15.42.50.675872</td>\n",
       "      <td>R02-M1-N0-C:J12-U11</td>\n",
       "      <td>RAS</td>\n",
       "      <td>KERNEL</td>\n",
       "      <td>Informativo</td>\n",
       "      <td>instruction cache parity error corrected</td>\n",
       "      <td>E77</td>\n",
       "      <td>instruction cache parity error corrected</td>\n",
       "      <td>2005-06-03 22:42:50</td>\n",
       "    </tr>\n",
       "    <tr>\n",
       "      <th>1</th>\n",
       "      <td>2</td>\n",
       "      <td>-</td>\n",
       "      <td>1117838573</td>\n",
       "      <td>2005-06-03</td>\n",
       "      <td>R02-M1-N0-C:J12-U11</td>\n",
       "      <td>2005-06-03-15.42.53.276129</td>\n",
       "      <td>R02-M1-N0-C:J12-U11</td>\n",
       "      <td>RAS</td>\n",
       "      <td>KERNEL</td>\n",
       "      <td>Informativo</td>\n",
       "      <td>instruction cache parity error corrected</td>\n",
       "      <td>E77</td>\n",
       "      <td>instruction cache parity error corrected</td>\n",
       "      <td>2005-06-03 22:42:53</td>\n",
       "    </tr>\n",
       "    <tr>\n",
       "      <th>2</th>\n",
       "      <td>3</td>\n",
       "      <td>-</td>\n",
       "      <td>1117838976</td>\n",
       "      <td>2005-06-03</td>\n",
       "      <td>R02-M1-N0-C:J12-U11</td>\n",
       "      <td>2005-06-03-15.49.36.156884</td>\n",
       "      <td>R02-M1-N0-C:J12-U11</td>\n",
       "      <td>RAS</td>\n",
       "      <td>KERNEL</td>\n",
       "      <td>Informativo</td>\n",
       "      <td>instruction cache parity error corrected</td>\n",
       "      <td>E77</td>\n",
       "      <td>instruction cache parity error corrected</td>\n",
       "      <td>2005-06-03 22:49:36</td>\n",
       "    </tr>\n",
       "    <tr>\n",
       "      <th>3</th>\n",
       "      <td>4</td>\n",
       "      <td>-</td>\n",
       "      <td>1117838978</td>\n",
       "      <td>2005-06-03</td>\n",
       "      <td>R02-M1-N0-C:J12-U11</td>\n",
       "      <td>2005-06-03-15.49.38.026704</td>\n",
       "      <td>R02-M1-N0-C:J12-U11</td>\n",
       "      <td>RAS</td>\n",
       "      <td>KERNEL</td>\n",
       "      <td>Informativo</td>\n",
       "      <td>instruction cache parity error corrected</td>\n",
       "      <td>E77</td>\n",
       "      <td>instruction cache parity error corrected</td>\n",
       "      <td>2005-06-03 22:49:38</td>\n",
       "    </tr>\n",
       "    <tr>\n",
       "      <th>4</th>\n",
       "      <td>5</td>\n",
       "      <td>-</td>\n",
       "      <td>1117842440</td>\n",
       "      <td>2005-06-03</td>\n",
       "      <td>R23-M0-NE-C:J05-U01</td>\n",
       "      <td>2005-06-03-16.47.20.730545</td>\n",
       "      <td>R23-M0-NE-C:J05-U01</td>\n",
       "      <td>RAS</td>\n",
       "      <td>KERNEL</td>\n",
       "      <td>Informativo</td>\n",
       "      <td>63543 double-hummer alignment exceptions</td>\n",
       "      <td>E3</td>\n",
       "      <td>&lt;*&gt; double-hummer alignment exceptions</td>\n",
       "      <td>2005-06-03 23:47:20</td>\n",
       "    </tr>\n",
       "  </tbody>\n",
       "</table>\n",
       "</div>"
      ],
      "text/plain": [
       "   LineId Label   Timestamp       Date                 Node  \\\n",
       "0       1     -  1117838570 2005-06-03  R02-M1-N0-C:J12-U11   \n",
       "1       2     -  1117838573 2005-06-03  R02-M1-N0-C:J12-U11   \n",
       "2       3     -  1117838976 2005-06-03  R02-M1-N0-C:J12-U11   \n",
       "3       4     -  1117838978 2005-06-03  R02-M1-N0-C:J12-U11   \n",
       "4       5     -  1117842440 2005-06-03  R23-M0-NE-C:J05-U01   \n",
       "\n",
       "                         Time           NodeRepeat Type Component  \\\n",
       "0  2005-06-03-15.42.50.675872  R02-M1-N0-C:J12-U11  RAS    KERNEL   \n",
       "1  2005-06-03-15.42.53.276129  R02-M1-N0-C:J12-U11  RAS    KERNEL   \n",
       "2  2005-06-03-15.49.36.156884  R02-M1-N0-C:J12-U11  RAS    KERNEL   \n",
       "3  2005-06-03-15.49.38.026704  R02-M1-N0-C:J12-U11  RAS    KERNEL   \n",
       "4  2005-06-03-16.47.20.730545  R23-M0-NE-C:J05-U01  RAS    KERNEL   \n",
       "\n",
       "         Level                                   Content EventId  \\\n",
       "0  Informativo  instruction cache parity error corrected     E77   \n",
       "1  Informativo  instruction cache parity error corrected     E77   \n",
       "2  Informativo  instruction cache parity error corrected     E77   \n",
       "3  Informativo  instruction cache parity error corrected     E77   \n",
       "4  Informativo  63543 double-hummer alignment exceptions      E3   \n",
       "\n",
       "                              EventTemplate            datetime  \n",
       "0  instruction cache parity error corrected 2005-06-03 22:42:50  \n",
       "1  instruction cache parity error corrected 2005-06-03 22:42:53  \n",
       "2  instruction cache parity error corrected 2005-06-03 22:49:36  \n",
       "3  instruction cache parity error corrected 2005-06-03 22:49:38  \n",
       "4    <*> double-hummer alignment exceptions 2005-06-03 23:47:20  "
      ]
     },
     "execution_count": 37,
     "metadata": {},
     "output_type": "execute_result"
    }
   ],
   "source": [
    "# Fix the 'Date' format (optional, if needed later)\n",
    "logDF['Date'] = pd.to_datetime(logDF['Date'].str.replace('.', '-', regex=False), format='%Y-%m-%d')\n",
    "\n",
    "# Convert UNIX timestamp to datetime\n",
    "logDF['datetime'] = pd.to_datetime(logDF['Timestamp'], unit='s')\n",
    "\n",
    "# Verificar\n",
    "logDF.head()\n"
   ]
  },
  {
   "cell_type": "code",
   "execution_count": 38,
   "id": "6bb792a0-17f7-421f-90e9-6ce10b571149",
   "metadata": {},
   "outputs": [],
   "source": [
    "# Longitud de cada mensaje (# palabras)\n",
    "logDF['content_length'] = logDF['Content'].astype(str).apply(lambda x: len(x.split()))\n"
   ]
  },
  {
   "cell_type": "code",
   "execution_count": 39,
   "id": "2e9d59e5-eb3d-4106-8248-1897e62596f4",
   "metadata": {},
   "outputs": [
    {
     "name": "stdout",
     "output_type": "stream",
     "text": [
      "Total de registros: 2000\n",
      "Rango temporal: 2005-06-03 22:42:50 → 2006-01-03 15:13:09\n",
      "Distribución por nivel: Level\n",
      "Informativo    1597\n",
      "Error           395\n",
      "Advertencia       8\n",
      "Name: count, dtype: int64\n",
      "Longitud de mensaje (palabras) con promedio: 6.318\n",
      "Longitud de mensaje (palabras) con mediana: 4.0\n"
     ]
    }
   ],
   "source": [
    "# Estadísticas\n",
    "print(\"Total de registros:\", len(logDF))\n",
    "print(\"Rango temporal:\", logDF['datetime'].min(), \"→\", logDF['datetime'].max())\n",
    "print(\"Distribución por nivel:\", logDF['Level'].value_counts())\n",
    "print(\"Longitud de mensaje (palabras) con promedio:\", logDF['content_length'].mean())\n",
    "print(\"Longitud de mensaje (palabras) con mediana:\", logDF['content_length'].median())"
   ]
  },
  {
   "cell_type": "code",
   "execution_count": 40,
   "id": "16633d9a-78c6-4bd3-9dd6-a3871fea5dfa",
   "metadata": {},
   "outputs": [
    {
     "name": "stderr",
     "output_type": "stream",
     "text": [
      "/tmp/ipykernel_6957/3905531008.py:3: FutureWarning: \n",
      "\n",
      "Passing `palette` without assigning `hue` is deprecated and will be removed in v0.14.0. Assign the `x` variable to `hue` and set `legend=False` for the same effect.\n",
      "\n",
      "  sns.countplot(data=logDF, x='Level', order=logDF['Level'].value_counts().index, palette=\"Set2\")\n"
     ]
    },
    {
     "data": {
      "image/png": "[encoded data removed]",
      "text/plain": [
       "<Figure size 800x500 with 1 Axes>"
      ]
     },
     "metadata": {},
     "output_type": "display_data"
    }
   ],
   "source": [
    "# Distribución por nivel\n",
    "plt.figure(figsize=(8,5))\n",
    "sns.countplot(data=logDF, x='Level', order=logDF['Level'].value_counts().index, palette=\"Set2\")\n",
    "plt.title(\"Distribución de niveles de log\")\n",
    "plt.xlabel(\"Nivel\")\n",
    "plt.ylabel(\"Cantidad de registros\")\n",
    "plt.grid(axis='y')\n",
    "plt.show()"
   ]
  },
  {
   "cell_type": "code",
   "execution_count": 41,
   "id": "fd3209ae-f507-4eab-af4c-d2f32ecbf3e6",
   "metadata": {},
   "outputs": [
    {
     "data": {
      "image/png": "[encoded data removed]",
      "text/plain": [
       "<Figure size 800x500 with 1 Axes>"
      ]
     },
     "metadata": {},
     "output_type": "display_data"
    }
   ],
   "source": [
    "# Longitud de mensajes\n",
    "plt.figure(figsize=(8,5))\n",
    "sns.histplot(logDF['content_length'], bins=30, kde=True)\n",
    "plt.title(\"Distribución de longitud de mensajes\")\n",
    "plt.xlabel(\"Número de palabras por mensaje\")\n",
    "plt.ylabel(\"Frecuencia\")\n",
    "plt.grid()\n",
    "plt.show()"
   ]
  },
  {
   "cell_type": "code",
   "execution_count": 42,
   "id": "c817644b-fe5d-4ff7-bac9-8c48a0b3db3d",
   "metadata": {},
   "outputs": [],
   "source": [
    "logDF.to_csv(f\"{dir_path}{dataset}_2k.log_structured_to_process.csv\", index=False)"
   ]
  },
  {
   "cell_type": "code",
   "execution_count": null,
   "id": "793f6fdc-80bf-4a0d-83c4-f72b90189515",
   "metadata": {},
   "outputs": [],
   "source": []
  },
  {
   "cell_type": "code",
   "execution_count": null,
   "id": "06dc9837-e8e7-4cb8-a233-d3a28ee417d9",
   "metadata": {},
   "outputs": [],
   "source": []
  },
  {
   "cell_type": "code",
   "execution_count": null,
   "id": "0d359945-1572-43a9-bc0b-d18768400d27",
   "metadata": {},
   "outputs": [],
   "source": []
  },
  {
   "cell_type": "code",
   "execution_count": null,
   "id": "bde3863a-8058-4ea9-b722-c1270d4eadbd",
   "metadata": {},
   "outputs": [],
   "source": []
  },
  {
   "cell_type": "code",
   "execution_count": null,
   "id": "1d52b8ff-c36b-4490-8e45-7ddc07993ab6",
   "metadata": {},
   "outputs": [],
   "source": []
  },
  {
   "cell_type": "code",
   "execution_count": null,
   "id": "62f4cc2c-9d28-424f-aed4-3de5e8b901df",
   "metadata": {},
   "outputs": [],
   "source": []
  }
 ],
 "metadata": {
  "kernelspec": {
   "display_name": "Python 3 (ipykernel)",
   "language": "python",
   "name": "python3"
  },
  "language_info": {
   "codemirror_mode": {
    "name": "ipython",
    "version": 3
   },
   "file_extension": ".py",
   "mimetype": "text/x-python",
   "name": "python",
   "nbconvert_exporter": "python",
   "pygments_lexer": "ipython3",
   "version": "3.12.7"
  }
 },
 "nbformat": 4,
 "nbformat_minor": 5
}
