{
 "cells": [
  {
   "cell_type": "code",
   "execution_count": 12,
   "id": "6b27e065-5f9c-4eac-968b-43d9cfc3169b",
   "metadata": {},
   "outputs": [],
   "source": [
    "import pandas as pd\n",
    "import re\n",
    "from sklearn.ensemble import IsolationForest  # Para detección de anomalías\n",
    "import dash\n",
    "from dash import dcc, html\n",
    "import plotly.express as px  # Para visualización\n",
    "from datetime import datetime, timedelta"
   ]
  },
  {
   "cell_type": "code",
   "execution_count": 13,
   "id": "906f1dca-969b-452b-ac1e-ba460d601d23",
   "metadata": {},
   "outputs": [],
   "source": [
    "dir_path = \"../process/\""
   ]
  },
  {
   "cell_type": "markdown",
   "id": "a2aba99d-ae2b-49f5-aae5-4c0064e47ce2",
   "metadata": {},
   "source": [
    "# Entrenamiento"
   ]
  },
  {
   "cell_type": "code",
   "execution_count": 14,
   "id": "63ff82bd-c91d-4dff-9a75-8a46a9e7a5e1",
   "metadata": {},
   "outputs": [
    {
     "name": "stdout",
     "output_type": "stream",
     "text": [
      "{'Advertencia', 'Error', 'Informativo'}\n",
      "(320, 15)\n"
     ]
    },
    {
     "data": {
      "text/html": [
       "<div>\n",
       "<style scoped>\n",
       "    .dataframe tbody tr th:only-of-type {\n",
       "        vertical-align: middle;\n",
       "    }\n",
       "\n",
       "    .dataframe tbody tr th {\n",
       "        vertical-align: top;\n",
       "    }\n",
       "\n",
       "    .dataframe thead th {\n",
       "        text-align: right;\n",
       "    }\n",
       "</style>\n",
       "<table border=\"1\" class=\"dataframe\">\n",
       "  <thead>\n",
       "    <tr style=\"text-align: right;\">\n",
       "      <th></th>\n",
       "      <th>Content</th>\n",
       "      <th>Level</th>\n",
       "      <th>datetime</th>\n",
       "      <th>content_length</th>\n",
       "      <th>source</th>\n",
       "      <th>Clean_Content</th>\n",
       "      <th>Severidad</th>\n",
       "      <th>Origen</th>\n",
       "      <th>TipoEvento</th>\n",
       "      <th>Frecuencia</th>\n",
       "      <th>ContentLength</th>\n",
       "      <th>Hour</th>\n",
       "      <th>Anomaly</th>\n",
       "      <th>Prioridad</th>\n",
       "      <th>PrioridadEtiqueta</th>\n",
       "    </tr>\n",
       "  </thead>\n",
       "  <tbody>\n",
       "    <tr>\n",
       "      <th>0</th>\n",
       "      <td>mod_jk child workerEnv in error state 6</td>\n",
       "      <td>Error</td>\n",
       "      <td>2005-12-04 04:47:44.000</td>\n",
       "      <td>4</td>\n",
       "      <td>Apache</td>\n",
       "      <td>child workerenv error state</td>\n",
       "      <td>Crítico</td>\n",
       "      <td>Aplicación</td>\n",
       "      <td>Errores</td>\n",
       "      <td>Recurrente esperado</td>\n",
       "      <td>39</td>\n",
       "      <td>4.0</td>\n",
       "      <td>1</td>\n",
       "      <td>11</td>\n",
       "      <td>Error</td>\n",
       "    </tr>\n",
       "    <tr>\n",
       "      <th>1</th>\n",
       "      <td>mod_jk child workerEnv in error state 6</td>\n",
       "      <td>Error</td>\n",
       "      <td>2005-12-04 04:52:15.000</td>\n",
       "      <td>4</td>\n",
       "      <td>Apache</td>\n",
       "      <td>child workerenv error state</td>\n",
       "      <td>Crítico</td>\n",
       "      <td>Aplicación</td>\n",
       "      <td>Errores</td>\n",
       "      <td>Recurrente esperado</td>\n",
       "      <td>39</td>\n",
       "      <td>4.0</td>\n",
       "      <td>1</td>\n",
       "      <td>11</td>\n",
       "      <td>Error</td>\n",
       "    </tr>\n",
       "    <tr>\n",
       "      <th>2</th>\n",
       "      <td>mod_jk child workerEnv in error state 7</td>\n",
       "      <td>Error</td>\n",
       "      <td>2005-12-04 04:52:52.000</td>\n",
       "      <td>4</td>\n",
       "      <td>Apache</td>\n",
       "      <td>child workerenv error state</td>\n",
       "      <td>Crítico</td>\n",
       "      <td>Aplicación</td>\n",
       "      <td>Errores</td>\n",
       "      <td>Recurrente esperado</td>\n",
       "      <td>39</td>\n",
       "      <td>4.0</td>\n",
       "      <td>1</td>\n",
       "      <td>11</td>\n",
       "      <td>Error</td>\n",
       "    </tr>\n",
       "    <tr>\n",
       "      <th>3</th>\n",
       "      <td>mod_jk child workerEnv in error state 7</td>\n",
       "      <td>Error</td>\n",
       "      <td>2005-12-04 04:53:16.000</td>\n",
       "      <td>4</td>\n",
       "      <td>Apache</td>\n",
       "      <td>child workerenv error state</td>\n",
       "      <td>Crítico</td>\n",
       "      <td>Aplicación</td>\n",
       "      <td>Errores</td>\n",
       "      <td>Recurrente esperado</td>\n",
       "      <td>39</td>\n",
       "      <td>4.0</td>\n",
       "      <td>1</td>\n",
       "      <td>11</td>\n",
       "      <td>Error</td>\n",
       "    </tr>\n",
       "    <tr>\n",
       "      <th>4</th>\n",
       "      <td>jk2_init() Found child 6755 in scoreboard slot 6</td>\n",
       "      <td>Informativo</td>\n",
       "      <td>2005-12-04 04:53:29.000</td>\n",
       "      <td>3</td>\n",
       "      <td>Apache</td>\n",
       "      <td>child scoreboard slot</td>\n",
       "      <td>Depuración</td>\n",
       "      <td>Conectividad</td>\n",
       "      <td>Monitoreo</td>\n",
       "      <td>Único</td>\n",
       "      <td>48</td>\n",
       "      <td>4.0</td>\n",
       "      <td>1</td>\n",
       "      <td>7</td>\n",
       "      <td>Informativo</td>\n",
       "    </tr>\n",
       "  </tbody>\n",
       "</table>\n",
       "</div>"
      ],
      "text/plain": [
       "                                            Content        Level  \\\n",
       "0           mod_jk child workerEnv in error state 6        Error   \n",
       "1           mod_jk child workerEnv in error state 6        Error   \n",
       "2           mod_jk child workerEnv in error state 7        Error   \n",
       "3           mod_jk child workerEnv in error state 7        Error   \n",
       "4  jk2_init() Found child 6755 in scoreboard slot 6  Informativo   \n",
       "\n",
       "                  datetime  content_length  source  \\\n",
       "0  2005-12-04 04:47:44.000               4  Apache   \n",
       "1  2005-12-04 04:52:15.000               4  Apache   \n",
       "2  2005-12-04 04:52:52.000               4  Apache   \n",
       "3  2005-12-04 04:53:16.000               4  Apache   \n",
       "4  2005-12-04 04:53:29.000               3  Apache   \n",
       "\n",
       "                 Clean_Content   Severidad        Origen TipoEvento  \\\n",
       "0  child workerenv error state     Crítico    Aplicación    Errores   \n",
       "1  child workerenv error state     Crítico    Aplicación    Errores   \n",
       "2  child workerenv error state     Crítico    Aplicación    Errores   \n",
       "3  child workerenv error state     Crítico    Aplicación    Errores   \n",
       "4        child scoreboard slot  Depuración  Conectividad  Monitoreo   \n",
       "\n",
       "            Frecuencia  ContentLength  Hour  Anomaly  Prioridad  \\\n",
       "0  Recurrente esperado             39   4.0        1         11   \n",
       "1  Recurrente esperado             39   4.0        1         11   \n",
       "2  Recurrente esperado             39   4.0        1         11   \n",
       "3  Recurrente esperado             39   4.0        1         11   \n",
       "4                Único             48   4.0        1          7   \n",
       "\n",
       "  PrioridadEtiqueta  \n",
       "0             Error  \n",
       "1             Error  \n",
       "2             Error  \n",
       "3             Error  \n",
       "4       Informativo  "
      ]
     },
     "execution_count": 14,
     "metadata": {},
     "output_type": "execute_result"
    }
   ],
   "source": [
    "\n",
    "file=  \"external_test_data\" #\"train_data\" \n",
    "\n",
    "logs_df = pd.read_csv(f\"{dir_path}3_22{file}_heuristic_prediction.csv\", encoding='utf-8')\n",
    "\n",
    "print(set(logs_df[\"Level\"]))\n",
    "print(logs_df.shape)\n",
    "logs_df.head()"
   ]
  },
  {
   "cell_type": "code",
   "execution_count": 15,
   "id": "2b7413b4-5e0e-4259-becf-275504aa8ca2",
   "metadata": {},
   "outputs": [],
   "source": [
    "def obtener_estadisticas(df, columna):\n",
    "    conteo = df[columna].value_counts(dropna=False)\n",
    "    porcentaje = round(df[columna].value_counts(normalize=True, dropna=False) * 100, 2)\n",
    "    resumen = pd.DataFrame({'Frecuencia': conteo, 'Porcentaje (%)': porcentaje})\n",
    "    resumen.index.name = columna\n",
    "    return resumen\n",
    "\n",
    "# Aplicar a las columnas deseadas\n",
    "estadisticas_severidad = obtener_estadisticas(logs_df, 'Severidad')\n",
    "estadisticas_origen = obtener_estadisticas(logs_df, 'Origen')\n",
    "estadisticas_tipo = obtener_estadisticas(logs_df, 'TipoEvento')\n",
    "estadisticas_frecuencia = obtener_estadisticas(logs_df, 'Frecuencia')\n",
    "estadisticas_anomalia = obtener_estadisticas(logs_df, 'Anomaly')\n"
   ]
  },
  {
   "cell_type": "code",
   "execution_count": 16,
   "id": "d0ab13c4-8663-4256-9c8a-5ebde3237817",
   "metadata": {},
   "outputs": [
    {
     "name": "stdout",
     "output_type": "stream",
     "text": [
      "Severidad:\n",
      "              Frecuencia  Porcentaje (%)\n",
      "Severidad                               \n",
      "Depuración           104           32.50\n",
      "Crítico              100           31.25\n",
      "Advertencia           80           25.00\n",
      "No relevante          35           10.94\n",
      "Información            1            0.31\n"
     ]
    }
   ],
   "source": [
    "# Mostrar ejemplo\n",
    "print(\"Severidad:\")\n",
    "print(estadisticas_severidad)"
   ]
  },
  {
   "cell_type": "code",
   "execution_count": 17,
   "id": "ec2e98c7-bbe8-402e-952b-f4389ceec469",
   "metadata": {},
   "outputs": [
    {
     "name": "stdout",
     "output_type": "stream",
     "text": [
      "Origen:\n",
      "                     Frecuencia  Porcentaje (%)\n",
      "Origen                                         \n",
      "Aplicación                  105           32.81\n",
      "Conectividad                103           32.19\n",
      "Sistema operativo            57           17.81\n",
      "Otro                         28            8.75\n",
      "Gestión de energía           19            5.94\n",
      "Sistema de archivos           8            2.50\n"
     ]
    }
   ],
   "source": [
    "# Mostrar ejemplo\n",
    "print(\"Origen:\")\n",
    "print(estadisticas_origen)\n"
   ]
  },
  {
   "cell_type": "code",
   "execution_count": 18,
   "id": "ed9c84e2-880b-41e2-95ac-a29fdbb79b03",
   "metadata": {},
   "outputs": [
    {
     "name": "stdout",
     "output_type": "stream",
     "text": [
      "Tipo:\n",
      "                    Frecuencia  Porcentaje (%)\n",
      "TipoEvento                                    \n",
      "Errores                    135           42.19\n",
      "Monitoreo                  103           32.19\n",
      "Eventos                     41           12.81\n",
      "Otro                        26            8.12\n",
      "Transicion                  13            4.06\n",
      "Parada de procesos           2            0.62\n"
     ]
    }
   ],
   "source": [
    "# Mostrar ejemplo\n",
    "print(\"Tipo:\")\n",
    "print(estadisticas_tipo)"
   ]
  },
  {
   "cell_type": "code",
   "execution_count": 19,
   "id": "c6560fcb-46ee-48c2-82c7-55c16ce2db54",
   "metadata": {},
   "outputs": [
    {
     "name": "stdout",
     "output_type": "stream",
     "text": [
      "Frecuencia:\n",
      "                     Frecuencia  Porcentaje (%)\n",
      "Frecuencia                                     \n",
      "Único                       139           43.44\n",
      "Recurrente esperado         115           35.94\n",
      "Recurrente anómalo           66           20.62\n"
     ]
    }
   ],
   "source": [
    "# Mostrar ejemplo\n",
    "print(\"Frecuencia:\")\n",
    "print(estadisticas_frecuencia)"
   ]
  },
  {
   "cell_type": "code",
   "execution_count": 20,
   "id": "fa9e40a9-f3ba-4cf1-8795-f70b5f149a53",
   "metadata": {},
   "outputs": [
    {
     "name": "stdout",
     "output_type": "stream",
     "text": [
      "Anomaly:\n",
      "         Frecuencia  Porcentaje (%)\n",
      "Anomaly                            \n",
      " 1              304            95.0\n",
      "-1               16             5.0\n"
     ]
    }
   ],
   "source": [
    "# Mostrar ejemplo\n",
    "print(\"Anomaly:\")\n",
    "print(estadisticas_anomalia)"
   ]
  },
  {
   "cell_type": "markdown",
   "id": "6b83abe5-31ba-4f97-b161-c9076eb2e8a7",
   "metadata": {},
   "source": [
    "# EV "
   ]
  },
  {
   "cell_type": "code",
   "execution_count": 21,
   "id": "372e3520-e373-4049-9c3c-cdb8798c3e38",
   "metadata": {},
   "outputs": [
    {
     "name": "stdout",
     "output_type": "stream",
     "text": [
      "{'Advertencia', 'Error', 'Informativo'}\n",
      "(320, 15)\n"
     ]
    },
    {
     "data": {
      "text/html": [
       "<div>\n",
       "<style scoped>\n",
       "    .dataframe tbody tr th:only-of-type {\n",
       "        vertical-align: middle;\n",
       "    }\n",
       "\n",
       "    .dataframe tbody tr th {\n",
       "        vertical-align: top;\n",
       "    }\n",
       "\n",
       "    .dataframe thead th {\n",
       "        text-align: right;\n",
       "    }\n",
       "</style>\n",
       "<table border=\"1\" class=\"dataframe\">\n",
       "  <thead>\n",
       "    <tr style=\"text-align: right;\">\n",
       "      <th></th>\n",
       "      <th>Content</th>\n",
       "      <th>Level</th>\n",
       "      <th>datetime</th>\n",
       "      <th>content_length</th>\n",
       "      <th>source</th>\n",
       "      <th>Clean_Content</th>\n",
       "      <th>Severidad</th>\n",
       "      <th>Origen</th>\n",
       "      <th>TipoEvento</th>\n",
       "      <th>Frecuencia</th>\n",
       "      <th>ContentLength</th>\n",
       "      <th>Hour</th>\n",
       "      <th>Anomaly</th>\n",
       "      <th>Prioridad</th>\n",
       "      <th>PrioridadEtiqueta</th>\n",
       "    </tr>\n",
       "  </thead>\n",
       "  <tbody>\n",
       "    <tr>\n",
       "      <th>0</th>\n",
       "      <td>mod_jk child workerEnv in error state 6</td>\n",
       "      <td>Error</td>\n",
       "      <td>2005-12-04 04:47:44.000</td>\n",
       "      <td>4</td>\n",
       "      <td>Apache</td>\n",
       "      <td>child workerenv error state</td>\n",
       "      <td>Crítico</td>\n",
       "      <td>Aplicación</td>\n",
       "      <td>Errores</td>\n",
       "      <td>Recurrente esperado</td>\n",
       "      <td>39</td>\n",
       "      <td>4.0</td>\n",
       "      <td>1</td>\n",
       "      <td>11</td>\n",
       "      <td>Error</td>\n",
       "    </tr>\n",
       "    <tr>\n",
       "      <th>1</th>\n",
       "      <td>mod_jk child workerEnv in error state 6</td>\n",
       "      <td>Error</td>\n",
       "      <td>2005-12-04 04:52:15.000</td>\n",
       "      <td>4</td>\n",
       "      <td>Apache</td>\n",
       "      <td>child workerenv error state</td>\n",
       "      <td>Crítico</td>\n",
       "      <td>Aplicación</td>\n",
       "      <td>Errores</td>\n",
       "      <td>Recurrente esperado</td>\n",
       "      <td>39</td>\n",
       "      <td>4.0</td>\n",
       "      <td>1</td>\n",
       "      <td>11</td>\n",
       "      <td>Error</td>\n",
       "    </tr>\n",
       "    <tr>\n",
       "      <th>2</th>\n",
       "      <td>mod_jk child workerEnv in error state 7</td>\n",
       "      <td>Error</td>\n",
       "      <td>2005-12-04 04:52:52.000</td>\n",
       "      <td>4</td>\n",
       "      <td>Apache</td>\n",
       "      <td>child workerenv error state</td>\n",
       "      <td>Crítico</td>\n",
       "      <td>Aplicación</td>\n",
       "      <td>Errores</td>\n",
       "      <td>Recurrente esperado</td>\n",
       "      <td>39</td>\n",
       "      <td>4.0</td>\n",
       "      <td>1</td>\n",
       "      <td>11</td>\n",
       "      <td>Error</td>\n",
       "    </tr>\n",
       "    <tr>\n",
       "      <th>3</th>\n",
       "      <td>mod_jk child workerEnv in error state 7</td>\n",
       "      <td>Error</td>\n",
       "      <td>2005-12-04 04:53:16.000</td>\n",
       "      <td>4</td>\n",
       "      <td>Apache</td>\n",
       "      <td>child workerenv error state</td>\n",
       "      <td>Crítico</td>\n",
       "      <td>Aplicación</td>\n",
       "      <td>Errores</td>\n",
       "      <td>Recurrente esperado</td>\n",
       "      <td>39</td>\n",
       "      <td>4.0</td>\n",
       "      <td>1</td>\n",
       "      <td>11</td>\n",
       "      <td>Error</td>\n",
       "    </tr>\n",
       "    <tr>\n",
       "      <th>4</th>\n",
       "      <td>jk2_init() Found child 6755 in scoreboard slot 6</td>\n",
       "      <td>Informativo</td>\n",
       "      <td>2005-12-04 04:53:29.000</td>\n",
       "      <td>3</td>\n",
       "      <td>Apache</td>\n",
       "      <td>child scoreboard slot</td>\n",
       "      <td>Depuración</td>\n",
       "      <td>Conectividad</td>\n",
       "      <td>Monitoreo</td>\n",
       "      <td>Único</td>\n",
       "      <td>48</td>\n",
       "      <td>4.0</td>\n",
       "      <td>1</td>\n",
       "      <td>7</td>\n",
       "      <td>Informativo</td>\n",
       "    </tr>\n",
       "  </tbody>\n",
       "</table>\n",
       "</div>"
      ],
      "text/plain": [
       "                                            Content        Level  \\\n",
       "0           mod_jk child workerEnv in error state 6        Error   \n",
       "1           mod_jk child workerEnv in error state 6        Error   \n",
       "2           mod_jk child workerEnv in error state 7        Error   \n",
       "3           mod_jk child workerEnv in error state 7        Error   \n",
       "4  jk2_init() Found child 6755 in scoreboard slot 6  Informativo   \n",
       "\n",
       "                  datetime  content_length  source  \\\n",
       "0  2005-12-04 04:47:44.000               4  Apache   \n",
       "1  2005-12-04 04:52:15.000               4  Apache   \n",
       "2  2005-12-04 04:52:52.000               4  Apache   \n",
       "3  2005-12-04 04:53:16.000               4  Apache   \n",
       "4  2005-12-04 04:53:29.000               3  Apache   \n",
       "\n",
       "                 Clean_Content   Severidad        Origen TipoEvento  \\\n",
       "0  child workerenv error state     Crítico    Aplicación    Errores   \n",
       "1  child workerenv error state     Crítico    Aplicación    Errores   \n",
       "2  child workerenv error state     Crítico    Aplicación    Errores   \n",
       "3  child workerenv error state     Crítico    Aplicación    Errores   \n",
       "4        child scoreboard slot  Depuración  Conectividad  Monitoreo   \n",
       "\n",
       "            Frecuencia  ContentLength  Hour  Anomaly  Prioridad  \\\n",
       "0  Recurrente esperado             39   4.0        1         11   \n",
       "1  Recurrente esperado             39   4.0        1         11   \n",
       "2  Recurrente esperado             39   4.0        1         11   \n",
       "3  Recurrente esperado             39   4.0        1         11   \n",
       "4                Único             48   4.0        1          7   \n",
       "\n",
       "  PrioridadEtiqueta  \n",
       "0             Error  \n",
       "1             Error  \n",
       "2             Error  \n",
       "3             Error  \n",
       "4       Informativo  "
      ]
     },
     "execution_count": 21,
     "metadata": {},
     "output_type": "execute_result"
    }
   ],
   "source": [
    "\n",
    "file=\"external_test_data\"# \"train_data\" # \n",
    "\n",
    "logs_df = pd.read_csv(f\"{dir_path}3_22{file}_heuristic_prediction.csv\", encoding='utf-8')\n",
    "\n",
    "print(set(logs_df[\"Level\"]))\n",
    "print(logs_df.shape)\n",
    "logs_df.head()"
   ]
  },
  {
   "cell_type": "code",
   "execution_count": 22,
   "id": "daec1a30-0c12-448c-b32a-63da1a7ebdba",
   "metadata": {},
   "outputs": [],
   "source": [
    "\n",
    "# Aplicar a las columnas deseadas\n",
    "estadisticas_severidad = obtener_estadisticas(logs_df, 'Severidad')\n",
    "estadisticas_origen = obtener_estadisticas(logs_df, 'Origen')\n",
    "estadisticas_tipo = obtener_estadisticas(logs_df, 'TipoEvento')\n",
    "estadisticas_frecuencia = obtener_estadisticas(logs_df, 'Frecuencia')\n",
    "estadisticas_anomalia = obtener_estadisticas(logs_df, 'Anomaly')"
   ]
  },
  {
   "cell_type": "code",
   "execution_count": 23,
   "id": "ed44c5d3-68f1-408e-a76a-b703680871b6",
   "metadata": {},
   "outputs": [
    {
     "name": "stdout",
     "output_type": "stream",
     "text": [
      "Severidad:\n",
      "              Frecuencia  Porcentaje (%)\n",
      "Severidad                               \n",
      "Depuración           104           32.50\n",
      "Crítico              100           31.25\n",
      "Advertencia           80           25.00\n",
      "No relevante          35           10.94\n",
      "Información            1            0.31\n"
     ]
    }
   ],
   "source": [
    "print(\"Severidad:\")\n",
    "print(estadisticas_severidad)"
   ]
  },
  {
   "cell_type": "code",
   "execution_count": 24,
   "id": "c588c33b-d367-4895-a90b-3d99d6be1608",
   "metadata": {},
   "outputs": [
    {
     "name": "stdout",
     "output_type": "stream",
     "text": [
      "Origen:\n",
      "                     Frecuencia  Porcentaje (%)\n",
      "Origen                                         \n",
      "Aplicación                  105           32.81\n",
      "Conectividad                103           32.19\n",
      "Sistema operativo            57           17.81\n",
      "Otro                         28            8.75\n",
      "Gestión de energía           19            5.94\n",
      "Sistema de archivos           8            2.50\n"
     ]
    }
   ],
   "source": [
    "print(\"Origen:\")\n",
    "print(estadisticas_origen)\n"
   ]
  },
  {
   "cell_type": "code",
   "execution_count": 25,
   "id": "62f0f733-10b5-46e5-9b18-e6ae95698d5f",
   "metadata": {},
   "outputs": [
    {
     "name": "stdout",
     "output_type": "stream",
     "text": [
      "Tipo:\n",
      "                    Frecuencia  Porcentaje (%)\n",
      "TipoEvento                                    \n",
      "Errores                    135           42.19\n",
      "Monitoreo                  103           32.19\n",
      "Eventos                     41           12.81\n",
      "Otro                        26            8.12\n",
      "Transicion                  13            4.06\n",
      "Parada de procesos           2            0.62\n"
     ]
    }
   ],
   "source": [
    "print(\"Tipo:\")\n",
    "print(estadisticas_tipo)"
   ]
  },
  {
   "cell_type": "code",
   "execution_count": 26,
   "id": "0bd7e548-4236-4049-b6e5-6875e55e0464",
   "metadata": {},
   "outputs": [
    {
     "name": "stdout",
     "output_type": "stream",
     "text": [
      "Frecuencia:\n",
      "                     Frecuencia  Porcentaje (%)\n",
      "Frecuencia                                     \n",
      "Único                       139           43.44\n",
      "Recurrente esperado         115           35.94\n",
      "Recurrente anómalo           66           20.62\n"
     ]
    }
   ],
   "source": [
    "print(\"Frecuencia:\")\n",
    "print(estadisticas_frecuencia)"
   ]
  },
  {
   "cell_type": "code",
   "execution_count": 27,
   "id": "fb10150c-89d2-41ed-a415-7e2c1e1eb6b5",
   "metadata": {},
   "outputs": [
    {
     "name": "stdout",
     "output_type": "stream",
     "text": [
      "Anomaly:\n",
      "         Frecuencia  Porcentaje (%)\n",
      "Anomaly                            \n",
      " 1              304            95.0\n",
      "-1               16             5.0\n"
     ]
    }
   ],
   "source": [
    "print(\"Anomaly:\")\n",
    "print(estadisticas_anomalia)"
   ]
  },
  {
   "cell_type": "code",
   "execution_count": null,
   "id": "6382b48a-82c4-4983-a7bc-1e5fa64d7fbd",
   "metadata": {},
   "outputs": [],
   "source": []
  },
  {
   "cell_type": "code",
   "execution_count": null,
   "id": "e0693b92-3457-4ef2-ab20-10e310e9a75d",
   "metadata": {},
   "outputs": [],
   "source": []
  },
  {
   "cell_type": "code",
   "execution_count": null,
   "id": "26fab147-75cf-493a-85e1-09ae710652c6",
   "metadata": {},
   "outputs": [],
   "source": []
  }
 ],
 "metadata": {
  "kernelspec": {
   "display_name": "Python 3 (ipykernel)",
   "language": "python",
   "name": "python3"
  },
  "language_info": {
   "codemirror_mode": {
    "name": "ipython",
    "version": 3
   },
   "file_extension": ".py",
   "mimetype": "text/x-python",
   "name": "python",
   "nbconvert_exporter": "python",
   "pygments_lexer": "ipython3",
   "version": "3.11.11"
  }
 },
 "nbformat": 4,
 "nbformat_minor": 5
}
