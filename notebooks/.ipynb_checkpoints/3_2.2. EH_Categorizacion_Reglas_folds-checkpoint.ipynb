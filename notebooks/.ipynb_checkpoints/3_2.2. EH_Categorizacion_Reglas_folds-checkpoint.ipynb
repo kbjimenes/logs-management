{
 "cells": [
  {
   "cell_type": "code",
   "execution_count": 71,
   "id": "1d3960b8-6c32-4784-8260-91c2e2a42321",
   "metadata": {},
   "outputs": [],
   "source": [
    "import seaborn as sns\n",
    "import matplotlib.pyplot as plt\n",
    "import pandas as pd\n"
   ]
  },
  {
   "cell_type": "code",
   "execution_count": 76,
   "id": "f9f85404-4809-4b89-8434-e3803cdee232",
   "metadata": {},
   "outputs": [
    {
     "ename": "FileNotFoundError",
     "evalue": "[Errno 2] No such file or directory: '../process/folds_process/3_21external_test_data_heuristic_tagging.csv'",
     "output_type": "error",
     "traceback": [
      "\u001b[31m---------------------------------------------------------------------------\u001b[39m",
      "\u001b[31mFileNotFoundError\u001b[39m                         Traceback (most recent call last)",
      "\u001b[36mCell\u001b[39m\u001b[36m \u001b[39m\u001b[32mIn[76]\u001b[39m\u001b[32m, line 8\u001b[39m\n\u001b[32m      3\u001b[39m fold_N=\u001b[38;5;28;01mNone\u001b[39;00m\n\u001b[32m      4\u001b[39m \u001b[38;5;66;03m#fold_N=9\u001b[39;00m\n\u001b[32m      5\u001b[39m \u001b[38;5;66;03m##if fold_N!=None:\u001b[39;00m\n\u001b[32m      6\u001b[39m \u001b[38;5;66;03m#    dir_path=\"../process/folds_process/\"\u001b[39;00m\n\u001b[32m      7\u001b[39m \u001b[38;5;66;03m# file= f\"train_fold_{fold_N}\" #f\"val_fold_{fold_N}\"\u001b[39;00m\n\u001b[32m----> \u001b[39m\u001b[32m8\u001b[39m logs_df = \u001b[43mpd\u001b[49m\u001b[43m.\u001b[49m\u001b[43mread_csv\u001b[49m\u001b[43m(\u001b[49m\u001b[33;43mf\u001b[39;49m\u001b[33;43m\"\u001b[39;49m\u001b[38;5;132;43;01m{\u001b[39;49;00m\u001b[43mdir_path\u001b[49m\u001b[38;5;132;43;01m}\u001b[39;49;00m\u001b[33;43m3_21\u001b[39;49m\u001b[38;5;132;43;01m{\u001b[39;49;00m\u001b[43mfile\u001b[49m\u001b[38;5;132;43;01m}\u001b[39;49;00m\u001b[33;43m_heuristic_tagging.csv\u001b[39;49m\u001b[33;43m\"\u001b[39;49m\u001b[43m,\u001b[49m\u001b[43m \u001b[49m\u001b[43mencoding\u001b[49m\u001b[43m=\u001b[49m\u001b[33;43m'\u001b[39;49m\u001b[33;43mutf-8\u001b[39;49m\u001b[33;43m'\u001b[39;49m\u001b[43m)\u001b[49m\n\u001b[32m      9\u001b[39m \u001b[38;5;28mprint\u001b[39m(\u001b[38;5;28mset\u001b[39m(logs_df[\u001b[33m\"\u001b[39m\u001b[33msource\u001b[39m\u001b[33m\"\u001b[39m]))\n\u001b[32m     10\u001b[39m \u001b[38;5;28mprint\u001b[39m(logs_df.shape)\n",
      "\u001b[36mFile \u001b[39m\u001b[32m~/anaconda3/envs/logsanalysis/lib/python3.11/site-packages/pandas/io/parsers/readers.py:1026\u001b[39m, in \u001b[36mread_csv\u001b[39m\u001b[34m(filepath_or_buffer, sep, delimiter, header, names, index_col, usecols, dtype, engine, converters, true_values, false_values, skipinitialspace, skiprows, skipfooter, nrows, na_values, keep_default_na, na_filter, verbose, skip_blank_lines, parse_dates, infer_datetime_format, keep_date_col, date_parser, date_format, dayfirst, cache_dates, iterator, chunksize, compression, thousands, decimal, lineterminator, quotechar, quoting, doublequote, escapechar, comment, encoding, encoding_errors, dialect, on_bad_lines, delim_whitespace, low_memory, memory_map, float_precision, storage_options, dtype_backend)\u001b[39m\n\u001b[32m   1013\u001b[39m kwds_defaults = _refine_defaults_read(\n\u001b[32m   1014\u001b[39m     dialect,\n\u001b[32m   1015\u001b[39m     delimiter,\n\u001b[32m   (...)\u001b[39m\u001b[32m   1022\u001b[39m     dtype_backend=dtype_backend,\n\u001b[32m   1023\u001b[39m )\n\u001b[32m   1024\u001b[39m kwds.update(kwds_defaults)\n\u001b[32m-> \u001b[39m\u001b[32m1026\u001b[39m \u001b[38;5;28;01mreturn\u001b[39;00m \u001b[43m_read\u001b[49m\u001b[43m(\u001b[49m\u001b[43mfilepath_or_buffer\u001b[49m\u001b[43m,\u001b[49m\u001b[43m \u001b[49m\u001b[43mkwds\u001b[49m\u001b[43m)\u001b[49m\n",
      "\u001b[36mFile \u001b[39m\u001b[32m~/anaconda3/envs/logsanalysis/lib/python3.11/site-packages/pandas/io/parsers/readers.py:620\u001b[39m, in \u001b[36m_read\u001b[39m\u001b[34m(filepath_or_buffer, kwds)\u001b[39m\n\u001b[32m    617\u001b[39m _validate_names(kwds.get(\u001b[33m\"\u001b[39m\u001b[33mnames\u001b[39m\u001b[33m\"\u001b[39m, \u001b[38;5;28;01mNone\u001b[39;00m))\n\u001b[32m    619\u001b[39m \u001b[38;5;66;03m# Create the parser.\u001b[39;00m\n\u001b[32m--> \u001b[39m\u001b[32m620\u001b[39m parser = \u001b[43mTextFileReader\u001b[49m\u001b[43m(\u001b[49m\u001b[43mfilepath_or_buffer\u001b[49m\u001b[43m,\u001b[49m\u001b[43m \u001b[49m\u001b[43m*\u001b[49m\u001b[43m*\u001b[49m\u001b[43mkwds\u001b[49m\u001b[43m)\u001b[49m\n\u001b[32m    622\u001b[39m \u001b[38;5;28;01mif\u001b[39;00m chunksize \u001b[38;5;129;01mor\u001b[39;00m iterator:\n\u001b[32m    623\u001b[39m     \u001b[38;5;28;01mreturn\u001b[39;00m parser\n",
      "\u001b[36mFile \u001b[39m\u001b[32m~/anaconda3/envs/logsanalysis/lib/python3.11/site-packages/pandas/io/parsers/readers.py:1620\u001b[39m, in \u001b[36mTextFileReader.__init__\u001b[39m\u001b[34m(self, f, engine, **kwds)\u001b[39m\n\u001b[32m   1617\u001b[39m     \u001b[38;5;28mself\u001b[39m.options[\u001b[33m\"\u001b[39m\u001b[33mhas_index_names\u001b[39m\u001b[33m\"\u001b[39m] = kwds[\u001b[33m\"\u001b[39m\u001b[33mhas_index_names\u001b[39m\u001b[33m\"\u001b[39m]\n\u001b[32m   1619\u001b[39m \u001b[38;5;28mself\u001b[39m.handles: IOHandles | \u001b[38;5;28;01mNone\u001b[39;00m = \u001b[38;5;28;01mNone\u001b[39;00m\n\u001b[32m-> \u001b[39m\u001b[32m1620\u001b[39m \u001b[38;5;28mself\u001b[39m._engine = \u001b[38;5;28;43mself\u001b[39;49m\u001b[43m.\u001b[49m\u001b[43m_make_engine\u001b[49m\u001b[43m(\u001b[49m\u001b[43mf\u001b[49m\u001b[43m,\u001b[49m\u001b[43m \u001b[49m\u001b[38;5;28;43mself\u001b[39;49m\u001b[43m.\u001b[49m\u001b[43mengine\u001b[49m\u001b[43m)\u001b[49m\n",
      "\u001b[36mFile \u001b[39m\u001b[32m~/anaconda3/envs/logsanalysis/lib/python3.11/site-packages/pandas/io/parsers/readers.py:1880\u001b[39m, in \u001b[36mTextFileReader._make_engine\u001b[39m\u001b[34m(self, f, engine)\u001b[39m\n\u001b[32m   1878\u001b[39m     \u001b[38;5;28;01mif\u001b[39;00m \u001b[33m\"\u001b[39m\u001b[33mb\u001b[39m\u001b[33m\"\u001b[39m \u001b[38;5;129;01mnot\u001b[39;00m \u001b[38;5;129;01min\u001b[39;00m mode:\n\u001b[32m   1879\u001b[39m         mode += \u001b[33m\"\u001b[39m\u001b[33mb\u001b[39m\u001b[33m\"\u001b[39m\n\u001b[32m-> \u001b[39m\u001b[32m1880\u001b[39m \u001b[38;5;28mself\u001b[39m.handles = \u001b[43mget_handle\u001b[49m\u001b[43m(\u001b[49m\n\u001b[32m   1881\u001b[39m \u001b[43m    \u001b[49m\u001b[43mf\u001b[49m\u001b[43m,\u001b[49m\n\u001b[32m   1882\u001b[39m \u001b[43m    \u001b[49m\u001b[43mmode\u001b[49m\u001b[43m,\u001b[49m\n\u001b[32m   1883\u001b[39m \u001b[43m    \u001b[49m\u001b[43mencoding\u001b[49m\u001b[43m=\u001b[49m\u001b[38;5;28;43mself\u001b[39;49m\u001b[43m.\u001b[49m\u001b[43moptions\u001b[49m\u001b[43m.\u001b[49m\u001b[43mget\u001b[49m\u001b[43m(\u001b[49m\u001b[33;43m\"\u001b[39;49m\u001b[33;43mencoding\u001b[39;49m\u001b[33;43m\"\u001b[39;49m\u001b[43m,\u001b[49m\u001b[43m \u001b[49m\u001b[38;5;28;43;01mNone\u001b[39;49;00m\u001b[43m)\u001b[49m\u001b[43m,\u001b[49m\n\u001b[32m   1884\u001b[39m \u001b[43m    \u001b[49m\u001b[43mcompression\u001b[49m\u001b[43m=\u001b[49m\u001b[38;5;28;43mself\u001b[39;49m\u001b[43m.\u001b[49m\u001b[43moptions\u001b[49m\u001b[43m.\u001b[49m\u001b[43mget\u001b[49m\u001b[43m(\u001b[49m\u001b[33;43m\"\u001b[39;49m\u001b[33;43mcompression\u001b[39;49m\u001b[33;43m\"\u001b[39;49m\u001b[43m,\u001b[49m\u001b[43m \u001b[49m\u001b[38;5;28;43;01mNone\u001b[39;49;00m\u001b[43m)\u001b[49m\u001b[43m,\u001b[49m\n\u001b[32m   1885\u001b[39m \u001b[43m    \u001b[49m\u001b[43mmemory_map\u001b[49m\u001b[43m=\u001b[49m\u001b[38;5;28;43mself\u001b[39;49m\u001b[43m.\u001b[49m\u001b[43moptions\u001b[49m\u001b[43m.\u001b[49m\u001b[43mget\u001b[49m\u001b[43m(\u001b[49m\u001b[33;43m\"\u001b[39;49m\u001b[33;43mmemory_map\u001b[39;49m\u001b[33;43m\"\u001b[39;49m\u001b[43m,\u001b[49m\u001b[43m \u001b[49m\u001b[38;5;28;43;01mFalse\u001b[39;49;00m\u001b[43m)\u001b[49m\u001b[43m,\u001b[49m\n\u001b[32m   1886\u001b[39m \u001b[43m    \u001b[49m\u001b[43mis_text\u001b[49m\u001b[43m=\u001b[49m\u001b[43mis_text\u001b[49m\u001b[43m,\u001b[49m\n\u001b[32m   1887\u001b[39m \u001b[43m    \u001b[49m\u001b[43merrors\u001b[49m\u001b[43m=\u001b[49m\u001b[38;5;28;43mself\u001b[39;49m\u001b[43m.\u001b[49m\u001b[43moptions\u001b[49m\u001b[43m.\u001b[49m\u001b[43mget\u001b[49m\u001b[43m(\u001b[49m\u001b[33;43m\"\u001b[39;49m\u001b[33;43mencoding_errors\u001b[39;49m\u001b[33;43m\"\u001b[39;49m\u001b[43m,\u001b[49m\u001b[43m \u001b[49m\u001b[33;43m\"\u001b[39;49m\u001b[33;43mstrict\u001b[39;49m\u001b[33;43m\"\u001b[39;49m\u001b[43m)\u001b[49m\u001b[43m,\u001b[49m\n\u001b[32m   1888\u001b[39m \u001b[43m    \u001b[49m\u001b[43mstorage_options\u001b[49m\u001b[43m=\u001b[49m\u001b[38;5;28;43mself\u001b[39;49m\u001b[43m.\u001b[49m\u001b[43moptions\u001b[49m\u001b[43m.\u001b[49m\u001b[43mget\u001b[49m\u001b[43m(\u001b[49m\u001b[33;43m\"\u001b[39;49m\u001b[33;43mstorage_options\u001b[39;49m\u001b[33;43m\"\u001b[39;49m\u001b[43m,\u001b[49m\u001b[43m \u001b[49m\u001b[38;5;28;43;01mNone\u001b[39;49;00m\u001b[43m)\u001b[49m\u001b[43m,\u001b[49m\n\u001b[32m   1889\u001b[39m \u001b[43m\u001b[49m\u001b[43m)\u001b[49m\n\u001b[32m   1890\u001b[39m \u001b[38;5;28;01massert\u001b[39;00m \u001b[38;5;28mself\u001b[39m.handles \u001b[38;5;129;01mis\u001b[39;00m \u001b[38;5;129;01mnot\u001b[39;00m \u001b[38;5;28;01mNone\u001b[39;00m\n\u001b[32m   1891\u001b[39m f = \u001b[38;5;28mself\u001b[39m.handles.handle\n",
      "\u001b[36mFile \u001b[39m\u001b[32m~/anaconda3/envs/logsanalysis/lib/python3.11/site-packages/pandas/io/common.py:882\u001b[39m, in \u001b[36mget_handle\u001b[39m\u001b[34m(path_or_buf, mode, encoding, compression, memory_map, is_text, errors, storage_options)\u001b[39m\n\u001b[32m    873\u001b[39m         handle = \u001b[38;5;28mopen\u001b[39m(\n\u001b[32m    874\u001b[39m             handle,\n\u001b[32m    875\u001b[39m             ioargs.mode,\n\u001b[32m   (...)\u001b[39m\u001b[32m    878\u001b[39m             newline=\u001b[33m\"\u001b[39m\u001b[33m\"\u001b[39m,\n\u001b[32m    879\u001b[39m         )\n\u001b[32m    880\u001b[39m     \u001b[38;5;28;01melse\u001b[39;00m:\n\u001b[32m    881\u001b[39m         \u001b[38;5;66;03m# Binary mode\u001b[39;00m\n\u001b[32m--> \u001b[39m\u001b[32m882\u001b[39m         handle = \u001b[38;5;28mopen\u001b[39m(handle, ioargs.mode)\n\u001b[32m    883\u001b[39m     handles.append(handle)\n\u001b[32m    885\u001b[39m \u001b[38;5;66;03m# Convert BytesIO or file objects passed with an encoding\u001b[39;00m\n",
      "\u001b[31mFileNotFoundError\u001b[39m: [Errno 2] No such file or directory: '../process/folds_process/3_21external_test_data_heuristic_tagging.csv'"
     ]
    }
   ],
   "source": [
    "#dir_path = \"../process/\"\n",
    "#file= \"external_test_data\"# \"train_data\" #\n",
    "fold_N=9\n",
    "if fold_N!=None:\n",
    "    dir_path=\"../process/folds_process/\"\n",
    "file= f\"train_fold_{fold_N}\" #f\"val_fold_{fold_N}\"\n",
    "logs_df = pd.read_csv(f\"{dir_path}3_21{file}_heuristic_tagging.csv\", encoding='utf-8')\n",
    "print(set(logs_df[\"source\"]))\n",
    "print(logs_df.shape)\n",
    "logs_df.head()"
   ]
  },
  {
   "cell_type": "code",
   "execution_count": null,
   "id": "8c11bc4a-77ea-4a3c-b6cb-277bbb31fc93",
   "metadata": {},
   "outputs": [],
   "source": [
    "# Función para calcular la prioridad de un evento\n",
    "def calcular_prioridad(row):\n",
    "    prioridad = 0\n",
    "\n",
    "    # Ponderación por Severidad\n",
    "    if row['Severidad'] == 'Crítico':\n",
    "        prioridad += 3  # Alta prioridad\n",
    "    elif row['Severidad'] == 'Advertencia':\n",
    "        prioridad += 2  # Prioridad media\n",
    "    else:\n",
    "        prioridad += 1  # Baja prioridad\n",
    "\n",
    "    # Ponderación por Origen\n",
    "    if row['Origen'] in ['Sistema operativo', 'Aplicación', ]:\n",
    "        prioridad += 3  # Alta prioridad para estos orígenes\n",
    "    elif row['Origen'] in ['Gestión de energía', 'Conectividad']:\n",
    "        prioridad += 2  # Prioridad media\n",
    "    else:\n",
    "        prioridad += 1 \n",
    "\n",
    "    # Ponderación por Tipo de Evento\n",
    "    if row['TipoEvento'] in ['Errores', 'Parada de procesos']:\n",
    "        prioridad += 3  # Alta prioridad\n",
    "    elif row['TipoEvento'] in  ['Eventos']:\n",
    "        prioridad += 2  # Prioridad media\n",
    "    else:\n",
    "        prioridad += 1 \n",
    "        \n",
    "    # Ponderación por Frecuencia\n",
    "    if row['Frecuencia'] in ['Recurrente anómalo']:\n",
    "        prioridad += 3  # Alta prioridad\n",
    "    elif row['Frecuencia'] in ['Único']:\n",
    "        prioridad += 2  # Prioridad media\n",
    "    else:\n",
    "        prioridad += 1  # Baja prioridad\n",
    "\n",
    "    # Ponderación por Anomaly\n",
    "    if row['Anomaly'] == -1:\n",
    "        prioridad += 2  # Alta prioridad\n",
    "    else:\n",
    "        prioridad += 1  # Baja prioridad\n",
    "        \n",
    "    return prioridad\n",
    "\n",
    "# Aplicar la función para calcular la prioridad\n",
    "logs_df['Prioridad'] = logs_df.apply(calcular_prioridad, axis=1)\n"
   ]
  },
  {
   "cell_type": "code",
   "execution_count": null,
   "id": "862f2301-6244-4064-833c-0019db51977f",
   "metadata": {},
   "outputs": [],
   "source": [
    "# Asignar etiquetas de prioridad en función del puntaje\n",
    "def asignar_prioridad_etiqueta(row):\n",
    "    if row['Prioridad'] >= 11:\n",
    "        return 'Error'\n",
    "    elif row['Prioridad'] >= 9:\n",
    "        return 'Advertencia'\n",
    "    else:\n",
    "        return 'Informativo'\n",
    "\n",
    "\n",
    "logs_df['PrioridadEtiqueta'] = logs_df.apply(asignar_prioridad_etiqueta, axis=1)\n",
    "logs_df.head()"
   ]
  },
  {
   "cell_type": "code",
   "execution_count": 73,
   "id": "7b7b75c9-2934-4af6-a98c-ac4bbe3e8918",
   "metadata": {},
   "outputs": [],
   "source": [
    "logs_df.to_csv(f\"{dir_path}3_22{file}_heuristic_prediction.csv\", index=False, encoding='utf-8')"
   ]
  },
  {
   "cell_type": "code",
   "execution_count": 74,
   "id": "a29b1469-9712-4c44-bfce-a7a0cc7c75dd",
   "metadata": {},
   "outputs": [],
   "source": [
    "import pandas as pd\n",
    "from sklearn.metrics import classification_report, accuracy_score, confusion_matrix"
   ]
  },
  {
   "cell_type": "code",
   "execution_count": 75,
   "id": "540f6b67-d523-41fc-a0fc-4cdf52cb86d6",
   "metadata": {},
   "outputs": [
    {
     "name": "stdout",
     "output_type": "stream",
     "text": [
      "{'train_fold_None'}\n",
      "Accuracy: 0.67\n",
      "\n",
      "Classification Report:\n",
      "              precision    recall  f1-score      support\n",
      "Advertencia    0.781197  0.635605  0.700920   719.000000\n",
      "Error          0.800000  0.467316  0.589991   719.000000\n",
      "Informativo    0.572917  0.917942  0.705505   719.000000\n",
      "accuracy       0.673621  0.673621  0.673621     0.673621\n",
      "macro avg      0.718038  0.673621  0.665472  2157.000000\n",
      "weighted avg   0.718038  0.673621  0.665472  2157.000000\n",
      "\n",
      "Confusion Matrix:\n",
      "             Advertencia  Error  Informativo\n",
      "Advertencia          457     84          178\n",
      "Error                 69    336          314\n",
      "Informativo           59      0          660\n"
     ]
    }
   ],
   "source": [
    "print({file})\n",
    "# Asumiendo que logs_df ya está definido y contiene las columnas 'Level' y 'PrioridadEtiqueta'\n",
    "# Asegúrate de que ambos sean de tipo categórico (opcional pero recomendado)\n",
    "logs_df['Level'] = logs_df['Level'].astype('category')\n",
    "logs_df['PrioridadEtiqueta'] = logs_df['PrioridadEtiqueta'].astype('category')\n",
    "\n",
    "# Extraer columnas\n",
    "y_true = logs_df['Level']\n",
    "y_pred = logs_df['PrioridadEtiqueta']\n",
    "\n",
    "# Calcular accuracy\n",
    "accuracy = accuracy_score(y_true, y_pred)\n",
    "\n",
    "# Obtener etiquetas únicas combinadas para garantizar alineación\n",
    "all_labels = sorted(set(y_true.unique()) | set(y_pred.unique()))\n",
    "\n",
    "# Matriz de confusión\n",
    "conf_matrix = confusion_matrix(y_true, y_pred, labels=all_labels)\n",
    "\n",
    "# Reporte de clasificación\n",
    "report = classification_report(y_true, y_pred, labels=all_labels, output_dict=True)\n",
    "\n",
    "# Convertir a DataFrame\n",
    "report_df = pd.DataFrame(report).transpose()\n",
    "\n",
    "# Mostrar resultados\n",
    "print(f\"Accuracy: {accuracy:.2f}\\n\")\n",
    "print(\"Classification Report:\")\n",
    "print(report_df)\n",
    "print(\"\\nConfusion Matrix:\")\n",
    "print(pd.DataFrame(conf_matrix, index=all_labels, columns=all_labels))"
   ]
  },
  {
   "cell_type": "code",
   "execution_count": null,
   "id": "7df3f805-2182-4d26-aa37-e31ffdf6ea33",
   "metadata": {},
   "outputs": [],
   "source": []
  },
  {
   "cell_type": "code",
   "execution_count": null,
   "id": "bead2b24-b8ee-4ccc-ac8f-c489720b8a73",
   "metadata": {},
   "outputs": [],
   "source": []
  },
  {
   "cell_type": "code",
   "execution_count": null,
   "id": "f728d860-5870-44bf-8f6c-890cc124ba2a",
   "metadata": {},
   "outputs": [],
   "source": []
  },
  {
   "cell_type": "code",
   "execution_count": null,
   "id": "ea2ed8fe-fa65-4032-9b6a-909438515018",
   "metadata": {},
   "outputs": [],
   "source": []
  },
  {
   "cell_type": "code",
   "execution_count": null,
   "id": "96ff164b-ebdd-46fd-bd79-6a69baf616a5",
   "metadata": {},
   "outputs": [],
   "source": []
  },
  {
   "cell_type": "code",
   "execution_count": null,
   "id": "cff45a17-195b-4ec5-a958-6154c368c861",
   "metadata": {},
   "outputs": [],
   "source": []
  },
  {
   "cell_type": "code",
   "execution_count": null,
   "id": "41cf51e6-5d59-4551-8d98-cfe5d3cb978e",
   "metadata": {},
   "outputs": [],
   "source": []
  }
 ],
 "metadata": {
  "kernelspec": {
   "display_name": "Python 3 (ipykernel)",
   "language": "python",
   "name": "python3"
  },
  "language_info": {
   "codemirror_mode": {
    "name": "ipython",
    "version": 3
   },
   "file_extension": ".py",
   "mimetype": "text/x-python",
   "name": "python",
   "nbconvert_exporter": "python",
   "pygments_lexer": "ipython3",
   "version": "3.11.11"
  }
 },
 "nbformat": 4,
 "nbformat_minor": 5
}
