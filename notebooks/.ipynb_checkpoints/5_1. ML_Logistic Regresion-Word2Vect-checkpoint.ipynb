{
 "cells": [
  {
   "cell_type": "code",
   "execution_count": 8,
   "id": "4694ea9b-85e3-4bae-b0ff-f2c02dda3f67",
   "metadata": {},
   "outputs": [
    {
     "name": "stdout",
     "output_type": "stream",
     "text": [
      "The history saving thread hit an unexpected error (OperationalError('attempt to write a readonly database')).History will not be written to the database.\n"
     ]
    }
   ],
   "source": [
    "import pandas as pd\n",
    "import re\n",
    "from dash import dcc, html\n",
    "import plotly.express as px  # Para visualización\n",
    "from datetime import datetime, timedelta\n",
    "from sklearn.linear_model import LogisticRegression\n",
    "from sklearn.model_selection import cross_val_score\n",
    "from sklearn.preprocessing import LabelEncoder\n",
    "import pandas as pd\n",
    "from sklearn.feature_extraction.text import TfidfVectorizer\n",
    "from sklearn.model_selection import cross_validate\n",
    "import joblib\n",
    "from sklearn.metrics import confusion_matrix, ConfusionMatrixDisplay\n",
    "import matplotlib.pyplot as plt\n",
    "import warnings\n",
    "warnings.filterwarnings('ignore')\n",
    "import nltk\n",
    "from nltk.tokenize import word_tokenize\n",
    "from nltk.corpus import stopwords\n",
    "from sklearn.metrics import classification_report, accuracy_score, precision_score, recall_score, f1_score\n",
    "import pandas as pd\n",
    "import os\n",
    "import numpy as np\n",
    "import matplotlib.pyplot as plt\n"
   ]
  },
  {
   "cell_type": "markdown",
   "id": "346d0b71-17d4-4a49-8f77-977f5a632116",
   "metadata": {},
   "source": [
    "## Cargar datos"
   ]
  },
  {
   "cell_type": "code",
   "execution_count": 9,
   "id": "6a4e5487-3cbc-4d04-a24f-2aaa96e3aacf",
   "metadata": {},
   "outputs": [
    {
     "name": "stdout",
     "output_type": "stream",
     "text": [
      "{'Error', 'Advertencia', 'Informativo'}\n",
      "(5560, 6)\n",
      "(5550, 6)\n"
     ]
    },
    {
     "data": {
      "text/html": [
       "<div>\n",
       "<style scoped>\n",
       "    .dataframe tbody tr th:only-of-type {\n",
       "        vertical-align: middle;\n",
       "    }\n",
       "\n",
       "    .dataframe tbody tr th {\n",
       "        vertical-align: top;\n",
       "    }\n",
       "\n",
       "    .dataframe thead th {\n",
       "        text-align: right;\n",
       "    }\n",
       "</style>\n",
       "<table border=\"1\" class=\"dataframe\">\n",
       "  <thead>\n",
       "    <tr style=\"text-align: right;\">\n",
       "      <th></th>\n",
       "      <th>Content</th>\n",
       "      <th>Level</th>\n",
       "      <th>datetime</th>\n",
       "      <th>content_length</th>\n",
       "      <th>source</th>\n",
       "      <th>Clean_Content</th>\n",
       "    </tr>\n",
       "  </thead>\n",
       "  <tbody>\n",
       "    <tr>\n",
       "      <th>0</th>\n",
       "      <td>HBM brightnessOut =38</td>\n",
       "      <td>Informativo</td>\n",
       "      <td>2024-03-17 16:15:58.282</td>\n",
       "      <td>2</td>\n",
       "      <td>Android</td>\n",
       "      <td>hbm brightnessout</td>\n",
       "    </tr>\n",
       "    <tr>\n",
       "      <th>1</th>\n",
       "      <td>setLightsOn(true)</td>\n",
       "      <td>Informativo</td>\n",
       "      <td>2024-03-17 16:16:00.505</td>\n",
       "      <td>2</td>\n",
       "      <td>Android</td>\n",
       "      <td>setlightson true</td>\n",
       "    </tr>\n",
       "    <tr>\n",
       "      <th>2</th>\n",
       "      <td>updateClipping isOverlap:false, getTopPadding=...</td>\n",
       "      <td>Informativo</td>\n",
       "      <td>2024-03-17 16:13:47.409</td>\n",
       "      <td>5</td>\n",
       "      <td>Android</td>\n",
       "      <td>updateclipping isoverlap false gettoppadding t...</td>\n",
       "    </tr>\n",
       "    <tr>\n",
       "      <th>3</th>\n",
       "      <td>cancelAutohide</td>\n",
       "      <td>Informativo</td>\n",
       "      <td>2024-03-17 16:13:45.627</td>\n",
       "      <td>1</td>\n",
       "      <td>Android</td>\n",
       "      <td>cancelautohide</td>\n",
       "    </tr>\n",
       "    <tr>\n",
       "      <th>4</th>\n",
       "      <td>userActivityNoUpdateLocked: eventTime=26188530...</td>\n",
       "      <td>Informativo</td>\n",
       "      <td>2024-03-17 16:14:20.666</td>\n",
       "      <td>5</td>\n",
       "      <td>Android</td>\n",
       "      <td>useractivitynoupdatelocked eventtime event fla...</td>\n",
       "    </tr>\n",
       "  </tbody>\n",
       "</table>\n",
       "</div>"
      ],
      "text/plain": [
       "                                             Content        Level  \\\n",
       "0                              HBM brightnessOut =38  Informativo   \n",
       "1                                  setLightsOn(true)  Informativo   \n",
       "2  updateClipping isOverlap:false, getTopPadding=...  Informativo   \n",
       "3                                     cancelAutohide  Informativo   \n",
       "4  userActivityNoUpdateLocked: eventTime=26188530...  Informativo   \n",
       "\n",
       "                  datetime  content_length   source  \\\n",
       "0  2024-03-17 16:15:58.282               2  Android   \n",
       "1  2024-03-17 16:16:00.505               2  Android   \n",
       "2  2024-03-17 16:13:47.409               5  Android   \n",
       "3  2024-03-17 16:13:45.627               1  Android   \n",
       "4  2024-03-17 16:14:20.666               5  Android   \n",
       "\n",
       "                                       Clean_Content  \n",
       "0                                  hbm brightnessout  \n",
       "1                                   setlightson true  \n",
       "2  updateclipping isoverlap false gettoppadding t...  \n",
       "3                                     cancelautohide  \n",
       "4  useractivitynoupdatelocked eventtime event fla...  "
      ]
     },
     "execution_count": 9,
     "metadata": {},
     "output_type": "execute_result"
    }
   ],
   "source": [
    "dir_path = \"../process/\"\n",
    "#logs_df = pd.read_csv(f\"{dir_path}external_test_data.csv\", encoding='utf-8')\n",
    "train_df = pd.read_csv(f\"{dir_path}train_data.csv\", encoding='utf-8')\n",
    "print(set(train_df[\"Level\"]))\n",
    "print(train_df.shape)\n",
    "train_df=train_df.dropna(subset=['Clean_Content'])\n",
    "\n",
    "print(train_df.shape)\n",
    "train_df.head()"
   ]
  },
  {
   "cell_type": "code",
   "execution_count": 10,
   "id": "209f9f78-6011-44ef-b0b3-1662e81d5a7e",
   "metadata": {},
   "outputs": [
    {
     "name": "stdout",
     "output_type": "stream",
     "text": [
      "{'Error', 'Advertencia', 'Informativo'}\n",
      "(1855, 6)\n",
      "(1852, 6)\n"
     ]
    },
    {
     "data": {
      "text/html": [
       "<div>\n",
       "<style scoped>\n",
       "    .dataframe tbody tr th:only-of-type {\n",
       "        vertical-align: middle;\n",
       "    }\n",
       "\n",
       "    .dataframe tbody tr th {\n",
       "        vertical-align: top;\n",
       "    }\n",
       "\n",
       "    .dataframe thead th {\n",
       "        text-align: right;\n",
       "    }\n",
       "</style>\n",
       "<table border=\"1\" class=\"dataframe\">\n",
       "  <thead>\n",
       "    <tr style=\"text-align: right;\">\n",
       "      <th></th>\n",
       "      <th>Content</th>\n",
       "      <th>Level</th>\n",
       "      <th>datetime</th>\n",
       "      <th>content_length</th>\n",
       "      <th>source</th>\n",
       "      <th>Clean_Content</th>\n",
       "    </tr>\n",
       "  </thead>\n",
       "  <tbody>\n",
       "    <tr>\n",
       "      <th>0</th>\n",
       "      <td>setSystemUiVisibility vis=0 mask=1 oldVal=4000...</td>\n",
       "      <td>Informativo</td>\n",
       "      <td>2024-03-17 16:15:51.792</td>\n",
       "      <td>12</td>\n",
       "      <td>Android</td>\n",
       "      <td>setsystemuivisibility vis mask oldval newval d...</td>\n",
       "    </tr>\n",
       "    <tr>\n",
       "      <th>1</th>\n",
       "      <td>cleanUpApplicationRecordLocked, pid: 12236, re...</td>\n",
       "      <td>Informativo</td>\n",
       "      <td>2024-03-17 16:15:19.993</td>\n",
       "      <td>4</td>\n",
       "      <td>Android</td>\n",
       "      <td>cleanupapplicationrecordlocked pid restart false</td>\n",
       "    </tr>\n",
       "    <tr>\n",
       "      <th>2</th>\n",
       "      <td>state.clipTopAmount:103, i:0</td>\n",
       "      <td>Informativo</td>\n",
       "      <td>2024-03-17 16:13:46.306</td>\n",
       "      <td>2</td>\n",
       "      <td>Android</td>\n",
       "      <td>state cliptopamount</td>\n",
       "    </tr>\n",
       "    <tr>\n",
       "      <th>3</th>\n",
       "      <td>ready=true,policy=3,wakefulness=1,wksummary=0x...</td>\n",
       "      <td>Informativo</td>\n",
       "      <td>2024-03-17 16:15:07.847</td>\n",
       "      <td>17</td>\n",
       "      <td>Android</td>\n",
       "      <td>ready true policy wakefulness wksummary uasumm...</td>\n",
       "    </tr>\n",
       "    <tr>\n",
       "      <th>4</th>\n",
       "      <td>ready=true,policy=3,wakefulness=1,wksummary=0x...</td>\n",
       "      <td>Informativo</td>\n",
       "      <td>2024-03-17 16:15:06.000</td>\n",
       "      <td>17</td>\n",
       "      <td>Android</td>\n",
       "      <td>ready true policy wakefulness wksummary uasumm...</td>\n",
       "    </tr>\n",
       "  </tbody>\n",
       "</table>\n",
       "</div>"
      ],
      "text/plain": [
       "                                             Content        Level  \\\n",
       "0  setSystemUiVisibility vis=0 mask=1 oldVal=4000...  Informativo   \n",
       "1  cleanUpApplicationRecordLocked, pid: 12236, re...  Informativo   \n",
       "2                       state.clipTopAmount:103, i:0  Informativo   \n",
       "3  ready=true,policy=3,wakefulness=1,wksummary=0x...  Informativo   \n",
       "4  ready=true,policy=3,wakefulness=1,wksummary=0x...  Informativo   \n",
       "\n",
       "                  datetime  content_length   source  \\\n",
       "0  2024-03-17 16:15:51.792              12  Android   \n",
       "1  2024-03-17 16:15:19.993               4  Android   \n",
       "2  2024-03-17 16:13:46.306               2  Android   \n",
       "3  2024-03-17 16:15:07.847              17  Android   \n",
       "4  2024-03-17 16:15:06.000              17  Android   \n",
       "\n",
       "                                       Clean_Content  \n",
       "0  setsystemuivisibility vis mask oldval newval d...  \n",
       "1   cleanupapplicationrecordlocked pid restart false  \n",
       "2                                state cliptopamount  \n",
       "3  ready true policy wakefulness wksummary uasumm...  \n",
       "4  ready true policy wakefulness wksummary uasumm...  "
      ]
     },
     "execution_count": 10,
     "metadata": {},
     "output_type": "execute_result"
    }
   ],
   "source": [
    "test_df = pd.read_csv(f\"{dir_path}external_test_data.csv\", encoding='utf-8')\n",
    "\n",
    "print(set(test_df[\"Level\"]))\n",
    "print(test_df.shape)\n",
    "test_df=test_df.dropna(subset=['Clean_Content'])\n",
    "\n",
    "print(test_df.shape)\n",
    "test_df.head()"
   ]
  },
  {
   "cell_type": "markdown",
   "id": "406114b0-e0a7-4084-8a49-cf322032915c",
   "metadata": {},
   "source": [
    "## Preprocesamiento"
   ]
  },
  {
   "cell_type": "code",
   "execution_count": 11,
   "id": "5044f980-138a-46a9-ab37-3da0818c52fb",
   "metadata": {},
   "outputs": [],
   "source": [
    "# Descargar recursos necesarios\n",
    "# nltk.download('punkt_tab')\n",
    "# nltk.download('stopwords')"
   ]
  },
  {
   "cell_type": "code",
   "execution_count": 12,
   "id": "10e0a86a-83aa-4b8e-8cfb-484e5ab7fd73",
   "metadata": {},
   "outputs": [],
   "source": [
    "stop_words = set(stopwords.words('english'))\n",
    "def preprocess(text):\n",
    "    text = text.lower()\n",
    "    text = re.sub(r\"[^\\w\\s]\", \"\", text)  # eliminar signos de puntuación\n",
    "    tokens = word_tokenize(text)\n",
    "    tokens = [t for t in tokens if t not in stop_words and len(t) > 2]\n",
    "    return tokens\n",
    "\n",
    "# Aplicar a columna Clean_Content\n",
    "train_df['tokens'] = train_df['Clean_Content'].astype(str).apply(preprocess)\n",
    "train_df.head(2)"
   ]
  },
  {
   "cell_type": "markdown",
   "id": "09a369bb-6634-4193-bd88-0425ec275ed1",
   "metadata": {},
   "source": [
    "## Entrenar el modelo Word2Vec"
   ]
  },
  {
   "cell_type": "code",
   "execution_count": 13,
   "id": "7ef2d305-6134-45ea-8568-b905e9e5f73f",
   "metadata": {},
   "outputs": [],
   "source": [
    "from gensim.models import Word2Vec\n",
    "\n",
    "# Asegurar que haya tokens válidos\n",
    "sentences = [tokens for tokens in train_df['tokens'] if tokens]\n",
    "\n",
    "model_word2vec = Word2Vec(\n",
    "    sentences=sentences,\n",
    "    vector_size=100,\n",
    "    window=5,\n",
    "    min_count=2,\n",
    "    workers=4\n",
    ")"
   ]
  },
  {
   "cell_type": "markdown",
   "id": "893ec5f2-d433-4ab9-8a71-b2f9a2cf0eac",
   "metadata": {},
   "source": [
    "Usar el modelo Word2Vec"
   ]
  },
  {
   "cell_type": "code",
   "execution_count": 14,
   "id": "f708c071-33f7-426f-b62d-9cfaa9b2ac5c",
   "metadata": {},
   "outputs": [
    {
     "name": "stdout",
     "output_type": "stream",
     "text": [
      "[-0.06638137 -0.00094057 -0.06823612 -0.06811263  0.22297037 -0.01933729\n",
      "  0.1623807   0.1729615  -0.12501551  0.01358148  0.01111224 -0.15432695\n",
      "  0.00062536  0.04941307  0.04681985 -0.07820261 -0.10397799 -0.11815979\n",
      " -0.09053601 -0.20084621 -0.1410846   0.0881775  -0.08586699 -0.11800887\n",
      "  0.04042275 -0.12330103  0.10958893 -0.21726243 -0.21590884 -0.17745587\n",
      "  0.07980899  0.06646679 -0.05310972 -0.00436629 -0.04572731  0.21231425\n",
      " -0.08230157 -0.109945   -0.06660414 -0.29691795  0.11805396 -0.08070414\n",
      " -0.16781595 -0.02356866  0.15443496  0.01797075 -0.12183684 -0.04614658\n",
      " -0.05715138  0.06333946  0.00389469  0.07725893  0.00780277  0.0058366\n",
      " -0.00703295  0.09724762  0.11723008 -0.05062316  0.03479209  0.07333992\n",
      "  0.14181936  0.03014703  0.01851325 -0.10144941 -0.15140429  0.02235464\n",
      "  0.0003612   0.1426407   0.01736364  0.02293479 -0.05447251  0.02075178\n",
      "  0.07338015  0.20023929  0.12964047 -0.07866336  0.02183542 -0.1057425\n",
      " -0.13177295 -0.03053829  0.004619    0.04849616  0.07603694  0.05837101\n",
      " -0.04957197  0.01798663  0.12950069  0.08675991  0.11655612 -0.11113785\n",
      "  0.04123138  0.19944987  0.09829262  0.05608715  0.1788515   0.16001207\n",
      "  0.05184764 -0.1599692   0.08802825 -0.07411844]\n",
      "[('error', 0.9599616527557373), ('workerenv', 0.9240297675132751), ('contacting', 0.9215842485427856), ('properties', 0.9045668244361877), ('conf', 0.9036892056465149)]\n"
     ]
    }
   ],
   "source": [
    "# Cargar modelo\n",
    "# model = Word2Vec.load(\"word2vec_tweets.model\")\n",
    "\n",
    "# Ver vector de una palabra\n",
    "print(model_word2vec.wv['state'])  # Vector de la palabra 'happy'\n",
    "\n",
    "# Palabras más similares\n",
    "print(model_word2vec.wv.most_similar('state', topn=5))\n"
   ]
  },
  {
   "cell_type": "markdown",
   "id": "a084d3e4-e4d1-4049-87b9-6ac0aff7e449",
   "metadata": {},
   "source": [
    " Vectorizar contenido Usar Word2Vec para tareas como clasificación"
   ]
  },
  {
   "cell_type": "code",
   "execution_count": 15,
   "id": "d4446809-d176-41e1-85cd-b1868e221c47",
   "metadata": {},
   "outputs": [
    {
     "data": {
      "text/html": [
       "<div>\n",
       "<style scoped>\n",
       "    .dataframe tbody tr th:only-of-type {\n",
       "        vertical-align: middle;\n",
       "    }\n",
       "\n",
       "    .dataframe tbody tr th {\n",
       "        vertical-align: top;\n",
       "    }\n",
       "\n",
       "    .dataframe thead th {\n",
       "        text-align: right;\n",
       "    }\n",
       "</style>\n",
       "<table border=\"1\" class=\"dataframe\">\n",
       "  <thead>\n",
       "    <tr style=\"text-align: right;\">\n",
       "      <th></th>\n",
       "      <th>Content</th>\n",
       "      <th>Level</th>\n",
       "      <th>datetime</th>\n",
       "      <th>content_length</th>\n",
       "      <th>source</th>\n",
       "      <th>Clean_Content</th>\n",
       "      <th>tokens</th>\n",
       "      <th>content_vector</th>\n",
       "    </tr>\n",
       "  </thead>\n",
       "  <tbody>\n",
       "    <tr>\n",
       "      <th>0</th>\n",
       "      <td>HBM brightnessOut =38</td>\n",
       "      <td>Informativo</td>\n",
       "      <td>2024-03-17 16:15:58.282</td>\n",
       "      <td>2</td>\n",
       "      <td>Android</td>\n",
       "      <td>hbm brightnessout</td>\n",
       "      <td>[hbm, brightnessout]</td>\n",
       "      <td>[0.16031682, -0.054183006, 0.0022920016, 0.052...</td>\n",
       "    </tr>\n",
       "    <tr>\n",
       "      <th>1</th>\n",
       "      <td>setLightsOn(true)</td>\n",
       "      <td>Informativo</td>\n",
       "      <td>2024-03-17 16:16:00.505</td>\n",
       "      <td>2</td>\n",
       "      <td>Android</td>\n",
       "      <td>setlightson true</td>\n",
       "      <td>[setlightson, true]</td>\n",
       "      <td>[0.580095, 0.012781763, -0.1357663, 0.06697923...</td>\n",
       "    </tr>\n",
       "    <tr>\n",
       "      <th>2</th>\n",
       "      <td>updateClipping isOverlap:false, getTopPadding=...</td>\n",
       "      <td>Informativo</td>\n",
       "      <td>2024-03-17 16:13:47.409</td>\n",
       "      <td>5</td>\n",
       "      <td>Android</td>\n",
       "      <td>updateclipping isoverlap false gettoppadding t...</td>\n",
       "      <td>[updateclipping, isoverlap, false, gettoppaddi...</td>\n",
       "      <td>[0.5839313, 0.020690719, -0.20487452, -0.02546...</td>\n",
       "    </tr>\n",
       "    <tr>\n",
       "      <th>3</th>\n",
       "      <td>cancelAutohide</td>\n",
       "      <td>Informativo</td>\n",
       "      <td>2024-03-17 16:13:45.627</td>\n",
       "      <td>1</td>\n",
       "      <td>Android</td>\n",
       "      <td>cancelautohide</td>\n",
       "      <td>[cancelautohide]</td>\n",
       "      <td>[-0.0085303215, -0.0065732896, -0.005294138, 0...</td>\n",
       "    </tr>\n",
       "    <tr>\n",
       "      <th>4</th>\n",
       "      <td>userActivityNoUpdateLocked: eventTime=26188530...</td>\n",
       "      <td>Informativo</td>\n",
       "      <td>2024-03-17 16:14:20.666</td>\n",
       "      <td>5</td>\n",
       "      <td>Android</td>\n",
       "      <td>useractivitynoupdatelocked eventtime event fla...</td>\n",
       "      <td>[useractivitynoupdatelocked, eventtime, event,...</td>\n",
       "      <td>[0.17694257, -0.21045288, -0.06598111, -0.0304...</td>\n",
       "    </tr>\n",
       "  </tbody>\n",
       "</table>\n",
       "</div>"
      ],
      "text/plain": [
       "                                             Content        Level  \\\n",
       "0                              HBM brightnessOut =38  Informativo   \n",
       "1                                  setLightsOn(true)  Informativo   \n",
       "2  updateClipping isOverlap:false, getTopPadding=...  Informativo   \n",
       "3                                     cancelAutohide  Informativo   \n",
       "4  userActivityNoUpdateLocked: eventTime=26188530...  Informativo   \n",
       "\n",
       "                  datetime  content_length   source  \\\n",
       "0  2024-03-17 16:15:58.282               2  Android   \n",
       "1  2024-03-17 16:16:00.505               2  Android   \n",
       "2  2024-03-17 16:13:47.409               5  Android   \n",
       "3  2024-03-17 16:13:45.627               1  Android   \n",
       "4  2024-03-17 16:14:20.666               5  Android   \n",
       "\n",
       "                                       Clean_Content  \\\n",
       "0                                  hbm brightnessout   \n",
       "1                                   setlightson true   \n",
       "2  updateclipping isoverlap false gettoppadding t...   \n",
       "3                                     cancelautohide   \n",
       "4  useractivitynoupdatelocked eventtime event fla...   \n",
       "\n",
       "                                              tokens  \\\n",
       "0                               [hbm, brightnessout]   \n",
       "1                                [setlightson, true]   \n",
       "2  [updateclipping, isoverlap, false, gettoppaddi...   \n",
       "3                                   [cancelautohide]   \n",
       "4  [useractivitynoupdatelocked, eventtime, event,...   \n",
       "\n",
       "                                      content_vector  \n",
       "0  [0.16031682, -0.054183006, 0.0022920016, 0.052...  \n",
       "1  [0.580095, 0.012781763, -0.1357663, 0.06697923...  \n",
       "2  [0.5839313, 0.020690719, -0.20487452, -0.02546...  \n",
       "3  [-0.0085303215, -0.0065732896, -0.005294138, 0...  \n",
       "4  [0.17694257, -0.21045288, -0.06598111, -0.0304...  "
      ]
     },
     "execution_count": 15,
     "metadata": {},
     "output_type": "execute_result"
    }
   ],
   "source": [
    "def vectorize_register(tokens, model):\n",
    "    valid_tokens = [t for t in tokens if t in model.wv]\n",
    "    if valid_tokens:\n",
    "        return np.mean(model.wv[valid_tokens], axis=0)\n",
    "    else:\n",
    "        return np.zeros(model.vector_size)\n",
    "\n",
    "train_df['content_vector'] = train_df['tokens'].apply(lambda x: vectorize_register(x, model_word2vec))\n",
    "train_df.head()"
   ]
  },
  {
   "cell_type": "code",
   "execution_count": null,
   "id": "7749128c-9362-4c66-8419-57a943108c7a",
   "metadata": {},
   "outputs": [],
   "source": []
  },
  {
   "cell_type": "code",
   "execution_count": 16,
   "id": "eac4b4e0-170f-462e-870f-b751d7ae49c9",
   "metadata": {},
   "outputs": [],
   "source": [
    "# Etiquetas\n",
    "X_train  = np.stack(train_df['content_vector'].values)\n",
    "\n",
    "y_train = train_df['Level']"
   ]
  },
  {
   "cell_type": "code",
   "execution_count": 17,
   "id": "f94a48a3-84c6-4bdc-b5a2-a43de712ac6d",
   "metadata": {},
   "outputs": [],
   "source": [
    "# Codificar las etiquetas\n",
    "le = LabelEncoder()\n",
    "y_encoded = le.fit_transform(y_train)  # y = train_df['Level']\n"
   ]
  },
  {
   "cell_type": "code",
   "execution_count": 18,
   "id": "4bfdb470-85c7-4c9d-b4da-41d585c29af8",
   "metadata": {},
   "outputs": [],
   "source": [
    "model_lg = LogisticRegression(solver='lbfgs', max_iter=1000, multi_class='multinomial')\n",
    "\n",
    "# Validación cruzada 10-fold\n",
    "cv_results = cross_validate(\n",
    "    model_lg, X_train, y_encoded, cv=10,\n",
    "    scoring=['accuracy', 'precision_macro', 'recall_macro', 'f1_macro'],\n",
    "    return_train_score=False\n",
    ")\n"
   ]
  },
  {
   "cell_type": "code",
   "execution_count": 19,
   "id": "c55e2fb8-4fd1-4929-8f25-baaabd2c848f",
   "metadata": {},
   "outputs": [
    {
     "name": "stdout",
     "output_type": "stream",
     "text": [
      "Accuracy:  0.9404\n",
      "Precision: 0.9651\n",
      "Recall:    0.9180\n",
      "F1-score:  0.9351\n"
     ]
    }
   ],
   "source": [
    "# Mostrar resultados promedio\n",
    "print(f\"Accuracy:  {cv_results['test_accuracy'].mean():.4f}\")\n",
    "print(f\"Precision: {cv_results['test_precision_macro'].mean():.4f}\")\n",
    "print(f\"Recall:    {cv_results['test_recall_macro'].mean():.4f}\")\n",
    "print(f\"F1-score:  {cv_results['test_f1_macro'].mean():.4f}\")"
   ]
  },
  {
   "cell_type": "code",
   "execution_count": 20,
   "id": "33ce4c31-5571-4772-962f-c897d4f5c82f",
   "metadata": {},
   "outputs": [
    {
     "data": {
      "text/plain": [
       "['../model/word2vec_model.pkl']"
      ]
     },
     "execution_count": 20,
     "metadata": {},
     "output_type": "execute_result"
    }
   ],
   "source": [
    "# Entrenar con todos los datos disponibles\n",
    "model_lg.fit(X_train, y_encoded)\n",
    "\n",
    "# Crear directorio si no existe\n",
    "dir_path = \"../model/\"\n",
    "os.makedirs(dir_path, exist_ok=True)\n",
    "\n",
    "# Guardar el modelo y el codificador\n",
    "joblib.dump(model_lg, os.path.join(dir_path, \"logistic_model_word2vec.pkl\"))\n",
    "joblib.dump(le, os.path.join(dir_path, \"label_encoder_word2vec.pkl\"))\n",
    "joblib.dump(model_word2vec, os.path.join(dir_path, \"word2vec_model.pkl\"))"
   ]
  },
  {
   "cell_type": "code",
   "execution_count": 21,
   "id": "b81a1c19-057c-4d51-8f08-5b4b9c84f2e4",
   "metadata": {},
   "outputs": [
    {
     "data": {
      "image/png": "[encoded data removed]",
      "text/plain": [
       "<Figure size 640x480 with 2 Axes>"
      ]
     },
     "metadata": {},
     "output_type": "display_data"
    },
    {
     "name": "stdout",
     "output_type": "stream",
     "text": [
      "Accuracy: 0.97\n",
      "\n",
      "Classification Report:\n",
      "              precision    recall  f1-score      support\n",
      "Advertencia    0.995009  0.930029  0.961423  1715.000000\n",
      "Error          1.000000  0.870416  0.930719   409.000000\n",
      "Informativo    0.952102  0.997957  0.974491  3426.000000\n",
      "accuracy       0.967568  0.967568  0.967568     0.967568\n",
      "macro avg      0.982371  0.932801  0.955544  5550.000000\n",
      "weighted avg   0.968891  0.967568  0.967227  5550.000000\n"
     ]
    }
   ],
   "source": [
    "# Predicciones\n",
    "y_pred = model_lg.predict(X_train)\n",
    "y_pred_labels = le.inverse_transform(y_pred)\n",
    "\n",
    "# Matriz de confusión\n",
    "cm = confusion_matrix(y_encoded, y_pred)\n",
    "disp = ConfusionMatrixDisplay(confusion_matrix=cm, display_labels=le.classes_)\n",
    "disp.plot(cmap='Blues')\n",
    "plt.title(\"Matriz de Confusión - Entrenamiento\")\n",
    "plt.show()\n",
    "\n",
    "# Reporte de clasificación\n",
    "report = classification_report(le.inverse_transform(y_encoded), y_pred_labels, output_dict=True)\n",
    "accuracy = accuracy_score(le.inverse_transform(y_encoded), y_pred_labels)\n",
    "\n",
    "report_df = pd.DataFrame(report).transpose()\n",
    "\n",
    "print(f\"Accuracy: {accuracy:.2f}\\n\")\n",
    "print(\"Classification Report:\")\n",
    "print(report_df)"
   ]
  },
  {
   "cell_type": "code",
   "execution_count": null,
   "id": "5a5a86cf-68b9-4d26-8dd8-cd2604d21114",
   "metadata": {},
   "outputs": [],
   "source": []
  },
  {
   "cell_type": "markdown",
   "id": "fcb935dd-dbe0-4508-89af-42e16daf5094",
   "metadata": {},
   "source": [
    "## Evaluar el conjunto de validación externa"
   ]
  },
  {
   "cell_type": "code",
   "execution_count": 22,
   "id": "5c589bfe-2568-4e80-9878-d7ebffa5a620",
   "metadata": {},
   "outputs": [
    {
     "name": "stdout",
     "output_type": "stream",
     "text": [
      "Informativo\n"
     ]
    }
   ],
   "source": [
    "# Cargar modelo y codificador\n",
    "model_loaded = joblib.load(os.path.join(dir_path, \"logistic_model_word2vec.pkl\"))\n",
    "label_encoder = joblib.load(os.path.join(dir_path, \"label_encoder_word2vec.pkl\"))\n",
    "w2v_model = joblib.load(os.path.join(dir_path, \"word2vec_model.pkl\"))\n",
    "\n",
    "# Usar: vectorizar nuevo texto → predecir clase\n",
    "def predict_text(text, w2v_model, classifier, encoder):\n",
    "    text=text.replace(\":\", \" \").replace(\"=\", \" \").replace(\".\", \" \").replace(\",\", \" \")\n",
    "    tokens = preprocess(text)  # misma función usada antes\n",
    "    vec = vectorize_register(tokens, w2v_model)\n",
    "    pred = classifier.predict([vec])[0]\n",
    "    return encoder.inverse_transform([pred])[0]\n",
    "\n",
    "# Ejemplo\n",
    "print(predict_text(\"user updated brightness level\", w2v_model, model_loaded, label_encoder))"
   ]
  },
  {
   "cell_type": "code",
   "execution_count": 23,
   "id": "29d65aed-45c0-4731-9ac6-b066f66d31e7",
   "metadata": {},
   "outputs": [
    {
     "data": {
      "text/html": [
       "<div>\n",
       "<style scoped>\n",
       "    .dataframe tbody tr th:only-of-type {\n",
       "        vertical-align: middle;\n",
       "    }\n",
       "\n",
       "    .dataframe tbody tr th {\n",
       "        vertical-align: top;\n",
       "    }\n",
       "\n",
       "    .dataframe thead th {\n",
       "        text-align: right;\n",
       "    }\n",
       "</style>\n",
       "<table border=\"1\" class=\"dataframe\">\n",
       "  <thead>\n",
       "    <tr style=\"text-align: right;\">\n",
       "      <th></th>\n",
       "      <th>Content</th>\n",
       "      <th>Level</th>\n",
       "      <th>datetime</th>\n",
       "      <th>content_length</th>\n",
       "      <th>source</th>\n",
       "      <th>Clean_Content</th>\n",
       "      <th>Predicted_Level</th>\n",
       "    </tr>\n",
       "  </thead>\n",
       "  <tbody>\n",
       "    <tr>\n",
       "      <th>0</th>\n",
       "      <td>setSystemUiVisibility vis=0 mask=1 oldVal=4000...</td>\n",
       "      <td>Informativo</td>\n",
       "      <td>2024-03-17 16:15:51.792</td>\n",
       "      <td>12</td>\n",
       "      <td>Android</td>\n",
       "      <td>setsystemuivisibility vis mask oldval newval d...</td>\n",
       "      <td>Informativo</td>\n",
       "    </tr>\n",
       "    <tr>\n",
       "      <th>1</th>\n",
       "      <td>cleanUpApplicationRecordLocked, pid: 12236, re...</td>\n",
       "      <td>Informativo</td>\n",
       "      <td>2024-03-17 16:15:19.993</td>\n",
       "      <td>4</td>\n",
       "      <td>Android</td>\n",
       "      <td>cleanupapplicationrecordlocked pid restart false</td>\n",
       "      <td>Informativo</td>\n",
       "    </tr>\n",
       "    <tr>\n",
       "      <th>2</th>\n",
       "      <td>state.clipTopAmount:103, i:0</td>\n",
       "      <td>Informativo</td>\n",
       "      <td>2024-03-17 16:13:46.306</td>\n",
       "      <td>2</td>\n",
       "      <td>Android</td>\n",
       "      <td>state cliptopamount</td>\n",
       "      <td>Informativo</td>\n",
       "    </tr>\n",
       "    <tr>\n",
       "      <th>3</th>\n",
       "      <td>ready=true,policy=3,wakefulness=1,wksummary=0x...</td>\n",
       "      <td>Informativo</td>\n",
       "      <td>2024-03-17 16:15:07.847</td>\n",
       "      <td>17</td>\n",
       "      <td>Android</td>\n",
       "      <td>ready true policy wakefulness wksummary uasumm...</td>\n",
       "      <td>Informativo</td>\n",
       "    </tr>\n",
       "    <tr>\n",
       "      <th>4</th>\n",
       "      <td>ready=true,policy=3,wakefulness=1,wksummary=0x...</td>\n",
       "      <td>Informativo</td>\n",
       "      <td>2024-03-17 16:15:06.000</td>\n",
       "      <td>17</td>\n",
       "      <td>Android</td>\n",
       "      <td>ready true policy wakefulness wksummary uasumm...</td>\n",
       "      <td>Informativo</td>\n",
       "    </tr>\n",
       "  </tbody>\n",
       "</table>\n",
       "</div>"
      ],
      "text/plain": [
       "                                             Content        Level  \\\n",
       "0  setSystemUiVisibility vis=0 mask=1 oldVal=4000...  Informativo   \n",
       "1  cleanUpApplicationRecordLocked, pid: 12236, re...  Informativo   \n",
       "2                       state.clipTopAmount:103, i:0  Informativo   \n",
       "3  ready=true,policy=3,wakefulness=1,wksummary=0x...  Informativo   \n",
       "4  ready=true,policy=3,wakefulness=1,wksummary=0x...  Informativo   \n",
       "\n",
       "                  datetime  content_length   source  \\\n",
       "0  2024-03-17 16:15:51.792              12  Android   \n",
       "1  2024-03-17 16:15:19.993               4  Android   \n",
       "2  2024-03-17 16:13:46.306               2  Android   \n",
       "3  2024-03-17 16:15:07.847              17  Android   \n",
       "4  2024-03-17 16:15:06.000              17  Android   \n",
       "\n",
       "                                       Clean_Content Predicted_Level  \n",
       "0  setsystemuivisibility vis mask oldval newval d...     Informativo  \n",
       "1   cleanupapplicationrecordlocked pid restart false     Informativo  \n",
       "2                                state cliptopamount     Informativo  \n",
       "3  ready true policy wakefulness wksummary uasumm...     Informativo  \n",
       "4  ready true policy wakefulness wksummary uasumm...     Informativo  "
      ]
     },
     "execution_count": 23,
     "metadata": {},
     "output_type": "execute_result"
    }
   ],
   "source": [
    "test_df['Predicted_Level'] = test_df['Content'].astype(str).apply(\n",
    "    lambda x: predict_text(x, w2v_model, model_loaded, label_encoder)\n",
    ")\n",
    "test_df.head()"
   ]
  },
  {
   "cell_type": "code",
   "execution_count": 24,
   "id": "df5a593a-16a4-44f5-91ef-311a0d0e1002",
   "metadata": {},
   "outputs": [],
   "source": [
    "y_ev =test_df[\"Level\"]\n",
    "y_ev_encoded = le.fit_transform(y_ev)\n",
    "\n",
    "y_pred =test_df[\"Predicted_Level\"]\n",
    "y_pred_encoded = le.fit_transform(y_pred)"
   ]
  },
  {
   "cell_type": "code",
   "execution_count": 25,
   "id": "905a8c90-3140-4a16-b2af-106ff6d98604",
   "metadata": {},
   "outputs": [
    {
     "data": {
      "image/png": "[encoded data removed]",
      "text/plain": [
       "<Figure size 640x480 with 2 Axes>"
      ]
     },
     "metadata": {},
     "output_type": "display_data"
    }
   ],
   "source": [
    "# Imprimir métricas\n",
    "# Matriz de confusión\n",
    "cm = confusion_matrix(y_ev_encoded, y_pred_encoded)\n",
    "disp = ConfusionMatrixDisplay(confusion_matrix=cm, display_labels=le.classes_)\n",
    "disp.plot(cmap='Blues')\n",
    "plt.title(\"Matriz de Confusión - Validación Externa\")\n",
    "plt.show()"
   ]
  },
  {
   "cell_type": "code",
   "execution_count": 26,
   "id": "aab164a6-5c87-4490-a016-5e43df87f595",
   "metadata": {},
   "outputs": [
    {
     "data": {
      "text/html": [
       "<div>\n",
       "<style scoped>\n",
       "    .dataframe tbody tr th:only-of-type {\n",
       "        vertical-align: middle;\n",
       "    }\n",
       "\n",
       "    .dataframe tbody tr th {\n",
       "        vertical-align: top;\n",
       "    }\n",
       "\n",
       "    .dataframe thead th {\n",
       "        text-align: right;\n",
       "    }\n",
       "</style>\n",
       "<table border=\"1\" class=\"dataframe\">\n",
       "  <thead>\n",
       "    <tr style=\"text-align: right;\">\n",
       "      <th></th>\n",
       "      <th>Content</th>\n",
       "      <th>Level</th>\n",
       "      <th>datetime</th>\n",
       "      <th>content_length</th>\n",
       "      <th>source</th>\n",
       "      <th>Clean_Content</th>\n",
       "      <th>Predicted_Level</th>\n",
       "    </tr>\n",
       "  </thead>\n",
       "  <tbody>\n",
       "    <tr>\n",
       "      <th>0</th>\n",
       "      <td>setSystemUiVisibility vis=0 mask=1 oldVal=4000...</td>\n",
       "      <td>Informativo</td>\n",
       "      <td>2024-03-17 16:15:51.792</td>\n",
       "      <td>12</td>\n",
       "      <td>Android</td>\n",
       "      <td>setsystemuivisibility vis mask oldval newval d...</td>\n",
       "      <td>Informativo</td>\n",
       "    </tr>\n",
       "    <tr>\n",
       "      <th>1</th>\n",
       "      <td>cleanUpApplicationRecordLocked, pid: 12236, re...</td>\n",
       "      <td>Informativo</td>\n",
       "      <td>2024-03-17 16:15:19.993</td>\n",
       "      <td>4</td>\n",
       "      <td>Android</td>\n",
       "      <td>cleanupapplicationrecordlocked pid restart false</td>\n",
       "      <td>Informativo</td>\n",
       "    </tr>\n",
       "  </tbody>\n",
       "</table>\n",
       "</div>"
      ],
      "text/plain": [
       "                                             Content        Level  \\\n",
       "0  setSystemUiVisibility vis=0 mask=1 oldVal=4000...  Informativo   \n",
       "1  cleanUpApplicationRecordLocked, pid: 12236, re...  Informativo   \n",
       "\n",
       "                  datetime  content_length   source  \\\n",
       "0  2024-03-17 16:15:51.792              12  Android   \n",
       "1  2024-03-17 16:15:19.993               4  Android   \n",
       "\n",
       "                                       Clean_Content Predicted_Level  \n",
       "0  setsystemuivisibility vis mask oldval newval d...     Informativo  \n",
       "1   cleanupapplicationrecordlocked pid restart false     Informativo  "
      ]
     },
     "execution_count": 26,
     "metadata": {},
     "output_type": "execute_result"
    }
   ],
   "source": [
    "\n",
    "# Agregar la columna con las predicciones\n",
    "test_df.head(2)"
   ]
  },
  {
   "cell_type": "code",
   "execution_count": 27,
   "id": "af1327dc-0eb4-4ab2-898f-742f75781e9d",
   "metadata": {},
   "outputs": [
    {
     "ename": "NameError",
     "evalue": "name 'df_ev_result' is not defined",
     "output_type": "error",
     "traceback": [
      "\u001b[31m---------------------------------------------------------------------------\u001b[39m",
      "\u001b[31mNameError\u001b[39m                                 Traceback (most recent call last)",
      "\u001b[36mCell\u001b[39m\u001b[36m \u001b[39m\u001b[32mIn[27]\u001b[39m\u001b[32m, line 3\u001b[39m\n\u001b[32m      1\u001b[39m dir_path = \u001b[33m\"\u001b[39m\u001b[33m../process/\u001b[39m\u001b[33m\"\u001b[39m\n\u001b[32m      2\u001b[39m \u001b[38;5;66;03m# Guardar en un archivo CSV\u001b[39;00m\n\u001b[32m----> \u001b[39m\u001b[32m3\u001b[39m \u001b[43mdf_ev_result\u001b[49m.to_csv(\u001b[33mf\u001b[39m\u001b[33m'\u001b[39m\u001b[38;5;132;01m{\u001b[39;00mdir_path\u001b[38;5;132;01m}\u001b[39;00m\u001b[33m5_10external_test_data_prediction.csv\u001b[39m\u001b[33m'\u001b[39m, index=\u001b[38;5;28;01mFalse\u001b[39;00m)\n",
      "\u001b[31mNameError\u001b[39m: name 'df_ev_result' is not defined"
     ]
    }
   ],
   "source": [
    "dir_path = \"../process/\"\n",
    "# Guardar en un archivo CSV\n",
    "df_ev_result.to_csv(f'{dir_path}5_10external_test_data_prediction.csv', index=False)"
   ]
  },
  {
   "cell_type": "code",
   "execution_count": null,
   "id": "05b5343c-7d4c-4476-adb0-e0f019e57aca",
   "metadata": {},
   "outputs": [],
   "source": []
  },
  {
   "cell_type": "code",
   "execution_count": null,
   "id": "6e8fb44c-ade9-4d6b-a672-2cdbee244451",
   "metadata": {},
   "outputs": [],
   "source": []
  },
  {
   "cell_type": "code",
   "execution_count": null,
   "id": "1143dae1-399b-4612-a84e-1902f23f397b",
   "metadata": {},
   "outputs": [],
   "source": []
  },
  {
   "cell_type": "code",
   "execution_count": null,
   "id": "7eaa6e28-7762-4bb9-9007-635afa54ff35",
   "metadata": {},
   "outputs": [],
   "source": []
  },
  {
   "cell_type": "code",
   "execution_count": null,
   "id": "45b0780d-51b9-45bb-9c3a-5f66c4a95d54",
   "metadata": {},
   "outputs": [],
   "source": []
  }
 ],
 "metadata": {
  "kernelspec": {
   "display_name": "Python 3 (ipykernel)",
   "language": "python",
   "name": "python3"
  },
  "language_info": {
   "codemirror_mode": {
    "name": "ipython",
    "version": 3
   },
   "file_extension": ".py",
   "mimetype": "text/x-python",
   "name": "python",
   "nbconvert_exporter": "python",
   "pygments_lexer": "ipython3",
   "version": "3.11.11"
  }
 },
 "nbformat": 4,
 "nbformat_minor": 5
}
