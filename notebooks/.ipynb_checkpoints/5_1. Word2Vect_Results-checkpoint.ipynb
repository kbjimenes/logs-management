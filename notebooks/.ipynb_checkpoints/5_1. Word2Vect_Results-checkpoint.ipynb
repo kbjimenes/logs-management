{
 "cells": [
  {
   "cell_type": "code",
   "execution_count": 1,
   "id": "4694ea9b-85e3-4bae-b0ff-f2c02dda3f67",
   "metadata": {},
   "outputs": [],
   "source": [
    "import pandas as pd\n",
    "import re\n",
    "from dash import dcc, html\n",
    "import plotly.express as px  # Para visualización\n",
    "from datetime import datetime, timedelta\n",
    "from sklearn.linear_model import LogisticRegression\n",
    "from sklearn.model_selection import cross_val_score\n",
    "from sklearn.preprocessing import LabelEncoder\n",
    "import pandas as pd\n",
    "from sklearn.feature_extraction.text import TfidfVectorizer\n",
    "from sklearn.model_selection import cross_validate\n",
    "import joblib\n",
    "from sklearn.metrics import confusion_matrix, ConfusionMatrixDisplay\n",
    "import matplotlib.pyplot as plt\n",
    "import warnings\n",
    "warnings.filterwarnings('ignore')\n",
    "import nltk\n",
    "from nltk.tokenize import word_tokenize\n",
    "from nltk.corpus import stopwords\n",
    "from sklearn.metrics import classification_report, accuracy_score, precision_score, recall_score, f1_score\n",
    "import pandas as pd\n",
    "import os\n",
    "import numpy as np\n",
    "import matplotlib.pyplot as plt\n"
   ]
  },
  {
   "cell_type": "markdown",
   "id": "346d0b71-17d4-4a49-8f77-977f5a632116",
   "metadata": {},
   "source": [
    "## Cargar datos"
   ]
  },
  {
   "cell_type": "code",
   "execution_count": 2,
   "id": "6a4e5487-3cbc-4d04-a24f-2aaa96e3aacf",
   "metadata": {},
   "outputs": [
    {
     "name": "stdout",
     "output_type": "stream",
     "text": [
      "{'Advertencia', 'Error', 'Informativo'}\n",
      "(5560, 6)\n",
      "(5550, 6)\n"
     ]
    },
    {
     "data": {
      "text/html": [
       "<div>\n",
       "<style scoped>\n",
       "    .dataframe tbody tr th:only-of-type {\n",
       "        vertical-align: middle;\n",
       "    }\n",
       "\n",
       "    .dataframe tbody tr th {\n",
       "        vertical-align: top;\n",
       "    }\n",
       "\n",
       "    .dataframe thead th {\n",
       "        text-align: right;\n",
       "    }\n",
       "</style>\n",
       "<table border=\"1\" class=\"dataframe\">\n",
       "  <thead>\n",
       "    <tr style=\"text-align: right;\">\n",
       "      <th></th>\n",
       "      <th>Content</th>\n",
       "      <th>Level</th>\n",
       "      <th>datetime</th>\n",
       "      <th>content_length</th>\n",
       "      <th>source</th>\n",
       "      <th>Clean_Content</th>\n",
       "    </tr>\n",
       "  </thead>\n",
       "  <tbody>\n",
       "    <tr>\n",
       "      <th>0</th>\n",
       "      <td>HBM brightnessOut =38</td>\n",
       "      <td>Informativo</td>\n",
       "      <td>2024-03-17 16:15:58.282</td>\n",
       "      <td>2</td>\n",
       "      <td>Android</td>\n",
       "      <td>hbm brightnessout</td>\n",
       "    </tr>\n",
       "    <tr>\n",
       "      <th>1</th>\n",
       "      <td>setLightsOn(true)</td>\n",
       "      <td>Informativo</td>\n",
       "      <td>2024-03-17 16:16:00.505</td>\n",
       "      <td>2</td>\n",
       "      <td>Android</td>\n",
       "      <td>setlightson true</td>\n",
       "    </tr>\n",
       "    <tr>\n",
       "      <th>2</th>\n",
       "      <td>updateClipping isOverlap:false, getTopPadding=...</td>\n",
       "      <td>Informativo</td>\n",
       "      <td>2024-03-17 16:13:47.409</td>\n",
       "      <td>5</td>\n",
       "      <td>Android</td>\n",
       "      <td>updateclipping isoverlap false gettoppadding t...</td>\n",
       "    </tr>\n",
       "    <tr>\n",
       "      <th>3</th>\n",
       "      <td>cancelAutohide</td>\n",
       "      <td>Informativo</td>\n",
       "      <td>2024-03-17 16:13:45.627</td>\n",
       "      <td>1</td>\n",
       "      <td>Android</td>\n",
       "      <td>cancelautohide</td>\n",
       "    </tr>\n",
       "    <tr>\n",
       "      <th>4</th>\n",
       "      <td>userActivityNoUpdateLocked: eventTime=26188530...</td>\n",
       "      <td>Informativo</td>\n",
       "      <td>2024-03-17 16:14:20.666</td>\n",
       "      <td>5</td>\n",
       "      <td>Android</td>\n",
       "      <td>useractivitynoupdatelocked eventtime event fla...</td>\n",
       "    </tr>\n",
       "  </tbody>\n",
       "</table>\n",
       "</div>"
      ],
      "text/plain": [
       "                                             Content        Level  \\\n",
       "0                              HBM brightnessOut =38  Informativo   \n",
       "1                                  setLightsOn(true)  Informativo   \n",
       "2  updateClipping isOverlap:false, getTopPadding=...  Informativo   \n",
       "3                                     cancelAutohide  Informativo   \n",
       "4  userActivityNoUpdateLocked: eventTime=26188530...  Informativo   \n",
       "\n",
       "                  datetime  content_length   source  \\\n",
       "0  2024-03-17 16:15:58.282               2  Android   \n",
       "1  2024-03-17 16:16:00.505               2  Android   \n",
       "2  2024-03-17 16:13:47.409               5  Android   \n",
       "3  2024-03-17 16:13:45.627               1  Android   \n",
       "4  2024-03-17 16:14:20.666               5  Android   \n",
       "\n",
       "                                       Clean_Content  \n",
       "0                                  hbm brightnessout  \n",
       "1                                   setlightson true  \n",
       "2  updateclipping isoverlap false gettoppadding t...  \n",
       "3                                     cancelautohide  \n",
       "4  useractivitynoupdatelocked eventtime event fla...  "
      ]
     },
     "execution_count": 2,
     "metadata": {},
     "output_type": "execute_result"
    }
   ],
   "source": [
    "dir_path = \"../process/\"\n",
    "#logs_df = pd.read_csv(f\"{dir_path}external_test_data.csv\", encoding='utf-8')\n",
    "train_df = pd.read_csv(f\"{dir_path}train_data.csv\", encoding='utf-8')\n",
    "print(set(train_df[\"Level\"]))\n",
    "print(train_df.shape)\n",
    "train_df=train_df.dropna(subset=['Clean_Content'])\n",
    "\n",
    "print(train_df.shape)\n",
    "train_df.head()"
   ]
  },
  {
   "cell_type": "code",
   "execution_count": 3,
   "id": "209f9f78-6011-44ef-b0b3-1662e81d5a7e",
   "metadata": {
    "scrolled": true
   },
   "outputs": [
    {
     "name": "stdout",
     "output_type": "stream",
     "text": [
      "{'Advertencia', 'Error', 'Informativo'}\n",
      "(1855, 6)\n",
      "(1852, 6)\n"
     ]
    },
    {
     "data": {
      "text/html": [
       "<div>\n",
       "<style scoped>\n",
       "    .dataframe tbody tr th:only-of-type {\n",
       "        vertical-align: middle;\n",
       "    }\n",
       "\n",
       "    .dataframe tbody tr th {\n",
       "        vertical-align: top;\n",
       "    }\n",
       "\n",
       "    .dataframe thead th {\n",
       "        text-align: right;\n",
       "    }\n",
       "</style>\n",
       "<table border=\"1\" class=\"dataframe\">\n",
       "  <thead>\n",
       "    <tr style=\"text-align: right;\">\n",
       "      <th></th>\n",
       "      <th>Content</th>\n",
       "      <th>Level</th>\n",
       "      <th>datetime</th>\n",
       "      <th>content_length</th>\n",
       "      <th>source</th>\n",
       "      <th>Clean_Content</th>\n",
       "    </tr>\n",
       "  </thead>\n",
       "  <tbody>\n",
       "    <tr>\n",
       "      <th>0</th>\n",
       "      <td>setSystemUiVisibility vis=0 mask=1 oldVal=4000...</td>\n",
       "      <td>Informativo</td>\n",
       "      <td>2024-03-17 16:15:51.792</td>\n",
       "      <td>12</td>\n",
       "      <td>Android</td>\n",
       "      <td>setsystemuivisibility vis mask oldval newval d...</td>\n",
       "    </tr>\n",
       "    <tr>\n",
       "      <th>1</th>\n",
       "      <td>cleanUpApplicationRecordLocked, pid: 12236, re...</td>\n",
       "      <td>Informativo</td>\n",
       "      <td>2024-03-17 16:15:19.993</td>\n",
       "      <td>4</td>\n",
       "      <td>Android</td>\n",
       "      <td>cleanupapplicationrecordlocked pid restart false</td>\n",
       "    </tr>\n",
       "    <tr>\n",
       "      <th>2</th>\n",
       "      <td>state.clipTopAmount:103, i:0</td>\n",
       "      <td>Informativo</td>\n",
       "      <td>2024-03-17 16:13:46.306</td>\n",
       "      <td>2</td>\n",
       "      <td>Android</td>\n",
       "      <td>state cliptopamount</td>\n",
       "    </tr>\n",
       "    <tr>\n",
       "      <th>3</th>\n",
       "      <td>ready=true,policy=3,wakefulness=1,wksummary=0x...</td>\n",
       "      <td>Informativo</td>\n",
       "      <td>2024-03-17 16:15:07.847</td>\n",
       "      <td>17</td>\n",
       "      <td>Android</td>\n",
       "      <td>ready true policy wakefulness wksummary uasumm...</td>\n",
       "    </tr>\n",
       "    <tr>\n",
       "      <th>4</th>\n",
       "      <td>ready=true,policy=3,wakefulness=1,wksummary=0x...</td>\n",
       "      <td>Informativo</td>\n",
       "      <td>2024-03-17 16:15:06.000</td>\n",
       "      <td>17</td>\n",
       "      <td>Android</td>\n",
       "      <td>ready true policy wakefulness wksummary uasumm...</td>\n",
       "    </tr>\n",
       "  </tbody>\n",
       "</table>\n",
       "</div>"
      ],
      "text/plain": [
       "                                             Content        Level  \\\n",
       "0  setSystemUiVisibility vis=0 mask=1 oldVal=4000...  Informativo   \n",
       "1  cleanUpApplicationRecordLocked, pid: 12236, re...  Informativo   \n",
       "2                       state.clipTopAmount:103, i:0  Informativo   \n",
       "3  ready=true,policy=3,wakefulness=1,wksummary=0x...  Informativo   \n",
       "4  ready=true,policy=3,wakefulness=1,wksummary=0x...  Informativo   \n",
       "\n",
       "                  datetime  content_length   source  \\\n",
       "0  2024-03-17 16:15:51.792              12  Android   \n",
       "1  2024-03-17 16:15:19.993               4  Android   \n",
       "2  2024-03-17 16:13:46.306               2  Android   \n",
       "3  2024-03-17 16:15:07.847              17  Android   \n",
       "4  2024-03-17 16:15:06.000              17  Android   \n",
       "\n",
       "                                       Clean_Content  \n",
       "0  setsystemuivisibility vis mask oldval newval d...  \n",
       "1   cleanupapplicationrecordlocked pid restart false  \n",
       "2                                state cliptopamount  \n",
       "3  ready true policy wakefulness wksummary uasumm...  \n",
       "4  ready true policy wakefulness wksummary uasumm...  "
      ]
     },
     "execution_count": 3,
     "metadata": {},
     "output_type": "execute_result"
    }
   ],
   "source": [
    "test_df = pd.read_csv(f\"{dir_path}external_test_data.csv\", encoding='utf-8')\n",
    "\n",
    "print(set(test_df[\"Level\"]))\n",
    "print(test_df.shape)\n",
    "test_df=test_df.dropna(subset=['Clean_Content'])\n",
    "\n",
    "print(test_df.shape)\n",
    "test_df.head()"
   ]
  },
  {
   "cell_type": "markdown",
   "id": "6ceefcc3-2bf7-4e0f-8c21-7d803c3c3563",
   "metadata": {},
   "source": [
    "# Entrenamiento"
   ]
  },
  {
   "cell_type": "markdown",
   "id": "406114b0-e0a7-4084-8a49-cf322032915c",
   "metadata": {},
   "source": [
    "## Preprocesamiento"
   ]
  },
  {
   "cell_type": "code",
   "execution_count": 4,
   "id": "5044f980-138a-46a9-ab37-3da0818c52fb",
   "metadata": {},
   "outputs": [],
   "source": [
    "# Descargar recursos necesarios\n",
    "# nltk.download('punkt_tab')\n",
    "# nltk.download('stopwords')"
   ]
  },
  {
   "cell_type": "code",
   "execution_count": 5,
   "id": "10e0a86a-83aa-4b8e-8cfb-484e5ab7fd73",
   "metadata": {},
   "outputs": [
    {
     "data": {
      "text/html": [
       "<div>\n",
       "<style scoped>\n",
       "    .dataframe tbody tr th:only-of-type {\n",
       "        vertical-align: middle;\n",
       "    }\n",
       "\n",
       "    .dataframe tbody tr th {\n",
       "        vertical-align: top;\n",
       "    }\n",
       "\n",
       "    .dataframe thead th {\n",
       "        text-align: right;\n",
       "    }\n",
       "</style>\n",
       "<table border=\"1\" class=\"dataframe\">\n",
       "  <thead>\n",
       "    <tr style=\"text-align: right;\">\n",
       "      <th></th>\n",
       "      <th>Content</th>\n",
       "      <th>Level</th>\n",
       "      <th>datetime</th>\n",
       "      <th>content_length</th>\n",
       "      <th>source</th>\n",
       "      <th>Clean_Content</th>\n",
       "      <th>tokens</th>\n",
       "    </tr>\n",
       "  </thead>\n",
       "  <tbody>\n",
       "    <tr>\n",
       "      <th>0</th>\n",
       "      <td>HBM brightnessOut =38</td>\n",
       "      <td>Informativo</td>\n",
       "      <td>2024-03-17 16:15:58.282</td>\n",
       "      <td>2</td>\n",
       "      <td>Android</td>\n",
       "      <td>hbm brightnessout</td>\n",
       "      <td>[hbm, brightnessout]</td>\n",
       "    </tr>\n",
       "    <tr>\n",
       "      <th>1</th>\n",
       "      <td>setLightsOn(true)</td>\n",
       "      <td>Informativo</td>\n",
       "      <td>2024-03-17 16:16:00.505</td>\n",
       "      <td>2</td>\n",
       "      <td>Android</td>\n",
       "      <td>setlightson true</td>\n",
       "      <td>[setlightson, true]</td>\n",
       "    </tr>\n",
       "  </tbody>\n",
       "</table>\n",
       "</div>"
      ],
      "text/plain": [
       "                 Content        Level                 datetime  \\\n",
       "0  HBM brightnessOut =38  Informativo  2024-03-17 16:15:58.282   \n",
       "1      setLightsOn(true)  Informativo  2024-03-17 16:16:00.505   \n",
       "\n",
       "   content_length   source      Clean_Content                tokens  \n",
       "0               2  Android  hbm brightnessout  [hbm, brightnessout]  \n",
       "1               2  Android   setlightson true   [setlightson, true]  "
      ]
     },
     "execution_count": 5,
     "metadata": {},
     "output_type": "execute_result"
    }
   ],
   "source": [
    "stop_words = set(stopwords.words('english'))\n",
    "def preprocess(text):\n",
    "    text = text.lower()\n",
    "    text = re.sub(r\"[^\\w\\s]\", \"\", text)  # eliminar signos de puntuación\n",
    "    tokens = word_tokenize(text)\n",
    "    tokens = [t for t in tokens if t not in stop_words and len(t) > 2]\n",
    "    return tokens\n",
    "\n",
    "# Aplicar a columna Clean_Content\n",
    "train_df['tokens'] = train_df['Clean_Content'].astype(str).apply(preprocess)\n",
    "train_df.head(2)"
   ]
  },
  {
   "cell_type": "markdown",
   "id": "09a369bb-6634-4193-bd88-0425ec275ed1",
   "metadata": {},
   "source": [
    "## Entrenar el modelo Word2Vec"
   ]
  },
  {
   "cell_type": "code",
   "execution_count": 6,
   "id": "7ef2d305-6134-45ea-8568-b905e9e5f73f",
   "metadata": {},
   "outputs": [],
   "source": [
    "from gensim.models import Word2Vec\n",
    "\n",
    "# Asegurar que haya tokens válidos\n",
    "sentences = [tokens for tokens in train_df['tokens'] if tokens]\n",
    "\n",
    "model_word2vec = Word2Vec(\n",
    "    sentences=sentences,\n",
    "    vector_size=100,\n",
    "    window=5,\n",
    "    min_count=2,\n",
    "    workers=4\n",
    ")"
   ]
  },
  {
   "cell_type": "markdown",
   "id": "893ec5f2-d433-4ab9-8a71-b2f9a2cf0eac",
   "metadata": {},
   "source": [
    "Usar el modelo Word2Vec"
   ]
  },
  {
   "cell_type": "code",
   "execution_count": 7,
   "id": "f708c071-33f7-426f-b62d-9cfaa9b2ac5c",
   "metadata": {},
   "outputs": [
    {
     "name": "stdout",
     "output_type": "stream",
     "text": [
      "[-0.06946433  0.02814383 -0.07454319 -0.06739803  0.21490435 -0.04069171\n",
      "  0.18042824  0.15502577 -0.08814337 -0.00912413  0.00756633 -0.11379973\n",
      "  0.0402768   0.03693966  0.04446616 -0.08942218 -0.0796157  -0.07599747\n",
      " -0.09876738 -0.17647739 -0.13044366  0.06480831 -0.07584841 -0.13367155\n",
      "  0.0373429  -0.15150706  0.10975873 -0.22492367 -0.17066574 -0.19572738\n",
      "  0.06866583  0.03034032 -0.07292265 -0.00458104 -0.05701614  0.18086961\n",
      " -0.08149865 -0.08047774 -0.01795235 -0.2949141   0.11538626 -0.05629186\n",
      " -0.12362761 -0.05310807  0.11162014 -0.01018233 -0.14142904 -0.01317603\n",
      " -0.03944299  0.05144899  0.00917205  0.06077404  0.02352453 -0.01547088\n",
      "  0.00378195  0.08640957  0.15418    -0.06556398  0.04526699  0.06308198\n",
      "  0.13973841 -0.01032394  0.04792284 -0.0952611  -0.15756625  0.01987201\n",
      " -0.0279875   0.14053345 -0.0019543  -0.00310283 -0.02272625  0.00372435\n",
      "  0.08942857  0.19925824  0.11948044 -0.08469062  0.0420738  -0.09851723\n",
      " -0.14724892 -0.03948826  0.00860771  0.07007607  0.04299803  0.0504685\n",
      " -0.02181295  0.02015964  0.10962719  0.07472872  0.10004322 -0.08652828\n",
      "  0.05268358  0.19806631  0.0888424   0.04940854  0.18439743  0.16367136\n",
      "  0.00791452 -0.14882366  0.10863946 -0.11327147]\n",
      "[('error', 0.9611479043960571), ('workerenv', 0.9419654011726379), ('conf', 0.9314491152763367), ('init', 0.9305869936943054), ('properties', 0.9292933344841003)]\n"
     ]
    }
   ],
   "source": [
    "# Cargar modelo\n",
    "# model = Word2Vec.load(\"word2vec_tweets.model\")\n",
    "\n",
    "# Ver vector de una palabra\n",
    "print(model_word2vec.wv['state'])  # Vector de la palabra 'happy'\n",
    "\n",
    "# Palabras más similares\n",
    "print(model_word2vec.wv.most_similar('state', topn=5))\n"
   ]
  },
  {
   "cell_type": "markdown",
   "id": "a084d3e4-e4d1-4049-87b9-6ac0aff7e449",
   "metadata": {},
   "source": [
    " Vectorizar contenido Usar Word2Vec para tareas como clasificación"
   ]
  },
  {
   "cell_type": "code",
   "execution_count": 9,
   "id": "d4446809-d176-41e1-85cd-b1868e221c47",
   "metadata": {},
   "outputs": [
    {
     "data": {
      "text/html": [
       "<div>\n",
       "<style scoped>\n",
       "    .dataframe tbody tr th:only-of-type {\n",
       "        vertical-align: middle;\n",
       "    }\n",
       "\n",
       "    .dataframe tbody tr th {\n",
       "        vertical-align: top;\n",
       "    }\n",
       "\n",
       "    .dataframe thead th {\n",
       "        text-align: right;\n",
       "    }\n",
       "</style>\n",
       "<table border=\"1\" class=\"dataframe\">\n",
       "  <thead>\n",
       "    <tr style=\"text-align: right;\">\n",
       "      <th></th>\n",
       "      <th>Content</th>\n",
       "      <th>Level</th>\n",
       "      <th>datetime</th>\n",
       "      <th>content_length</th>\n",
       "      <th>source</th>\n",
       "      <th>Clean_Content</th>\n",
       "      <th>tokens</th>\n",
       "      <th>content_vector</th>\n",
       "    </tr>\n",
       "  </thead>\n",
       "  <tbody>\n",
       "    <tr>\n",
       "      <th>0</th>\n",
       "      <td>HBM brightnessOut =38</td>\n",
       "      <td>Informativo</td>\n",
       "      <td>2024-03-17 16:15:58.282</td>\n",
       "      <td>2</td>\n",
       "      <td>Android</td>\n",
       "      <td>hbm brightnessout</td>\n",
       "      <td>[hbm, brightnessout]</td>\n",
       "      <td>[0.16029498, -0.06627372, -0.0052867495, 0.054...</td>\n",
       "    </tr>\n",
       "    <tr>\n",
       "      <th>1</th>\n",
       "      <td>setLightsOn(true)</td>\n",
       "      <td>Informativo</td>\n",
       "      <td>2024-03-17 16:16:00.505</td>\n",
       "      <td>2</td>\n",
       "      <td>Android</td>\n",
       "      <td>setlightson true</td>\n",
       "      <td>[setlightson, true]</td>\n",
       "      <td>[0.58287036, 0.0029150378, -0.14158791, 0.0620...</td>\n",
       "    </tr>\n",
       "  </tbody>\n",
       "</table>\n",
       "</div>"
      ],
      "text/plain": [
       "                 Content        Level                 datetime  \\\n",
       "0  HBM brightnessOut =38  Informativo  2024-03-17 16:15:58.282   \n",
       "1      setLightsOn(true)  Informativo  2024-03-17 16:16:00.505   \n",
       "\n",
       "   content_length   source      Clean_Content                tokens  \\\n",
       "0               2  Android  hbm brightnessout  [hbm, brightnessout]   \n",
       "1               2  Android   setlightson true   [setlightson, true]   \n",
       "\n",
       "                                      content_vector  \n",
       "0  [0.16029498, -0.06627372, -0.0052867495, 0.054...  \n",
       "1  [0.58287036, 0.0029150378, -0.14158791, 0.0620...  "
      ]
     },
     "execution_count": 9,
     "metadata": {},
     "output_type": "execute_result"
    }
   ],
   "source": [
    "def vectorize_register(tokens, model):\n",
    "    valid_tokens = [t for t in tokens if t in model.wv]\n",
    "    if valid_tokens:\n",
    "        return np.mean(model.wv[valid_tokens], axis=0)\n",
    "    else:\n",
    "        return np.zeros(model.vector_size)\n",
    "\n",
    "train_df['content_vector'] = train_df['tokens'].apply(lambda x: vectorize_register(x, model_word2vec))\n",
    "train_df.head(2)"
   ]
  },
  {
   "cell_type": "markdown",
   "id": "35369d10-a71e-4e55-8cde-f69e4babe448",
   "metadata": {},
   "source": [
    "## Modelo de clasificacion "
   ]
  },
  {
   "cell_type": "code",
   "execution_count": 10,
   "id": "eac4b4e0-170f-462e-870f-b751d7ae49c9",
   "metadata": {},
   "outputs": [],
   "source": [
    "# Etiquetas\n",
    "X_train  = np.stack(train_df['content_vector'].values)\n",
    "\n",
    "y_train = train_df['Level']"
   ]
  },
  {
   "cell_type": "code",
   "execution_count": 12,
   "id": "f94a48a3-84c6-4bdc-b5a2-a43de712ac6d",
   "metadata": {},
   "outputs": [],
   "source": [
    "# Codificar las etiquetas\n",
    "le = LabelEncoder()\n",
    "y_train_encoded = le.fit_transform(y_train)  # y = train_df['Level']"
   ]
  },
  {
   "cell_type": "code",
   "execution_count": 13,
   "id": "4bfdb470-85c7-4c9d-b4da-41d585c29af8",
   "metadata": {},
   "outputs": [],
   "source": [
    "model_lg = LogisticRegression(solver='lbfgs', max_iter=1000, multi_class='multinomial')\n",
    "\n",
    "# Validación cruzada 10-fold\n",
    "cv_results = cross_validate(\n",
    "    model_lg, X_train, y_train_encoded, cv=10,\n",
    "    scoring=['accuracy', 'precision_macro', 'recall_macro', 'f1_macro'],\n",
    "    return_train_score=False\n",
    ")\n"
   ]
  },
  {
   "cell_type": "code",
   "execution_count": 14,
   "id": "c55e2fb8-4fd1-4929-8f25-baaabd2c848f",
   "metadata": {},
   "outputs": [
    {
     "name": "stdout",
     "output_type": "stream",
     "text": [
      "Accuracy:  0.9386\n",
      "Precision: 0.9631\n",
      "Recall:    0.9171\n",
      "F1-score:  0.9337\n"
     ]
    }
   ],
   "source": [
    "# Mostrar resultados promedio\n",
    "print(f\"Accuracy:  {cv_results['test_accuracy'].mean():.4f}\")\n",
    "print(f\"Precision: {cv_results['test_precision_macro'].mean():.4f}\")\n",
    "print(f\"Recall:    {cv_results['test_recall_macro'].mean():.4f}\")\n",
    "print(f\"F1-score:  {cv_results['test_f1_macro'].mean():.4f}\")"
   ]
  },
  {
   "cell_type": "code",
   "execution_count": 15,
   "id": "33ce4c31-5571-4772-962f-c897d4f5c82f",
   "metadata": {},
   "outputs": [
    {
     "data": {
      "text/plain": [
       "['../model/word2vec_model.pkl']"
      ]
     },
     "execution_count": 15,
     "metadata": {},
     "output_type": "execute_result"
    }
   ],
   "source": [
    "# Entrenar con todos los datos disponibles\n",
    "model_lg.fit(X_train, y_train_encoded)\n",
    "\n",
    "# Crear directorio si no existe\n",
    "dir_path = \"../model/\"\n",
    "os.makedirs(dir_path, exist_ok=True)\n",
    "\n",
    "# Guardar el modelo y el codificador\n",
    "joblib.dump(model_lg, os.path.join(dir_path, \"logistic_model_word2vec.pkl\"))\n",
    "joblib.dump(le, os.path.join(dir_path, \"label_encoder_word2vec.pkl\"))\n",
    "joblib.dump(model_word2vec, os.path.join(dir_path, \"word2vec_model.pkl\"))"
   ]
  },
  {
   "cell_type": "code",
   "execution_count": 16,
   "id": "b81a1c19-057c-4d51-8f08-5b4b9c84f2e4",
   "metadata": {},
   "outputs": [
    {
     "data": {
      "image/png": "[encoded data removed]",
      "text/plain": [
       "<Figure size 640x480 with 2 Axes>"
      ]
     },
     "metadata": {},
     "output_type": "display_data"
    },
    {
     "name": "stdout",
     "output_type": "stream",
     "text": [
      "Accuracy: 0.97\n",
      "\n",
      "Classification Report:\n",
      "              precision    recall  f1-score      support\n",
      "Advertencia    0.988841  0.930029  0.958534  1715.000000\n",
      "Error          1.000000  0.870416  0.930719   409.000000\n",
      "Informativo    0.951969  0.995038  0.973027  3426.000000\n",
      "accuracy       0.965766  0.965766  0.965766     0.965766\n",
      "macro avg      0.980270  0.931828  0.954093  5550.000000\n",
      "weighted avg   0.966902  0.965766  0.965431  5550.000000\n"
     ]
    }
   ],
   "source": [
    "# Predicciones\n",
    "y_pred = model_lg.predict(X_train)\n",
    "y_pred_labels = le.inverse_transform(y_pred)\n",
    "\n",
    "# Matriz de confusión\n",
    "cm = confusion_matrix(y_encoded, y_pred)\n",
    "disp = ConfusionMatrixDisplay(confusion_matrix=cm, display_labels=le.classes_)\n",
    "disp.plot(cmap='Blues')\n",
    "plt.title(\"Matriz de Confusión - Entrenamiento\")\n",
    "plt.show()\n",
    "\n",
    "# Reporte de clasificación\n",
    "report = classification_report(le.inverse_transform(y_encoded), y_pred_labels, output_dict=True)\n",
    "accuracy = accuracy_score(le.inverse_transform(y_encoded), y_pred_labels)\n",
    "\n",
    "report_df = pd.DataFrame(report).transpose()\n",
    "\n",
    "print(f\"Accuracy: {accuracy:.2f}\\n\")\n",
    "print(\"Classification Report:\")\n",
    "print(report_df)"
   ]
  },
  {
   "cell_type": "code",
   "execution_count": null,
   "id": "5a5a86cf-68b9-4d26-8dd8-cd2604d21114",
   "metadata": {},
   "outputs": [],
   "source": []
  },
  {
   "cell_type": "markdown",
   "id": "fcb935dd-dbe0-4508-89af-42e16daf5094",
   "metadata": {},
   "source": [
    "## Evaluar el conjunto de validación externa"
   ]
  },
  {
   "cell_type": "code",
   "execution_count": 17,
   "id": "5c589bfe-2568-4e80-9878-d7ebffa5a620",
   "metadata": {},
   "outputs": [
    {
     "name": "stdout",
     "output_type": "stream",
     "text": [
      "Informativo\n"
     ]
    }
   ],
   "source": [
    "# Cargar modelo y codificador\n",
    "model_loaded = joblib.load(os.path.join(dir_path, \"logistic_model_word2vec.pkl\"))\n",
    "label_encoder = joblib.load(os.path.join(dir_path, \"label_encoder_word2vec.pkl\"))\n",
    "w2v_model = joblib.load(os.path.join(dir_path, \"word2vec_model.pkl\"))\n",
    "\n",
    "# Usar: vectorizar nuevo texto → predecir clase\n",
    "def predict_text(text, w2v_model, classifier, encoder):\n",
    "    text=text.replace(\":\", \" \").replace(\"=\", \" \").replace(\".\", \" \").replace(\",\", \" \")\n",
    "    tokens = preprocess(text)  # misma función usada antes\n",
    "    vec = vectorize_register(tokens, w2v_model)\n",
    "    pred = classifier.predict([vec])[0]\n",
    "    return encoder.inverse_transform([pred])[0]\n",
    "\n",
    "# Ejemplo\n",
    "print(predict_text(\"user updated brightness level\", w2v_model, model_loaded, label_encoder))"
   ]
  },
  {
   "cell_type": "code",
   "execution_count": 18,
   "id": "29d65aed-45c0-4731-9ac6-b066f66d31e7",
   "metadata": {},
   "outputs": [
    {
     "data": {
      "text/html": [
       "<div>\n",
       "<style scoped>\n",
       "    .dataframe tbody tr th:only-of-type {\n",
       "        vertical-align: middle;\n",
       "    }\n",
       "\n",
       "    .dataframe tbody tr th {\n",
       "        vertical-align: top;\n",
       "    }\n",
       "\n",
       "    .dataframe thead th {\n",
       "        text-align: right;\n",
       "    }\n",
       "</style>\n",
       "<table border=\"1\" class=\"dataframe\">\n",
       "  <thead>\n",
       "    <tr style=\"text-align: right;\">\n",
       "      <th></th>\n",
       "      <th>Content</th>\n",
       "      <th>Level</th>\n",
       "      <th>datetime</th>\n",
       "      <th>content_length</th>\n",
       "      <th>source</th>\n",
       "      <th>Clean_Content</th>\n",
       "      <th>Predicted_Level</th>\n",
       "    </tr>\n",
       "  </thead>\n",
       "  <tbody>\n",
       "    <tr>\n",
       "      <th>0</th>\n",
       "      <td>setSystemUiVisibility vis=0 mask=1 oldVal=4000...</td>\n",
       "      <td>Informativo</td>\n",
       "      <td>2024-03-17 16:15:51.792</td>\n",
       "      <td>12</td>\n",
       "      <td>Android</td>\n",
       "      <td>setsystemuivisibility vis mask oldval newval d...</td>\n",
       "      <td>Informativo</td>\n",
       "    </tr>\n",
       "    <tr>\n",
       "      <th>1</th>\n",
       "      <td>cleanUpApplicationRecordLocked, pid: 12236, re...</td>\n",
       "      <td>Informativo</td>\n",
       "      <td>2024-03-17 16:15:19.993</td>\n",
       "      <td>4</td>\n",
       "      <td>Android</td>\n",
       "      <td>cleanupapplicationrecordlocked pid restart false</td>\n",
       "      <td>Informativo</td>\n",
       "    </tr>\n",
       "    <tr>\n",
       "      <th>2</th>\n",
       "      <td>state.clipTopAmount:103, i:0</td>\n",
       "      <td>Informativo</td>\n",
       "      <td>2024-03-17 16:13:46.306</td>\n",
       "      <td>2</td>\n",
       "      <td>Android</td>\n",
       "      <td>state cliptopamount</td>\n",
       "      <td>Informativo</td>\n",
       "    </tr>\n",
       "    <tr>\n",
       "      <th>3</th>\n",
       "      <td>ready=true,policy=3,wakefulness=1,wksummary=0x...</td>\n",
       "      <td>Informativo</td>\n",
       "      <td>2024-03-17 16:15:07.847</td>\n",
       "      <td>17</td>\n",
       "      <td>Android</td>\n",
       "      <td>ready true policy wakefulness wksummary uasumm...</td>\n",
       "      <td>Informativo</td>\n",
       "    </tr>\n",
       "    <tr>\n",
       "      <th>4</th>\n",
       "      <td>ready=true,policy=3,wakefulness=1,wksummary=0x...</td>\n",
       "      <td>Informativo</td>\n",
       "      <td>2024-03-17 16:15:06.000</td>\n",
       "      <td>17</td>\n",
       "      <td>Android</td>\n",
       "      <td>ready true policy wakefulness wksummary uasumm...</td>\n",
       "      <td>Informativo</td>\n",
       "    </tr>\n",
       "  </tbody>\n",
       "</table>\n",
       "</div>"
      ],
      "text/plain": [
       "                                             Content        Level  \\\n",
       "0  setSystemUiVisibility vis=0 mask=1 oldVal=4000...  Informativo   \n",
       "1  cleanUpApplicationRecordLocked, pid: 12236, re...  Informativo   \n",
       "2                       state.clipTopAmount:103, i:0  Informativo   \n",
       "3  ready=true,policy=3,wakefulness=1,wksummary=0x...  Informativo   \n",
       "4  ready=true,policy=3,wakefulness=1,wksummary=0x...  Informativo   \n",
       "\n",
       "                  datetime  content_length   source  \\\n",
       "0  2024-03-17 16:15:51.792              12  Android   \n",
       "1  2024-03-17 16:15:19.993               4  Android   \n",
       "2  2024-03-17 16:13:46.306               2  Android   \n",
       "3  2024-03-17 16:15:07.847              17  Android   \n",
       "4  2024-03-17 16:15:06.000              17  Android   \n",
       "\n",
       "                                       Clean_Content Predicted_Level  \n",
       "0  setsystemuivisibility vis mask oldval newval d...     Informativo  \n",
       "1   cleanupapplicationrecordlocked pid restart false     Informativo  \n",
       "2                                state cliptopamount     Informativo  \n",
       "3  ready true policy wakefulness wksummary uasumm...     Informativo  \n",
       "4  ready true policy wakefulness wksummary uasumm...     Informativo  "
      ]
     },
     "execution_count": 18,
     "metadata": {},
     "output_type": "execute_result"
    }
   ],
   "source": [
    "test_df['Predicted_Level'] = test_df['Content'].astype(str).apply(\n",
    "    lambda x: predict_text(x, w2v_model, model_loaded, label_encoder)\n",
    ")\n",
    "test_df.head()"
   ]
  },
  {
   "cell_type": "code",
   "execution_count": 21,
   "id": "df5a593a-16a4-44f5-91ef-311a0d0e1002",
   "metadata": {},
   "outputs": [],
   "source": [
    "y_ev =test_df[\"Level\"]\n",
    "y_ev_encoded = le.fit_transform(y_ev)\n",
    "\n",
    "y_ev_pred =test_df[\"Predicted_Level\"]\n",
    "y_ev_pred_encoded = le.fit_transform(y_ev_pred)"
   ]
  },
  {
   "cell_type": "code",
   "execution_count": 22,
   "id": "905a8c90-3140-4a16-b2af-106ff6d98604",
   "metadata": {},
   "outputs": [
    {
     "data": {
      "image/png": "[encoded data removed]",
      "text/plain": [
       "<Figure size 640x480 with 2 Axes>"
      ]
     },
     "metadata": {},
     "output_type": "display_data"
    }
   ],
   "source": [
    "# Imprimir métricas\n",
    "# Matriz de confusión\n",
    "cm = confusion_matrix(y_ev_encoded, y_ev_pred_encoded)\n",
    "disp = ConfusionMatrixDisplay(confusion_matrix=cm, display_labels=le.classes_)\n",
    "disp.plot(cmap='Blues')\n",
    "plt.title(\"Matriz de Confusión - Validación Externa\")\n",
    "plt.show()"
   ]
  },
  {
   "cell_type": "code",
   "execution_count": 23,
   "id": "aab164a6-5c87-4490-a016-5e43df87f595",
   "metadata": {},
   "outputs": [
    {
     "data": {
      "text/html": [
       "<div>\n",
       "<style scoped>\n",
       "    .dataframe tbody tr th:only-of-type {\n",
       "        vertical-align: middle;\n",
       "    }\n",
       "\n",
       "    .dataframe tbody tr th {\n",
       "        vertical-align: top;\n",
       "    }\n",
       "\n",
       "    .dataframe thead th {\n",
       "        text-align: right;\n",
       "    }\n",
       "</style>\n",
       "<table border=\"1\" class=\"dataframe\">\n",
       "  <thead>\n",
       "    <tr style=\"text-align: right;\">\n",
       "      <th></th>\n",
       "      <th>Content</th>\n",
       "      <th>Level</th>\n",
       "      <th>datetime</th>\n",
       "      <th>content_length</th>\n",
       "      <th>source</th>\n",
       "      <th>Clean_Content</th>\n",
       "      <th>Predicted_Level</th>\n",
       "    </tr>\n",
       "  </thead>\n",
       "  <tbody>\n",
       "    <tr>\n",
       "      <th>0</th>\n",
       "      <td>setSystemUiVisibility vis=0 mask=1 oldVal=4000...</td>\n",
       "      <td>Informativo</td>\n",
       "      <td>2024-03-17 16:15:51.792</td>\n",
       "      <td>12</td>\n",
       "      <td>Android</td>\n",
       "      <td>setsystemuivisibility vis mask oldval newval d...</td>\n",
       "      <td>Informativo</td>\n",
       "    </tr>\n",
       "    <tr>\n",
       "      <th>1</th>\n",
       "      <td>cleanUpApplicationRecordLocked, pid: 12236, re...</td>\n",
       "      <td>Informativo</td>\n",
       "      <td>2024-03-17 16:15:19.993</td>\n",
       "      <td>4</td>\n",
       "      <td>Android</td>\n",
       "      <td>cleanupapplicationrecordlocked pid restart false</td>\n",
       "      <td>Informativo</td>\n",
       "    </tr>\n",
       "  </tbody>\n",
       "</table>\n",
       "</div>"
      ],
      "text/plain": [
       "                                             Content        Level  \\\n",
       "0  setSystemUiVisibility vis=0 mask=1 oldVal=4000...  Informativo   \n",
       "1  cleanUpApplicationRecordLocked, pid: 12236, re...  Informativo   \n",
       "\n",
       "                  datetime  content_length   source  \\\n",
       "0  2024-03-17 16:15:51.792              12  Android   \n",
       "1  2024-03-17 16:15:19.993               4  Android   \n",
       "\n",
       "                                       Clean_Content Predicted_Level  \n",
       "0  setsystemuivisibility vis mask oldval newval d...     Informativo  \n",
       "1   cleanupapplicationrecordlocked pid restart false     Informativo  "
      ]
     },
     "execution_count": 23,
     "metadata": {},
     "output_type": "execute_result"
    }
   ],
   "source": [
    "\n",
    "# Agregar la columna con las predicciones\n",
    "test_df.head(2)"
   ]
  },
  {
   "cell_type": "code",
   "execution_count": 25,
   "id": "af1327dc-0eb4-4ab2-898f-742f75781e9d",
   "metadata": {},
   "outputs": [],
   "source": [
    "dir_path = \"../process/\"\n",
    "# Guardar en un archivo CSV\n",
    "test_df.to_csv(f'{dir_path}5_10external_test_data_prediction.csv', index=False)"
   ]
  },
  {
   "cell_type": "code",
   "execution_count": null,
   "id": "05b5343c-7d4c-4476-adb0-e0f019e57aca",
   "metadata": {},
   "outputs": [],
   "source": []
  },
  {
   "cell_type": "code",
   "execution_count": null,
   "id": "6e8fb44c-ade9-4d6b-a672-2cdbee244451",
   "metadata": {},
   "outputs": [],
   "source": []
  },
  {
   "cell_type": "code",
   "execution_count": null,
   "id": "1143dae1-399b-4612-a84e-1902f23f397b",
   "metadata": {},
   "outputs": [],
   "source": []
  },
  {
   "cell_type": "code",
   "execution_count": null,
   "id": "7eaa6e28-7762-4bb9-9007-635afa54ff35",
   "metadata": {},
   "outputs": [],
   "source": []
  },
  {
   "cell_type": "code",
   "execution_count": null,
   "id": "45b0780d-51b9-45bb-9c3a-5f66c4a95d54",
   "metadata": {},
   "outputs": [],
   "source": []
  }
 ],
 "metadata": {
  "kernelspec": {
   "display_name": "Python 3 (ipykernel)",
   "language": "python",
   "name": "python3"
  },
  "language_info": {
   "codemirror_mode": {
    "name": "ipython",
    "version": 3
   },
   "file_extension": ".py",
   "mimetype": "text/x-python",
   "name": "python",
   "nbconvert_exporter": "python",
   "pygments_lexer": "ipython3",
   "version": "3.11.11"
  }
 },
 "nbformat": 4,
 "nbformat_minor": 5
}
