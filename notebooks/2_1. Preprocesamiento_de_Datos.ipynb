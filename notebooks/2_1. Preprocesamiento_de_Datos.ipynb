{
 "cells": [
  {
   "cell_type": "markdown",
   "id": "af812e4b-fe82-48d2-86ab-b9eb0001ffd2",
   "metadata": {},
   "source": [
    "Combinar los datasets en uno solo mejora la eficiencia del análisis , y mantener una columna de origen para luego segmentar los resultados."
   ]
  },
  {
   "cell_type": "code",
   "execution_count": 1,
   "id": "013f0a7b-03fc-498e-be67-3b107bd1017d",
   "metadata": {},
   "outputs": [
    {
     "data": {
      "text/html": [
       "<div>\n",
       "<style scoped>\n",
       "    .dataframe tbody tr th:only-of-type {\n",
       "        vertical-align: middle;\n",
       "    }\n",
       "\n",
       "    .dataframe tbody tr th {\n",
       "        vertical-align: top;\n",
       "    }\n",
       "\n",
       "    .dataframe thead th {\n",
       "        text-align: right;\n",
       "    }\n",
       "</style>\n",
       "<table border=\"1\" class=\"dataframe\">\n",
       "  <thead>\n",
       "    <tr style=\"text-align: right;\">\n",
       "      <th></th>\n",
       "      <th>Content</th>\n",
       "      <th>Level</th>\n",
       "      <th>datetime</th>\n",
       "      <th>content_length</th>\n",
       "      <th>source</th>\n",
       "    </tr>\n",
       "  </thead>\n",
       "  <tbody>\n",
       "    <tr>\n",
       "      <th>0</th>\n",
       "      <td>printFreezingDisplayLogsopening app wtoken = A...</td>\n",
       "      <td>Informativo</td>\n",
       "      <td>2024-03-17 16:13:38.811</td>\n",
       "      <td>21</td>\n",
       "      <td>Android</td>\n",
       "    </tr>\n",
       "    <tr>\n",
       "      <th>1</th>\n",
       "      <td>acquire lock=233570404, flags=0x1, tag=\"View L...</td>\n",
       "      <td>Informativo</td>\n",
       "      <td>2024-03-17 16:13:38.819</td>\n",
       "      <td>9</td>\n",
       "      <td>Android</td>\n",
       "    </tr>\n",
       "  </tbody>\n",
       "</table>\n",
       "</div>"
      ],
      "text/plain": [
       "                                             Content        Level  \\\n",
       "0  printFreezingDisplayLogsopening app wtoken = A...  Informativo   \n",
       "1  acquire lock=233570404, flags=0x1, tag=\"View L...  Informativo   \n",
       "\n",
       "                  datetime  content_length   source  \n",
       "0  2024-03-17 16:13:38.811              21  Android  \n",
       "1  2024-03-17 16:13:38.819               9  Android  "
      ]
     },
     "execution_count": 1,
     "metadata": {},
     "output_type": "execute_result"
    }
   ],
   "source": [
    "import pandas as pd\n",
    "\n",
    "# Cargar los datasets con columna de origen\n",
    "dataset='Android'\n",
    "dir_path = \"../data/\"\n",
    "android = pd.read_csv(f\"{dir_path}{dataset}_2k.log_structured_to_process.csv\")\n",
    "android['source'] = dataset\n",
    "android=android[['Content', 'Level', 'datetime', 'content_length', 'source']]\n",
    "android.head(2)"
   ]
  },
  {
   "cell_type": "code",
   "execution_count": 2,
   "id": "2763dd81-afe5-44e4-aea5-e889e4d2cc7e",
   "metadata": {},
   "outputs": [
    {
     "data": {
      "text/html": [
       "<div>\n",
       "<style scoped>\n",
       "    .dataframe tbody tr th:only-of-type {\n",
       "        vertical-align: middle;\n",
       "    }\n",
       "\n",
       "    .dataframe tbody tr th {\n",
       "        vertical-align: top;\n",
       "    }\n",
       "\n",
       "    .dataframe thead th {\n",
       "        text-align: right;\n",
       "    }\n",
       "</style>\n",
       "<table border=\"1\" class=\"dataframe\">\n",
       "  <thead>\n",
       "    <tr style=\"text-align: right;\">\n",
       "      <th></th>\n",
       "      <th>Content</th>\n",
       "      <th>Level</th>\n",
       "      <th>datetime</th>\n",
       "      <th>content_length</th>\n",
       "      <th>source</th>\n",
       "    </tr>\n",
       "  </thead>\n",
       "  <tbody>\n",
       "    <tr>\n",
       "      <th>0</th>\n",
       "      <td>workerEnv.init() ok /etc/httpd/conf/workers2.p...</td>\n",
       "      <td>Informativo</td>\n",
       "      <td>2005-12-04 04:47:44.000</td>\n",
       "      <td>3</td>\n",
       "      <td>Apache</td>\n",
       "    </tr>\n",
       "    <tr>\n",
       "      <th>1</th>\n",
       "      <td>mod_jk child workerEnv in error state 6</td>\n",
       "      <td>Error</td>\n",
       "      <td>2005-12-04 04:47:44.000</td>\n",
       "      <td>7</td>\n",
       "      <td>Apache</td>\n",
       "    </tr>\n",
       "  </tbody>\n",
       "</table>\n",
       "</div>"
      ],
      "text/plain": [
       "                                             Content        Level  \\\n",
       "0  workerEnv.init() ok /etc/httpd/conf/workers2.p...  Informativo   \n",
       "1            mod_jk child workerEnv in error state 6        Error   \n",
       "\n",
       "                  datetime  content_length  source  \n",
       "0  2005-12-04 04:47:44.000               3  Apache  \n",
       "1  2005-12-04 04:47:44.000               7  Apache  "
      ]
     },
     "execution_count": 2,
     "metadata": {},
     "output_type": "execute_result"
    }
   ],
   "source": [
    "dataset = 'Apache'\n",
    "apache = pd.read_csv(f\"{dir_path}{dataset}_2k.log_structured_to_process.csv\")\n",
    "apache['source'] = dataset\n",
    "apache=apache[['Content', 'Level', 'datetime', 'content_length', 'source']]\n",
    "apache.head(2)"
   ]
  },
  {
   "cell_type": "code",
   "execution_count": 3,
   "id": "a5f96eb2-7c95-4f53-ae14-d9aeb0720ab1",
   "metadata": {},
   "outputs": [
    {
     "data": {
      "text/html": [
       "<div>\n",
       "<style scoped>\n",
       "    .dataframe tbody tr th:only-of-type {\n",
       "        vertical-align: middle;\n",
       "    }\n",
       "\n",
       "    .dataframe tbody tr th {\n",
       "        vertical-align: top;\n",
       "    }\n",
       "\n",
       "    .dataframe thead th {\n",
       "        text-align: right;\n",
       "    }\n",
       "</style>\n",
       "<table border=\"1\" class=\"dataframe\">\n",
       "  <thead>\n",
       "    <tr style=\"text-align: right;\">\n",
       "      <th></th>\n",
       "      <th>Content</th>\n",
       "      <th>Level</th>\n",
       "      <th>datetime</th>\n",
       "      <th>content_length</th>\n",
       "      <th>source</th>\n",
       "    </tr>\n",
       "  </thead>\n",
       "  <tbody>\n",
       "    <tr>\n",
       "      <th>0</th>\n",
       "      <td>Created MRAppMaster for application appattempt...</td>\n",
       "      <td>Informativo</td>\n",
       "      <td>2015-10-18 18:01:47.000</td>\n",
       "      <td>5</td>\n",
       "      <td>Hadoop</td>\n",
       "    </tr>\n",
       "    <tr>\n",
       "      <th>1</th>\n",
       "      <td>Executing with tokens:</td>\n",
       "      <td>Informativo</td>\n",
       "      <td>2015-10-18 18:01:48.000</td>\n",
       "      <td>3</td>\n",
       "      <td>Hadoop</td>\n",
       "    </tr>\n",
       "  </tbody>\n",
       "</table>\n",
       "</div>"
      ],
      "text/plain": [
       "                                             Content        Level  \\\n",
       "0  Created MRAppMaster for application appattempt...  Informativo   \n",
       "1                             Executing with tokens:  Informativo   \n",
       "\n",
       "                  datetime  content_length  source  \n",
       "0  2015-10-18 18:01:47.000               5  Hadoop  \n",
       "1  2015-10-18 18:01:48.000               3  Hadoop  "
      ]
     },
     "execution_count": 3,
     "metadata": {},
     "output_type": "execute_result"
    }
   ],
   "source": [
    "dataset = 'Hadoop'\n",
    "hadoop = pd.read_csv(f\"{dir_path}{dataset}_2k.log_structured_to_process.csv\")\n",
    "hadoop['source'] = dataset\n",
    "hadoop=hadoop[['Content', 'Level', 'datetime', 'content_length', 'source']]\n",
    "hadoop.head(2)"
   ]
  },
  {
   "cell_type": "code",
   "execution_count": 4,
   "id": "5218c67f-7451-423b-a4d9-12744e7aa261",
   "metadata": {},
   "outputs": [
    {
     "data": {
      "text/html": [
       "<div>\n",
       "<style scoped>\n",
       "    .dataframe tbody tr th:only-of-type {\n",
       "        vertical-align: middle;\n",
       "    }\n",
       "\n",
       "    .dataframe tbody tr th {\n",
       "        vertical-align: top;\n",
       "    }\n",
       "\n",
       "    .dataframe thead th {\n",
       "        text-align: right;\n",
       "    }\n",
       "</style>\n",
       "<table border=\"1\" class=\"dataframe\">\n",
       "  <thead>\n",
       "    <tr style=\"text-align: right;\">\n",
       "      <th></th>\n",
       "      <th>Content</th>\n",
       "      <th>Level</th>\n",
       "      <th>datetime</th>\n",
       "      <th>content_length</th>\n",
       "      <th>source</th>\n",
       "    </tr>\n",
       "  </thead>\n",
       "  <tbody>\n",
       "    <tr>\n",
       "      <th>0</th>\n",
       "      <td>Notification time out: 3200</td>\n",
       "      <td>Informativo</td>\n",
       "      <td>2015-07-29 17:41:44.747</td>\n",
       "      <td>4</td>\n",
       "      <td>Zookeeper</td>\n",
       "    </tr>\n",
       "    <tr>\n",
       "      <th>1</th>\n",
       "      <td>Received connection request /10.10.34.11:45307</td>\n",
       "      <td>Informativo</td>\n",
       "      <td>2015-07-29 19:04:12.394</td>\n",
       "      <td>4</td>\n",
       "      <td>Zookeeper</td>\n",
       "    </tr>\n",
       "  </tbody>\n",
       "</table>\n",
       "</div>"
      ],
      "text/plain": [
       "                                          Content        Level  \\\n",
       "0                     Notification time out: 3200  Informativo   \n",
       "1  Received connection request /10.10.34.11:45307  Informativo   \n",
       "\n",
       "                  datetime  content_length     source  \n",
       "0  2015-07-29 17:41:44.747               4  Zookeeper  \n",
       "1  2015-07-29 19:04:12.394               4  Zookeeper  "
      ]
     },
     "execution_count": 4,
     "metadata": {},
     "output_type": "execute_result"
    }
   ],
   "source": [
    "dataset = 'Zookeeper'\n",
    "zookeeper = pd.read_csv(f\"{dir_path}{dataset}_2k.log_structured_to_process.csv\")\n",
    "zookeeper['source'] = dataset\n",
    "zookeeper=zookeeper[['Content', 'Level', 'datetime', 'content_length', 'source']]\n",
    "zookeeper.head(2)"
   ]
  },
  {
   "cell_type": "code",
   "execution_count": 5,
   "id": "5488ecbb-c0ad-4c12-9373-b19f7155d80f",
   "metadata": {},
   "outputs": [
    {
     "data": {
      "text/html": [
       "<div>\n",
       "<style scoped>\n",
       "    .dataframe tbody tr th:only-of-type {\n",
       "        vertical-align: middle;\n",
       "    }\n",
       "\n",
       "    .dataframe tbody tr th {\n",
       "        vertical-align: top;\n",
       "    }\n",
       "\n",
       "    .dataframe thead th {\n",
       "        text-align: right;\n",
       "    }\n",
       "</style>\n",
       "<table border=\"1\" class=\"dataframe\">\n",
       "  <thead>\n",
       "    <tr style=\"text-align: right;\">\n",
       "      <th></th>\n",
       "      <th>Content</th>\n",
       "      <th>Level</th>\n",
       "      <th>datetime</th>\n",
       "      <th>content_length</th>\n",
       "      <th>source</th>\n",
       "    </tr>\n",
       "  </thead>\n",
       "  <tbody>\n",
       "    <tr>\n",
       "      <th>0</th>\n",
       "      <td>instruction cache parity error corrected</td>\n",
       "      <td>Informativo</td>\n",
       "      <td>2005-06-03 22:42:50</td>\n",
       "      <td>5</td>\n",
       "      <td>BGL</td>\n",
       "    </tr>\n",
       "    <tr>\n",
       "      <th>1</th>\n",
       "      <td>instruction cache parity error corrected</td>\n",
       "      <td>Informativo</td>\n",
       "      <td>2005-06-03 22:42:53</td>\n",
       "      <td>5</td>\n",
       "      <td>BGL</td>\n",
       "    </tr>\n",
       "  </tbody>\n",
       "</table>\n",
       "</div>"
      ],
      "text/plain": [
       "                                    Content        Level             datetime  \\\n",
       "0  instruction cache parity error corrected  Informativo  2005-06-03 22:42:50   \n",
       "1  instruction cache parity error corrected  Informativo  2005-06-03 22:42:53   \n",
       "\n",
       "   content_length source  \n",
       "0               5    BGL  \n",
       "1               5    BGL  "
      ]
     },
     "execution_count": 5,
     "metadata": {},
     "output_type": "execute_result"
    }
   ],
   "source": [
    "dataset = 'BGL'\n",
    "bgl = pd.read_csv(f\"{dir_path}{dataset}_2k.log_structured_to_process.csv\")\n",
    "bgl['source'] = dataset\n",
    "bgl=bgl[['Content', 'Level', 'datetime', 'content_length', 'source']]\n",
    "bgl.head(2)"
   ]
  },
  {
   "cell_type": "code",
   "execution_count": 6,
   "id": "4ce31431-c1e8-427b-88dd-72fc5fb4c1e7",
   "metadata": {},
   "outputs": [
    {
     "data": {
      "text/html": [
       "<div>\n",
       "<style scoped>\n",
       "    .dataframe tbody tr th:only-of-type {\n",
       "        vertical-align: middle;\n",
       "    }\n",
       "\n",
       "    .dataframe tbody tr th {\n",
       "        vertical-align: top;\n",
       "    }\n",
       "\n",
       "    .dataframe thead th {\n",
       "        text-align: right;\n",
       "    }\n",
       "</style>\n",
       "<table border=\"1\" class=\"dataframe\">\n",
       "  <thead>\n",
       "    <tr style=\"text-align: right;\">\n",
       "      <th></th>\n",
       "      <th>Content</th>\n",
       "      <th>Level</th>\n",
       "      <th>datetime</th>\n",
       "      <th>content_length</th>\n",
       "      <th>source</th>\n",
       "    </tr>\n",
       "  </thead>\n",
       "  <tbody>\n",
       "    <tr>\n",
       "      <th>0</th>\n",
       "      <td>printFreezingDisplayLogsopening app wtoken = A...</td>\n",
       "      <td>Informativo</td>\n",
       "      <td>2024-03-17 16:13:38.811</td>\n",
       "      <td>21</td>\n",
       "      <td>Android</td>\n",
       "    </tr>\n",
       "    <tr>\n",
       "      <th>1</th>\n",
       "      <td>acquire lock=233570404, flags=0x1, tag=\"View L...</td>\n",
       "      <td>Informativo</td>\n",
       "      <td>2024-03-17 16:13:38.819</td>\n",
       "      <td>9</td>\n",
       "      <td>Android</td>\n",
       "    </tr>\n",
       "    <tr>\n",
       "      <th>2</th>\n",
       "      <td>ready=true,policy=3,wakefulness=1,wksummary=0x...</td>\n",
       "      <td>Informativo</td>\n",
       "      <td>2024-03-17 16:13:38.820</td>\n",
       "      <td>1</td>\n",
       "      <td>Android</td>\n",
       "    </tr>\n",
       "    <tr>\n",
       "      <th>3</th>\n",
       "      <td>Skipping AppWindowToken{df0798e token=Token{78...</td>\n",
       "      <td>Informativo</td>\n",
       "      <td>2024-03-17 16:13:38.839</td>\n",
       "      <td>11</td>\n",
       "      <td>Android</td>\n",
       "    </tr>\n",
       "    <tr>\n",
       "      <th>4</th>\n",
       "      <td>visible is system.time.showampm</td>\n",
       "      <td>Informativo</td>\n",
       "      <td>2024-03-17 16:13:38.859</td>\n",
       "      <td>3</td>\n",
       "      <td>Android</td>\n",
       "    </tr>\n",
       "  </tbody>\n",
       "</table>\n",
       "</div>"
      ],
      "text/plain": [
       "                                             Content        Level  \\\n",
       "0  printFreezingDisplayLogsopening app wtoken = A...  Informativo   \n",
       "1  acquire lock=233570404, flags=0x1, tag=\"View L...  Informativo   \n",
       "2  ready=true,policy=3,wakefulness=1,wksummary=0x...  Informativo   \n",
       "3  Skipping AppWindowToken{df0798e token=Token{78...  Informativo   \n",
       "4                    visible is system.time.showampm  Informativo   \n",
       "\n",
       "                  datetime  content_length   source  \n",
       "0  2024-03-17 16:13:38.811              21  Android  \n",
       "1  2024-03-17 16:13:38.819               9  Android  \n",
       "2  2024-03-17 16:13:38.820               1  Android  \n",
       "3  2024-03-17 16:13:38.839              11  Android  \n",
       "4  2024-03-17 16:13:38.859               3  Android  "
      ]
     },
     "execution_count": 6,
     "metadata": {},
     "output_type": "execute_result"
    }
   ],
   "source": [
    "# Unir todos los datasets en uno solo\n",
    "df_all = pd.concat([android, apache, hadoop, zookeeper, bgl], ignore_index=True)\n",
    "df_all.head()"
   ]
  },
  {
   "cell_type": "code",
   "execution_count": 37,
   "id": "9df574c9-a217-48a4-ba8b-a08cbb46ac43",
   "metadata": {},
   "outputs": [],
   "source": [
    "df_all.to_csv(f\"{dir_path}raw_data_log_structured.csv\", index=False)"
   ]
  },
  {
   "cell_type": "markdown",
   "id": "e6ab010b-ffd1-4746-b719-6405b4fc41df",
   "metadata": {},
   "source": [
    "# Limpieza y estandarización"
   ]
  },
  {
   "cell_type": "code",
   "execution_count": 38,
   "id": "36c1ecbd-f413-4db7-8114-266f9a101e81",
   "metadata": {},
   "outputs": [
    {
     "data": {
      "text/plain": [
       "(10000, 5)"
      ]
     },
     "execution_count": 38,
     "metadata": {},
     "output_type": "execute_result"
    }
   ],
   "source": [
    "df_all.shape"
   ]
  },
  {
   "cell_type": "code",
   "execution_count": 39,
   "id": "521aad6a-4516-42ca-b50a-09509a314fd8",
   "metadata": {},
   "outputs": [
    {
     "data": {
      "text/plain": [
       "(9410, 5)"
      ]
     },
     "execution_count": 39,
     "metadata": {},
     "output_type": "execute_result"
    }
   ],
   "source": [
    "#Remover duplicados\n",
    "df_all.drop_duplicates(inplace=True)\n",
    "df_all.dropna(subset=['Content', 'Level'], inplace=True)\n",
    "df_all.shape"
   ]
  },
  {
   "cell_type": "code",
   "execution_count": 40,
   "id": "cbefcd34-713b-40bd-ae1c-f6a6406627c1",
   "metadata": {},
   "outputs": [
    {
     "data": {
      "text/plain": [
       "(9410, 5)"
      ]
     },
     "execution_count": 40,
     "metadata": {},
     "output_type": "execute_result"
    }
   ],
   "source": [
    "df_all.shape"
   ]
  },
  {
   "cell_type": "code",
   "execution_count": 41,
   "id": "975d264b-41da-4262-8605-b036724e108c",
   "metadata": {},
   "outputs": [
    {
     "data": {
      "text/html": [
       "<div>\n",
       "<style scoped>\n",
       "    .dataframe tbody tr th:only-of-type {\n",
       "        vertical-align: middle;\n",
       "    }\n",
       "\n",
       "    .dataframe tbody tr th {\n",
       "        vertical-align: top;\n",
       "    }\n",
       "\n",
       "    .dataframe thead th {\n",
       "        text-align: right;\n",
       "    }\n",
       "</style>\n",
       "<table border=\"1\" class=\"dataframe\">\n",
       "  <thead>\n",
       "    <tr style=\"text-align: right;\">\n",
       "      <th></th>\n",
       "      <th>Content</th>\n",
       "      <th>Level</th>\n",
       "      <th>datetime</th>\n",
       "      <th>content_length</th>\n",
       "      <th>source</th>\n",
       "    </tr>\n",
       "  </thead>\n",
       "  <tbody>\n",
       "    <tr>\n",
       "      <th>0</th>\n",
       "      <td>printFreezingDisplayLogsopening app wtoken = A...</td>\n",
       "      <td>Informativo</td>\n",
       "      <td>2024-03-17 16:13:38.811</td>\n",
       "      <td>21</td>\n",
       "      <td>Android</td>\n",
       "    </tr>\n",
       "    <tr>\n",
       "      <th>1</th>\n",
       "      <td>acquire lock=233570404, flags=0x1, tag=\"View L...</td>\n",
       "      <td>Informativo</td>\n",
       "      <td>2024-03-17 16:13:38.819</td>\n",
       "      <td>9</td>\n",
       "      <td>Android</td>\n",
       "    </tr>\n",
       "    <tr>\n",
       "      <th>2</th>\n",
       "      <td>ready=true,policy=3,wakefulness=1,wksummary=0x...</td>\n",
       "      <td>Informativo</td>\n",
       "      <td>2024-03-17 16:13:38.820</td>\n",
       "      <td>1</td>\n",
       "      <td>Android</td>\n",
       "    </tr>\n",
       "    <tr>\n",
       "      <th>3</th>\n",
       "      <td>Skipping AppWindowToken{df0798e token=Token{78...</td>\n",
       "      <td>Informativo</td>\n",
       "      <td>2024-03-17 16:13:38.839</td>\n",
       "      <td>11</td>\n",
       "      <td>Android</td>\n",
       "    </tr>\n",
       "    <tr>\n",
       "      <th>4</th>\n",
       "      <td>visible is system.time.showampm</td>\n",
       "      <td>Informativo</td>\n",
       "      <td>2024-03-17 16:13:38.859</td>\n",
       "      <td>3</td>\n",
       "      <td>Android</td>\n",
       "    </tr>\n",
       "  </tbody>\n",
       "</table>\n",
       "</div>"
      ],
      "text/plain": [
       "                                             Content        Level  \\\n",
       "0  printFreezingDisplayLogsopening app wtoken = A...  Informativo   \n",
       "1  acquire lock=233570404, flags=0x1, tag=\"View L...  Informativo   \n",
       "2  ready=true,policy=3,wakefulness=1,wksummary=0x...  Informativo   \n",
       "3  Skipping AppWindowToken{df0798e token=Token{78...  Informativo   \n",
       "4                    visible is system.time.showampm  Informativo   \n",
       "\n",
       "                  datetime  content_length   source  \n",
       "0  2024-03-17 16:13:38.811              21  Android  \n",
       "1  2024-03-17 16:13:38.819               9  Android  \n",
       "2  2024-03-17 16:13:38.820               1  Android  \n",
       "3  2024-03-17 16:13:38.839              11  Android  \n",
       "4  2024-03-17 16:13:38.859               3  Android  "
      ]
     },
     "execution_count": 41,
     "metadata": {},
     "output_type": "execute_result"
    }
   ],
   "source": [
    "df_all.head()"
   ]
  },
  {
   "cell_type": "code",
   "execution_count": 42,
   "id": "8e90c35a-c169-4c6b-b93c-c7cc1e5b8f69",
   "metadata": {},
   "outputs": [
    {
     "data": {
      "text/plain": [
       "{'Advertencia', 'Error', 'Informativo'}"
      ]
     },
     "execution_count": 42,
     "metadata": {},
     "output_type": "execute_result"
    }
   ],
   "source": [
    "set(df_all['Level'])"
   ]
  },
  {
   "cell_type": "markdown",
   "id": "7901cb24-bc64-47a7-95b6-e59890dcc57d",
   "metadata": {},
   "source": [
    " # Limpieza de texto y tokenización para NLP"
   ]
  },
  {
   "cell_type": "code",
   "execution_count": 43,
   "id": "565d4d4b-9955-4617-91c3-b1f348a9e2d1",
   "metadata": {},
   "outputs": [],
   "source": [
    "import re\n",
    "from sklearn.feature_extraction.text import ENGLISH_STOP_WORDS\n",
    "\n",
    "stop_words = set(ENGLISH_STOP_WORDS)\n",
    "\n",
    "def clean_text(text):\n",
    "    text = str(text).lower().replace(\",\", \" \").replace(\".\", \" \").replace(\":\", \" \").replace(\"=\", \" \")\n",
    "    tokens = re.findall(r'\\b[a-z]+\\b', text)  # solo palabras alfabéticas\n",
    "    tokens = [word for word in tokens if word not in stop_words]\n",
    "    return ' '.join(tokens)\n"
   ]
  },
  {
   "cell_type": "code",
   "execution_count": 44,
   "id": "1c421612-754f-48c7-b7fc-079028a378f8",
   "metadata": {},
   "outputs": [
    {
     "name": "stdout",
     "output_type": "stream",
     "text": [
      "hello test\n"
     ]
    }
   ],
   "source": [
    "test = \"Hello, this455 is a test.\"\n",
    "print(clean_text(test))\n"
   ]
  },
  {
   "cell_type": "code",
   "execution_count": 45,
   "id": "c8a2c8f7-5939-4753-89b0-9abc75bacde5",
   "metadata": {},
   "outputs": [],
   "source": [
    "df_all['Clean_Content'] = df_all['Content'].apply(clean_text)\n",
    "df_all['content_length'] = df_all['Clean_Content'].apply(lambda x: len(x.split()))"
   ]
  },
  {
   "cell_type": "code",
   "execution_count": 46,
   "id": "432956c7-4396-4fd2-b683-71dad94e9905",
   "metadata": {},
   "outputs": [
    {
     "data": {
      "text/plain": [
       "(9410, 6)"
      ]
     },
     "execution_count": 46,
     "metadata": {},
     "output_type": "execute_result"
    }
   ],
   "source": [
    "df_all.shape"
   ]
  },
  {
   "cell_type": "code",
   "execution_count": 47,
   "id": "af0b2f05-0873-4c8c-8a80-4ac685aaad34",
   "metadata": {},
   "outputs": [
    {
     "data": {
      "text/html": [
       "<div>\n",
       "<style scoped>\n",
       "    .dataframe tbody tr th:only-of-type {\n",
       "        vertical-align: middle;\n",
       "    }\n",
       "\n",
       "    .dataframe tbody tr th {\n",
       "        vertical-align: top;\n",
       "    }\n",
       "\n",
       "    .dataframe thead th {\n",
       "        text-align: right;\n",
       "    }\n",
       "</style>\n",
       "<table border=\"1\" class=\"dataframe\">\n",
       "  <thead>\n",
       "    <tr style=\"text-align: right;\">\n",
       "      <th></th>\n",
       "      <th>Content</th>\n",
       "      <th>Level</th>\n",
       "      <th>datetime</th>\n",
       "      <th>content_length</th>\n",
       "      <th>source</th>\n",
       "      <th>Clean_Content</th>\n",
       "    </tr>\n",
       "  </thead>\n",
       "  <tbody>\n",
       "    <tr>\n",
       "      <th>0</th>\n",
       "      <td>printFreezingDisplayLogsopening app wtoken = A...</td>\n",
       "      <td>Informativo</td>\n",
       "      <td>2024-03-17 16:13:38.811</td>\n",
       "      <td>22</td>\n",
       "      <td>Android</td>\n",
       "      <td>printfreezingdisplaylogsopening app wtoken app...</td>\n",
       "    </tr>\n",
       "    <tr>\n",
       "      <th>1</th>\n",
       "      <td>acquire lock=233570404, flags=0x1, tag=\"View L...</td>\n",
       "      <td>Informativo</td>\n",
       "      <td>2024-03-17 16:13:38.819</td>\n",
       "      <td>13</td>\n",
       "      <td>Android</td>\n",
       "      <td>acquire lock flags tag view lock com android s...</td>\n",
       "    </tr>\n",
       "    <tr>\n",
       "      <th>2</th>\n",
       "      <td>ready=true,policy=3,wakefulness=1,wksummary=0x...</td>\n",
       "      <td>Informativo</td>\n",
       "      <td>2024-03-17 16:13:38.820</td>\n",
       "      <td>17</td>\n",
       "      <td>Android</td>\n",
       "      <td>ready true policy wakefulness wksummary uasumm...</td>\n",
       "    </tr>\n",
       "    <tr>\n",
       "      <th>3</th>\n",
       "      <td>Skipping AppWindowToken{df0798e token=Token{78...</td>\n",
       "      <td>Informativo</td>\n",
       "      <td>2024-03-17 16:13:38.839</td>\n",
       "      <td>17</td>\n",
       "      <td>Android</td>\n",
       "      <td>skipping appwindowtoken token token activityre...</td>\n",
       "    </tr>\n",
       "    <tr>\n",
       "      <th>4</th>\n",
       "      <td>visible is system.time.showampm</td>\n",
       "      <td>Informativo</td>\n",
       "      <td>2024-03-17 16:13:38.859</td>\n",
       "      <td>3</td>\n",
       "      <td>Android</td>\n",
       "      <td>visible time showampm</td>\n",
       "    </tr>\n",
       "  </tbody>\n",
       "</table>\n",
       "</div>"
      ],
      "text/plain": [
       "                                             Content        Level  \\\n",
       "0  printFreezingDisplayLogsopening app wtoken = A...  Informativo   \n",
       "1  acquire lock=233570404, flags=0x1, tag=\"View L...  Informativo   \n",
       "2  ready=true,policy=3,wakefulness=1,wksummary=0x...  Informativo   \n",
       "3  Skipping AppWindowToken{df0798e token=Token{78...  Informativo   \n",
       "4                    visible is system.time.showampm  Informativo   \n",
       "\n",
       "                  datetime  content_length   source  \\\n",
       "0  2024-03-17 16:13:38.811              22  Android   \n",
       "1  2024-03-17 16:13:38.819              13  Android   \n",
       "2  2024-03-17 16:13:38.820              17  Android   \n",
       "3  2024-03-17 16:13:38.839              17  Android   \n",
       "4  2024-03-17 16:13:38.859               3  Android   \n",
       "\n",
       "                                       Clean_Content  \n",
       "0  printfreezingdisplaylogsopening app wtoken app...  \n",
       "1  acquire lock flags tag view lock com android s...  \n",
       "2  ready true policy wakefulness wksummary uasumm...  \n",
       "3  skipping appwindowtoken token token activityre...  \n",
       "4                              visible time showampm  "
      ]
     },
     "execution_count": 47,
     "metadata": {},
     "output_type": "execute_result"
    }
   ],
   "source": [
    "df_all.head()"
   ]
  },
  {
   "cell_type": "code",
   "execution_count": 48,
   "id": "fcfe4364-f6af-4d7e-a7ef-de662b4d2daf",
   "metadata": {},
   "outputs": [],
   "source": [
    "df_all.to_csv(f\"{dir_path}clean_data_log_structured.csv\", index=False)"
   ]
  },
  {
   "cell_type": "markdown",
   "id": "eb8e47dc-08fe-4beb-9977-d9a0fdf71820",
   "metadata": {},
   "source": [
    "# Estadísticas Descriptivas Generales\n"
   ]
  },
  {
   "cell_type": "code",
   "execution_count": 49,
   "id": "9d9ee8b8-ff71-4202-a822-3d036daaa9f5",
   "metadata": {},
   "outputs": [],
   "source": [
    "# Total de registros\n",
    "total_registros = len(df_all)\n",
    "\n",
    "# Conteo por nivel de severidad\n",
    "niveles_totales = df_all['Level'].value_counts()\n",
    "\n",
    "\n"
   ]
  },
  {
   "cell_type": "code",
   "execution_count": 50,
   "id": "f25d1901-4ae6-4166-a1e5-767ddfcf40be",
   "metadata": {},
   "outputs": [],
   "source": [
    "# Longitud promedio del contenido\n",
    "longitud_promedio = df_all['content_length'].mean()"
   ]
  },
  {
   "cell_type": "code",
   "execution_count": 51,
   "id": "32a77d60-5760-42fe-9b0c-2ac97a81919a",
   "metadata": {},
   "outputs": [
    {
     "name": "stdout",
     "output_type": "stream",
     "text": [
      "Periodo: desde 2005-06-03 22:42:50 hasta 2024-03-17 16:16:09.141\n"
     ]
    }
   ],
   "source": [
    "# Fechas mínimas y máximas\n",
    "min_fecha = df_all['datetime'].min()\n",
    "max_fecha = df_all['datetime'].max()\n",
    "print(f\"Periodo: desde {min_fecha} hasta {max_fecha}\")"
   ]
  },
  {
   "cell_type": "code",
   "execution_count": 52,
   "id": "4db25d96-dd6a-4acb-bcdf-1f37ac4d876a",
   "metadata": {},
   "outputs": [
    {
     "name": "stdout",
     "output_type": "stream",
     "text": [
      "Total de registros: 9410\n",
      "Distribución por nivel:\n",
      "Level\n",
      "Informativo    6176\n",
      "Advertencia    2297\n",
      "Error           937\n",
      "Name: count, dtype: int64\n",
      "Longitud promedio del mensaje: 5.35 palabras\n"
     ]
    }
   ],
   "source": [
    "print(f\"Total de registros: {total_registros}\")\n",
    "print(f\"Distribución por nivel:\\n{niveles_totales}\")\n",
    "print(f\"Longitud promedio del mensaje: {longitud_promedio:.2f} palabras\")"
   ]
  },
  {
   "cell_type": "markdown",
   "id": "40fff2a5-04fc-4620-afb8-0ecf3f407c76",
   "metadata": {},
   "source": [
    "**Por dataset**\n",
    "\n"
   ]
  },
  {
   "cell_type": "code",
   "execution_count": 83,
   "id": "2784cc53-32f9-4299-951a-885f02a1228e",
   "metadata": {},
   "outputs": [
    {
     "name": "stdout",
     "output_type": "stream",
     "text": [
      "\n",
      " Dataset: Android\n",
      "- Total registros: 1987\n",
      "- Distribución por nivel:\n",
      "Level\n",
      "Informativo    1817\n",
      "Advertencia     167\n",
      "Error             3\n",
      "Name: count, dtype: int64\n",
      "- Longitud promedio del mensaje: 7.26 palabras\n",
      "- Periodo: desde 2024-03-17 16:13:38.811 hasta 2024-03-17 16:16:09.141\n",
      "\n",
      " Dataset: Apache\n",
      "- Total registros: 1461\n",
      "- Distribución por nivel:\n",
      "Level\n",
      "Informativo    1083\n",
      "Error           378\n",
      "Name: count, dtype: int64\n",
      "- Longitud promedio del mensaje: 3.84 palabras\n",
      "- Periodo: desde 2005-12-04 04:47:44.000 hasta 2005-12-05 19:15:57.000\n",
      "\n",
      " Dataset: BGL\n",
      "- Total registros: 1995\n",
      "- Distribución por nivel:\n",
      "Level\n",
      "Informativo    1596\n",
      "Error           391\n",
      "Advertencia       8\n",
      "Name: count, dtype: int64\n",
      "- Longitud promedio del mensaje: 4.94 palabras\n",
      "- Periodo: desde 2005-06-03 22:42:50 hasta 2006-01-03 15:13:09\n",
      "\n",
      " Dataset: Hadoop\n",
      "- Total registros: 1968\n",
      "- Distribución por nivel:\n",
      "Level\n",
      "Informativo    1011\n",
      "Advertencia     805\n",
      "Error           152\n",
      "Name: count, dtype: int64\n",
      "- Longitud promedio del mensaje: 6.43 palabras\n",
      "- Periodo: desde 2015-10-18 18:01:47.000 hasta 2015-10-18 18:10:55.000\n"
     ]
    }
   ],
   "source": [
    "# Agrupar por fuente\n",
    "grouped = df_all.groupby('source')\n",
    "\n",
    "# Recorrer cada grupo y calcular estadísticas\n",
    "for name, group in grouped:\n",
    "    print(f\"\\n Dataset: {name}\")\n",
    "    print(f\"- Total registros: {len(group)}\")\n",
    "    print(\"- Distribución por nivel:\")\n",
    "    print(group['Level'].value_counts())\n",
    "    print(f\"- Longitud promedio del mensaje: {group['content_length'].mean():.2f} palabras\")\n",
    "    print(f\"- Periodo: desde {group['datetime'].min()} hasta {group['datetime'].max()}\")\n"
   ]
  },
  {
   "cell_type": "code",
   "execution_count": null,
   "id": "84dc1e55-5d8d-44ec-ae44-17e29f806aca",
   "metadata": {},
   "outputs": [],
   "source": []
  },
  {
   "cell_type": "code",
   "execution_count": null,
   "id": "4420fd10-1313-4d37-9b53-e897377b80e1",
   "metadata": {},
   "outputs": [],
   "source": []
  },
  {
   "cell_type": "code",
   "execution_count": null,
   "id": "783565ef-c44e-420e-9e8e-1493cbd2b721",
   "metadata": {},
   "outputs": [],
   "source": []
  },
  {
   "cell_type": "code",
   "execution_count": null,
   "id": "6cc13ea9-b3c8-4096-b49a-de29154e187c",
   "metadata": {},
   "outputs": [],
   "source": []
  }
 ],
 "metadata": {
  "kernelspec": {
   "display_name": "Python 3 (ipykernel)",
   "language": "python",
   "name": "python3"
  },
  "language_info": {
   "codemirror_mode": {
    "name": "ipython",
    "version": 3
   },
   "file_extension": ".py",
   "mimetype": "text/x-python",
   "name": "python",
   "nbconvert_exporter": "python",
   "pygments_lexer": "ipython3",
   "version": "3.12.7"
  }
 },
 "nbformat": 4,
 "nbformat_minor": 5
}
