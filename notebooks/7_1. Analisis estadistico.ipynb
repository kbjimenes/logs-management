{
 "cells": [
  {
   "cell_type": "code",
   "execution_count": 63,
   "id": "a9ce19f7-a64d-47e6-80b8-21e0dfce730c",
   "metadata": {},
   "outputs": [],
   "source": [
    "import pandas as pd\n",
    "import matplotlib.pyplot as plt\n",
    "import seaborn as sns\n",
    "from scipy.stats import friedmanchisquare\n",
    "import scikit_posthocs as sp"
   ]
  },
  {
   "cell_type": "code",
   "execution_count": 19,
   "id": "ee90564e-9be5-489d-b2f2-9a26bf29430d",
   "metadata": {},
   "outputs": [
    {
     "name": "stdout",
     "output_type": "stream",
     "text": [
      "(320, 4)\n"
     ]
    },
    {
     "data": {
      "text/html": [
       "<div>\n",
       "<style scoped>\n",
       "    .dataframe tbody tr th:only-of-type {\n",
       "        vertical-align: middle;\n",
       "    }\n",
       "\n",
       "    .dataframe tbody tr th {\n",
       "        vertical-align: top;\n",
       "    }\n",
       "\n",
       "    .dataframe thead th {\n",
       "        text-align: right;\n",
       "    }\n",
       "</style>\n",
       "<table border=\"1\" class=\"dataframe\">\n",
       "  <thead>\n",
       "    <tr style=\"text-align: right;\">\n",
       "      <th></th>\n",
       "      <th>Content</th>\n",
       "      <th>Clean_Content</th>\n",
       "      <th>Level</th>\n",
       "      <th>PrioridadEtiqueta</th>\n",
       "    </tr>\n",
       "  </thead>\n",
       "  <tbody>\n",
       "    <tr>\n",
       "      <th>0</th>\n",
       "      <td>mod_jk child workerEnv in error state 6</td>\n",
       "      <td>child workerenv error state</td>\n",
       "      <td>Error</td>\n",
       "      <td>Error</td>\n",
       "    </tr>\n",
       "    <tr>\n",
       "      <th>1</th>\n",
       "      <td>mod_jk child workerEnv in error state 6</td>\n",
       "      <td>child workerenv error state</td>\n",
       "      <td>Error</td>\n",
       "      <td>Error</td>\n",
       "    </tr>\n",
       "    <tr>\n",
       "      <th>2</th>\n",
       "      <td>mod_jk child workerEnv in error state 7</td>\n",
       "      <td>child workerenv error state</td>\n",
       "      <td>Error</td>\n",
       "      <td>Error</td>\n",
       "    </tr>\n",
       "    <tr>\n",
       "      <th>3</th>\n",
       "      <td>mod_jk child workerEnv in error state 7</td>\n",
       "      <td>child workerenv error state</td>\n",
       "      <td>Error</td>\n",
       "      <td>Error</td>\n",
       "    </tr>\n",
       "    <tr>\n",
       "      <th>4</th>\n",
       "      <td>jk2_init() Found child 6755 in scoreboard slot 6</td>\n",
       "      <td>child scoreboard slot</td>\n",
       "      <td>Informativo</td>\n",
       "      <td>Informativo</td>\n",
       "    </tr>\n",
       "  </tbody>\n",
       "</table>\n",
       "</div>"
      ],
      "text/plain": [
       "                                            Content  \\\n",
       "0           mod_jk child workerEnv in error state 6   \n",
       "1           mod_jk child workerEnv in error state 6   \n",
       "2           mod_jk child workerEnv in error state 7   \n",
       "3           mod_jk child workerEnv in error state 7   \n",
       "4  jk2_init() Found child 6755 in scoreboard slot 6   \n",
       "\n",
       "                 Clean_Content        Level PrioridadEtiqueta  \n",
       "0  child workerenv error state        Error             Error  \n",
       "1  child workerenv error state        Error             Error  \n",
       "2  child workerenv error state        Error             Error  \n",
       "3  child workerenv error state        Error             Error  \n",
       "4        child scoreboard slot  Informativo       Informativo  "
      ]
     },
     "execution_count": 19,
     "metadata": {},
     "output_type": "execute_result"
    }
   ],
   "source": [
    "dir_path = \"../process/\"\n",
    "#logs_df = pd.read_csv(f\"{dir_path}external_test_data.csv\", encoding='utf-8')\n",
    "logs_df_1 = pd.read_csv(f\"{dir_path}3_22external_test_data_heuristic_prediction.csv\", encoding='utf-8')\n",
    "logs_df_1=logs_df_1[[\"Content\", \"Clean_Content\", \"Level\", \"PrioridadEtiqueta\"]]\n",
    "print(logs_df_1.shape)\n",
    "logs_df_1.head()"
   ]
  },
  {
   "cell_type": "code",
   "execution_count": 21,
   "id": "7e3d13ee-900d-426b-bca0-42bf72e9665a",
   "metadata": {},
   "outputs": [
    {
     "name": "stdout",
     "output_type": "stream",
     "text": [
      "(320, 7)\n"
     ]
    },
    {
     "data": {
      "text/html": [
       "<div>\n",
       "<style scoped>\n",
       "    .dataframe tbody tr th:only-of-type {\n",
       "        vertical-align: middle;\n",
       "    }\n",
       "\n",
       "    .dataframe tbody tr th {\n",
       "        vertical-align: top;\n",
       "    }\n",
       "\n",
       "    .dataframe thead th {\n",
       "        text-align: right;\n",
       "    }\n",
       "</style>\n",
       "<table border=\"1\" class=\"dataframe\">\n",
       "  <thead>\n",
       "    <tr style=\"text-align: right;\">\n",
       "      <th></th>\n",
       "      <th>Clean_Content</th>\n",
       "      <th>Predicted_Level</th>\n",
       "    </tr>\n",
       "  </thead>\n",
       "  <tbody>\n",
       "    <tr>\n",
       "      <th>0</th>\n",
       "      <td>animating brightness target rate</td>\n",
       "      <td>Informativo</td>\n",
       "    </tr>\n",
       "    <tr>\n",
       "      <th>1</th>\n",
       "      <td>getrunningappprocesses caller does hold limiti...</td>\n",
       "      <td>Advertencia</td>\n",
       "    </tr>\n",
       "    <tr>\n",
       "      <th>2</th>\n",
       "      <td>issimpinsecure msimdatas null</td>\n",
       "      <td>Informativo</td>\n",
       "    </tr>\n",
       "    <tr>\n",
       "      <th>3</th>\n",
       "      <td>child scoreboard slot</td>\n",
       "      <td>Informativo</td>\n",
       "    </tr>\n",
       "    <tr>\n",
       "      <th>4</th>\n",
       "      <td>workerenv init ok httpd conf properties</td>\n",
       "      <td>Informativo</td>\n",
       "    </tr>\n",
       "  </tbody>\n",
       "</table>\n",
       "</div>"
      ],
      "text/plain": [
       "                                       Clean_Content Predicted_Level\n",
       "0                   animating brightness target rate     Informativo\n",
       "1  getrunningappprocesses caller does hold limiti...     Advertencia\n",
       "2                      issimpinsecure msimdatas null     Informativo\n",
       "3                              child scoreboard slot     Informativo\n",
       "4            workerenv init ok httpd conf properties     Informativo"
      ]
     },
     "execution_count": 21,
     "metadata": {},
     "output_type": "execute_result"
    }
   ],
   "source": [
    "logs_df_2 = pd.read_csv(f\"{dir_path}4_10external_test_data_tdidf_prediction.csv\", encoding='utf-8')\n",
    "print(logs_df_2.shape)\n",
    "logs_df_2=logs_df_2[[\"Clean_Content\", \"Predicted_Level\"]]\n",
    "\n",
    "logs_df_2.head()"
   ]
  },
  {
   "cell_type": "code",
   "execution_count": 22,
   "id": "8ce9efe8-9c47-4d48-b2a7-f47adf8d6369",
   "metadata": {},
   "outputs": [
    {
     "name": "stdout",
     "output_type": "stream",
     "text": [
      "(320, 7)\n"
     ]
    },
    {
     "data": {
      "text/html": [
       "<div>\n",
       "<style scoped>\n",
       "    .dataframe tbody tr th:only-of-type {\n",
       "        vertical-align: middle;\n",
       "    }\n",
       "\n",
       "    .dataframe tbody tr th {\n",
       "        vertical-align: top;\n",
       "    }\n",
       "\n",
       "    .dataframe thead th {\n",
       "        text-align: right;\n",
       "    }\n",
       "</style>\n",
       "<table border=\"1\" class=\"dataframe\">\n",
       "  <thead>\n",
       "    <tr style=\"text-align: right;\">\n",
       "      <th></th>\n",
       "      <th>Clean_Content</th>\n",
       "      <th>Predicted_Level</th>\n",
       "    </tr>\n",
       "  </thead>\n",
       "  <tbody>\n",
       "    <tr>\n",
       "      <th>0</th>\n",
       "      <td>animating brightness target rate</td>\n",
       "      <td>Informativo</td>\n",
       "    </tr>\n",
       "    <tr>\n",
       "      <th>1</th>\n",
       "      <td>getrunningappprocesses caller does hold limiti...</td>\n",
       "      <td>Advertencia</td>\n",
       "    </tr>\n",
       "    <tr>\n",
       "      <th>2</th>\n",
       "      <td>issimpinsecure msimdatas null</td>\n",
       "      <td>Error</td>\n",
       "    </tr>\n",
       "    <tr>\n",
       "      <th>3</th>\n",
       "      <td>child scoreboard slot</td>\n",
       "      <td>Informativo</td>\n",
       "    </tr>\n",
       "    <tr>\n",
       "      <th>4</th>\n",
       "      <td>workerenv init ok httpd conf properties</td>\n",
       "      <td>Informativo</td>\n",
       "    </tr>\n",
       "  </tbody>\n",
       "</table>\n",
       "</div>"
      ],
      "text/plain": [
       "                                       Clean_Content Predicted_Level\n",
       "0                   animating brightness target rate     Informativo\n",
       "1  getrunningappprocesses caller does hold limiti...     Advertencia\n",
       "2                      issimpinsecure msimdatas null           Error\n",
       "3                              child scoreboard slot     Informativo\n",
       "4            workerenv init ok httpd conf properties     Informativo"
      ]
     },
     "execution_count": 22,
     "metadata": {},
     "output_type": "execute_result"
    }
   ],
   "source": [
    "logs_df_3= pd.read_csv(f\"{dir_path}5_10external_test_data_word2vect_prediction.csv\", encoding='utf-8')\n",
    "print(logs_df_3.shape)\n",
    "logs_df_3=logs_df_3[[\"Clean_Content\", \"Predicted_Level\"]]\n",
    "\n",
    "logs_df_3.head()"
   ]
  },
  {
   "cell_type": "code",
   "execution_count": 20,
   "id": "2d11179d-f5ed-42ee-88a0-f45274233671",
   "metadata": {},
   "outputs": [],
   "source": [
    "#logs_df_1"
   ]
  },
  {
   "cell_type": "code",
   "execution_count": 24,
   "id": "58d97030-2b4a-4a01-b451-6670c1ab3f80",
   "metadata": {},
   "outputs": [],
   "source": [
    "# Merge all on 'Content'\n",
    "merged = pd.merge(logs_df_1, logs_df_2, on='Clean_Content')\n",
    "merged = pd.merge(merged, logs_df_3, on='Clean_Content')"
   ]
  },
  {
   "cell_type": "code",
   "execution_count": 28,
   "id": "2ca84dca-f66e-43fb-a2a2-baddb04fd4ee",
   "metadata": {},
   "outputs": [
    {
     "data": {
      "text/html": [
       "<div>\n",
       "<style scoped>\n",
       "    .dataframe tbody tr th:only-of-type {\n",
       "        vertical-align: middle;\n",
       "    }\n",
       "\n",
       "    .dataframe tbody tr th {\n",
       "        vertical-align: top;\n",
       "    }\n",
       "\n",
       "    .dataframe thead th {\n",
       "        text-align: right;\n",
       "    }\n",
       "</style>\n",
       "<table border=\"1\" class=\"dataframe\">\n",
       "  <thead>\n",
       "    <tr style=\"text-align: right;\">\n",
       "      <th></th>\n",
       "      <th>Content</th>\n",
       "      <th>Clean_Content</th>\n",
       "      <th>real</th>\n",
       "      <th>heuristicas</th>\n",
       "      <th>tfidf</th>\n",
       "      <th>word2vec</th>\n",
       "    </tr>\n",
       "  </thead>\n",
       "  <tbody>\n",
       "    <tr>\n",
       "      <th>0</th>\n",
       "      <td>mod_jk child workerEnv in error state 6</td>\n",
       "      <td>child workerenv error state</td>\n",
       "      <td>Error</td>\n",
       "      <td>Error</td>\n",
       "      <td>Error</td>\n",
       "      <td>Error</td>\n",
       "    </tr>\n",
       "    <tr>\n",
       "      <th>1</th>\n",
       "      <td>mod_jk child workerEnv in error state 6</td>\n",
       "      <td>child workerenv error state</td>\n",
       "      <td>Error</td>\n",
       "      <td>Error</td>\n",
       "      <td>Error</td>\n",
       "      <td>Error</td>\n",
       "    </tr>\n",
       "    <tr>\n",
       "      <th>2</th>\n",
       "      <td>mod_jk child workerEnv in error state 6</td>\n",
       "      <td>child workerenv error state</td>\n",
       "      <td>Error</td>\n",
       "      <td>Error</td>\n",
       "      <td>Error</td>\n",
       "      <td>Error</td>\n",
       "    </tr>\n",
       "    <tr>\n",
       "      <th>3</th>\n",
       "      <td>mod_jk child workerEnv in error state 6</td>\n",
       "      <td>child workerenv error state</td>\n",
       "      <td>Error</td>\n",
       "      <td>Error</td>\n",
       "      <td>Error</td>\n",
       "      <td>Error</td>\n",
       "    </tr>\n",
       "    <tr>\n",
       "      <th>4</th>\n",
       "      <td>mod_jk child workerEnv in error state 6</td>\n",
       "      <td>child workerenv error state</td>\n",
       "      <td>Error</td>\n",
       "      <td>Error</td>\n",
       "      <td>Error</td>\n",
       "      <td>Error</td>\n",
       "    </tr>\n",
       "  </tbody>\n",
       "</table>\n",
       "</div>"
      ],
      "text/plain": [
       "                                   Content                Clean_Content  \\\n",
       "0  mod_jk child workerEnv in error state 6  child workerenv error state   \n",
       "1  mod_jk child workerEnv in error state 6  child workerenv error state   \n",
       "2  mod_jk child workerEnv in error state 6  child workerenv error state   \n",
       "3  mod_jk child workerEnv in error state 6  child workerenv error state   \n",
       "4  mod_jk child workerEnv in error state 6  child workerenv error state   \n",
       "\n",
       "    real heuristicas  tfidf word2vec  \n",
       "0  Error       Error  Error    Error  \n",
       "1  Error       Error  Error    Error  \n",
       "2  Error       Error  Error    Error  \n",
       "3  Error       Error  Error    Error  \n",
       "4  Error       Error  Error    Error  "
      ]
     },
     "execution_count": 28,
     "metadata": {},
     "output_type": "execute_result"
    }
   ],
   "source": [
    "merged.columns =[\"Content\", \"Clean_Content\", \"real\", \"heuristicas\", \"tfidf\", \"word2vec\"]\n",
    "\n",
    "merged.head()"
   ]
  },
  {
   "cell_type": "markdown",
   "id": "38e7183c-e6ed-4fe4-bed4-5f0f08820708",
   "metadata": {},
   "source": [
    "###  Paso 1: Calcular si cada predicción fue correcta"
   ]
  },
  {
   "cell_type": "code",
   "execution_count": 54,
   "id": "9f859248-b415-4e2c-b17e-50678be62194",
   "metadata": {},
   "outputs": [
    {
     "data": {
      "text/html": [
       "<div>\n",
       "<style scoped>\n",
       "    .dataframe tbody tr th:only-of-type {\n",
       "        vertical-align: middle;\n",
       "    }\n",
       "\n",
       "    .dataframe tbody tr th {\n",
       "        vertical-align: top;\n",
       "    }\n",
       "\n",
       "    .dataframe thead th {\n",
       "        text-align: right;\n",
       "    }\n",
       "</style>\n",
       "<table border=\"1\" class=\"dataframe\">\n",
       "  <thead>\n",
       "    <tr style=\"text-align: right;\">\n",
       "      <th></th>\n",
       "      <th>Content</th>\n",
       "      <th>Clean_Content</th>\n",
       "      <th>real</th>\n",
       "      <th>heuristicas</th>\n",
       "      <th>tfidf</th>\n",
       "      <th>word2vec</th>\n",
       "      <th>heuristicas_correcto</th>\n",
       "      <th>tfidf_correcto</th>\n",
       "      <th>word2vec_correcto</th>\n",
       "    </tr>\n",
       "  </thead>\n",
       "  <tbody>\n",
       "    <tr>\n",
       "      <th>0</th>\n",
       "      <td>mod_jk child workerEnv in error state 6</td>\n",
       "      <td>child workerenv error state</td>\n",
       "      <td>Error</td>\n",
       "      <td>Error</td>\n",
       "      <td>Error</td>\n",
       "      <td>Error</td>\n",
       "      <td>1</td>\n",
       "      <td>1</td>\n",
       "      <td>1</td>\n",
       "    </tr>\n",
       "    <tr>\n",
       "      <th>1</th>\n",
       "      <td>mod_jk child workerEnv in error state 6</td>\n",
       "      <td>child workerenv error state</td>\n",
       "      <td>Error</td>\n",
       "      <td>Error</td>\n",
       "      <td>Error</td>\n",
       "      <td>Error</td>\n",
       "      <td>1</td>\n",
       "      <td>1</td>\n",
       "      <td>1</td>\n",
       "    </tr>\n",
       "    <tr>\n",
       "      <th>2</th>\n",
       "      <td>mod_jk child workerEnv in error state 6</td>\n",
       "      <td>child workerenv error state</td>\n",
       "      <td>Error</td>\n",
       "      <td>Error</td>\n",
       "      <td>Error</td>\n",
       "      <td>Error</td>\n",
       "      <td>1</td>\n",
       "      <td>1</td>\n",
       "      <td>1</td>\n",
       "    </tr>\n",
       "    <tr>\n",
       "      <th>3</th>\n",
       "      <td>mod_jk child workerEnv in error state 6</td>\n",
       "      <td>child workerenv error state</td>\n",
       "      <td>Error</td>\n",
       "      <td>Error</td>\n",
       "      <td>Error</td>\n",
       "      <td>Error</td>\n",
       "      <td>1</td>\n",
       "      <td>1</td>\n",
       "      <td>1</td>\n",
       "    </tr>\n",
       "    <tr>\n",
       "      <th>4</th>\n",
       "      <td>mod_jk child workerEnv in error state 6</td>\n",
       "      <td>child workerenv error state</td>\n",
       "      <td>Error</td>\n",
       "      <td>Error</td>\n",
       "      <td>Error</td>\n",
       "      <td>Error</td>\n",
       "      <td>1</td>\n",
       "      <td>1</td>\n",
       "      <td>1</td>\n",
       "    </tr>\n",
       "  </tbody>\n",
       "</table>\n",
       "</div>"
      ],
      "text/plain": [
       "                                   Content                Clean_Content  \\\n",
       "0  mod_jk child workerEnv in error state 6  child workerenv error state   \n",
       "1  mod_jk child workerEnv in error state 6  child workerenv error state   \n",
       "2  mod_jk child workerEnv in error state 6  child workerenv error state   \n",
       "3  mod_jk child workerEnv in error state 6  child workerenv error state   \n",
       "4  mod_jk child workerEnv in error state 6  child workerenv error state   \n",
       "\n",
       "    real heuristicas  tfidf word2vec  heuristicas_correcto  tfidf_correcto  \\\n",
       "0  Error       Error  Error    Error                     1               1   \n",
       "1  Error       Error  Error    Error                     1               1   \n",
       "2  Error       Error  Error    Error                     1               1   \n",
       "3  Error       Error  Error    Error                     1               1   \n",
       "4  Error       Error  Error    Error                     1               1   \n",
       "\n",
       "   word2vec_correcto  \n",
       "0                  1  \n",
       "1                  1  \n",
       "2                  1  \n",
       "3                  1  \n",
       "4                  1  "
      ]
     },
     "execution_count": 54,
     "metadata": {},
     "output_type": "execute_result"
    }
   ],
   "source": [
    "\n",
    "for col in ['heuristicas', 'tfidf', 'word2vec']:\n",
    "    merged[f'{col}_correcto'] = (merged['real'] == merged[col]).astype(int)\n",
    "\n",
    "# Verificamos que los datos estén correctos\n",
    "merged.head()\n"
   ]
  },
  {
   "cell_type": "markdown",
   "id": "5454446d-8145-4f14-ad22-cdf40fc8d162",
   "metadata": {},
   "source": [
    "## Paso 2: Prueba de Friedman"
   ]
  },
  {
   "cell_type": "code",
   "execution_count": 64,
   "id": "feb62919-db98-431d-90c0-34bb0175bca8",
   "metadata": {},
   "outputs": [
    {
     "name": "stdout",
     "output_type": "stream",
     "text": [
      "Estadístico de Friedman: 14174.154, p-valor: 0.0000\n"
     ]
    }
   ],
   "source": [
    "# 2. Aplicar la prueba de Friedman\n",
    "stat, p = friedmanchisquare(\n",
    "    merged['heuristicas_correcto'],\n",
    "    merged['tfidf_correcto'],\n",
    "    merged['word2vec_correcto']\n",
    ")\n",
    "print(f\"Estadístico de Friedman: {stat:.3f}, p-valor: {p:.4f}\")"
   ]
  },
  {
   "cell_type": "markdown",
   "id": "920507ba-23ca-46b9-a20d-8c09000f1c5c",
   "metadata": {},
   "source": [
    "###  Paso 3: Prueba post-hoc"
   ]
  },
  {
   "cell_type": "code",
   "execution_count": 66,
   "id": "7e2102a3-c627-4ef4-858d-9e0dfae419ce",
   "metadata": {},
   "outputs": [
    {
     "name": "stdout",
     "output_type": "stream",
     "text": [
      "                 modelo  correcto\n",
      "0  heuristicas_correcto         1\n",
      "1  heuristicas_correcto         1\n",
      "2  heuristicas_correcto         1\n",
      "3  heuristicas_correcto         1\n",
      "4  heuristicas_correcto         1\n",
      "\n",
      "Test post-hoc de Dunn-Holm (p-valores):\n",
      "                       heuristicas_correcto  tfidf_correcto  word2vec_correcto\n",
      "heuristicas_correcto          1.000000e+00    1.683417e-15       1.683417e-15\n",
      "tfidf_correcto                1.683417e-15    1.000000e+00       9.863778e-01\n",
      "word2vec_correcto             1.683417e-15    9.863778e-01       1.000000e+00\n"
     ]
    }
   ],
   "source": [
    "# 3. Reorganizar los datos en formato largo para la prueba post-hoc\n",
    "long_data = pd.melt(\n",
    "    merged[['heuristicas_correcto', 'tfidf_correcto', 'word2vec_correcto']],\n",
    "    var_name='modelo', value_name='correcto'\n",
    ")\n",
    "\n",
    "# Asegurarse de que las columnas existen\n",
    "print(long_data.head())  # Esto debe mostrar columnas: 'modelo' y 'correcto'\n",
    "\n",
    "# 4. Aplicar prueba de Dunn con corrección de Holm\n",
    "dunn = sp.posthoc_dunn(long_data, group_col='modelo', val_col='correcto', p_adjust='holm')\n",
    "print(\"\\nTest post-hoc de Dunn-Holm (p-valores):\\n\", dunn)\n"
   ]
  },
  {
   "cell_type": "code",
   "execution_count": 69,
   "id": "63a160f0-d7bd-4562-abaf-ab2d9f0ae398",
   "metadata": {},
   "outputs": [
    {
     "data": {
      "text/plain": [
       "tfidf_correcto          1.996729\n",
       "word2vec_correcto       1.996750\n",
       "heuristicas_correcto    2.006521\n",
       "dtype: float64"
      ]
     },
     "execution_count": 69,
     "metadata": {},
     "output_type": "execute_result"
    }
   ],
   "source": [
    "# Paso 4: Calcular rangos promedio por fila\n",
    "ranking_data = merged[['heuristicas_correcto', 'tfidf_correcto', 'word2vec_correcto']]\n",
    "avg_ranks = ranking_data.rank(axis=1, method='average', ascending=False).mean()\n",
    "avg_ranks = avg_ranks.sort_values()\n",
    "avg_ranks"
   ]
  },
  {
   "cell_type": "code",
   "execution_count": 73,
   "id": "8f318b98-3964-4146-bfbc-29f9358b720c",
   "metadata": {},
   "outputs": [
    {
     "data": {
      "image/png": "[encoded data removed]",
      "text/plain": [
       "<Figure size 1200x500 with 2 Axes>"
      ]
     },
     "metadata": {},
     "output_type": "display_data"
    }
   ],
   "source": [
    "import seaborn as sns\n",
    "import matplotlib.pyplot as plt\n",
    "\n",
    "# Crear un heatmap de los p-valores\n",
    "plt.figure(figsize=(12, 5))\n",
    "sns.heatmap(dunn, annot=True, fmt=\".3f\", cmap=\"coolwarm_r\", cbar_kws={'label': 'p-valor'}, linewidths=0.5)\n",
    "\n",
    "# Añadir detalles al gráfico\n",
    "plt.title(\"Test post-hoc de Dunn (p-valores por pares)\")\n",
    "plt.yticks(rotation=0)\n",
    "plt.tight_layout()\n",
    "plt.show()\n"
   ]
  },
  {
   "cell_type": "code",
   "execution_count": 75,
   "id": "15b96e67-9260-4a14-a036-ad261506fb2e",
   "metadata": {},
   "outputs": [
    {
     "data": {
      "image/png": "[encoded data removed]",
      "text/plain": [
       "<Figure size 1200x500 with 2 Axes>"
      ]
     },
     "metadata": {},
     "output_type": "display_data"
    }
   ],
   "source": [
    "import numpy as np\n",
    "import seaborn as sns\n",
    "import matplotlib.pyplot as plt\n",
    "\n",
    "# Paso 1: Obtener solo las columnas correctas\n",
    "scores = merged[['heuristicas_correcto', 'tfidf_correcto', 'word2vec_correcto']]\n",
    "\n",
    "# Paso 2: Calcular la matriz de diferencias de medias\n",
    "models = scores.columns\n",
    "diff_means = pd.DataFrame(index=models, columns=models, dtype=float)\n",
    "\n",
    "for i in models:\n",
    "    for j in models:\n",
    "        diff_means.loc[i, j] = scores[i].mean() - scores[j].mean()\n",
    "\n",
    "# Paso 3: Graficar heatmap de diferencias de medias\n",
    "plt.figure(figsize=(12, 5))\n",
    "sns.heatmap(diff_means.astype(float), annot=True, fmt=\".2f\", cmap=\"RdBu\", center=0,\n",
    "            linewidths=0.5, cbar_kws={\"label\": \"Diferencia de medias\"})\n",
    "\n",
    "plt.title(\"Diferencias de medias entre modelos\")\n",
    "plt.yticks(rotation=0)\n",
    "plt.tight_layout()\n",
    "plt.show()\n"
   ]
  },
  {
   "cell_type": "code",
   "execution_count": 81,
   "id": "c2c00751-3414-4ec9-acd3-a86c06643bec",
   "metadata": {},
   "outputs": [
    {
     "data": {
      "image/png": "[encoded data removed]",
      "text/plain": [
       "<Figure size 800x500 with 1 Axes>"
      ]
     },
     "metadata": {},
     "output_type": "display_data"
    }
   ],
   "source": [
    "import itertools\n",
    "import numpy as np\n",
    "import pandas as pd\n",
    "import matplotlib.pyplot as plt\n",
    "import seaborn as sns\n",
    "\n",
    "# Modelos evaluados\n",
    "models = ['heuristicas_correcto', 'tfidf_correcto', 'word2vec_correcto']\n",
    "model_names = {\n",
    "    'heuristicas_correcto': 'R. Heurísticas',\n",
    "    'tfidf_correcto': 'TF-IDF con LR',\n",
    "    'word2vec_correcto': 'Word2Vec con LR'\n",
    "}\n",
    "\n",
    "# Función bootstrap para intervalo de confianza de diferencia de medias\n",
    "def bootstrap_diff_mean(a, b, n_bootstrap=1000, ci=95):\n",
    "    diffs = []\n",
    "    for _ in range(n_bootstrap):\n",
    "        sample_a = np.random.choice(a, size=len(a), replace=True)\n",
    "        sample_b = np.random.choice(b, size=len(b), replace=True)\n",
    "        diffs.append(np.mean(sample_a) - np.mean(sample_b))\n",
    "    lower = np.percentile(diffs, (100 - ci) / 2)\n",
    "    upper = np.percentile(diffs, 100 - (100 - ci) / 2)\n",
    "    return np.mean(diffs), lower, upper\n",
    "\n",
    "# Comparaciones por pares\n",
    "results = []\n",
    "for m1, m2 in itertools.combinations(models, 2):\n",
    "    mean_diff, ci_lower, ci_upper = bootstrap_diff_mean(merged[m1], merged[m2])\n",
    "    results.append({\n",
    "        'comparison': f\"{model_names[m1]} - {model_names[m2]}\",\n",
    "        'mean_diff': mean_diff,\n",
    "        'ci_lower': ci_lower,\n",
    "        'ci_upper': ci_upper\n",
    "    })\n",
    "\n",
    "# Crear DataFrame\n",
    "results_df = pd.DataFrame(results)\n",
    "\n",
    "# Gráfico tipo Tukey plot\n",
    "plt.figure(figsize=(8, 5))\n",
    "for i, row in results_df.iterrows():\n",
    "    plt.plot([row['ci_lower'], row['ci_upper']], [i, i], color='black')\n",
    "    plt.plot(row['mean_diff'], i, 'o', color='black')\n",
    "\n",
    "plt.axvline(0, linestyle='--', color='gray')\n",
    "plt.yticks(range(len(results_df)), results_df['comparison'])\n",
    "plt.xlabel(\"Diferencias en la media de aciertos\")\n",
    "plt.title(\"Comparación de enfoques por pares\")\n",
    "plt.grid(True, axis='x', linestyle='--', alpha=0.5)\n",
    "plt.tight_layout()\n",
    "plt.show()\n"
   ]
  },
  {
   "cell_type": "code",
   "execution_count": null,
   "id": "9700e48f-678d-48c3-87d3-e15cff27ce6e",
   "metadata": {},
   "outputs": [],
   "source": []
  }
 ],
 "metadata": {
  "kernelspec": {
   "display_name": "Python 3 (ipykernel)",
   "language": "python",
   "name": "python3"
  },
  "language_info": {
   "codemirror_mode": {
    "name": "ipython",
    "version": 3
   },
   "file_extension": ".py",
   "mimetype": "text/x-python",
   "name": "python",
   "nbconvert_exporter": "python",
   "pygments_lexer": "ipython3",
   "version": "3.12.7"
  }
 },
 "nbformat": 4,
 "nbformat_minor": 5
}
