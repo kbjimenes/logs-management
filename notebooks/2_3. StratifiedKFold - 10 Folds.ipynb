{
 "cells": [
  {
   "cell_type": "code",
   "execution_count": 4,
   "id": "54305fc1-98cb-443b-b370-68d9319acec5",
   "metadata": {},
   "outputs": [],
   "source": [
    "import pandas as pd\n",
    "import pandas as pd\n",
    "import numpy as np\n",
    "import random\n",
    "import os\n",
    "from sklearn.model_selection import StratifiedKFold"
   ]
  },
  {
   "cell_type": "code",
   "execution_count": 5,
   "id": "77ff270a-5e87-404f-ad74-9e0d4159efa1",
   "metadata": {},
   "outputs": [],
   "source": [
    "SEED = 42 \n",
    "random.seed(SEED)\n",
    "np.random.seed(SEED)\n",
    "os.environ['PYTHONHASHSEED'] = str(SEED)"
   ]
  },
  {
   "cell_type": "code",
   "execution_count": 6,
   "id": "b6d02dcc-2d19-48c9-b97f-7a398d72ea07",
   "metadata": {},
   "outputs": [
    {
     "name": "stdout",
     "output_type": "stream",
     "text": [
      "{'Hadoop', 'Apache', 'BGL', 'Android', 'Zookeeper'}\n",
      "(9090, 6)\n",
      "Index(['Content', 'Level', 'datetime', 'content_length', 'source',\n",
      "       'Clean_Content'],\n",
      "      dtype='object')\n"
     ]
    },
    {
     "data": {
      "text/html": [
       "<div>\n",
       "<style scoped>\n",
       "    .dataframe tbody tr th:only-of-type {\n",
       "        vertical-align: middle;\n",
       "    }\n",
       "\n",
       "    .dataframe tbody tr th {\n",
       "        vertical-align: top;\n",
       "    }\n",
       "\n",
       "    .dataframe thead th {\n",
       "        text-align: right;\n",
       "    }\n",
       "</style>\n",
       "<table border=\"1\" class=\"dataframe\">\n",
       "  <thead>\n",
       "    <tr style=\"text-align: right;\">\n",
       "      <th></th>\n",
       "      <th>Content</th>\n",
       "      <th>Level</th>\n",
       "      <th>datetime</th>\n",
       "      <th>content_length</th>\n",
       "      <th>source</th>\n",
       "      <th>Clean_Content</th>\n",
       "    </tr>\n",
       "  </thead>\n",
       "  <tbody>\n",
       "    <tr>\n",
       "      <th>0</th>\n",
       "      <td>setLightsOn(true)</td>\n",
       "      <td>Informativo</td>\n",
       "      <td>2024-03-17 16:14:21.261</td>\n",
       "      <td>2</td>\n",
       "      <td>Android</td>\n",
       "      <td>setlightson true</td>\n",
       "    </tr>\n",
       "    <tr>\n",
       "      <th>1</th>\n",
       "      <td>suspendAutohide</td>\n",
       "      <td>Informativo</td>\n",
       "      <td>2024-03-17 16:13:46.350</td>\n",
       "      <td>1</td>\n",
       "      <td>Android</td>\n",
       "      <td>suspendautohide</td>\n",
       "    </tr>\n",
       "    <tr>\n",
       "      <th>2</th>\n",
       "      <td>setLightsOn(true)</td>\n",
       "      <td>Informativo</td>\n",
       "      <td>2024-03-17 16:14:01.964</td>\n",
       "      <td>2</td>\n",
       "      <td>Android</td>\n",
       "      <td>setlightson true</td>\n",
       "    </tr>\n",
       "    <tr>\n",
       "      <th>3</th>\n",
       "      <td>setSystemUiVisibility vis=0 mask=1 oldVal=4000...</td>\n",
       "      <td>Informativo</td>\n",
       "      <td>2024-03-17 16:14:09.564</td>\n",
       "      <td>12</td>\n",
       "      <td>Android</td>\n",
       "      <td>setsystemuivisibility vis mask oldval newval d...</td>\n",
       "    </tr>\n",
       "    <tr>\n",
       "      <th>4</th>\n",
       "      <td>userActivityNoUpdateLocked: eventTime=26199130...</td>\n",
       "      <td>Informativo</td>\n",
       "      <td>2024-03-17 16:16:06.670</td>\n",
       "      <td>5</td>\n",
       "      <td>Android</td>\n",
       "      <td>useractivitynoupdatelocked eventtime event fla...</td>\n",
       "    </tr>\n",
       "  </tbody>\n",
       "</table>\n",
       "</div>"
      ],
      "text/plain": [
       "                                             Content        Level  \\\n",
       "0                                  setLightsOn(true)  Informativo   \n",
       "1                                    suspendAutohide  Informativo   \n",
       "2                                  setLightsOn(true)  Informativo   \n",
       "3  setSystemUiVisibility vis=0 mask=1 oldVal=4000...  Informativo   \n",
       "4  userActivityNoUpdateLocked: eventTime=26199130...  Informativo   \n",
       "\n",
       "                  datetime  content_length   source  \\\n",
       "0  2024-03-17 16:14:21.261               2  Android   \n",
       "1  2024-03-17 16:13:46.350               1  Android   \n",
       "2  2024-03-17 16:14:01.964               2  Android   \n",
       "3  2024-03-17 16:14:09.564              12  Android   \n",
       "4  2024-03-17 16:16:06.670               5  Android   \n",
       "\n",
       "                                       Clean_Content  \n",
       "0                                   setlightson true  \n",
       "1                                    suspendautohide  \n",
       "2                                   setlightson true  \n",
       "3  setsystemuivisibility vis mask oldval newval d...  \n",
       "4  useractivitynoupdatelocked eventtime event fla...  "
      ]
     },
     "execution_count": 6,
     "metadata": {},
     "output_type": "execute_result"
    }
   ],
   "source": [
    "dir_path = \"../process/\"\n",
    "# Cargar el archivo limpio\n",
    "df = pd.read_csv(f\"{dir_path}train_data.csv\")\n",
    "print(set(df[\"source\"]))\n",
    "# Verificar estructura y primeras filas\n",
    "print(df.shape)\n",
    "print(df.columns)\n",
    "df.head()"
   ]
  },
  {
   "cell_type": "code",
   "execution_count": 10,
   "id": "e7fc0cc8-d164-4d2c-b18e-10a3cd5eb961",
   "metadata": {},
   "outputs": [
    {
     "name": "stdout",
     "output_type": "stream",
     "text": [
      "Distribución original:\n",
      "Level\n",
      "Informativo    6038\n",
      "Advertencia    2253\n",
      "Error           799\n",
      "Name: count, dtype: int64\n"
     ]
    }
   ],
   "source": [
    "print(\"Distribución original:\")\n",
    "print(df['Level'].value_counts())"
   ]
  },
  {
   "cell_type": "code",
   "execution_count": 12,
   "id": "768875aa-3033-44de-849a-443b8a11240e",
   "metadata": {},
   "outputs": [
    {
     "name": "stderr",
     "output_type": "stream",
     "text": [
      "/tmp/ipykernel_12731/503412410.py:5: DeprecationWarning: DataFrameGroupBy.apply operated on the grouping columns. This behavior is deprecated, and in a future version of pandas the grouping columns will be excluded from the operation. Either pass `include_groups=False` to exclude the groupings or explicitly select the grouping columns after groupby to silence this warning.\n",
      "  .apply(lambda x: x.sample(n=min_count, random_state=42))\n"
     ]
    },
    {
     "data": {
      "text/plain": [
       "799"
      ]
     },
     "execution_count": 12,
     "metadata": {},
     "output_type": "execute_result"
    }
   ],
   "source": [
    "min_count = df['Level'].value_counts().min()\n",
    "\n",
    "balanced_df = (\n",
    "    df.groupby('Level')\n",
    "    .apply(lambda x: x.sample(n=min_count, random_state=42))\n",
    "    .reset_index(drop=True)\n",
    ")\n",
    "min_count"
   ]
  },
  {
   "cell_type": "code",
   "execution_count": 21,
   "id": "e3481c90-d6c2-4b20-8f1d-81ef68da2cb8",
   "metadata": {},
   "outputs": [
    {
     "name": "stdout",
     "output_type": "stream",
     "text": [
      "\n",
      " Fold 0 guardado:\n",
      "Train: {'Advertencia': 720, 'Error': 720, 'Informativo': 720} 2160\n",
      "Val:   {'Advertencia': 79, 'Error': 79, 'Informativo': 79} 237\n",
      "\n",
      " Fold 1 guardado:\n",
      "Train: {'Advertencia': 719, 'Error': 719, 'Informativo': 719} 2157\n",
      "Val:   {'Advertencia': 80, 'Error': 80, 'Informativo': 80} 240\n",
      "\n",
      " Fold 2 guardado:\n",
      "Train: {'Advertencia': 719, 'Error': 719, 'Informativo': 719} 2157\n",
      "Val:   {'Advertencia': 80, 'Error': 80, 'Informativo': 80} 240\n",
      "\n",
      " Fold 3 guardado:\n",
      "Train: {'Advertencia': 719, 'Error': 719, 'Informativo': 719} 2157\n",
      "Val:   {'Advertencia': 80, 'Error': 80, 'Informativo': 80} 240\n",
      "\n",
      " Fold 4 guardado:\n",
      "Train: {'Advertencia': 719, 'Error': 719, 'Informativo': 719} 2157\n",
      "Val:   {'Advertencia': 80, 'Error': 80, 'Informativo': 80} 240\n",
      "\n",
      " Fold 5 guardado:\n",
      "Train: {'Advertencia': 719, 'Error': 719, 'Informativo': 719} 2157\n",
      "Val:   {'Advertencia': 80, 'Error': 80, 'Informativo': 80} 240\n",
      "\n",
      " Fold 6 guardado:\n",
      "Train: {'Advertencia': 719, 'Error': 719, 'Informativo': 719} 2157\n",
      "Val:   {'Advertencia': 80, 'Error': 80, 'Informativo': 80} 240\n",
      "\n",
      " Fold 7 guardado:\n",
      "Train: {'Advertencia': 719, 'Error': 719, 'Informativo': 719} 2157\n",
      "Val:   {'Advertencia': 80, 'Error': 80, 'Informativo': 80} 240\n",
      "\n",
      " Fold 8 guardado:\n",
      "Train: {'Advertencia': 719, 'Error': 719, 'Informativo': 719} 2157\n",
      "Val:   {'Advertencia': 80, 'Error': 80, 'Informativo': 80} 240\n",
      "\n",
      " Fold 9 guardado:\n",
      "Train: {'Advertencia': 719, 'Error': 719, 'Informativo': 719} 2157\n",
      "Val:   {'Advertencia': 80, 'Error': 80, 'Informativo': 80} 240\n"
     ]
    },
    {
     "name": "stderr",
     "output_type": "stream",
     "text": [
      "/tmp/ipykernel_12731/1953447422.py:12: DeprecationWarning: DataFrameGroupBy.apply operated on the grouping columns. This behavior is deprecated, and in a future version of pandas the grouping columns will be excluded from the operation. Either pass `include_groups=False` to exclude the groupings or explicitly select the grouping columns after groupby to silence this warning.\n",
      "  .apply(lambda x: x.sample(n=min_count_train, random_state=SEED + fold))  # distinta semilla por fold\n",
      "/tmp/ipykernel_12731/1953447422.py:18: DeprecationWarning: DataFrameGroupBy.apply operated on the grouping columns. This behavior is deprecated, and in a future version of pandas the grouping columns will be excluded from the operation. Either pass `include_groups=False` to exclude the groupings or explicitly select the grouping columns after groupby to silence this warning.\n",
      "  .apply(lambda x: x.sample(n=min_count_val, random_state=SEED + fold))\n",
      "/tmp/ipykernel_12731/1953447422.py:12: DeprecationWarning: DataFrameGroupBy.apply operated on the grouping columns. This behavior is deprecated, and in a future version of pandas the grouping columns will be excluded from the operation. Either pass `include_groups=False` to exclude the groupings or explicitly select the grouping columns after groupby to silence this warning.\n",
      "  .apply(lambda x: x.sample(n=min_count_train, random_state=SEED + fold))  # distinta semilla por fold\n",
      "/tmp/ipykernel_12731/1953447422.py:18: DeprecationWarning: DataFrameGroupBy.apply operated on the grouping columns. This behavior is deprecated, and in a future version of pandas the grouping columns will be excluded from the operation. Either pass `include_groups=False` to exclude the groupings or explicitly select the grouping columns after groupby to silence this warning.\n",
      "  .apply(lambda x: x.sample(n=min_count_val, random_state=SEED + fold))\n",
      "/tmp/ipykernel_12731/1953447422.py:12: DeprecationWarning: DataFrameGroupBy.apply operated on the grouping columns. This behavior is deprecated, and in a future version of pandas the grouping columns will be excluded from the operation. Either pass `include_groups=False` to exclude the groupings or explicitly select the grouping columns after groupby to silence this warning.\n",
      "  .apply(lambda x: x.sample(n=min_count_train, random_state=SEED + fold))  # distinta semilla por fold\n",
      "/tmp/ipykernel_12731/1953447422.py:18: DeprecationWarning: DataFrameGroupBy.apply operated on the grouping columns. This behavior is deprecated, and in a future version of pandas the grouping columns will be excluded from the operation. Either pass `include_groups=False` to exclude the groupings or explicitly select the grouping columns after groupby to silence this warning.\n",
      "  .apply(lambda x: x.sample(n=min_count_val, random_state=SEED + fold))\n",
      "/tmp/ipykernel_12731/1953447422.py:12: DeprecationWarning: DataFrameGroupBy.apply operated on the grouping columns. This behavior is deprecated, and in a future version of pandas the grouping columns will be excluded from the operation. Either pass `include_groups=False` to exclude the groupings or explicitly select the grouping columns after groupby to silence this warning.\n",
      "  .apply(lambda x: x.sample(n=min_count_train, random_state=SEED + fold))  # distinta semilla por fold\n",
      "/tmp/ipykernel_12731/1953447422.py:18: DeprecationWarning: DataFrameGroupBy.apply operated on the grouping columns. This behavior is deprecated, and in a future version of pandas the grouping columns will be excluded from the operation. Either pass `include_groups=False` to exclude the groupings or explicitly select the grouping columns after groupby to silence this warning.\n",
      "  .apply(lambda x: x.sample(n=min_count_val, random_state=SEED + fold))\n",
      "/tmp/ipykernel_12731/1953447422.py:12: DeprecationWarning: DataFrameGroupBy.apply operated on the grouping columns. This behavior is deprecated, and in a future version of pandas the grouping columns will be excluded from the operation. Either pass `include_groups=False` to exclude the groupings or explicitly select the grouping columns after groupby to silence this warning.\n",
      "  .apply(lambda x: x.sample(n=min_count_train, random_state=SEED + fold))  # distinta semilla por fold\n",
      "/tmp/ipykernel_12731/1953447422.py:18: DeprecationWarning: DataFrameGroupBy.apply operated on the grouping columns. This behavior is deprecated, and in a future version of pandas the grouping columns will be excluded from the operation. Either pass `include_groups=False` to exclude the groupings or explicitly select the grouping columns after groupby to silence this warning.\n",
      "  .apply(lambda x: x.sample(n=min_count_val, random_state=SEED + fold))\n",
      "/tmp/ipykernel_12731/1953447422.py:12: DeprecationWarning: DataFrameGroupBy.apply operated on the grouping columns. This behavior is deprecated, and in a future version of pandas the grouping columns will be excluded from the operation. Either pass `include_groups=False` to exclude the groupings or explicitly select the grouping columns after groupby to silence this warning.\n",
      "  .apply(lambda x: x.sample(n=min_count_train, random_state=SEED + fold))  # distinta semilla por fold\n",
      "/tmp/ipykernel_12731/1953447422.py:18: DeprecationWarning: DataFrameGroupBy.apply operated on the grouping columns. This behavior is deprecated, and in a future version of pandas the grouping columns will be excluded from the operation. Either pass `include_groups=False` to exclude the groupings or explicitly select the grouping columns after groupby to silence this warning.\n",
      "  .apply(lambda x: x.sample(n=min_count_val, random_state=SEED + fold))\n",
      "/tmp/ipykernel_12731/1953447422.py:12: DeprecationWarning: DataFrameGroupBy.apply operated on the grouping columns. This behavior is deprecated, and in a future version of pandas the grouping columns will be excluded from the operation. Either pass `include_groups=False` to exclude the groupings or explicitly select the grouping columns after groupby to silence this warning.\n",
      "  .apply(lambda x: x.sample(n=min_count_train, random_state=SEED + fold))  # distinta semilla por fold\n",
      "/tmp/ipykernel_12731/1953447422.py:18: DeprecationWarning: DataFrameGroupBy.apply operated on the grouping columns. This behavior is deprecated, and in a future version of pandas the grouping columns will be excluded from the operation. Either pass `include_groups=False` to exclude the groupings or explicitly select the grouping columns after groupby to silence this warning.\n",
      "  .apply(lambda x: x.sample(n=min_count_val, random_state=SEED + fold))\n",
      "/tmp/ipykernel_12731/1953447422.py:12: DeprecationWarning: DataFrameGroupBy.apply operated on the grouping columns. This behavior is deprecated, and in a future version of pandas the grouping columns will be excluded from the operation. Either pass `include_groups=False` to exclude the groupings or explicitly select the grouping columns after groupby to silence this warning.\n",
      "  .apply(lambda x: x.sample(n=min_count_train, random_state=SEED + fold))  # distinta semilla por fold\n",
      "/tmp/ipykernel_12731/1953447422.py:18: DeprecationWarning: DataFrameGroupBy.apply operated on the grouping columns. This behavior is deprecated, and in a future version of pandas the grouping columns will be excluded from the operation. Either pass `include_groups=False` to exclude the groupings or explicitly select the grouping columns after groupby to silence this warning.\n",
      "  .apply(lambda x: x.sample(n=min_count_val, random_state=SEED + fold))\n",
      "/tmp/ipykernel_12731/1953447422.py:12: DeprecationWarning: DataFrameGroupBy.apply operated on the grouping columns. This behavior is deprecated, and in a future version of pandas the grouping columns will be excluded from the operation. Either pass `include_groups=False` to exclude the groupings or explicitly select the grouping columns after groupby to silence this warning.\n",
      "  .apply(lambda x: x.sample(n=min_count_train, random_state=SEED + fold))  # distinta semilla por fold\n",
      "/tmp/ipykernel_12731/1953447422.py:18: DeprecationWarning: DataFrameGroupBy.apply operated on the grouping columns. This behavior is deprecated, and in a future version of pandas the grouping columns will be excluded from the operation. Either pass `include_groups=False` to exclude the groupings or explicitly select the grouping columns after groupby to silence this warning.\n",
      "  .apply(lambda x: x.sample(n=min_count_val, random_state=SEED + fold))\n",
      "/tmp/ipykernel_12731/1953447422.py:12: DeprecationWarning: DataFrameGroupBy.apply operated on the grouping columns. This behavior is deprecated, and in a future version of pandas the grouping columns will be excluded from the operation. Either pass `include_groups=False` to exclude the groupings or explicitly select the grouping columns after groupby to silence this warning.\n",
      "  .apply(lambda x: x.sample(n=min_count_train, random_state=SEED + fold))  # distinta semilla por fold\n",
      "/tmp/ipykernel_12731/1953447422.py:18: DeprecationWarning: DataFrameGroupBy.apply operated on the grouping columns. This behavior is deprecated, and in a future version of pandas the grouping columns will be excluded from the operation. Either pass `include_groups=False` to exclude the groupings or explicitly select the grouping columns after groupby to silence this warning.\n",
      "  .apply(lambda x: x.sample(n=min_count_val, random_state=SEED + fold))\n"
     ]
    }
   ],
   "source": [
    "# Crear folds balanceados\n",
    "for fold, (train_idx, val_idx) in enumerate(skf.split(df, df['Level'])):\n",
    "    train_df = df.iloc[train_idx].reset_index(drop=True)\n",
    "    val_df = df.iloc[val_idx].reset_index(drop=True)\n",
    "    \n",
    "    min_count_train = train_df['Level'].value_counts().min()\n",
    "    min_count_val = val_df['Level'].value_counts().min()\n",
    "\n",
    "    # Balancear ambos (train y val)\n",
    "    train_df_balanced = (\n",
    "        train_df.groupby('Level')\n",
    "        .apply(lambda x: x.sample(n=min_count_train, random_state=SEED + fold))  # distinta semilla por fold\n",
    "        .reset_index(drop=True)\n",
    "    )\n",
    "\n",
    "    val_df_balanced = (\n",
    "        val_df.groupby('Level')\n",
    "        .apply(lambda x: x.sample(n=min_count_val, random_state=SEED + fold))\n",
    "        .reset_index(drop=True)\n",
    "    )\n",
    "\n",
    "    # Guardar archivos\n",
    "    train_df_balanced.to_csv(os.path.join(folds_dir, f\"train_fold_{fold}.csv\"), index=False)\n",
    "    val_df_balanced.to_csv(os.path.join(folds_dir, f\"val_fold_{fold}.csv\"), index=False)\n",
    "\n",
    "    # Mostrar distribución\n",
    "    print(f\"\\n Fold {fold} guardado:\")\n",
    "    print(\"Train:\", train_df_balanced['Level'].value_counts().to_dict(), train_df_balanced.shape[0])\n",
    "    print(\"Val:  \", val_df_balanced['Level'].value_counts().to_dict(), val_df_balanced.shape[0])"
   ]
  },
  {
   "cell_type": "code",
   "execution_count": null,
   "id": "655473b1-0498-494d-9c4a-32e243ce996f",
   "metadata": {},
   "outputs": [],
   "source": []
  }
 ],
 "metadata": {
  "kernelspec": {
   "display_name": "Python 3 (ipykernel)",
   "language": "python",
   "name": "python3"
  },
  "language_info": {
   "codemirror_mode": {
    "name": "ipython",
    "version": 3
   },
   "file_extension": ".py",
   "mimetype": "text/x-python",
   "name": "python",
   "nbconvert_exporter": "python",
   "pygments_lexer": "ipython3",
   "version": "3.12.7"
  }
 },
 "nbformat": 4,
 "nbformat_minor": 5
}
