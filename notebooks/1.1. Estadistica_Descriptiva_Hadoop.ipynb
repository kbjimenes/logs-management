{
 "cells": [
  {
   "cell_type": "code",
   "execution_count": 3,
   "id": "b24ceb84-5027-4e42-b987-6320bd07b6cd",
   "metadata": {},
   "outputs": [],
   "source": [
    "import pandas as pd\n",
    "import matplotlib.pyplot as plt\n",
    "import seaborn as sns"
   ]
  },
  {
   "cell_type": "code",
   "execution_count": 4,
   "id": "75e8d0b8-8cb2-4499-99b5-0f1fe433c49d",
   "metadata": {},
   "outputs": [],
   "source": [
    "dataset = \"Hadoop\"\n",
    "dir_path = \"../data/\""
   ]
  },
  {
   "cell_type": "code",
   "execution_count": 5,
   "id": "a1651fd5-edc1-4a44-817a-6816799d93da",
   "metadata": {},
   "outputs": [
    {
     "data": {
      "text/html": [
       "<div>\n",
       "<style scoped>\n",
       "    .dataframe tbody tr th:only-of-type {\n",
       "        vertical-align: middle;\n",
       "    }\n",
       "\n",
       "    .dataframe tbody tr th {\n",
       "        vertical-align: top;\n",
       "    }\n",
       "\n",
       "    .dataframe thead th {\n",
       "        text-align: right;\n",
       "    }\n",
       "</style>\n",
       "<table border=\"1\" class=\"dataframe\">\n",
       "  <thead>\n",
       "    <tr style=\"text-align: right;\">\n",
       "      <th></th>\n",
       "      <th>LineId</th>\n",
       "      <th>Date</th>\n",
       "      <th>Time</th>\n",
       "      <th>Level</th>\n",
       "      <th>Process</th>\n",
       "      <th>Component</th>\n",
       "      <th>Content</th>\n",
       "      <th>EventId</th>\n",
       "      <th>EventTemplate</th>\n",
       "    </tr>\n",
       "  </thead>\n",
       "  <tbody>\n",
       "    <tr>\n",
       "      <th>0</th>\n",
       "      <td>1</td>\n",
       "      <td>2015-10-18</td>\n",
       "      <td>18:01:47,978</td>\n",
       "      <td>Informativo</td>\n",
       "      <td>main</td>\n",
       "      <td>org.apache.hadoop.mapreduce.v2.app.MRAppMaster</td>\n",
       "      <td>Created MRAppMaster for application appattempt...</td>\n",
       "      <td>E29</td>\n",
       "      <td>Created MRAppMaster for application appattempt...</td>\n",
       "    </tr>\n",
       "    <tr>\n",
       "      <th>1</th>\n",
       "      <td>2</td>\n",
       "      <td>2015-10-18</td>\n",
       "      <td>18:01:48,963</td>\n",
       "      <td>Informativo</td>\n",
       "      <td>main</td>\n",
       "      <td>org.apache.hadoop.mapreduce.v2.app.MRAppMaster</td>\n",
       "      <td>Executing with tokens:</td>\n",
       "      <td>E42</td>\n",
       "      <td>Executing with tokens:</td>\n",
       "    </tr>\n",
       "  </tbody>\n",
       "</table>\n",
       "</div>"
      ],
      "text/plain": [
       "   LineId        Date          Time        Level Process  \\\n",
       "0       1  2015-10-18  18:01:47,978  Informativo    main   \n",
       "1       2  2015-10-18  18:01:48,963  Informativo    main   \n",
       "\n",
       "                                        Component  \\\n",
       "0  org.apache.hadoop.mapreduce.v2.app.MRAppMaster   \n",
       "1  org.apache.hadoop.mapreduce.v2.app.MRAppMaster   \n",
       "\n",
       "                                             Content EventId  \\\n",
       "0  Created MRAppMaster for application appattempt...     E29   \n",
       "1                             Executing with tokens:     E42   \n",
       "\n",
       "                                       EventTemplate  \n",
       "0  Created MRAppMaster for application appattempt...  \n",
       "1                             Executing with tokens:  "
      ]
     },
     "execution_count": 5,
     "metadata": {},
     "output_type": "execute_result"
    }
   ],
   "source": [
    "# Cargar el dataset\n",
    "logDF = pd.read_csv(f\"{dir_path}{dataset}_2k.log_structured.csv\")\n",
    "categorias = {\n",
    "    'ERROR': 'Error',\n",
    "    'FATAL': 'Error',\n",
    "    'INFO': 'Informativo',\n",
    "    'WARN': 'Advertencia'\n",
    "}\n",
    "logDF['Level'] = logDF['Level'].replace(categorias)\n",
    "\n",
    "logDF.head(2)\n"
   ]
  },
  {
   "cell_type": "code",
   "execution_count": 7,
   "id": "3a136c0e-4f3a-45b0-beb7-6dee59434b84",
   "metadata": {},
   "outputs": [
    {
     "name": "stderr",
     "output_type": "stream",
     "text": [
      "C:\\Users\\KARINA\\AppData\\Local\\Temp\\ipykernel_26232\\3100042223.py:2: UserWarning: Could not infer format, so each element will be parsed individually, falling back to `dateutil`. To ensure parsing is consistent and as-expected, please specify a format.\n",
      "  logDF['datetime'] = pd.to_datetime(logDF['Date'] + ' ' + logDF['Time'], errors='coerce')\n"
     ]
    },
    {
     "data": {
      "text/html": [
       "<div>\n",
       "<style scoped>\n",
       "    .dataframe tbody tr th:only-of-type {\n",
       "        vertical-align: middle;\n",
       "    }\n",
       "\n",
       "    .dataframe tbody tr th {\n",
       "        vertical-align: top;\n",
       "    }\n",
       "\n",
       "    .dataframe thead th {\n",
       "        text-align: right;\n",
       "    }\n",
       "</style>\n",
       "<table border=\"1\" class=\"dataframe\">\n",
       "  <thead>\n",
       "    <tr style=\"text-align: right;\">\n",
       "      <th></th>\n",
       "      <th>LineId</th>\n",
       "      <th>Date</th>\n",
       "      <th>Time</th>\n",
       "      <th>Level</th>\n",
       "      <th>Process</th>\n",
       "      <th>Component</th>\n",
       "      <th>Content</th>\n",
       "      <th>EventId</th>\n",
       "      <th>EventTemplate</th>\n",
       "      <th>datetime</th>\n",
       "    </tr>\n",
       "  </thead>\n",
       "  <tbody>\n",
       "    <tr>\n",
       "      <th>0</th>\n",
       "      <td>1</td>\n",
       "      <td>2015-10-18</td>\n",
       "      <td>18:01:47,978</td>\n",
       "      <td>Informativo</td>\n",
       "      <td>main</td>\n",
       "      <td>org.apache.hadoop.mapreduce.v2.app.MRAppMaster</td>\n",
       "      <td>Created MRAppMaster for application appattempt...</td>\n",
       "      <td>E29</td>\n",
       "      <td>Created MRAppMaster for application appattempt...</td>\n",
       "      <td>2015-10-18 18:01:47.000</td>\n",
       "    </tr>\n",
       "    <tr>\n",
       "      <th>1</th>\n",
       "      <td>2</td>\n",
       "      <td>2015-10-18</td>\n",
       "      <td>18:01:48,963</td>\n",
       "      <td>Informativo</td>\n",
       "      <td>main</td>\n",
       "      <td>org.apache.hadoop.mapreduce.v2.app.MRAppMaster</td>\n",
       "      <td>Executing with tokens:</td>\n",
       "      <td>E42</td>\n",
       "      <td>Executing with tokens:</td>\n",
       "      <td>2015-10-18 18:01:48.000</td>\n",
       "    </tr>\n",
       "    <tr>\n",
       "      <th>2</th>\n",
       "      <td>3</td>\n",
       "      <td>2015-10-18</td>\n",
       "      <td>18:01:48,963</td>\n",
       "      <td>Informativo</td>\n",
       "      <td>main</td>\n",
       "      <td>org.apache.hadoop.mapreduce.v2.app.MRAppMaster</td>\n",
       "      <td>Kind: YARN_AM_RM_TOKEN, Service: , Ident: (app...</td>\n",
       "      <td>E61</td>\n",
       "      <td>Kind: YARN_AM_RM_TOKEN, Service: , Ident: (app...</td>\n",
       "      <td>2015-10-18 18:01:48.000</td>\n",
       "    </tr>\n",
       "    <tr>\n",
       "      <th>3</th>\n",
       "      <td>4</td>\n",
       "      <td>2015-10-18</td>\n",
       "      <td>18:01:49,228</td>\n",
       "      <td>Informativo</td>\n",
       "      <td>main</td>\n",
       "      <td>org.apache.hadoop.mapreduce.v2.app.MRAppMaster</td>\n",
       "      <td>Using mapred newApiCommitter.</td>\n",
       "      <td>E111</td>\n",
       "      <td>Using mapred newApiCommitter.</td>\n",
       "      <td>2015-10-18 18:01:49.000</td>\n",
       "    </tr>\n",
       "    <tr>\n",
       "      <th>4</th>\n",
       "      <td>5</td>\n",
       "      <td>2015-10-18</td>\n",
       "      <td>18:01:50,353</td>\n",
       "      <td>Informativo</td>\n",
       "      <td>main</td>\n",
       "      <td>org.apache.hadoop.mapreduce.v2.app.MRAppMaster</td>\n",
       "      <td>OutputCommitter set in config null</td>\n",
       "      <td>E76</td>\n",
       "      <td>OutputCommitter set in config null</td>\n",
       "      <td>2015-10-18 18:01:50.000</td>\n",
       "    </tr>\n",
       "  </tbody>\n",
       "</table>\n",
       "</div>"
      ],
      "text/plain": [
       "   LineId        Date          Time        Level Process  \\\n",
       "0       1  2015-10-18  18:01:47,978  Informativo    main   \n",
       "1       2  2015-10-18  18:01:48,963  Informativo    main   \n",
       "2       3  2015-10-18  18:01:48,963  Informativo    main   \n",
       "3       4  2015-10-18  18:01:49,228  Informativo    main   \n",
       "4       5  2015-10-18  18:01:50,353  Informativo    main   \n",
       "\n",
       "                                        Component  \\\n",
       "0  org.apache.hadoop.mapreduce.v2.app.MRAppMaster   \n",
       "1  org.apache.hadoop.mapreduce.v2.app.MRAppMaster   \n",
       "2  org.apache.hadoop.mapreduce.v2.app.MRAppMaster   \n",
       "3  org.apache.hadoop.mapreduce.v2.app.MRAppMaster   \n",
       "4  org.apache.hadoop.mapreduce.v2.app.MRAppMaster   \n",
       "\n",
       "                                             Content EventId  \\\n",
       "0  Created MRAppMaster for application appattempt...     E29   \n",
       "1                             Executing with tokens:     E42   \n",
       "2  Kind: YARN_AM_RM_TOKEN, Service: , Ident: (app...     E61   \n",
       "3                      Using mapred newApiCommitter.    E111   \n",
       "4                 OutputCommitter set in config null     E76   \n",
       "\n",
       "                                       EventTemplate                 datetime  \n",
       "0  Created MRAppMaster for application appattempt...  2015-10-18 18:01:47.000  \n",
       "1                             Executing with tokens:  2015-10-18 18:01:48.000  \n",
       "2  Kind: YARN_AM_RM_TOKEN, Service: , Ident: (app...  2015-10-18 18:01:48.000  \n",
       "3                      Using mapred newApiCommitter.  2015-10-18 18:01:49.000  \n",
       "4                 OutputCommitter set in config null  2015-10-18 18:01:50.000  "
      ]
     },
     "execution_count": 7,
     "metadata": {},
     "output_type": "execute_result"
    }
   ],
   "source": [
    "# Convertir columna 'Time' a datetime\n",
    "logDF['datetime'] = pd.to_datetime(logDF['Date'] + ' ' + logDF['Time'], errors='coerce')\n",
    "\n",
    "# Formatear al formato 'YYYY-MM-DD HH:MM:SS.mmm'\n",
    "logDF['datetime'] = logDF['datetime'].dt.strftime('%Y-%m-%d %H:%M:%S.%f').str[:-3]\n",
    "\n",
    "logDF.head()"
   ]
  },
  {
   "cell_type": "code",
   "execution_count": 8,
   "id": "6bb792a0-17f7-421f-90e9-6ce10b571149",
   "metadata": {},
   "outputs": [],
   "source": [
    "# Longitud de cada mensaje (# palabras)\n",
    "logDF['content_length'] = logDF['Content'].astype(str).apply(lambda x: len(x.split()))\n"
   ]
  },
  {
   "cell_type": "code",
   "execution_count": 9,
   "id": "2e9d59e5-eb3d-4106-8248-1897e62596f4",
   "metadata": {},
   "outputs": [
    {
     "name": "stdout",
     "output_type": "stream",
     "text": [
      "Total de registros: 2000\n",
      "Rango temporal: 2015-10-18 18:01:47.000 → 2015-10-18 18:10:55.000\n",
      "Distribución por nivel: Level\n",
      "Informativo    1040\n",
      "Advertencia     808\n",
      "Error           152\n",
      "Name: count, dtype: int64\n",
      "Longitud de mensaje (palabras) con promedio: 8.1945\n",
      "Longitud de mensaje (palabras) con mediana: 7.0\n"
     ]
    }
   ],
   "source": [
    "# Estadísticas\n",
    "print(\"Total de registros:\", len(logDF))\n",
    "print(\"Rango temporal:\", logDF['datetime'].min(), \"→\", logDF['datetime'].max())\n",
    "print(\"Distribución por nivel:\", logDF['Level'].value_counts())\n",
    "print(\"Longitud de mensaje (palabras) con promedio:\", logDF['content_length'].mean())\n",
    "print(\"Longitud de mensaje (palabras) con mediana:\", logDF['content_length'].median())"
   ]
  },
  {
   "cell_type": "code",
   "execution_count": 10,
   "id": "16633d9a-78c6-4bd3-9dd6-a3871fea5dfa",
   "metadata": {},
   "outputs": [
    {
     "name": "stderr",
     "output_type": "stream",
     "text": [
      "C:\\Users\\KARINA\\AppData\\Local\\Temp\\ipykernel_26232\\3905531008.py:3: FutureWarning: \n",
      "\n",
      "Passing `palette` without assigning `hue` is deprecated and will be removed in v0.14.0. Assign the `x` variable to `hue` and set `legend=False` for the same effect.\n",
      "\n",
      "  sns.countplot(data=logDF, x='Level', order=logDF['Level'].value_counts().index, palette=\"Set2\")\n"
     ]
    },
    {
     "data": {
      "image/png": "[encoded data removed]",
      "text/plain": [
       "<Figure size 800x500 with 1 Axes>"
      ]
     },
     "metadata": {},
     "output_type": "display_data"
    }
   ],
   "source": [
    "# Distribución por nivel\n",
    "plt.figure(figsize=(8,5))\n",
    "sns.countplot(data=logDF, x='Level', order=logDF['Level'].value_counts().index, palette=\"Set2\")\n",
    "plt.title(\"Distribución de niveles de log\")\n",
    "plt.xlabel(\"Nivel\")\n",
    "plt.ylabel(\"Cantidad de registros\")\n",
    "plt.grid(axis='y')\n",
    "plt.show()"
   ]
  },
  {
   "cell_type": "code",
   "execution_count": 11,
   "id": "fd3209ae-f507-4eab-af4c-d2f32ecbf3e6",
   "metadata": {},
   "outputs": [
    {
     "data": {
      "image/png": "[encoded data removed]",
      "text/plain": [
       "<Figure size 800x500 with 1 Axes>"
      ]
     },
     "metadata": {},
     "output_type": "display_data"
    }
   ],
   "source": [
    "# Longitud de mensajes\n",
    "plt.figure(figsize=(8,5))\n",
    "sns.histplot(logDF['content_length'], bins=30, kde=True)\n",
    "plt.title(\"Distribución de longitud de mensajes\")\n",
    "plt.xlabel(\"Número de palabras por mensaje\")\n",
    "plt.ylabel(\"Frecuencia\")\n",
    "plt.grid()\n",
    "plt.show()"
   ]
  },
  {
   "cell_type": "code",
   "execution_count": 12,
   "id": "c817644b-fe5d-4ff7-bac9-8c48a0b3db3d",
   "metadata": {},
   "outputs": [],
   "source": [
    "logDF.to_csv(f\"{dir_path}{dataset}_2k.log_structured_to_process.csv\", index=False, encoding='utf-8')"
   ]
  },
  {
   "cell_type": "code",
   "execution_count": null,
   "id": "793f6fdc-80bf-4a0d-83c4-f72b90189515",
   "metadata": {},
   "outputs": [],
   "source": []
  },
  {
   "cell_type": "code",
   "execution_count": null,
   "id": "06dc9837-e8e7-4cb8-a233-d3a28ee417d9",
   "metadata": {},
   "outputs": [],
   "source": []
  },
  {
   "cell_type": "code",
   "execution_count": null,
   "id": "0d359945-1572-43a9-bc0b-d18768400d27",
   "metadata": {},
   "outputs": [],
   "source": []
  },
  {
   "cell_type": "code",
   "execution_count": null,
   "id": "bde3863a-8058-4ea9-b722-c1270d4eadbd",
   "metadata": {},
   "outputs": [],
   "source": []
  }
 ],
 "metadata": {
  "kernelspec": {
   "display_name": "Python 3 (ipykernel)",
   "language": "python",
   "name": "python3"
  },
  "language_info": {
   "codemirror_mode": {
    "name": "ipython",
    "version": 3
   },
   "file_extension": ".py",
   "mimetype": "text/x-python",
   "name": "python",
   "nbconvert_exporter": "python",
   "pygments_lexer": "ipython3",
   "version": "3.10.16"
  }
 },
 "nbformat": 4,
 "nbformat_minor": 5
}
