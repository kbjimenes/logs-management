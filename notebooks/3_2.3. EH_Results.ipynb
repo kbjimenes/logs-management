{
 "cells": [
  {
   "cell_type": "code",
   "execution_count": 10,
   "id": "7c0abb58-c816-4e57-8a75-28a9ce24afaf",
   "metadata": {},
   "outputs": [],
   "source": [
    "import pandas as pd\n",
    "import numpy as np\n",
    "import re"
   ]
  },
  {
   "cell_type": "code",
   "execution_count": 11,
   "id": "3aa557e7-3db8-49cc-b00b-4ef759e90a5d",
   "metadata": {},
   "outputs": [],
   "source": [
    "dir_path = \"../results/\""
   ]
  },
  {
   "cell_type": "markdown",
   "id": "4bb58cd1-60ba-49a6-8000-5aece4f19fb9",
   "metadata": {},
   "source": [
    "## Entrenamiento folds"
   ]
  },
  {
   "cell_type": "code",
   "execution_count": 12,
   "id": "526cf39a-95b0-4f63-a38b-aa2ab64f3924",
   "metadata": {},
   "outputs": [
    {
     "data": {
      "text/html": [
       "<div>\n",
       "<style scoped>\n",
       "    .dataframe tbody tr th:only-of-type {\n",
       "        vertical-align: middle;\n",
       "    }\n",
       "\n",
       "    .dataframe tbody tr th {\n",
       "        vertical-align: top;\n",
       "    }\n",
       "\n",
       "    .dataframe thead th {\n",
       "        text-align: right;\n",
       "    }\n",
       "</style>\n",
       "<table border=\"1\" class=\"dataframe\">\n",
       "  <thead>\n",
       "    <tr style=\"text-align: right;\">\n",
       "      <th></th>\n",
       "      <th>group</th>\n",
       "      <th>precision</th>\n",
       "      <th>recall</th>\n",
       "      <th>f1-score</th>\n",
       "      <th>support</th>\n",
       "      <th>fold</th>\n",
       "      <th>technique</th>\n",
       "    </tr>\n",
       "  </thead>\n",
       "  <tbody>\n",
       "    <tr>\n",
       "      <th>0</th>\n",
       "      <td>Advertencia</td>\n",
       "      <td>0.576471</td>\n",
       "      <td>0.816667</td>\n",
       "      <td>0.675862</td>\n",
       "      <td>720.00000</td>\n",
       "      <td>0</td>\n",
       "      <td>LR</td>\n",
       "    </tr>\n",
       "    <tr>\n",
       "      <th>1</th>\n",
       "      <td>Error</td>\n",
       "      <td>0.792056</td>\n",
       "      <td>0.470833</td>\n",
       "      <td>0.590592</td>\n",
       "      <td>720.00000</td>\n",
       "      <td>0</td>\n",
       "      <td>LR</td>\n",
       "    </tr>\n",
       "    <tr>\n",
       "      <th>2</th>\n",
       "      <td>Informativo</td>\n",
       "      <td>0.693820</td>\n",
       "      <td>0.686111</td>\n",
       "      <td>0.689944</td>\n",
       "      <td>720.00000</td>\n",
       "      <td>0</td>\n",
       "      <td>LR</td>\n",
       "    </tr>\n",
       "    <tr>\n",
       "      <th>3</th>\n",
       "      <td>accuracy</td>\n",
       "      <td>0.657870</td>\n",
       "      <td>0.657870</td>\n",
       "      <td>0.657870</td>\n",
       "      <td>0.65787</td>\n",
       "      <td>0</td>\n",
       "      <td>LR</td>\n",
       "    </tr>\n",
       "    <tr>\n",
       "      <th>4</th>\n",
       "      <td>macro avg</td>\n",
       "      <td>0.687449</td>\n",
       "      <td>0.657870</td>\n",
       "      <td>0.652133</td>\n",
       "      <td>2160.00000</td>\n",
       "      <td>0</td>\n",
       "      <td>LR</td>\n",
       "    </tr>\n",
       "    <tr>\n",
       "      <th>5</th>\n",
       "      <td>weighted avg</td>\n",
       "      <td>0.687449</td>\n",
       "      <td>0.657870</td>\n",
       "      <td>0.652133</td>\n",
       "      <td>2160.00000</td>\n",
       "      <td>0</td>\n",
       "      <td>LR</td>\n",
       "    </tr>\n",
       "    <tr>\n",
       "      <th>6</th>\n",
       "      <td>Advertencia</td>\n",
       "      <td>0.518478</td>\n",
       "      <td>0.663421</td>\n",
       "      <td>0.582062</td>\n",
       "      <td>719.00000</td>\n",
       "      <td>1</td>\n",
       "      <td>LR</td>\n",
       "    </tr>\n",
       "  </tbody>\n",
       "</table>\n",
       "</div>"
      ],
      "text/plain": [
       "          group  precision    recall  f1-score     support  fold technique\n",
       "0   Advertencia   0.576471  0.816667  0.675862   720.00000     0        LR\n",
       "1         Error   0.792056  0.470833  0.590592   720.00000     0        LR\n",
       "2   Informativo   0.693820  0.686111  0.689944   720.00000     0        LR\n",
       "3      accuracy   0.657870  0.657870  0.657870     0.65787     0        LR\n",
       "4     macro avg   0.687449  0.657870  0.652133  2160.00000     0        LR\n",
       "5  weighted avg   0.687449  0.657870  0.652133  2160.00000     0        LR\n",
       "6   Advertencia   0.518478  0.663421  0.582062   719.00000     1        LR"
      ]
     },
     "execution_count": 12,
     "metadata": {},
     "output_type": "execute_result"
    }
   ],
   "source": [
    "file=  \"resuls_train_fold_heuristics\" #\"train_data\" \n",
    "res_df = pd.read_csv(f\"{dir_path}{file}.csv\", encoding='utf-8')\n",
    "res_df.head(7)"
   ]
  },
  {
   "cell_type": "code",
   "execution_count": 13,
   "id": "e8cb4134-1917-409a-9b9d-ef1d7ab9abc6",
   "metadata": {},
   "outputs": [
    {
     "data": {
      "text/html": [
       "<div>\n",
       "<style scoped>\n",
       "    .dataframe tbody tr th:only-of-type {\n",
       "        vertical-align: middle;\n",
       "    }\n",
       "\n",
       "    .dataframe tbody tr th {\n",
       "        vertical-align: top;\n",
       "    }\n",
       "\n",
       "    .dataframe thead th {\n",
       "        text-align: right;\n",
       "    }\n",
       "</style>\n",
       "<table border=\"1\" class=\"dataframe\">\n",
       "  <thead>\n",
       "    <tr style=\"text-align: right;\">\n",
       "      <th></th>\n",
       "      <th>group</th>\n",
       "      <th>precision</th>\n",
       "      <th>recall</th>\n",
       "      <th>f1-score</th>\n",
       "      <th>support</th>\n",
       "      <th>fold</th>\n",
       "      <th>technique</th>\n",
       "    </tr>\n",
       "  </thead>\n",
       "  <tbody>\n",
       "  </tbody>\n",
       "</table>\n",
       "</div>"
      ],
      "text/plain": [
       "Empty DataFrame\n",
       "Columns: [group, precision, recall, f1-score, support, fold, technique]\n",
       "Index: []"
      ]
     },
     "execution_count": 13,
     "metadata": {},
     "output_type": "execute_result"
    }
   ],
   "source": [
    "res_df_global=res_df[res_df[\"group\"]=='macro-avg']\n",
    "res_df_global.head()"
   ]
  },
  {
   "cell_type": "code",
   "execution_count": 14,
   "id": "2cbad6bd-22cb-4362-bdb3-c33dba58471a",
   "metadata": {},
   "outputs": [
    {
     "name": "stdout",
     "output_type": "stream",
     "text": [
      "precision nan with std  nan\n",
      "recall nan with std  nan\n",
      "f1-score nan with std  nan\n"
     ]
    }
   ],
   "source": [
    "\n",
    "print(\"precision\", np.mean(res_df_global[\"precision\"]), \"with std \", np.std(res_df_global[\"precision\"]))\n",
    "print(\"recall\", np.mean(res_df_global[\"recall\"]), \"with std \", np.std(res_df_global[\"recall\"]))\n",
    "print(\"f1-score\", np.mean(res_df_global[\"f1-score\"]), \"with std \", np.std(res_df_global[\"f1-score\"]))"
   ]
  },
  {
   "cell_type": "code",
   "execution_count": 15,
   "id": "45b28ec0-42f4-476f-99bd-197ecfcde5f0",
   "metadata": {},
   "outputs": [
    {
     "name": "stdout",
     "output_type": "stream",
     "text": [
      "precision 0.5470898844560126 with std  0.0351855059778339\n",
      "recall 0.7737389893370422 with std  0.11119555069195212\n",
      "f1-score 0.639943356099766 with std  0.06195072963588676\n"
     ]
    }
   ],
   "source": [
    "res_df_global=res_df[res_df[\"group\"]=='Advertencia']\n",
    "print(\"precision\", np.mean(res_df_global[\"precision\"]), \"with std \", np.std(res_df_global[\"precision\"]))\n",
    "print(\"recall\", np.mean(res_df_global[\"recall\"]), \"with std \", np.std(res_df_global[\"recall\"]))\n",
    "print(\"f1-score\", np.mean(res_df_global[\"f1-score\"]), \"with std \", np.std(res_df_global[\"f1-score\"]))"
   ]
  },
  {
   "cell_type": "code",
   "execution_count": 16,
   "id": "6fd24db0-6397-4f9e-a453-fd1244fe2a44",
   "metadata": {},
   "outputs": [
    {
     "name": "stdout",
     "output_type": "stream",
     "text": [
      "precision 0.877918400196193 with std  0.09988581681678571\n",
      "recall 0.47559515530829843 with std  0.005440660372281167\n",
      "f1-score 0.6153601572964593 with std  0.027033488719935595\n"
     ]
    }
   ],
   "source": [
    "res_df_global=res_df[res_df[\"group\"]=='Error']\n",
    "print(\"precision\", np.mean(res_df_global[\"precision\"]), \"with std \", np.std(res_df_global[\"precision\"]))\n",
    "print(\"recall\", np.mean(res_df_global[\"recall\"]), \"with std \", np.std(res_df_global[\"recall\"]))\n",
    "print(\"f1-score\", np.mean(res_df_global[\"f1-score\"]), \"with std \", np.std(res_df_global[\"f1-score\"]))"
   ]
  },
  {
   "cell_type": "code",
   "execution_count": 17,
   "id": "91b63131-0c29-4ce3-a292-4e22b4bbef93",
   "metadata": {},
   "outputs": [
    {
     "name": "stdout",
     "output_type": "stream",
     "text": [
      "precision 0.6282356336801511 with std  0.04746889341155466\n",
      "recall 0.6527557564518622 with std  0.019317226242072952\n",
      "f1-score 0.6393528590023807 with std  0.028002571043333983\n"
     ]
    }
   ],
   "source": [
    "res_df_global=res_df[res_df[\"group\"]=='Informativo']\n",
    "print(\"precision\", np.mean(res_df_global[\"precision\"]), \"with std \", np.std(res_df_global[\"precision\"]))\n",
    "print(\"recall\", np.mean(res_df_global[\"recall\"]), \"with std \", np.std(res_df_global[\"recall\"]))\n",
    "print(\"f1-score\", np.mean(res_df_global[\"f1-score\"]), \"with std \", np.std(res_df_global[\"f1-score\"]))"
   ]
  },
  {
   "cell_type": "markdown",
   "id": "10e60d58-0bb3-43f6-b88b-ccee3c5b8856",
   "metadata": {},
   "source": [
    "## Val folds"
   ]
  },
  {
   "cell_type": "code",
   "execution_count": 18,
   "id": "e01962ac-1306-4361-942f-aa82b5690fc3",
   "metadata": {},
   "outputs": [
    {
     "data": {
      "text/html": [
       "<div>\n",
       "<style scoped>\n",
       "    .dataframe tbody tr th:only-of-type {\n",
       "        vertical-align: middle;\n",
       "    }\n",
       "\n",
       "    .dataframe tbody tr th {\n",
       "        vertical-align: top;\n",
       "    }\n",
       "\n",
       "    .dataframe thead th {\n",
       "        text-align: right;\n",
       "    }\n",
       "</style>\n",
       "<table border=\"1\" class=\"dataframe\">\n",
       "  <thead>\n",
       "    <tr style=\"text-align: right;\">\n",
       "      <th></th>\n",
       "      <th>group</th>\n",
       "      <th>precision</th>\n",
       "      <th>recall</th>\n",
       "      <th>f1-score</th>\n",
       "      <th>support</th>\n",
       "      <th>fold</th>\n",
       "      <th>technique</th>\n",
       "    </tr>\n",
       "  </thead>\n",
       "  <tbody>\n",
       "    <tr>\n",
       "      <th>0</th>\n",
       "      <td>Advertencia</td>\n",
       "      <td>0.494737</td>\n",
       "      <td>0.594937</td>\n",
       "      <td>0.540230</td>\n",
       "      <td>79.000000</td>\n",
       "      <td>0</td>\n",
       "      <td>LR</td>\n",
       "    </tr>\n",
       "    <tr>\n",
       "      <th>1</th>\n",
       "      <td>Error</td>\n",
       "      <td>0.976190</td>\n",
       "      <td>0.518987</td>\n",
       "      <td>0.677686</td>\n",
       "      <td>79.000000</td>\n",
       "      <td>0</td>\n",
       "      <td>LR</td>\n",
       "    </tr>\n",
       "    <tr>\n",
       "      <th>2</th>\n",
       "      <td>Informativo</td>\n",
       "      <td>0.550000</td>\n",
       "      <td>0.696203</td>\n",
       "      <td>0.614525</td>\n",
       "      <td>79.000000</td>\n",
       "      <td>0</td>\n",
       "      <td>LR</td>\n",
       "    </tr>\n",
       "    <tr>\n",
       "      <th>3</th>\n",
       "      <td>accuracy</td>\n",
       "      <td>0.603376</td>\n",
       "      <td>0.603376</td>\n",
       "      <td>0.603376</td>\n",
       "      <td>0.603376</td>\n",
       "      <td>0</td>\n",
       "      <td>LR</td>\n",
       "    </tr>\n",
       "    <tr>\n",
       "      <th>4</th>\n",
       "      <td>macro avg</td>\n",
       "      <td>0.673642</td>\n",
       "      <td>0.603376</td>\n",
       "      <td>0.610814</td>\n",
       "      <td>237.000000</td>\n",
       "      <td>0</td>\n",
       "      <td>LR</td>\n",
       "    </tr>\n",
       "    <tr>\n",
       "      <th>5</th>\n",
       "      <td>weighted avg</td>\n",
       "      <td>0.673642</td>\n",
       "      <td>0.603376</td>\n",
       "      <td>0.610814</td>\n",
       "      <td>237.000000</td>\n",
       "      <td>0</td>\n",
       "      <td>LR</td>\n",
       "    </tr>\n",
       "    <tr>\n",
       "      <th>6</th>\n",
       "      <td>Advertencia</td>\n",
       "      <td>0.581633</td>\n",
       "      <td>0.712500</td>\n",
       "      <td>0.640449</td>\n",
       "      <td>80.000000</td>\n",
       "      <td>1</td>\n",
       "      <td>LR</td>\n",
       "    </tr>\n",
       "  </tbody>\n",
       "</table>\n",
       "</div>"
      ],
      "text/plain": [
       "          group  precision    recall  f1-score     support  fold technique\n",
       "0   Advertencia   0.494737  0.594937  0.540230   79.000000     0        LR\n",
       "1         Error   0.976190  0.518987  0.677686   79.000000     0        LR\n",
       "2   Informativo   0.550000  0.696203  0.614525   79.000000     0        LR\n",
       "3      accuracy   0.603376  0.603376  0.603376    0.603376     0        LR\n",
       "4     macro avg   0.673642  0.603376  0.610814  237.000000     0        LR\n",
       "5  weighted avg   0.673642  0.603376  0.610814  237.000000     0        LR\n",
       "6   Advertencia   0.581633  0.712500  0.640449   80.000000     1        LR"
      ]
     },
     "execution_count": 18,
     "metadata": {},
     "output_type": "execute_result"
    }
   ],
   "source": [
    "file=  \"resuls_val_fold_heuristics\" #\"train_data\" \n",
    "res_df = pd.read_csv(f\"{dir_path}{file}.csv\", encoding='utf-8')\n",
    "res_df.head(7)"
   ]
  },
  {
   "cell_type": "code",
   "execution_count": 27,
   "id": "ae058ea2-bdb1-4b03-9008-df8eed5d6e9a",
   "metadata": {},
   "outputs": [
    {
     "data": {
      "text/html": [
       "<div>\n",
       "<style scoped>\n",
       "    .dataframe tbody tr th:only-of-type {\n",
       "        vertical-align: middle;\n",
       "    }\n",
       "\n",
       "    .dataframe tbody tr th {\n",
       "        vertical-align: top;\n",
       "    }\n",
       "\n",
       "    .dataframe thead th {\n",
       "        text-align: right;\n",
       "    }\n",
       "</style>\n",
       "<table border=\"1\" class=\"dataframe\">\n",
       "  <thead>\n",
       "    <tr style=\"text-align: right;\">\n",
       "      <th></th>\n",
       "      <th>group</th>\n",
       "      <th>precision</th>\n",
       "      <th>recall</th>\n",
       "      <th>f1-score</th>\n",
       "      <th>support</th>\n",
       "      <th>fold</th>\n",
       "      <th>technique</th>\n",
       "    </tr>\n",
       "  </thead>\n",
       "  <tbody>\n",
       "    <tr>\n",
       "      <th>4</th>\n",
       "      <td>macro avg</td>\n",
       "      <td>0.673642</td>\n",
       "      <td>0.603376</td>\n",
       "      <td>0.610814</td>\n",
       "      <td>237.0</td>\n",
       "      <td>0</td>\n",
       "      <td>LR</td>\n",
       "    </tr>\n",
       "    <tr>\n",
       "      <th>10</th>\n",
       "      <td>macro avg</td>\n",
       "      <td>0.735132</td>\n",
       "      <td>0.670833</td>\n",
       "      <td>0.671423</td>\n",
       "      <td>240.0</td>\n",
       "      <td>1</td>\n",
       "      <td>LR</td>\n",
       "    </tr>\n",
       "    <tr>\n",
       "      <th>16</th>\n",
       "      <td>macro avg</td>\n",
       "      <td>0.690852</td>\n",
       "      <td>0.600000</td>\n",
       "      <td>0.597309</td>\n",
       "      <td>240.0</td>\n",
       "      <td>2</td>\n",
       "      <td>LR</td>\n",
       "    </tr>\n",
       "    <tr>\n",
       "      <th>22</th>\n",
       "      <td>macro avg</td>\n",
       "      <td>0.698355</td>\n",
       "      <td>0.625000</td>\n",
       "      <td>0.630515</td>\n",
       "      <td>240.0</td>\n",
       "      <td>3</td>\n",
       "      <td>LR</td>\n",
       "    </tr>\n",
       "    <tr>\n",
       "      <th>28</th>\n",
       "      <td>macro avg</td>\n",
       "      <td>0.688313</td>\n",
       "      <td>0.604167</td>\n",
       "      <td>0.605156</td>\n",
       "      <td>240.0</td>\n",
       "      <td>4</td>\n",
       "      <td>LR</td>\n",
       "    </tr>\n",
       "  </tbody>\n",
       "</table>\n",
       "</div>"
      ],
      "text/plain": [
       "        group  precision    recall  f1-score  support  fold technique\n",
       "4   macro avg   0.673642  0.603376  0.610814    237.0     0        LR\n",
       "10  macro avg   0.735132  0.670833  0.671423    240.0     1        LR\n",
       "16  macro avg   0.690852  0.600000  0.597309    240.0     2        LR\n",
       "22  macro avg   0.698355  0.625000  0.630515    240.0     3        LR\n",
       "28  macro avg   0.688313  0.604167  0.605156    240.0     4        LR"
      ]
     },
     "execution_count": 27,
     "metadata": {},
     "output_type": "execute_result"
    }
   ],
   "source": [
    "res_df_global=res_df[res_df[\"group\"]=='macro avg']\n",
    "res_df_global.head()"
   ]
  },
  {
   "cell_type": "code",
   "execution_count": 28,
   "id": "c1283b14-9322-4796-8831-40d8176838c8",
   "metadata": {},
   "outputs": [
    {
     "name": "stdout",
     "output_type": "stream",
     "text": [
      "precision 0.7079316791 with std  0.028467568319951526\n",
      "recall 0.6307542193 with std  0.036344771244755616\n",
      "f1-score 0.6313860165 with std  0.036484355547875255\n"
     ]
    }
   ],
   "source": [
    "\n",
    "print(\"precision\", np.mean(res_df_global[\"precision\"]), \"with std \", np.std(res_df_global[\"precision\"]))\n",
    "print(\"recall\", np.mean(res_df_global[\"recall\"]), \"with std \", np.std(res_df_global[\"recall\"]))\n",
    "print(\"f1-score\", np.mean(res_df_global[\"f1-score\"]), \"with std \", np.std(res_df_global[\"f1-score\"]))"
   ]
  },
  {
   "cell_type": "code",
   "execution_count": 29,
   "id": "fddf2a55-eace-4c8f-a14a-5d9c59f12f27",
   "metadata": {},
   "outputs": [
    {
     "data": {
      "text/html": [
       "<div>\n",
       "<style scoped>\n",
       "    .dataframe tbody tr th:only-of-type {\n",
       "        vertical-align: middle;\n",
       "    }\n",
       "\n",
       "    .dataframe tbody tr th {\n",
       "        vertical-align: top;\n",
       "    }\n",
       "\n",
       "    .dataframe thead th {\n",
       "        text-align: right;\n",
       "    }\n",
       "</style>\n",
       "<table border=\"1\" class=\"dataframe\">\n",
       "  <thead>\n",
       "    <tr style=\"text-align: right;\">\n",
       "      <th></th>\n",
       "      <th>group</th>\n",
       "      <th>precision</th>\n",
       "      <th>recall</th>\n",
       "      <th>f1-score</th>\n",
       "      <th>support</th>\n",
       "      <th>fold</th>\n",
       "      <th>technique</th>\n",
       "    </tr>\n",
       "  </thead>\n",
       "  <tbody>\n",
       "    <tr>\n",
       "      <th>0</th>\n",
       "      <td>Advertencia</td>\n",
       "      <td>0.494737</td>\n",
       "      <td>0.594937</td>\n",
       "      <td>0.540230</td>\n",
       "      <td>79.0</td>\n",
       "      <td>0</td>\n",
       "      <td>LR</td>\n",
       "    </tr>\n",
       "    <tr>\n",
       "      <th>6</th>\n",
       "      <td>Advertencia</td>\n",
       "      <td>0.581633</td>\n",
       "      <td>0.712500</td>\n",
       "      <td>0.640449</td>\n",
       "      <td>80.0</td>\n",
       "      <td>1</td>\n",
       "      <td>LR</td>\n",
       "    </tr>\n",
       "    <tr>\n",
       "      <th>12</th>\n",
       "      <td>Advertencia</td>\n",
       "      <td>0.536842</td>\n",
       "      <td>0.637500</td>\n",
       "      <td>0.582857</td>\n",
       "      <td>80.0</td>\n",
       "      <td>2</td>\n",
       "      <td>LR</td>\n",
       "    </tr>\n",
       "    <tr>\n",
       "      <th>18</th>\n",
       "      <td>Advertencia</td>\n",
       "      <td>0.541667</td>\n",
       "      <td>0.650000</td>\n",
       "      <td>0.590909</td>\n",
       "      <td>80.0</td>\n",
       "      <td>3</td>\n",
       "      <td>LR</td>\n",
       "    </tr>\n",
       "    <tr>\n",
       "      <th>24</th>\n",
       "      <td>Advertencia</td>\n",
       "      <td>0.494845</td>\n",
       "      <td>0.600000</td>\n",
       "      <td>0.542373</td>\n",
       "      <td>80.0</td>\n",
       "      <td>4</td>\n",
       "      <td>LR</td>\n",
       "    </tr>\n",
       "  </tbody>\n",
       "</table>\n",
       "</div>"
      ],
      "text/plain": [
       "          group  precision    recall  f1-score  support  fold technique\n",
       "0   Advertencia   0.494737  0.594937  0.540230     79.0     0        LR\n",
       "6   Advertencia   0.581633  0.712500  0.640449     80.0     1        LR\n",
       "12  Advertencia   0.536842  0.637500  0.582857     80.0     2        LR\n",
       "18  Advertencia   0.541667  0.650000  0.590909     80.0     3        LR\n",
       "24  Advertencia   0.494845  0.600000  0.542373     80.0     4        LR"
      ]
     },
     "execution_count": 29,
     "metadata": {},
     "output_type": "execute_result"
    }
   ],
   "source": [
    "res_df_global=res_df[res_df[\"group\"]=='Advertencia']\n",
    "res_df_global.head()"
   ]
  },
  {
   "cell_type": "code",
   "execution_count": 30,
   "id": "c0b1d6f4-48cf-413d-994e-d183dc5e8b1c",
   "metadata": {},
   "outputs": [
    {
     "name": "stdout",
     "output_type": "stream",
     "text": [
      "precision 0.5430337027000001 with std  0.03844784682685902\n",
      "recall 0.6594936709 with std  0.08058732415471781\n",
      "f1-score 0.5944064013 with std  0.04973683410024515\n"
     ]
    }
   ],
   "source": [
    "print(\"precision\", np.mean(res_df_global[\"precision\"]), \"with std \", np.std(res_df_global[\"precision\"]))\n",
    "print(\"recall\", np.mean(res_df_global[\"recall\"]), \"with std \", np.std(res_df_global[\"recall\"]))\n",
    "print(\"f1-score\", np.mean(res_df_global[\"f1-score\"]), \"with std \", np.std(res_df_global[\"f1-score\"]))"
   ]
  },
  {
   "cell_type": "code",
   "execution_count": 31,
   "id": "fb5fe47f-d5f1-4eef-beaf-1b6795bf436d",
   "metadata": {},
   "outputs": [
    {
     "data": {
      "text/html": [
       "<div>\n",
       "<style scoped>\n",
       "    .dataframe tbody tr th:only-of-type {\n",
       "        vertical-align: middle;\n",
       "    }\n",
       "\n",
       "    .dataframe tbody tr th {\n",
       "        vertical-align: top;\n",
       "    }\n",
       "\n",
       "    .dataframe thead th {\n",
       "        text-align: right;\n",
       "    }\n",
       "</style>\n",
       "<table border=\"1\" class=\"dataframe\">\n",
       "  <thead>\n",
       "    <tr style=\"text-align: right;\">\n",
       "      <th></th>\n",
       "      <th>group</th>\n",
       "      <th>precision</th>\n",
       "      <th>recall</th>\n",
       "      <th>f1-score</th>\n",
       "      <th>support</th>\n",
       "      <th>fold</th>\n",
       "      <th>technique</th>\n",
       "    </tr>\n",
       "  </thead>\n",
       "  <tbody>\n",
       "    <tr>\n",
       "      <th>1</th>\n",
       "      <td>Error</td>\n",
       "      <td>0.97619</td>\n",
       "      <td>0.518987</td>\n",
       "      <td>0.677686</td>\n",
       "      <td>79.0</td>\n",
       "      <td>0</td>\n",
       "      <td>LR</td>\n",
       "    </tr>\n",
       "    <tr>\n",
       "      <th>7</th>\n",
       "      <td>Error</td>\n",
       "      <td>1.00000</td>\n",
       "      <td>0.512500</td>\n",
       "      <td>0.677686</td>\n",
       "      <td>80.0</td>\n",
       "      <td>1</td>\n",
       "      <td>LR</td>\n",
       "    </tr>\n",
       "    <tr>\n",
       "      <th>13</th>\n",
       "      <td>Error</td>\n",
       "      <td>1.00000</td>\n",
       "      <td>0.412500</td>\n",
       "      <td>0.584071</td>\n",
       "      <td>80.0</td>\n",
       "      <td>2</td>\n",
       "      <td>LR</td>\n",
       "    </tr>\n",
       "    <tr>\n",
       "      <th>19</th>\n",
       "      <td>Error</td>\n",
       "      <td>1.00000</td>\n",
       "      <td>0.512500</td>\n",
       "      <td>0.677686</td>\n",
       "      <td>80.0</td>\n",
       "      <td>3</td>\n",
       "      <td>LR</td>\n",
       "    </tr>\n",
       "    <tr>\n",
       "      <th>25</th>\n",
       "      <td>Error</td>\n",
       "      <td>1.00000</td>\n",
       "      <td>0.450000</td>\n",
       "      <td>0.620690</td>\n",
       "      <td>80.0</td>\n",
       "      <td>4</td>\n",
       "      <td>LR</td>\n",
       "    </tr>\n",
       "  </tbody>\n",
       "</table>\n",
       "</div>"
      ],
      "text/plain": [
       "    group  precision    recall  f1-score  support  fold technique\n",
       "1   Error    0.97619  0.518987  0.677686     79.0     0        LR\n",
       "7   Error    1.00000  0.512500  0.677686     80.0     1        LR\n",
       "13  Error    1.00000  0.412500  0.584071     80.0     2        LR\n",
       "19  Error    1.00000  0.512500  0.677686     80.0     3        LR\n",
       "25  Error    1.00000  0.450000  0.620690     80.0     4        LR"
      ]
     },
     "execution_count": 31,
     "metadata": {},
     "output_type": "execute_result"
    }
   ],
   "source": [
    "res_df_global=res_df[res_df[\"group\"]=='Error']\n",
    "res_df_global.head()"
   ]
  },
  {
   "cell_type": "code",
   "execution_count": 32,
   "id": "046bea87-cffe-41fa-b050-b94acec64434",
   "metadata": {},
   "outputs": [
    {
     "name": "stdout",
     "output_type": "stream",
     "text": [
      "precision 0.9976190476 with std  0.007142857200000008\n",
      "recall 0.4756487342 with std  0.048950922050153924\n",
      "f1-score 0.6425995548000001 with std  0.044748348532038976\n"
     ]
    }
   ],
   "source": [
    "print(\"precision\", np.mean(res_df_global[\"precision\"]), \"with std \", np.std(res_df_global[\"precision\"]))\n",
    "print(\"recall\", np.mean(res_df_global[\"recall\"]), \"with std \", np.std(res_df_global[\"recall\"]))\n",
    "print(\"f1-score\", np.mean(res_df_global[\"f1-score\"]), \"with std \", np.std(res_df_global[\"f1-score\"]))"
   ]
  },
  {
   "cell_type": "code",
   "execution_count": 33,
   "id": "2800d563-5913-43f4-b084-c8be68e59616",
   "metadata": {},
   "outputs": [
    {
     "data": {
      "text/html": [
       "<div>\n",
       "<style scoped>\n",
       "    .dataframe tbody tr th:only-of-type {\n",
       "        vertical-align: middle;\n",
       "    }\n",
       "\n",
       "    .dataframe tbody tr th {\n",
       "        vertical-align: top;\n",
       "    }\n",
       "\n",
       "    .dataframe thead th {\n",
       "        text-align: right;\n",
       "    }\n",
       "</style>\n",
       "<table border=\"1\" class=\"dataframe\">\n",
       "  <thead>\n",
       "    <tr style=\"text-align: right;\">\n",
       "      <th></th>\n",
       "      <th>group</th>\n",
       "      <th>precision</th>\n",
       "      <th>recall</th>\n",
       "      <th>f1-score</th>\n",
       "      <th>support</th>\n",
       "      <th>fold</th>\n",
       "      <th>technique</th>\n",
       "    </tr>\n",
       "  </thead>\n",
       "  <tbody>\n",
       "    <tr>\n",
       "      <th>2</th>\n",
       "      <td>Informativo</td>\n",
       "      <td>0.550000</td>\n",
       "      <td>0.696203</td>\n",
       "      <td>0.614525</td>\n",
       "      <td>79.0</td>\n",
       "      <td>0</td>\n",
       "      <td>LR</td>\n",
       "    </tr>\n",
       "    <tr>\n",
       "      <th>8</th>\n",
       "      <td>Informativo</td>\n",
       "      <td>0.623762</td>\n",
       "      <td>0.787500</td>\n",
       "      <td>0.696133</td>\n",
       "      <td>80.0</td>\n",
       "      <td>1</td>\n",
       "      <td>LR</td>\n",
       "    </tr>\n",
       "    <tr>\n",
       "      <th>14</th>\n",
       "      <td>Informativo</td>\n",
       "      <td>0.535714</td>\n",
       "      <td>0.750000</td>\n",
       "      <td>0.625000</td>\n",
       "      <td>80.0</td>\n",
       "      <td>2</td>\n",
       "      <td>LR</td>\n",
       "    </tr>\n",
       "    <tr>\n",
       "      <th>20</th>\n",
       "      <td>Informativo</td>\n",
       "      <td>0.553398</td>\n",
       "      <td>0.712500</td>\n",
       "      <td>0.622951</td>\n",
       "      <td>80.0</td>\n",
       "      <td>3</td>\n",
       "      <td>LR</td>\n",
       "    </tr>\n",
       "    <tr>\n",
       "      <th>26</th>\n",
       "      <td>Informativo</td>\n",
       "      <td>0.570093</td>\n",
       "      <td>0.762500</td>\n",
       "      <td>0.652406</td>\n",
       "      <td>80.0</td>\n",
       "      <td>4</td>\n",
       "      <td>LR</td>\n",
       "    </tr>\n",
       "  </tbody>\n",
       "</table>\n",
       "</div>"
      ],
      "text/plain": [
       "          group  precision    recall  f1-score  support  fold technique\n",
       "2   Informativo   0.550000  0.696203  0.614525     79.0     0        LR\n",
       "8   Informativo   0.623762  0.787500  0.696133     80.0     1        LR\n",
       "14  Informativo   0.535714  0.750000  0.625000     80.0     2        LR\n",
       "20  Informativo   0.553398  0.712500  0.622951     80.0     3        LR\n",
       "26  Informativo   0.570093  0.762500  0.652406     80.0     4        LR"
      ]
     },
     "execution_count": 33,
     "metadata": {},
     "output_type": "execute_result"
    }
   ],
   "source": [
    "res_df_global=res_df[res_df[\"group\"]=='Informativo']\n",
    "res_df_global.head()"
   ]
  },
  {
   "cell_type": "code",
   "execution_count": 34,
   "id": "a2e2e94b-a22e-4226-b772-bb17446a1810",
   "metadata": {},
   "outputs": [
    {
     "name": "stdout",
     "output_type": "stream",
     "text": [
      "precision 0.5831422870999999 with std  0.057052134212844136\n",
      "recall 0.7571202532 with std  0.03144389846518703\n",
      "f1-score 0.6571520933999999 with std  0.03654941811089163\n"
     ]
    }
   ],
   "source": [
    "print(\"precision\", np.mean(res_df_global[\"precision\"]), \"with std \", np.std(res_df_global[\"precision\"]))\n",
    "print(\"recall\", np.mean(res_df_global[\"recall\"]), \"with std \", np.std(res_df_global[\"recall\"]))\n",
    "print(\"f1-score\", np.mean(res_df_global[\"f1-score\"]), \"with std \", np.std(res_df_global[\"f1-score\"]))"
   ]
  },
  {
   "cell_type": "code",
   "execution_count": null,
   "id": "c5c52459-f96a-4d59-8c15-7d5ad539f170",
   "metadata": {},
   "outputs": [],
   "source": []
  },
  {
   "cell_type": "code",
   "execution_count": null,
   "id": "955c1db5-72da-4c08-97f6-50f50398d6c1",
   "metadata": {},
   "outputs": [],
   "source": []
  },
  {
   "cell_type": "code",
   "execution_count": null,
   "id": "a0b7d4ee-78c8-4b28-902b-6d50c50d81b7",
   "metadata": {},
   "outputs": [],
   "source": []
  },
  {
   "cell_type": "code",
   "execution_count": null,
   "id": "fdbc12fd-4506-4ea4-aefc-e6dab1935e28",
   "metadata": {},
   "outputs": [],
   "source": []
  }
 ],
 "metadata": {
  "kernelspec": {
   "display_name": "Python 3 (ipykernel)",
   "language": "python",
   "name": "python3"
  },
  "language_info": {
   "codemirror_mode": {
    "name": "ipython",
    "version": 3
   },
   "file_extension": ".py",
   "mimetype": "text/x-python",
   "name": "python",
   "nbconvert_exporter": "python",
   "pygments_lexer": "ipython3",
   "version": "3.11.11"
  }
 },
 "nbformat": 4,
 "nbformat_minor": 5
}
