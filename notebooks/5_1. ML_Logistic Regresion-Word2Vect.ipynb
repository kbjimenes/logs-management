{
 "cells": [
  {
   "cell_type": "code",
   "execution_count": 42,
   "id": "4694ea9b-85e3-4bae-b0ff-f2c02dda3f67",
   "metadata": {},
   "outputs": [],
   "source": [
    "import os\n",
    "import numpy as np\n",
    "import pandas as pd\n",
    "from gensim.models import KeyedVectors\n",
    "from sklearn.linear_model import LogisticRegression\n",
    "from sklearn.metrics import confusion_matrix, classification_report\n",
    "from sklearn.preprocessing import LabelEncoder\n",
    "import joblib\n"
   ]
  },
  {
   "cell_type": "code",
   "execution_count": 43,
   "id": "06727162-bd93-4ad8-b09b-e078e3c038c6",
   "metadata": {},
   "outputs": [],
   "source": [
    "SEED = 42 \n",
    "random.seed(SEED)\n",
    "np.random.seed(SEED)\n",
    "os.environ['PYTHONHASHSEED'] = str(SEED)"
   ]
  },
  {
   "cell_type": "markdown",
   "id": "346d0b71-17d4-4a49-8f77-977f5a632116",
   "metadata": {},
   "source": [
    "## WORD_TO_VECT con LR"
   ]
  },
  {
   "cell_type": "code",
   "execution_count": 44,
   "id": "ba3ae5f5-5ca1-4ba8-8b9b-b9db38f3929c",
   "metadata": {},
   "outputs": [],
   "source": [
    "# Configuración\n",
    "dir_path = \"../process/folds/\"\n",
    "dir_path_model = \"../model\"\n",
    "glove_input_file = \"glove.6B/glove.6B.100d.txt\"\n",
    "word2vec_output_file = \"glove.6B/glove.6B.100d.word2vec.txt\""
   ]
  },
  {
   "cell_type": "code",
   "execution_count": 45,
   "id": "6658bf7a-c301-4264-80bd-9dc0ef761528",
   "metadata": {},
   "outputs": [],
   "source": [
    "# Cargar modelo Word2Vec\n",
    "w2v_model = KeyedVectors.load_word2vec_format(word2vec_output_file, binary=False)\n",
    "embedding_dim = w2v_model.vector_size"
   ]
  },
  {
   "cell_type": "code",
   "execution_count": 46,
   "id": "4b5f409f-7b33-422c-a41f-d9ac5e4da19b",
   "metadata": {},
   "outputs": [],
   "source": [
    "# Función para promediar vectores Word2Vec por documento\n",
    "def document_vector(doc):\n",
    "    words = doc.split()\n",
    "    word_vecs = [w2v_model[word] for word in words if word in w2v_model]\n",
    "    if len(word_vecs) == 0:\n",
    "        return np.zeros(embedding_dim)\n",
    "    return np.mean(word_vecs, axis=0)"
   ]
  },
  {
   "cell_type": "code",
   "execution_count": 47,
   "id": "64fc7f31-01c9-4a73-a492-bf2213cbdd42",
   "metadata": {},
   "outputs": [],
   "source": [
    "\n",
    "# Codificador de etiquetas\n",
    "label_encoder = LabelEncoder()"
   ]
  },
  {
   "cell_type": "code",
   "execution_count": 12,
   "id": "78b1e607-cf85-45c9-a570-ba344316043b",
   "metadata": {},
   "outputs": [
    {
     "name": "stdout",
     "output_type": "stream",
     "text": [
      "\n",
      "*************************** Fold 0\n",
      "Confusion Matrix:\n",
      "[[79  0  0]\n",
      " [ 1 75  3]\n",
      " [ 0  3 76]]\n",
      "Classification Report:\n",
      "              precision    recall  f1-score     support\n",
      "Advertencia    0.987500  1.000000  0.993711   79.000000\n",
      "Error          0.961538  0.949367  0.955414   79.000000\n",
      "Informativo    0.962025  0.962025  0.962025   79.000000\n",
      "accuracy       0.970464  0.970464  0.970464    0.970464\n",
      "macro avg      0.970355  0.970464  0.970383  237.000000\n",
      "weighted avg   0.970355  0.970464  0.970383  237.000000\n",
      "\n",
      "*************************** Fold 1\n",
      "Confusion Matrix:\n",
      "[[80  0  0]\n",
      " [ 0 80  0]\n",
      " [ 0  6 74]]\n",
      "Classification Report:\n",
      "              precision  recall  f1-score  support\n",
      "Advertencia    1.000000   1.000  1.000000   80.000\n",
      "Error          0.930233   1.000  0.963855   80.000\n",
      "Informativo    1.000000   0.925  0.961039   80.000\n",
      "accuracy       0.975000   0.975  0.975000    0.975\n",
      "macro avg      0.976744   0.975  0.974965  240.000\n",
      "weighted avg   0.976744   0.975  0.974965  240.000\n",
      "\n",
      "*************************** Fold 2\n",
      "Confusion Matrix:\n",
      "[[80  0  0]\n",
      " [ 1 76  3]\n",
      " [ 0  3 77]]\n",
      "Classification Report:\n",
      "              precision    recall  f1-score     support\n",
      "Advertencia    0.987654  1.000000  0.993789   80.000000\n",
      "Error          0.962025  0.950000  0.955975   80.000000\n",
      "Informativo    0.962500  0.962500  0.962500   80.000000\n",
      "accuracy       0.970833  0.970833  0.970833    0.970833\n",
      "macro avg      0.970727  0.970833  0.970755  240.000000\n",
      "weighted avg   0.970727  0.970833  0.970755  240.000000\n",
      "\n",
      "*************************** Fold 3\n",
      "Confusion Matrix:\n",
      "[[79  1  0]\n",
      " [ 0 78  2]\n",
      " [ 0  1 79]]\n",
      "Classification Report:\n",
      "              precision    recall  f1-score     support\n",
      "Advertencia    1.000000  0.987500  0.993711   80.000000\n",
      "Error          0.975000  0.975000  0.975000   80.000000\n",
      "Informativo    0.975309  0.987500  0.981366   80.000000\n",
      "accuracy       0.983333  0.983333  0.983333    0.983333\n",
      "macro avg      0.983436  0.983333  0.983359  240.000000\n",
      "weighted avg   0.983436  0.983333  0.983359  240.000000\n",
      "\n",
      "*************************** Fold 4\n",
      "Confusion Matrix:\n",
      "[[79  0  1]\n",
      " [ 0 80  0]\n",
      " [ 0  0 80]]\n",
      "Classification Report:\n",
      "              precision    recall  f1-score     support\n",
      "Advertencia    1.000000  0.987500  0.993711   80.000000\n",
      "Error          1.000000  1.000000  1.000000   80.000000\n",
      "Informativo    0.987654  1.000000  0.993789   80.000000\n",
      "accuracy       0.995833  0.995833  0.995833    0.995833\n",
      "macro avg      0.995885  0.995833  0.995833  240.000000\n",
      "weighted avg   0.995885  0.995833  0.995833  240.000000\n",
      "\n",
      "*************************** Fold 5\n",
      "Confusion Matrix:\n",
      "[[77  1  2]\n",
      " [ 0 79  1]\n",
      " [ 0  2 78]]\n",
      "Classification Report:\n",
      "              precision  recall  f1-score  support\n",
      "Advertencia    1.000000  0.9625  0.980892   80.000\n",
      "Error          0.963415  0.9875  0.975309   80.000\n",
      "Informativo    0.962963  0.9750  0.968944   80.000\n",
      "accuracy       0.975000  0.9750  0.975000    0.975\n",
      "macro avg      0.975459  0.9750  0.975048  240.000\n",
      "weighted avg   0.975459  0.9750  0.975048  240.000\n",
      "\n",
      "*************************** Fold 6\n",
      "Confusion Matrix:\n",
      "[[80  0  0]\n",
      " [ 0 77  3]\n",
      " [ 1  3 76]]\n",
      "Classification Report:\n",
      "              precision    recall  f1-score     support\n",
      "Advertencia    0.987654  1.000000  0.993789   80.000000\n",
      "Error          0.962500  0.962500  0.962500   80.000000\n",
      "Informativo    0.962025  0.950000  0.955975   80.000000\n",
      "accuracy       0.970833  0.970833  0.970833    0.970833\n",
      "macro avg      0.970727  0.970833  0.970755  240.000000\n",
      "weighted avg   0.970727  0.970833  0.970755  240.000000\n",
      "\n",
      "*************************** Fold 7\n",
      "Confusion Matrix:\n",
      "[[80  0  0]\n",
      " [ 0 79  1]\n",
      " [ 2  1 77]]\n",
      "Classification Report:\n",
      "              precision    recall  f1-score     support\n",
      "Advertencia    0.975610  1.000000  0.987654   80.000000\n",
      "Error          0.987500  0.987500  0.987500   80.000000\n",
      "Informativo    0.987179  0.962500  0.974684   80.000000\n",
      "accuracy       0.983333  0.983333  0.983333    0.983333\n",
      "macro avg      0.983430  0.983333  0.983279  240.000000\n",
      "weighted avg   0.983430  0.983333  0.983279  240.000000\n",
      "\n",
      "*************************** Fold 8\n",
      "Confusion Matrix:\n",
      "[[78  1  1]\n",
      " [ 0 78  2]\n",
      " [ 0  2 78]]\n",
      "Classification Report:\n",
      "              precision  recall  f1-score  support\n",
      "Advertencia    1.000000   0.975  0.987342   80.000\n",
      "Error          0.962963   0.975  0.968944   80.000\n",
      "Informativo    0.962963   0.975  0.968944   80.000\n",
      "accuracy       0.975000   0.975  0.975000    0.975\n",
      "macro avg      0.975309   0.975  0.975077  240.000\n",
      "weighted avg   0.975309   0.975  0.975077  240.000\n",
      "\n",
      "*************************** Fold 9\n",
      "Confusion Matrix:\n",
      "[[80  0  0]\n",
      " [ 0 76  4]\n",
      " [ 0  3 77]]\n",
      "Classification Report:\n",
      "              precision    recall  f1-score     support\n",
      "Advertencia    1.000000  1.000000  1.000000   80.000000\n",
      "Error          0.962025  0.950000  0.955975   80.000000\n",
      "Informativo    0.950617  0.962500  0.956522   80.000000\n",
      "accuracy       0.970833  0.970833  0.970833    0.970833\n",
      "macro avg      0.970881  0.970833  0.970832  240.000000\n",
      "weighted avg   0.970881  0.970833  0.970832  240.000000\n"
     ]
    }
   ],
   "source": [
    "\n",
    "# Procesamiento por fold\n",
    "for fold in range(10):\n",
    "    print(f\"\\n*************************** Fold {fold}\")\n",
    "\n",
    "    # Cargar datos\n",
    "    train_df = pd.read_csv(f\"{dir_path}train_fold_{fold}.csv\").fillna(\"\")\n",
    "    val_df = pd.read_csv(f\"{dir_path}val_fold_{fold}.csv\").fillna(\"\")\n",
    "\n",
    "    # Codificar etiquetas\n",
    "    y_train = label_encoder.fit_transform(train_df[\"Level\"])\n",
    "    y_val = label_encoder.transform(val_df[\"Level\"])\n",
    "\n",
    "    # Representación vectorial con Word2Vec\n",
    "    X_train = np.vstack(train_df[\"Clean_Content\"].apply(document_vector).to_numpy())\n",
    "    X_val = np.vstack(val_df[\"Clean_Content\"].apply(document_vector).to_numpy())\n",
    "\n",
    "    # Entrenar modelo\n",
    "    model = LogisticRegression(max_iter=1000)\n",
    "    model.fit(X_train, y_train)\n",
    "\n",
    "    # Predicciones\n",
    "    y_pred = model.predict(X_val)\n",
    "\n",
    "    # Matriz de confusión\n",
    "    cm = confusion_matrix(y_val, y_pred)\n",
    "    print(\"Confusion Matrix:\")\n",
    "    print(cm)\n",
    "\n",
    "    # Métricas\n",
    "    report = classification_report(y_val, y_pred, target_names=label_encoder.classes_, output_dict=True)\n",
    "    print(\"Classification Report:\")\n",
    "    print(pd.DataFrame(report).transpose())\n",
    "\n",
    "    # Guardar modelo y encoder\n",
    "    fold_dir = f\"{dir_path_model}/fold_{fold}\"\n",
    "    os.makedirs(fold_dir, exist_ok=True)\n",
    "\n",
    "    joblib.dump(model, f\"{fold_dir}/word2vec_logreg_fold_{fold}.joblib\")\n",
    "    joblib.dump(label_encoder, f\"{fold_dir}/word2vec_le_{fold}.joblib\")\n",
    "\n",
    "    # Guardar métricas\n",
    "    os.makedirs(f\"{dir_path_model}/results\", exist_ok=True)\n",
    "    pd.DataFrame(report).transpose().to_csv(f\"{dir_path_model}/results/word2vec_report_fold_{fold}.csv\")\n",
    "    np.savetxt(f\"{dir_path_model}/results/word2vec_cm_fold_{fold}.txt\", cm, fmt='%d')\n",
    "    #break"
   ]
  },
  {
   "cell_type": "code",
   "execution_count": null,
   "id": "ed8cfd29-83fd-4669-9922-f9bdaacd776d",
   "metadata": {},
   "outputs": [],
   "source": [
    "## Evaluar el model con conjunto de validación extern"
   ]
  },
  {
   "cell_type": "code",
   "execution_count": null,
   "id": "25a0bb2a-67d6-46c2-b1df-3392c99bde79",
   "metadata": {},
   "outputs": [],
   "source": []
  },
  {
   "cell_type": "code",
   "execution_count": null,
   "id": "6a4e5487-3cbc-4d04-a24f-2aaa96e3aacf",
   "metadata": {},
   "outputs": [],
   "source": [
    "dir_path = \"../process/\"\n",
    "#logs_df = pd.read_csv(f\"{dir_path}external_test_data.csv\", encoding='utf-8')\n",
    "train_df = pd.read_csv(f\"{dir_path}train_data.csv\", encoding='utf-8')\n",
    "print(set(train_df[\"Level\"]))\n",
    "print(train_df.shape)\n",
    "train_df=train_df.dropna(subset=['Clean_Content'])\n",
    "\n",
    "print(train_df.shape)\n",
    "train_df.head()"
   ]
  },
  {
   "cell_type": "code",
   "execution_count": null,
   "id": "209f9f78-6011-44ef-b0b3-1662e81d5a7e",
   "metadata": {
    "scrolled": true
   },
   "outputs": [],
   "source": [
    "test_df = pd.read_csv(f\"{dir_path}external_test_data.csv\", encoding='utf-8')\n",
    "\n",
    "print(set(test_df[\"Level\"]))\n",
    "print(test_df.shape)\n",
    "test_df=test_df.dropna(subset=['Clean_Content'])\n",
    "\n",
    "print(test_df.shape)\n",
    "test_df.head()"
   ]
  },
  {
   "cell_type": "markdown",
   "id": "6ceefcc3-2bf7-4e0f-8c21-7d803c3c3563",
   "metadata": {},
   "source": [
    "# Evaluar el model con conjunto de validación extern"
   ]
  },
  {
   "cell_type": "code",
   "execution_count": 14,
   "id": "4501b849-4071-494f-8d43-d7ee6d2d08e6",
   "metadata": {},
   "outputs": [],
   "source": [
    "import pandas as pd\n",
    "import numpy as np\n",
    "import joblib\n",
    "from sklearn.metrics import classification_report, accuracy_score, confusion_matrix\n",
    "from gensim.models import KeyedVectors\n",
    "\n",
    "# Rutas\n",
    "dir_path_model = \"../model\"\n",
    "dir_path_ev = \"../process/\"\n",
    "word2vec_path = \"glove.6B/glove.6B.100d.word2vec.txt\"\n"
   ]
  },
  {
   "cell_type": "code",
   "execution_count": 28,
   "id": "a74391c4-3f65-455f-9989-b3dcbac9135b",
   "metadata": {},
   "outputs": [],
   "source": [
    "# Cargar modelo y encoder del fold 0\n",
    "fold = 4\n",
    "model = joblib.load(f\"{dir_path_model}/fold_{fold}/word2vec_logreg_fold_{fold}.joblib\")\n",
    "label_encoder = joblib.load(f\"{dir_path_model}/fold_{fold}/word2vec_le_{fold}.joblib\")\n",
    "w2v_model = KeyedVectors.load_word2vec_format(word2vec_path, binary=False)\n",
    "embedding_dim = w2v_model.vector_size"
   ]
  },
  {
   "cell_type": "code",
   "execution_count": 29,
   "id": "86e368d2-43c0-411d-af34-3c60b7ab4a1a",
   "metadata": {},
   "outputs": [],
   "source": [
    "# Función para representar documento con promedio de Word2Vec\n",
    "def document_vector(doc):\n",
    "    words = doc.split()\n",
    "    word_vecs = [w2v_model[word] for word in words if word in w2v_model]\n",
    "    if len(word_vecs) == 0:\n",
    "        return np.zeros(embedding_dim)\n",
    "    return np.mean(word_vecs, axis=0)"
   ]
  },
  {
   "cell_type": "code",
   "execution_count": 30,
   "id": "58590ae1-9504-4b22-9260-06626d171845",
   "metadata": {},
   "outputs": [
    {
     "name": "stdout",
     "output_type": "stream",
     "text": [
      "(320, 6)\n"
     ]
    },
    {
     "data": {
      "text/html": [
       "<div>\n",
       "<style scoped>\n",
       "    .dataframe tbody tr th:only-of-type {\n",
       "        vertical-align: middle;\n",
       "    }\n",
       "\n",
       "    .dataframe tbody tr th {\n",
       "        vertical-align: top;\n",
       "    }\n",
       "\n",
       "    .dataframe thead th {\n",
       "        text-align: right;\n",
       "    }\n",
       "</style>\n",
       "<table border=\"1\" class=\"dataframe\">\n",
       "  <thead>\n",
       "    <tr style=\"text-align: right;\">\n",
       "      <th></th>\n",
       "      <th>Content</th>\n",
       "      <th>Level</th>\n",
       "      <th>datetime</th>\n",
       "      <th>content_length</th>\n",
       "      <th>source</th>\n",
       "      <th>Clean_Content</th>\n",
       "    </tr>\n",
       "  </thead>\n",
       "  <tbody>\n",
       "    <tr>\n",
       "      <th>0</th>\n",
       "      <td>Animating brightness: target=38, rate=200</td>\n",
       "      <td>Informativo</td>\n",
       "      <td>2024-03-17 16:15:58.884</td>\n",
       "      <td>4</td>\n",
       "      <td>Android</td>\n",
       "      <td>animating brightness target rate</td>\n",
       "    </tr>\n",
       "    <tr>\n",
       "      <th>1</th>\n",
       "      <td>getRunningAppProcesses: caller 10111 does not ...</td>\n",
       "      <td>Advertencia</td>\n",
       "      <td>2024-03-17 16:15:22.152</td>\n",
       "      <td>6</td>\n",
       "      <td>Android</td>\n",
       "      <td>getrunningappprocesses caller does hold limiti...</td>\n",
       "    </tr>\n",
       "    <tr>\n",
       "      <th>2</th>\n",
       "      <td>isSimPinSecure mSimDatas is null or empty</td>\n",
       "      <td>Error</td>\n",
       "      <td>2024-03-17 16:13:46.764</td>\n",
       "      <td>3</td>\n",
       "      <td>Android</td>\n",
       "      <td>issimpinsecure msimdatas null</td>\n",
       "    </tr>\n",
       "    <tr>\n",
       "      <th>3</th>\n",
       "      <td>jk2_init() Found child 8765 in scoreboard slot 11</td>\n",
       "      <td>Informativo</td>\n",
       "      <td>2005-12-04 05:04:03.000</td>\n",
       "      <td>3</td>\n",
       "      <td>Apache</td>\n",
       "      <td>child scoreboard slot</td>\n",
       "    </tr>\n",
       "    <tr>\n",
       "      <th>4</th>\n",
       "      <td>workerEnv.init() ok /etc/httpd/conf/workers2.p...</td>\n",
       "      <td>Informativo</td>\n",
       "      <td>2005-12-04 17:34:57.000</td>\n",
       "      <td>6</td>\n",
       "      <td>Apache</td>\n",
       "      <td>workerenv init ok httpd conf properties</td>\n",
       "    </tr>\n",
       "  </tbody>\n",
       "</table>\n",
       "</div>"
      ],
      "text/plain": [
       "                                             Content        Level  \\\n",
       "0          Animating brightness: target=38, rate=200  Informativo   \n",
       "1  getRunningAppProcesses: caller 10111 does not ...  Advertencia   \n",
       "2          isSimPinSecure mSimDatas is null or empty        Error   \n",
       "3  jk2_init() Found child 8765 in scoreboard slot 11  Informativo   \n",
       "4  workerEnv.init() ok /etc/httpd/conf/workers2.p...  Informativo   \n",
       "\n",
       "                  datetime  content_length   source  \\\n",
       "0  2024-03-17 16:15:58.884               4  Android   \n",
       "1  2024-03-17 16:15:22.152               6  Android   \n",
       "2  2024-03-17 16:13:46.764               3  Android   \n",
       "3  2005-12-04 05:04:03.000               3   Apache   \n",
       "4  2005-12-04 17:34:57.000               6   Apache   \n",
       "\n",
       "                                       Clean_Content  \n",
       "0                   animating brightness target rate  \n",
       "1  getrunningappprocesses caller does hold limiti...  \n",
       "2                      issimpinsecure msimdatas null  \n",
       "3                              child scoreboard slot  \n",
       "4            workerenv init ok httpd conf properties  "
      ]
     },
     "execution_count": 30,
     "metadata": {},
     "output_type": "execute_result"
    }
   ],
   "source": [
    "# Cargar dataset externo\n",
    "ev_df = pd.read_csv(f\"{dir_path_ev}external_test_data.csv\").fillna(\"\")\n",
    "print(ev_df.shape)\n",
    "ev_df.head()"
   ]
  },
  {
   "cell_type": "code",
   "execution_count": 31,
   "id": "9bd6516d-53aa-435d-8f56-b42bc15a07fb",
   "metadata": {},
   "outputs": [],
   "source": [
    "# Vectorizar textos\n",
    "X_ev = np.vstack(ev_df[\"Clean_Content\"].apply(document_vector).to_numpy())\n",
    "y_ev = ev_df[\"Level\"]\n",
    "y_true = label_encoder.transform(y_ev)"
   ]
  },
  {
   "cell_type": "code",
   "execution_count": 32,
   "id": "327d81b1-faf2-4f56-a8a5-1c3b862ee0ac",
   "metadata": {},
   "outputs": [],
   "source": [
    "\n",
    "# Predicciones\n",
    "y_pred = model.predict(X_ev)\n",
    "y_pred_labels = label_encoder.inverse_transform(y_pred)\n"
   ]
  },
  {
   "cell_type": "code",
   "execution_count": 33,
   "id": "29390355-46d7-4792-a95d-2415f685211b",
   "metadata": {},
   "outputs": [],
   "source": [
    "# Agregar predicciones al dataframe\n",
    "ev_df[\"Predicted_Level\"] = y_pred_labels"
   ]
  },
  {
   "cell_type": "code",
   "execution_count": 34,
   "id": "72f1d14f-ddbc-40b0-973b-dc6407ac7d8a",
   "metadata": {},
   "outputs": [
    {
     "name": "stdout",
     "output_type": "stream",
     "text": [
      "              precision    recall  f1-score   support\n",
      "\n",
      " Advertencia       1.00      0.95      0.98        44\n",
      "       Error       0.97      0.99      0.98       138\n",
      " Informativo       0.99      0.99      0.99       138\n",
      "\n",
      "    accuracy                           0.98       320\n",
      "   macro avg       0.99      0.98      0.98       320\n",
      "weighted avg       0.98      0.98      0.98       320\n",
      "\n"
     ]
    }
   ],
   "source": [
    "# Calcular métricas\n",
    "report_dict = classification_report(\n",
    "    y_true, \n",
    "    y_pred, \n",
    "    target_names=label_encoder.classes_, \n",
    ")\n",
    "print(report_dict)\n"
   ]
  },
  {
   "cell_type": "code",
   "execution_count": 35,
   "id": "a019262c-f26a-47e5-9b0a-616f83bd4881",
   "metadata": {},
   "outputs": [
    {
     "data": {
      "text/plain": [
       "0.98125"
      ]
     },
     "execution_count": 35,
     "metadata": {},
     "output_type": "execute_result"
    }
   ],
   "source": [
    "accuracy = accuracy_score(y_true, y_pred)\n",
    "accuracy"
   ]
  },
  {
   "cell_type": "code",
   "execution_count": 36,
   "id": "21822d08-1ded-4b1f-98a4-265ffc30ad9c",
   "metadata": {},
   "outputs": [
    {
     "data": {
      "text/plain": [
       "array([[ 42,   2,   0],\n",
       "       [  0, 136,   2],\n",
       "       [  0,   2, 136]])"
      ]
     },
     "execution_count": 36,
     "metadata": {},
     "output_type": "execute_result"
    }
   ],
   "source": [
    "conf_matrix = confusion_matrix(y_true, y_pred)\n",
    "conf_matrix"
   ]
  },
  {
   "cell_type": "code",
   "execution_count": 37,
   "id": "83c726bc-adf4-4d71-90bc-29e8e5eb507a",
   "metadata": {},
   "outputs": [
    {
     "data": {
      "text/html": [
       "<div>\n",
       "<style scoped>\n",
       "    .dataframe tbody tr th:only-of-type {\n",
       "        vertical-align: middle;\n",
       "    }\n",
       "\n",
       "    .dataframe tbody tr th {\n",
       "        vertical-align: top;\n",
       "    }\n",
       "\n",
       "    .dataframe thead th {\n",
       "        text-align: right;\n",
       "    }\n",
       "</style>\n",
       "<table border=\"1\" class=\"dataframe\">\n",
       "  <thead>\n",
       "    <tr style=\"text-align: right;\">\n",
       "      <th></th>\n",
       "      <th>Content</th>\n",
       "      <th>Level</th>\n",
       "      <th>datetime</th>\n",
       "      <th>content_length</th>\n",
       "      <th>source</th>\n",
       "      <th>Clean_Content</th>\n",
       "      <th>Predicted_Level</th>\n",
       "    </tr>\n",
       "  </thead>\n",
       "  <tbody>\n",
       "    <tr>\n",
       "      <th>0</th>\n",
       "      <td>Animating brightness: target=38, rate=200</td>\n",
       "      <td>Informativo</td>\n",
       "      <td>2024-03-17 16:15:58.884</td>\n",
       "      <td>4</td>\n",
       "      <td>Android</td>\n",
       "      <td>animating brightness target rate</td>\n",
       "      <td>Informativo</td>\n",
       "    </tr>\n",
       "    <tr>\n",
       "      <th>1</th>\n",
       "      <td>getRunningAppProcesses: caller 10111 does not ...</td>\n",
       "      <td>Advertencia</td>\n",
       "      <td>2024-03-17 16:15:22.152</td>\n",
       "      <td>6</td>\n",
       "      <td>Android</td>\n",
       "      <td>getrunningappprocesses caller does hold limiti...</td>\n",
       "      <td>Advertencia</td>\n",
       "    </tr>\n",
       "    <tr>\n",
       "      <th>2</th>\n",
       "      <td>isSimPinSecure mSimDatas is null or empty</td>\n",
       "      <td>Error</td>\n",
       "      <td>2024-03-17 16:13:46.764</td>\n",
       "      <td>3</td>\n",
       "      <td>Android</td>\n",
       "      <td>issimpinsecure msimdatas null</td>\n",
       "      <td>Error</td>\n",
       "    </tr>\n",
       "    <tr>\n",
       "      <th>3</th>\n",
       "      <td>jk2_init() Found child 8765 in scoreboard slot 11</td>\n",
       "      <td>Informativo</td>\n",
       "      <td>2005-12-04 05:04:03.000</td>\n",
       "      <td>3</td>\n",
       "      <td>Apache</td>\n",
       "      <td>child scoreboard slot</td>\n",
       "      <td>Informativo</td>\n",
       "    </tr>\n",
       "    <tr>\n",
       "      <th>4</th>\n",
       "      <td>workerEnv.init() ok /etc/httpd/conf/workers2.p...</td>\n",
       "      <td>Informativo</td>\n",
       "      <td>2005-12-04 17:34:57.000</td>\n",
       "      <td>6</td>\n",
       "      <td>Apache</td>\n",
       "      <td>workerenv init ok httpd conf properties</td>\n",
       "      <td>Informativo</td>\n",
       "    </tr>\n",
       "  </tbody>\n",
       "</table>\n",
       "</div>"
      ],
      "text/plain": [
       "                                             Content        Level  \\\n",
       "0          Animating brightness: target=38, rate=200  Informativo   \n",
       "1  getRunningAppProcesses: caller 10111 does not ...  Advertencia   \n",
       "2          isSimPinSecure mSimDatas is null or empty        Error   \n",
       "3  jk2_init() Found child 8765 in scoreboard slot 11  Informativo   \n",
       "4  workerEnv.init() ok /etc/httpd/conf/workers2.p...  Informativo   \n",
       "\n",
       "                  datetime  content_length   source  \\\n",
       "0  2024-03-17 16:15:58.884               4  Android   \n",
       "1  2024-03-17 16:15:22.152               6  Android   \n",
       "2  2024-03-17 16:13:46.764               3  Android   \n",
       "3  2005-12-04 05:04:03.000               3   Apache   \n",
       "4  2005-12-04 17:34:57.000               6   Apache   \n",
       "\n",
       "                                       Clean_Content Predicted_Level  \n",
       "0                   animating brightness target rate     Informativo  \n",
       "1  getrunningappprocesses caller does hold limiti...     Advertencia  \n",
       "2                      issimpinsecure msimdatas null           Error  \n",
       "3                              child scoreboard slot     Informativo  \n",
       "4            workerenv init ok httpd conf properties     Informativo  "
      ]
     },
     "execution_count": 37,
     "metadata": {},
     "output_type": "execute_result"
    }
   ],
   "source": [
    "ev_df[\"Predicted_Level\"] = y_pred_labels\n",
    "ev_df.head()"
   ]
  },
  {
   "cell_type": "code",
   "execution_count": 38,
   "id": "58c396b0-c684-49d0-ad89-65f9e0c734ed",
   "metadata": {},
   "outputs": [],
   "source": [
    "dir_path = \"../process/\"\n",
    "# Guardar en un archivo CSV\n",
    "ev_df.to_csv(f'{dir_path}5_10external_test_data_word2vect_prediction.csv', index=False)"
   ]
  },
  {
   "cell_type": "code",
   "execution_count": null,
   "id": "05b5343c-7d4c-4476-adb0-e0f019e57aca",
   "metadata": {},
   "outputs": [],
   "source": []
  },
  {
   "cell_type": "code",
   "execution_count": null,
   "id": "6e8fb44c-ade9-4d6b-a672-2cdbee244451",
   "metadata": {},
   "outputs": [],
   "source": []
  },
  {
   "cell_type": "code",
   "execution_count": null,
   "id": "1143dae1-399b-4612-a84e-1902f23f397b",
   "metadata": {},
   "outputs": [],
   "source": []
  },
  {
   "cell_type": "code",
   "execution_count": null,
   "id": "7eaa6e28-7762-4bb9-9007-635afa54ff35",
   "metadata": {},
   "outputs": [],
   "source": []
  },
  {
   "cell_type": "code",
   "execution_count": null,
   "id": "45b0780d-51b9-45bb-9c3a-5f66c4a95d54",
   "metadata": {},
   "outputs": [],
   "source": []
  }
 ],
 "metadata": {
  "kernelspec": {
   "display_name": "Python 3 (ipykernel)",
   "language": "python",
   "name": "python3"
  },
  "language_info": {
   "codemirror_mode": {
    "name": "ipython",
    "version": 3
   },
   "file_extension": ".py",
   "mimetype": "text/x-python",
   "name": "python",
   "nbconvert_exporter": "python",
   "pygments_lexer": "ipython3",
   "version": "3.12.7"
  }
 },
 "nbformat": 4,
 "nbformat_minor": 5
}
