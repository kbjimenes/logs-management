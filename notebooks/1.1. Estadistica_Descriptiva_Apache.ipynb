{
 "cells": [
  {
   "cell_type": "code",
   "execution_count": 49,
   "id": "b24ceb84-5027-4e42-b987-6320bd07b6cd",
   "metadata": {},
   "outputs": [],
   "source": [
    "import pandas as pd\n",
    "import matplotlib.pyplot as plt\n",
    "import seaborn as sns"
   ]
  },
  {
   "cell_type": "code",
   "execution_count": 50,
   "id": "75e8d0b8-8cb2-4499-99b5-0f1fe433c49d",
   "metadata": {},
   "outputs": [],
   "source": [
    "dataset = \"Apache\"\n",
    "dir_path = \"../data/\""
   ]
  },
  {
   "cell_type": "code",
   "execution_count": 51,
   "id": "a1651fd5-edc1-4a44-817a-6816799d93da",
   "metadata": {},
   "outputs": [
    {
     "data": {
      "text/html": [
       "<div>\n",
       "<style scoped>\n",
       "    .dataframe tbody tr th:only-of-type {\n",
       "        vertical-align: middle;\n",
       "    }\n",
       "\n",
       "    .dataframe tbody tr th {\n",
       "        vertical-align: top;\n",
       "    }\n",
       "\n",
       "    .dataframe thead th {\n",
       "        text-align: right;\n",
       "    }\n",
       "</style>\n",
       "<table border=\"1\" class=\"dataframe\">\n",
       "  <thead>\n",
       "    <tr style=\"text-align: right;\">\n",
       "      <th></th>\n",
       "      <th>LineId</th>\n",
       "      <th>Time</th>\n",
       "      <th>Level</th>\n",
       "      <th>Content</th>\n",
       "      <th>EventId</th>\n",
       "      <th>EventTemplate</th>\n",
       "    </tr>\n",
       "  </thead>\n",
       "  <tbody>\n",
       "    <tr>\n",
       "      <th>0</th>\n",
       "      <td>1</td>\n",
       "      <td>Sun Dec 04 04:47:44 2005</td>\n",
       "      <td>Informativo</td>\n",
       "      <td>workerEnv.init() ok /etc/httpd/conf/workers2.p...</td>\n",
       "      <td>E2</td>\n",
       "      <td>workerEnv.init() ok &lt;*&gt;</td>\n",
       "    </tr>\n",
       "    <tr>\n",
       "      <th>1</th>\n",
       "      <td>2</td>\n",
       "      <td>Sun Dec 04 04:47:44 2005</td>\n",
       "      <td>Error</td>\n",
       "      <td>mod_jk child workerEnv in error state 6</td>\n",
       "      <td>E3</td>\n",
       "      <td>mod_jk child workerEnv in error state &lt;*&gt;</td>\n",
       "    </tr>\n",
       "  </tbody>\n",
       "</table>\n",
       "</div>"
      ],
      "text/plain": [
       "   LineId                      Time        Level  \\\n",
       "0       1  Sun Dec 04 04:47:44 2005  Informativo   \n",
       "1       2  Sun Dec 04 04:47:44 2005        Error   \n",
       "\n",
       "                                             Content EventId  \\\n",
       "0  workerEnv.init() ok /etc/httpd/conf/workers2.p...      E2   \n",
       "1            mod_jk child workerEnv in error state 6      E3   \n",
       "\n",
       "                               EventTemplate  \n",
       "0                    workerEnv.init() ok <*>  \n",
       "1  mod_jk child workerEnv in error state <*>  "
      ]
     },
     "execution_count": 51,
     "metadata": {},
     "output_type": "execute_result"
    }
   ],
   "source": [
    "# Cargar el dataset\n",
    "logDF = pd.read_csv(f\"{dir_path}{dataset}_2k.log_structured.csv\")\n",
    "categorias = {\n",
    "    'error': 'Error',\n",
    "    'notice': 'Informativo'\n",
    "}\n",
    "logDF['Level'] = logDF['Level'].replace(categorias)\n",
    "\n",
    "logDF.head(2)\n"
   ]
  },
  {
   "cell_type": "code",
   "execution_count": 52,
   "id": "3a136c0e-4f3a-45b0-beb7-6dee59434b84",
   "metadata": {},
   "outputs": [
    {
     "data": {
      "text/html": [
       "<div>\n",
       "<style scoped>\n",
       "    .dataframe tbody tr th:only-of-type {\n",
       "        vertical-align: middle;\n",
       "    }\n",
       "\n",
       "    .dataframe tbody tr th {\n",
       "        vertical-align: top;\n",
       "    }\n",
       "\n",
       "    .dataframe thead th {\n",
       "        text-align: right;\n",
       "    }\n",
       "</style>\n",
       "<table border=\"1\" class=\"dataframe\">\n",
       "  <thead>\n",
       "    <tr style=\"text-align: right;\">\n",
       "      <th></th>\n",
       "      <th>LineId</th>\n",
       "      <th>Time</th>\n",
       "      <th>Level</th>\n",
       "      <th>Content</th>\n",
       "      <th>EventId</th>\n",
       "      <th>EventTemplate</th>\n",
       "      <th>datetime</th>\n",
       "    </tr>\n",
       "  </thead>\n",
       "  <tbody>\n",
       "    <tr>\n",
       "      <th>0</th>\n",
       "      <td>1</td>\n",
       "      <td>Sun Dec 04 04:47:44 2005</td>\n",
       "      <td>Informativo</td>\n",
       "      <td>workerEnv.init() ok /etc/httpd/conf/workers2.p...</td>\n",
       "      <td>E2</td>\n",
       "      <td>workerEnv.init() ok &lt;*&gt;</td>\n",
       "      <td>2005-12-04 04:47:44.000</td>\n",
       "    </tr>\n",
       "    <tr>\n",
       "      <th>1</th>\n",
       "      <td>2</td>\n",
       "      <td>Sun Dec 04 04:47:44 2005</td>\n",
       "      <td>Error</td>\n",
       "      <td>mod_jk child workerEnv in error state 6</td>\n",
       "      <td>E3</td>\n",
       "      <td>mod_jk child workerEnv in error state &lt;*&gt;</td>\n",
       "      <td>2005-12-04 04:47:44.000</td>\n",
       "    </tr>\n",
       "    <tr>\n",
       "      <th>2</th>\n",
       "      <td>3</td>\n",
       "      <td>Sun Dec 04 04:51:08 2005</td>\n",
       "      <td>Informativo</td>\n",
       "      <td>jk2_init() Found child 6725 in scoreboard slot 10</td>\n",
       "      <td>E1</td>\n",
       "      <td>jk2_init() Found child &lt;*&gt; in scoreboard slot &lt;*&gt;</td>\n",
       "      <td>2005-12-04 04:51:08.000</td>\n",
       "    </tr>\n",
       "    <tr>\n",
       "      <th>3</th>\n",
       "      <td>4</td>\n",
       "      <td>Sun Dec 04 04:51:09 2005</td>\n",
       "      <td>Informativo</td>\n",
       "      <td>jk2_init() Found child 6726 in scoreboard slot 8</td>\n",
       "      <td>E1</td>\n",
       "      <td>jk2_init() Found child &lt;*&gt; in scoreboard slot &lt;*&gt;</td>\n",
       "      <td>2005-12-04 04:51:09.000</td>\n",
       "    </tr>\n",
       "    <tr>\n",
       "      <th>4</th>\n",
       "      <td>5</td>\n",
       "      <td>Sun Dec 04 04:51:09 2005</td>\n",
       "      <td>Informativo</td>\n",
       "      <td>jk2_init() Found child 6728 in scoreboard slot 6</td>\n",
       "      <td>E1</td>\n",
       "      <td>jk2_init() Found child &lt;*&gt; in scoreboard slot &lt;*&gt;</td>\n",
       "      <td>2005-12-04 04:51:09.000</td>\n",
       "    </tr>\n",
       "  </tbody>\n",
       "</table>\n",
       "</div>"
      ],
      "text/plain": [
       "   LineId                      Time        Level  \\\n",
       "0       1  Sun Dec 04 04:47:44 2005  Informativo   \n",
       "1       2  Sun Dec 04 04:47:44 2005        Error   \n",
       "2       3  Sun Dec 04 04:51:08 2005  Informativo   \n",
       "3       4  Sun Dec 04 04:51:09 2005  Informativo   \n",
       "4       5  Sun Dec 04 04:51:09 2005  Informativo   \n",
       "\n",
       "                                             Content EventId  \\\n",
       "0  workerEnv.init() ok /etc/httpd/conf/workers2.p...      E2   \n",
       "1            mod_jk child workerEnv in error state 6      E3   \n",
       "2  jk2_init() Found child 6725 in scoreboard slot 10      E1   \n",
       "3   jk2_init() Found child 6726 in scoreboard slot 8      E1   \n",
       "4   jk2_init() Found child 6728 in scoreboard slot 6      E1   \n",
       "\n",
       "                                       EventTemplate                 datetime  \n",
       "0                            workerEnv.init() ok <*>  2005-12-04 04:47:44.000  \n",
       "1          mod_jk child workerEnv in error state <*>  2005-12-04 04:47:44.000  \n",
       "2  jk2_init() Found child <*> in scoreboard slot <*>  2005-12-04 04:51:08.000  \n",
       "3  jk2_init() Found child <*> in scoreboard slot <*>  2005-12-04 04:51:09.000  \n",
       "4  jk2_init() Found child <*> in scoreboard slot <*>  2005-12-04 04:51:09.000  "
      ]
     },
     "execution_count": 52,
     "metadata": {},
     "output_type": "execute_result"
    }
   ],
   "source": [
    "# Convertir columna 'Time' a datetime\n",
    "logDF['datetime'] = pd.to_datetime(logDF['Time'], format='%a %b %d %H:%M:%S %Y', errors='coerce')\n",
    "\n",
    "# Darle formato exacto 'YYYY-MM-DD HH:MM:SS.mmm' (milisegundos como .000 si no existen)\n",
    "logDF['datetime'] = logDF['datetime'].dt.strftime('%Y-%m-%d %H:%M:%S.%f').str[:-3]\n",
    "logDF.head()"
   ]
  },
  {
   "cell_type": "code",
   "execution_count": 53,
   "id": "6bb792a0-17f7-421f-90e9-6ce10b571149",
   "metadata": {},
   "outputs": [],
   "source": [
    "# Longitud de cada mensaje (# palabras)\n",
    "logDF['content_length'] = logDF['Content'].astype(str).apply(lambda x: len(x.split()))\n"
   ]
  },
  {
   "cell_type": "code",
   "execution_count": 54,
   "id": "2e9d59e5-eb3d-4106-8248-1897e62596f4",
   "metadata": {},
   "outputs": [
    {
     "name": "stdout",
     "output_type": "stream",
     "text": [
      "Total de registros: 2000\n",
      "Rango temporal: 2005-12-04 04:47:44.000 → 2005-12-05 19:15:57.000\n",
      "Distribución por nivel: Level\n",
      "Informativo    1405\n",
      "Error           595\n",
      "Name: count, dtype: int64\n",
      "Longitud de mensaje (palabras) con promedio: 6.284\n",
      "Longitud de mensaje (palabras) con mediana: 7.0\n"
     ]
    }
   ],
   "source": [
    "# Estadísticas\n",
    "print(\"Total de registros:\", len(logDF))\n",
    "print(\"Rango temporal:\", logDF['datetime'].min(), \"→\", logDF['datetime'].max())\n",
    "print(\"Distribución por nivel:\", logDF['Level'].value_counts())\n",
    "print(\"Longitud de mensaje (palabras) con promedio:\", logDF['content_length'].mean())\n",
    "print(\"Longitud de mensaje (palabras) con mediana:\", logDF['content_length'].median())"
   ]
  },
  {
   "cell_type": "code",
   "execution_count": 55,
   "id": "16633d9a-78c6-4bd3-9dd6-a3871fea5dfa",
   "metadata": {},
   "outputs": [
    {
     "name": "stderr",
     "output_type": "stream",
     "text": [
      "C:\\Users\\KARINA\\AppData\\Local\\Temp\\ipykernel_27588\\3905531008.py:3: FutureWarning: \n",
      "\n",
      "Passing `palette` without assigning `hue` is deprecated and will be removed in v0.14.0. Assign the `x` variable to `hue` and set `legend=False` for the same effect.\n",
      "\n",
      "  sns.countplot(data=logDF, x='Level', order=logDF['Level'].value_counts().index, palette=\"Set2\")\n"
     ]
    },
    {
     "data": {
      "image/png": "[encoded data removed]",
      "text/plain": [
       "<Figure size 800x500 with 1 Axes>"
      ]
     },
     "metadata": {},
     "output_type": "display_data"
    }
   ],
   "source": [
    "# Distribución por nivel\n",
    "plt.figure(figsize=(8,5))\n",
    "sns.countplot(data=logDF, x='Level', order=logDF['Level'].value_counts().index, palette=\"Set2\")\n",
    "plt.title(\"Distribución de niveles de log\")\n",
    "plt.xlabel(\"Nivel\")\n",
    "plt.ylabel(\"Cantidad de registros\")\n",
    "plt.grid(axis='y')\n",
    "plt.show()"
   ]
  },
  {
   "cell_type": "code",
   "execution_count": 56,
   "id": "fd3209ae-f507-4eab-af4c-d2f32ecbf3e6",
   "metadata": {},
   "outputs": [
    {
     "data": {
      "image/png": "[encoded data removed]",
      "text/plain": [
       "<Figure size 800x500 with 1 Axes>"
      ]
     },
     "metadata": {},
     "output_type": "display_data"
    }
   ],
   "source": [
    "# Longitud de mensajes\n",
    "plt.figure(figsize=(8,5))\n",
    "sns.histplot(logDF['content_length'], bins=30, kde=True)\n",
    "plt.title(\"Distribución de longitud de mensajes\")\n",
    "plt.xlabel(\"Número de palabras por mensaje\")\n",
    "plt.ylabel(\"Frecuencia\")\n",
    "plt.grid()\n",
    "plt.show()"
   ]
  },
  {
   "cell_type": "code",
   "execution_count": 57,
   "id": "c817644b-fe5d-4ff7-bac9-8c48a0b3db3d",
   "metadata": {},
   "outputs": [],
   "source": [
    "logDF.to_csv(f\"{dir_path}{dataset}_2k.log_structured_to_process.csv\", index=False, encoding='utf-8')"
   ]
  },
  {
   "cell_type": "code",
   "execution_count": null,
   "id": "793f6fdc-80bf-4a0d-83c4-f72b90189515",
   "metadata": {},
   "outputs": [],
   "source": []
  },
  {
   "cell_type": "code",
   "execution_count": null,
   "id": "06dc9837-e8e7-4cb8-a233-d3a28ee417d9",
   "metadata": {},
   "outputs": [],
   "source": []
  },
  {
   "cell_type": "code",
   "execution_count": null,
   "id": "0d359945-1572-43a9-bc0b-d18768400d27",
   "metadata": {},
   "outputs": [],
   "source": []
  },
  {
   "cell_type": "code",
   "execution_count": null,
   "id": "bde3863a-8058-4ea9-b722-c1270d4eadbd",
   "metadata": {},
   "outputs": [],
   "source": []
  }
 ],
 "metadata": {
  "kernelspec": {
   "display_name": "Python 3 (ipykernel)",
   "language": "python",
   "name": "python3"
  },
  "language_info": {
   "codemirror_mode": {
    "name": "ipython",
    "version": 3
   },
   "file_extension": ".py",
   "mimetype": "text/x-python",
   "name": "python",
   "nbconvert_exporter": "python",
   "pygments_lexer": "ipython3",
   "version": "3.10.16"
  }
 },
 "nbformat": 4,
 "nbformat_minor": 5
}
