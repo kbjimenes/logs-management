{
 "cells": [
  {
   "cell_type": "code",
   "execution_count": 1,
   "id": "b24ceb84-5027-4e42-b987-6320bd07b6cd",
   "metadata": {},
   "outputs": [],
   "source": [
    "import pandas as pd\n",
    "import matplotlib.pyplot as plt\n",
    "import seaborn as sns"
   ]
  },
  {
   "cell_type": "code",
   "execution_count": 2,
   "id": "75e8d0b8-8cb2-4499-99b5-0f1fe433c49d",
   "metadata": {},
   "outputs": [],
   "source": [
    "dataset = \"Zookeeper\"\n",
    "dir_path = \"../data/\""
   ]
  },
  {
   "cell_type": "code",
   "execution_count": 3,
   "id": "a1651fd5-edc1-4a44-817a-6816799d93da",
   "metadata": {},
   "outputs": [
    {
     "data": {
      "text/html": [
       "<div>\n",
       "<style scoped>\n",
       "    .dataframe tbody tr th:only-of-type {\n",
       "        vertical-align: middle;\n",
       "    }\n",
       "\n",
       "    .dataframe tbody tr th {\n",
       "        vertical-align: top;\n",
       "    }\n",
       "\n",
       "    .dataframe thead th {\n",
       "        text-align: right;\n",
       "    }\n",
       "</style>\n",
       "<table border=\"1\" class=\"dataframe\">\n",
       "  <thead>\n",
       "    <tr style=\"text-align: right;\">\n",
       "      <th></th>\n",
       "      <th>LineId</th>\n",
       "      <th>Date</th>\n",
       "      <th>Time</th>\n",
       "      <th>Level</th>\n",
       "      <th>Node</th>\n",
       "      <th>Component</th>\n",
       "      <th>Id</th>\n",
       "      <th>Content</th>\n",
       "      <th>EventId</th>\n",
       "      <th>EventTemplate</th>\n",
       "    </tr>\n",
       "  </thead>\n",
       "  <tbody>\n",
       "    <tr>\n",
       "      <th>0</th>\n",
       "      <td>1</td>\n",
       "      <td>2015-07-29</td>\n",
       "      <td>17:41:44,747</td>\n",
       "      <td>Informativo</td>\n",
       "      <td>QuorumPeer[myid=1]/0</td>\n",
       "      <td>0:0:0:0:0:0:0:2181:FastLeaderElection</td>\n",
       "      <td>774</td>\n",
       "      <td>Notification time out: 3200</td>\n",
       "      <td>E31</td>\n",
       "      <td>Notification time out: &lt;*&gt;</td>\n",
       "    </tr>\n",
       "    <tr>\n",
       "      <th>1</th>\n",
       "      <td>2</td>\n",
       "      <td>2015-07-29</td>\n",
       "      <td>19:04:12,394</td>\n",
       "      <td>Informativo</td>\n",
       "      <td>/10.10.34.11</td>\n",
       "      <td>3888:QuorumCnxManager$Listener</td>\n",
       "      <td>493</td>\n",
       "      <td>Received connection request /10.10.34.11:45307</td>\n",
       "      <td>E40</td>\n",
       "      <td>Received connection request /&lt;*&gt;:&lt;*&gt;</td>\n",
       "    </tr>\n",
       "  </tbody>\n",
       "</table>\n",
       "</div>"
      ],
      "text/plain": [
       "   LineId        Date          Time        Level                  Node  \\\n",
       "0       1  2015-07-29  17:41:44,747  Informativo  QuorumPeer[myid=1]/0   \n",
       "1       2  2015-07-29  19:04:12,394  Informativo          /10.10.34.11   \n",
       "\n",
       "                               Component   Id  \\\n",
       "0  0:0:0:0:0:0:0:2181:FastLeaderElection  774   \n",
       "1         3888:QuorumCnxManager$Listener  493   \n",
       "\n",
       "                                          Content EventId  \\\n",
       "0                     Notification time out: 3200     E31   \n",
       "1  Received connection request /10.10.34.11:45307     E40   \n",
       "\n",
       "                          EventTemplate  \n",
       "0            Notification time out: <*>  \n",
       "1  Received connection request /<*>:<*>  "
      ]
     },
     "execution_count": 3,
     "metadata": {},
     "output_type": "execute_result"
    }
   ],
   "source": [
    "# Cargar el dataset\n",
    "logDF = pd.read_csv(f\"{dir_path}{dataset}_2k.log_structured.csv\")\n",
    "categorias = {\n",
    "    'ERROR': 'Error',\n",
    "    'INFO': 'Informativo',\n",
    "    'WARN': 'Advertencia'\n",
    "}\n",
    "logDF['Level'] = logDF['Level'].replace(categorias)\n",
    "\n",
    "logDF.head(2)\n"
   ]
  },
  {
   "cell_type": "code",
   "execution_count": 4,
   "id": "3a136c0e-4f3a-45b0-beb7-6dee59434b84",
   "metadata": {},
   "outputs": [
    {
     "data": {
      "text/html": [
       "<div>\n",
       "<style scoped>\n",
       "    .dataframe tbody tr th:only-of-type {\n",
       "        vertical-align: middle;\n",
       "    }\n",
       "\n",
       "    .dataframe tbody tr th {\n",
       "        vertical-align: top;\n",
       "    }\n",
       "\n",
       "    .dataframe thead th {\n",
       "        text-align: right;\n",
       "    }\n",
       "</style>\n",
       "<table border=\"1\" class=\"dataframe\">\n",
       "  <thead>\n",
       "    <tr style=\"text-align: right;\">\n",
       "      <th></th>\n",
       "      <th>LineId</th>\n",
       "      <th>Date</th>\n",
       "      <th>Time</th>\n",
       "      <th>Level</th>\n",
       "      <th>Node</th>\n",
       "      <th>Component</th>\n",
       "      <th>Id</th>\n",
       "      <th>Content</th>\n",
       "      <th>EventId</th>\n",
       "      <th>EventTemplate</th>\n",
       "      <th>datetime</th>\n",
       "    </tr>\n",
       "  </thead>\n",
       "  <tbody>\n",
       "    <tr>\n",
       "      <th>0</th>\n",
       "      <td>1</td>\n",
       "      <td>2015-07-29</td>\n",
       "      <td>17:41:44.747</td>\n",
       "      <td>Informativo</td>\n",
       "      <td>QuorumPeer[myid=1]/0</td>\n",
       "      <td>0:0:0:0:0:0:0:2181:FastLeaderElection</td>\n",
       "      <td>774</td>\n",
       "      <td>Notification time out: 3200</td>\n",
       "      <td>E31</td>\n",
       "      <td>Notification time out: &lt;*&gt;</td>\n",
       "      <td>2015-07-29 17:41:44.747</td>\n",
       "    </tr>\n",
       "    <tr>\n",
       "      <th>1</th>\n",
       "      <td>2</td>\n",
       "      <td>2015-07-29</td>\n",
       "      <td>19:04:12.394</td>\n",
       "      <td>Informativo</td>\n",
       "      <td>/10.10.34.11</td>\n",
       "      <td>3888:QuorumCnxManager$Listener</td>\n",
       "      <td>493</td>\n",
       "      <td>Received connection request /10.10.34.11:45307</td>\n",
       "      <td>E40</td>\n",
       "      <td>Received connection request /&lt;*&gt;:&lt;*&gt;</td>\n",
       "      <td>2015-07-29 19:04:12.394</td>\n",
       "    </tr>\n",
       "    <tr>\n",
       "      <th>2</th>\n",
       "      <td>3</td>\n",
       "      <td>2015-07-29</td>\n",
       "      <td>19:04:29.071</td>\n",
       "      <td>Advertencia</td>\n",
       "      <td>SendWorker</td>\n",
       "      <td>188978561024:QuorumCnxManager$SendWorker</td>\n",
       "      <td>688</td>\n",
       "      <td>Send worker leaving thread</td>\n",
       "      <td>E42</td>\n",
       "      <td>Send worker leaving thread</td>\n",
       "      <td>2015-07-29 19:04:29.071</td>\n",
       "    </tr>\n",
       "    <tr>\n",
       "      <th>3</th>\n",
       "      <td>4</td>\n",
       "      <td>2015-07-29</td>\n",
       "      <td>19:04:29.079</td>\n",
       "      <td>Advertencia</td>\n",
       "      <td>SendWorker</td>\n",
       "      <td>188978561024:QuorumCnxManager$SendWorker</td>\n",
       "      <td>679</td>\n",
       "      <td>Interrupted while waiting for message on queue</td>\n",
       "      <td>E24</td>\n",
       "      <td>Interrupted while waiting for message on queue</td>\n",
       "      <td>2015-07-29 19:04:29.079</td>\n",
       "    </tr>\n",
       "    <tr>\n",
       "      <th>4</th>\n",
       "      <td>5</td>\n",
       "      <td>2015-07-29</td>\n",
       "      <td>19:13:17.524</td>\n",
       "      <td>Advertencia</td>\n",
       "      <td>SendWorker</td>\n",
       "      <td>188978561024:QuorumCnxManager$SendWorker</td>\n",
       "      <td>688</td>\n",
       "      <td>Send worker leaving thread</td>\n",
       "      <td>E42</td>\n",
       "      <td>Send worker leaving thread</td>\n",
       "      <td>2015-07-29 19:13:17.524</td>\n",
       "    </tr>\n",
       "  </tbody>\n",
       "</table>\n",
       "</div>"
      ],
      "text/plain": [
       "   LineId        Date          Time        Level                  Node  \\\n",
       "0       1  2015-07-29  17:41:44.747  Informativo  QuorumPeer[myid=1]/0   \n",
       "1       2  2015-07-29  19:04:12.394  Informativo          /10.10.34.11   \n",
       "2       3  2015-07-29  19:04:29.071  Advertencia            SendWorker   \n",
       "3       4  2015-07-29  19:04:29.079  Advertencia            SendWorker   \n",
       "4       5  2015-07-29  19:13:17.524  Advertencia            SendWorker   \n",
       "\n",
       "                                  Component   Id  \\\n",
       "0     0:0:0:0:0:0:0:2181:FastLeaderElection  774   \n",
       "1            3888:QuorumCnxManager$Listener  493   \n",
       "2  188978561024:QuorumCnxManager$SendWorker  688   \n",
       "3  188978561024:QuorumCnxManager$SendWorker  679   \n",
       "4  188978561024:QuorumCnxManager$SendWorker  688   \n",
       "\n",
       "                                          Content EventId  \\\n",
       "0                     Notification time out: 3200     E31   \n",
       "1  Received connection request /10.10.34.11:45307     E40   \n",
       "2                      Send worker leaving thread     E42   \n",
       "3  Interrupted while waiting for message on queue     E24   \n",
       "4                      Send worker leaving thread     E42   \n",
       "\n",
       "                                    EventTemplate                 datetime  \n",
       "0                      Notification time out: <*>  2015-07-29 17:41:44.747  \n",
       "1            Received connection request /<*>:<*>  2015-07-29 19:04:12.394  \n",
       "2                      Send worker leaving thread  2015-07-29 19:04:29.071  \n",
       "3  Interrupted while waiting for message on queue  2015-07-29 19:04:29.079  \n",
       "4                      Send worker leaving thread  2015-07-29 19:13:17.524  "
      ]
     },
     "execution_count": 4,
     "metadata": {},
     "output_type": "execute_result"
    }
   ],
   "source": [
    "# Corregir el formato de 'Time'\n",
    "logDF['Time'] = logDF['Time'].str.replace(',', '.', regex=False)\n",
    "\n",
    "# Crear nueva columna 'datetime'\n",
    "logDF['datetime'] = pd.to_datetime(logDF['Date'] + ' ' + logDF['Time'], errors='coerce')\n",
    "# Formatear al formato 'YYYY-MM-DD HH:MM:SS.mmm'\n",
    "logDF['datetime'] = logDF['datetime'].dt.strftime('%Y-%m-%d %H:%M:%S.%f').str[:-3]\n",
    "\n",
    "logDF.head()"
   ]
  },
  {
   "cell_type": "code",
   "execution_count": 5,
   "id": "6bb792a0-17f7-421f-90e9-6ce10b571149",
   "metadata": {},
   "outputs": [],
   "source": [
    "# Longitud de cada mensaje (# palabras)\n",
    "logDF['content_length'] = logDF['Content'].astype(str).apply(lambda x: len(x.split()))\n"
   ]
  },
  {
   "cell_type": "code",
   "execution_count": 6,
   "id": "2e9d59e5-eb3d-4106-8248-1897e62596f4",
   "metadata": {},
   "outputs": [
    {
     "name": "stdout",
     "output_type": "stream",
     "text": [
      "Total de registros: 2000\n",
      "Rango temporal: 2015-07-29 17:41:44.747 → 2015-08-25 11:26:28.145\n",
      "Distribución por nivel: Level\n",
      "Advertencia    1318\n",
      "Informativo     669\n",
      "Error            13\n",
      "Name: count, dtype: int64\n",
      "Longitud de mensaje (palabras) con promedio: 6.2955\n",
      "Longitud de mensaje (palabras) con mediana: 5.0\n"
     ]
    }
   ],
   "source": [
    "# Estadísticas\n",
    "print(\"Total de registros:\", len(logDF))\n",
    "print(\"Rango temporal:\", logDF['datetime'].min(), \"→\", logDF['datetime'].max())\n",
    "print(\"Distribución por nivel:\", logDF['Level'].value_counts())\n",
    "print(\"Longitud de mensaje (palabras) con promedio:\", logDF['content_length'].mean())\n",
    "print(\"Longitud de mensaje (palabras) con mediana:\", logDF['content_length'].median())"
   ]
  },
  {
   "cell_type": "code",
   "execution_count": 7,
   "id": "16633d9a-78c6-4bd3-9dd6-a3871fea5dfa",
   "metadata": {},
   "outputs": [
    {
     "name": "stderr",
     "output_type": "stream",
     "text": [
      "C:\\Users\\KARINA\\AppData\\Local\\Temp\\ipykernel_22372\\3905531008.py:3: FutureWarning: \n",
      "\n",
      "Passing `palette` without assigning `hue` is deprecated and will be removed in v0.14.0. Assign the `x` variable to `hue` and set `legend=False` for the same effect.\n",
      "\n",
      "  sns.countplot(data=logDF, x='Level', order=logDF['Level'].value_counts().index, palette=\"Set2\")\n"
     ]
    },
    {
     "data": {
      "image/png": "[encoded data removed]",
      "text/plain": [
       "<Figure size 800x500 with 1 Axes>"
      ]
     },
     "metadata": {},
     "output_type": "display_data"
    }
   ],
   "source": [
    "# Distribución por nivel\n",
    "plt.figure(figsize=(8,5))\n",
    "sns.countplot(data=logDF, x='Level', order=logDF['Level'].value_counts().index, palette=\"Set2\")\n",
    "plt.title(\"Distribución de niveles de log\")\n",
    "plt.xlabel(\"Nivel\")\n",
    "plt.ylabel(\"Cantidad de registros\")\n",
    "plt.grid(axis='y')\n",
    "plt.show()"
   ]
  },
  {
   "cell_type": "code",
   "execution_count": 8,
   "id": "fd3209ae-f507-4eab-af4c-d2f32ecbf3e6",
   "metadata": {},
   "outputs": [
    {
     "data": {
      "image/png": "[encoded data removed]",
      "text/plain": [
       "<Figure size 800x500 with 1 Axes>"
      ]
     },
     "metadata": {},
     "output_type": "display_data"
    }
   ],
   "source": [
    "# Longitud de mensajes\n",
    "plt.figure(figsize=(8,5))\n",
    "sns.histplot(logDF['content_length'], bins=30, kde=True)\n",
    "plt.title(\"Distribución de longitud de mensajes\")\n",
    "plt.xlabel(\"Número de palabras por mensaje\")\n",
    "plt.ylabel(\"Frecuencia\")\n",
    "plt.grid()\n",
    "plt.show()"
   ]
  },
  {
   "cell_type": "code",
   "execution_count": 9,
   "id": "c817644b-fe5d-4ff7-bac9-8c48a0b3db3d",
   "metadata": {},
   "outputs": [],
   "source": [
    "logDF.to_csv(f\"{dir_path}{dataset}_2k.log_structured_to_process.csv\", index=False)"
   ]
  },
  {
   "cell_type": "code",
   "execution_count": null,
   "id": "793f6fdc-80bf-4a0d-83c4-f72b90189515",
   "metadata": {},
   "outputs": [],
   "source": []
  },
  {
   "cell_type": "code",
   "execution_count": null,
   "id": "06dc9837-e8e7-4cb8-a233-d3a28ee417d9",
   "metadata": {},
   "outputs": [],
   "source": []
  },
  {
   "cell_type": "code",
   "execution_count": null,
   "id": "0d359945-1572-43a9-bc0b-d18768400d27",
   "metadata": {},
   "outputs": [],
   "source": []
  },
  {
   "cell_type": "code",
   "execution_count": null,
   "id": "bde3863a-8058-4ea9-b722-c1270d4eadbd",
   "metadata": {},
   "outputs": [],
   "source": []
  }
 ],
 "metadata": {
  "kernelspec": {
   "display_name": "Python 3 (ipykernel)",
   "language": "python",
   "name": "python3"
  },
  "language_info": {
   "codemirror_mode": {
    "name": "ipython",
    "version": 3
   },
   "file_extension": ".py",
   "mimetype": "text/x-python",
   "name": "python",
   "nbconvert_exporter": "python",
   "pygments_lexer": "ipython3",
   "version": "3.11.11"
  }
 },
 "nbformat": 4,
 "nbformat_minor": 5
}
