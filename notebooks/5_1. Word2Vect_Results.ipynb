{
 "cells": [
  {
   "cell_type": "code",
   "execution_count": 8,
   "id": "4694ea9b-85e3-4bae-b0ff-f2c02dda3f67",
   "metadata": {},
   "outputs": [],
   "source": [
    "import pandas as pd\n",
    "import numpy as np\n",
    "import re"
   ]
  },
  {
   "cell_type": "code",
   "execution_count": 9,
   "id": "a1623911-8b00-4832-b7d9-d58cbbaf5dfb",
   "metadata": {},
   "outputs": [],
   "source": [
    "dir_path = \"../results/\""
   ]
  },
  {
   "cell_type": "markdown",
   "id": "346d0b71-17d4-4a49-8f77-977f5a632116",
   "metadata": {},
   "source": [
    "## Validation folds"
   ]
  },
  {
   "cell_type": "code",
   "execution_count": 10,
   "id": "6a4e5487-3cbc-4d04-a24f-2aaa96e3aacf",
   "metadata": {},
   "outputs": [
    {
     "data": {
      "text/html": [
       "<div>\n",
       "<style scoped>\n",
       "    .dataframe tbody tr th:only-of-type {\n",
       "        vertical-align: middle;\n",
       "    }\n",
       "\n",
       "    .dataframe tbody tr th {\n",
       "        vertical-align: top;\n",
       "    }\n",
       "\n",
       "    .dataframe thead th {\n",
       "        text-align: right;\n",
       "    }\n",
       "</style>\n",
       "<table border=\"1\" class=\"dataframe\">\n",
       "  <thead>\n",
       "    <tr style=\"text-align: right;\">\n",
       "      <th></th>\n",
       "      <th>group</th>\n",
       "      <th>precision</th>\n",
       "      <th>recall</th>\n",
       "      <th>f1-score</th>\n",
       "      <th>support</th>\n",
       "      <th>fold</th>\n",
       "      <th>technique</th>\n",
       "    </tr>\n",
       "  </thead>\n",
       "  <tbody>\n",
       "    <tr>\n",
       "      <th>0</th>\n",
       "      <td>Advertencia</td>\n",
       "      <td>0.987500</td>\n",
       "      <td>1.000000</td>\n",
       "      <td>0.993711</td>\n",
       "      <td>79.000000</td>\n",
       "      <td>0</td>\n",
       "      <td>word2vect</td>\n",
       "    </tr>\n",
       "    <tr>\n",
       "      <th>1</th>\n",
       "      <td>Error</td>\n",
       "      <td>0.961538</td>\n",
       "      <td>0.949367</td>\n",
       "      <td>0.955414</td>\n",
       "      <td>79.000000</td>\n",
       "      <td>0</td>\n",
       "      <td>word2vect</td>\n",
       "    </tr>\n",
       "    <tr>\n",
       "      <th>2</th>\n",
       "      <td>Informativo</td>\n",
       "      <td>0.962025</td>\n",
       "      <td>0.962025</td>\n",
       "      <td>0.962025</td>\n",
       "      <td>79.000000</td>\n",
       "      <td>0</td>\n",
       "      <td>word2vect</td>\n",
       "    </tr>\n",
       "    <tr>\n",
       "      <th>3</th>\n",
       "      <td>accuracy</td>\n",
       "      <td>0.970464</td>\n",
       "      <td>0.970464</td>\n",
       "      <td>0.970464</td>\n",
       "      <td>0.970464</td>\n",
       "      <td>0</td>\n",
       "      <td>word2vect</td>\n",
       "    </tr>\n",
       "    <tr>\n",
       "      <th>4</th>\n",
       "      <td>macro avg</td>\n",
       "      <td>0.970355</td>\n",
       "      <td>0.970464</td>\n",
       "      <td>0.970383</td>\n",
       "      <td>237.000000</td>\n",
       "      <td>0</td>\n",
       "      <td>word2vect</td>\n",
       "    </tr>\n",
       "    <tr>\n",
       "      <th>5</th>\n",
       "      <td>weighted avg</td>\n",
       "      <td>0.970355</td>\n",
       "      <td>0.970464</td>\n",
       "      <td>0.970383</td>\n",
       "      <td>237.000000</td>\n",
       "      <td>0</td>\n",
       "      <td>word2vect</td>\n",
       "    </tr>\n",
       "    <tr>\n",
       "      <th>6</th>\n",
       "      <td>Advertencia</td>\n",
       "      <td>1.000000</td>\n",
       "      <td>1.000000</td>\n",
       "      <td>1.000000</td>\n",
       "      <td>80.000000</td>\n",
       "      <td>1</td>\n",
       "      <td>word2vect</td>\n",
       "    </tr>\n",
       "  </tbody>\n",
       "</table>\n",
       "</div>"
      ],
      "text/plain": [
       "          group  precision    recall  f1-score     support  fold  technique\n",
       "0   Advertencia   0.987500  1.000000  0.993711   79.000000     0  word2vect\n",
       "1         Error   0.961538  0.949367  0.955414   79.000000     0  word2vect\n",
       "2   Informativo   0.962025  0.962025  0.962025   79.000000     0  word2vect\n",
       "3      accuracy   0.970464  0.970464  0.970464    0.970464     0  word2vect\n",
       "4     macro avg   0.970355  0.970464  0.970383  237.000000     0  word2vect\n",
       "5  weighted avg   0.970355  0.970464  0.970383  237.000000     0  word2vect\n",
       "6   Advertencia   1.000000  1.000000  1.000000   80.000000     1  word2vect"
      ]
     },
     "execution_count": 10,
     "metadata": {},
     "output_type": "execute_result"
    }
   ],
   "source": [
    "file=  \"resuls_val_fold_word2vect\" #\"train_data\" \n",
    "res_df = pd.read_csv(f\"{dir_path}{file}.csv\", encoding='utf-8')\n",
    "res_df.head(7)"
   ]
  },
  {
   "cell_type": "code",
   "execution_count": 11,
   "id": "05b5343c-7d4c-4476-adb0-e0f019e57aca",
   "metadata": {},
   "outputs": [
    {
     "data": {
      "text/html": [
       "<div>\n",
       "<style scoped>\n",
       "    .dataframe tbody tr th:only-of-type {\n",
       "        vertical-align: middle;\n",
       "    }\n",
       "\n",
       "    .dataframe tbody tr th {\n",
       "        vertical-align: top;\n",
       "    }\n",
       "\n",
       "    .dataframe thead th {\n",
       "        text-align: right;\n",
       "    }\n",
       "</style>\n",
       "<table border=\"1\" class=\"dataframe\">\n",
       "  <thead>\n",
       "    <tr style=\"text-align: right;\">\n",
       "      <th></th>\n",
       "      <th>group</th>\n",
       "      <th>precision</th>\n",
       "      <th>recall</th>\n",
       "      <th>f1-score</th>\n",
       "      <th>support</th>\n",
       "      <th>fold</th>\n",
       "      <th>technique</th>\n",
       "    </tr>\n",
       "  </thead>\n",
       "  <tbody>\n",
       "    <tr>\n",
       "      <th>4</th>\n",
       "      <td>macro avg</td>\n",
       "      <td>0.970355</td>\n",
       "      <td>0.970464</td>\n",
       "      <td>0.970383</td>\n",
       "      <td>237.0</td>\n",
       "      <td>0</td>\n",
       "      <td>word2vect</td>\n",
       "    </tr>\n",
       "    <tr>\n",
       "      <th>10</th>\n",
       "      <td>macro avg</td>\n",
       "      <td>0.976744</td>\n",
       "      <td>0.975000</td>\n",
       "      <td>0.974965</td>\n",
       "      <td>240.0</td>\n",
       "      <td>1</td>\n",
       "      <td>word2vect</td>\n",
       "    </tr>\n",
       "    <tr>\n",
       "      <th>16</th>\n",
       "      <td>macro avg</td>\n",
       "      <td>0.970727</td>\n",
       "      <td>0.970833</td>\n",
       "      <td>0.970755</td>\n",
       "      <td>240.0</td>\n",
       "      <td>2</td>\n",
       "      <td>word2vect</td>\n",
       "    </tr>\n",
       "    <tr>\n",
       "      <th>22</th>\n",
       "      <td>macro avg</td>\n",
       "      <td>0.983436</td>\n",
       "      <td>0.983333</td>\n",
       "      <td>0.983359</td>\n",
       "      <td>240.0</td>\n",
       "      <td>3</td>\n",
       "      <td>word2vect</td>\n",
       "    </tr>\n",
       "    <tr>\n",
       "      <th>28</th>\n",
       "      <td>macro avg</td>\n",
       "      <td>0.995885</td>\n",
       "      <td>0.995833</td>\n",
       "      <td>0.995833</td>\n",
       "      <td>240.0</td>\n",
       "      <td>4</td>\n",
       "      <td>word2vect</td>\n",
       "    </tr>\n",
       "  </tbody>\n",
       "</table>\n",
       "</div>"
      ],
      "text/plain": [
       "        group  precision    recall  f1-score  support  fold  technique\n",
       "4   macro avg   0.970355  0.970464  0.970383    237.0     0  word2vect\n",
       "10  macro avg   0.976744  0.975000  0.974965    240.0     1  word2vect\n",
       "16  macro avg   0.970727  0.970833  0.970755    240.0     2  word2vect\n",
       "22  macro avg   0.983436  0.983333  0.983359    240.0     3  word2vect\n",
       "28  macro avg   0.995885  0.995833  0.995833    240.0     4  word2vect"
      ]
     },
     "execution_count": 11,
     "metadata": {},
     "output_type": "execute_result"
    }
   ],
   "source": [
    "res_df_global=res_df[res_df[\"group\"]=='macro avg']\n",
    "res_df_global.head()"
   ]
  },
  {
   "cell_type": "code",
   "execution_count": 12,
   "id": "6e8fb44c-ade9-4d6b-a672-2cdbee244451",
   "metadata": {},
   "outputs": [
    {
     "name": "stdout",
     "output_type": "stream",
     "text": [
      "precision 0.9772951315 with std  0.007772696098918219\n",
      "recall 0.9770464132999999 with std  0.007769787517605566\n",
      "f1-score 0.9770285756 with std  0.007784801637860792\n"
     ]
    }
   ],
   "source": [
    "\n",
    "print(\"precision\", np.mean(res_df_global[\"precision\"]), \"with std \", np.std(res_df_global[\"precision\"]))\n",
    "print(\"recall\", np.mean(res_df_global[\"recall\"]), \"with std \", np.std(res_df_global[\"recall\"]))\n",
    "print(\"f1-score\", np.mean(res_df_global[\"f1-score\"]), \"with std \", np.std(res_df_global[\"f1-score\"]))"
   ]
  },
  {
   "cell_type": "code",
   "execution_count": 13,
   "id": "1143dae1-399b-4612-a84e-1902f23f397b",
   "metadata": {},
   "outputs": [
    {
     "data": {
      "text/plain": [
       "group        macro avg\n",
       "precision     0.995885\n",
       "recall        0.995833\n",
       "f1-score      0.995833\n",
       "support          240.0\n",
       "fold                 4\n",
       "technique    word2vect\n",
       "Name: 28, dtype: object"
      ]
     },
     "execution_count": 13,
     "metadata": {},
     "output_type": "execute_result"
    }
   ],
   "source": [
    "top_row = res_df_global.loc[res_df_global[\"f1-score\"].idxmax()]\n",
    "top_row"
   ]
  },
  {
   "cell_type": "code",
   "execution_count": 14,
   "id": "7eaa6e28-7762-4bb9-9007-635afa54ff35",
   "metadata": {},
   "outputs": [
    {
     "name": "stdout",
     "output_type": "stream",
     "text": [
      "precision 0.9938418398 with std  0.00822639782549433\n",
      "recall 0.99125 with std  0.012562344526401108\n",
      "f1-score 0.9924597529 with std  0.0055230727559958245\n"
     ]
    }
   ],
   "source": [
    "res_df_global=res_df[res_df[\"group\"]=='Advertencia']\n",
    "print(\"precision\", np.mean(res_df_global[\"precision\"]), \"with std \", np.std(res_df_global[\"precision\"]))\n",
    "print(\"recall\", np.mean(res_df_global[\"recall\"]), \"with std \", np.std(res_df_global[\"recall\"]))\n",
    "print(\"f1-score\", np.mean(res_df_global[\"f1-score\"]), \"with std \", np.std(res_df_global[\"f1-score\"]))"
   ]
  },
  {
   "cell_type": "code",
   "execution_count": 15,
   "id": "45b0780d-51b9-45bb-9c3a-5f66c4a95d54",
   "metadata": {},
   "outputs": [
    {
     "name": "stdout",
     "output_type": "stream",
     "text": [
      "precision 0.9667199249000001 with std  0.017472939783635275\n",
      "recall 0.9736867088999999 with std  0.01899618064559435\n",
      "f1-score 0.9700471862000001 with std  0.014002468549305204\n"
     ]
    }
   ],
   "source": [
    "res_df_global=res_df[res_df[\"group\"]=='Error']\n",
    "print(\"precision\", np.mean(res_df_global[\"precision\"]), \"with std \", np.std(res_df_global[\"precision\"]))\n",
    "print(\"recall\", np.mean(res_df_global[\"recall\"]), \"with std \", np.std(res_df_global[\"recall\"]))\n",
    "print(\"f1-score\", np.mean(res_df_global[\"f1-score\"]), \"with std \", np.std(res_df_global[\"f1-score\"]))"
   ]
  },
  {
   "cell_type": "code",
   "execution_count": 16,
   "id": "b8c8cbcc-51ee-4640-a507-c205bbecef1c",
   "metadata": {},
   "outputs": [
    {
     "name": "stdout",
     "output_type": "stream",
     "text": [
      "precision 0.9713236291999999 with std  0.014750058269927462\n",
      "recall 0.9662025316000001 with std  0.019414911594982525\n",
      "f1-score 0.9685787881 with std  0.011303033791149483\n"
     ]
    }
   ],
   "source": [
    "res_df_global=res_df[res_df[\"group\"]=='Informativo']\n",
    "print(\"precision\", np.mean(res_df_global[\"precision\"]), \"with std \", np.std(res_df_global[\"precision\"]))\n",
    "print(\"recall\", np.mean(res_df_global[\"recall\"]), \"with std \", np.std(res_df_global[\"recall\"]))\n",
    "print(\"f1-score\", np.mean(res_df_global[\"f1-score\"]), \"with std \", np.std(res_df_global[\"f1-score\"]))"
   ]
  },
  {
   "cell_type": "code",
   "execution_count": null,
   "id": "80d8bb9e-7dcd-4ab1-993a-15f5905151c7",
   "metadata": {},
   "outputs": [],
   "source": []
  }
 ],
 "metadata": {
  "kernelspec": {
   "display_name": "Python 3 (ipykernel)",
   "language": "python",
   "name": "python3"
  },
  "language_info": {
   "codemirror_mode": {
    "name": "ipython",
    "version": 3
   },
   "file_extension": ".py",
   "mimetype": "text/x-python",
   "name": "python",
   "nbconvert_exporter": "python",
   "pygments_lexer": "ipython3",
   "version": "3.11.11"
  }
 },
 "nbformat": 4,
 "nbformat_minor": 5
}
